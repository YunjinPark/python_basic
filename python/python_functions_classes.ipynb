{
  "nbformat": 4,
  "nbformat_minor": 0,
  "metadata": {
    "colab": {
      "name": "python_functions_classes.ipynb",
      "provenance": [],
      "collapsed_sections": [],
      "toc_visible": true
    },
    "kernelspec": {
      "name": "python3",
      "display_name": "Python 3"
    }
  },
  "cells": [
    {
      "cell_type": "markdown",
      "metadata": {
        "id": "wrZXHOqYLJKL",
        "colab_type": "text"
      },
      "source": [
        "1.[함수](#functions)  \n",
        "[퀴즈-함수](#퀴즈-함수)  \n",
        "[퀴즈정답-함수](#퀴즈정답-함수)  \n",
        "2.[클래스](#class)  \n",
        "[퀴즈-클래스](#퀴즈-클래스)  \n",
        "[퀴즈정답-클래스](#퀴즈정답-클래스)  \n",
        "3.[Appendix](#Appendix)    "
      ]
    },
    {
      "cell_type": "markdown",
      "metadata": {
        "id": "U0k--b55KXwb",
        "colab_type": "text"
      },
      "source": [
        "## functions"
      ]
    },
    {
      "cell_type": "markdown",
      "metadata": {
        "id": "GFnXKwhkNSUt",
        "colab_type": "text"
      },
      "source": [
        "### 함수의 기본"
      ]
    },
    {
      "cell_type": "code",
      "metadata": {
        "id": "GHAjd7NzKW2d",
        "colab_type": "code",
        "colab": {}
      },
      "source": [
        "def my_func():\n",
        "    print('함수가 실행되었습니다.')"
      ],
      "execution_count": null,
      "outputs": []
    },
    {
      "cell_type": "code",
      "metadata": {
        "id": "yKFhjRSNKWzj",
        "colab_type": "code",
        "colab": {}
      },
      "source": [
        "my_func()"
      ],
      "execution_count": null,
      "outputs": []
    },
    {
      "cell_type": "code",
      "metadata": {
        "id": "3UkQ8h67KWrR",
        "colab_type": "code",
        "colab": {}
      },
      "source": [
        "def hello():\n",
        "    print('Hello')"
      ],
      "execution_count": null,
      "outputs": []
    },
    {
      "cell_type": "code",
      "metadata": {
        "id": "xXcqyTPLKWnt",
        "colab_type": "code",
        "colab": {}
      },
      "source": [
        "hello()"
      ],
      "execution_count": null,
      "outputs": []
    },
    {
      "cell_type": "code",
      "metadata": {
        "id": "u195W2aDKWkX",
        "colab_type": "code",
        "colab": {}
      },
      "source": [
        "hello()"
      ],
      "execution_count": null,
      "outputs": []
    },
    {
      "cell_type": "markdown",
      "metadata": {
        "id": "kcH_KBFtNaRr",
        "colab_type": "text"
      },
      "source": [
        "### 매개변수가 있는 함수"
      ]
    },
    {
      "cell_type": "code",
      "metadata": {
        "id": "4gN5gqq8NZbu",
        "colab_type": "code",
        "colab": {}
      },
      "source": [
        "def hello_n_times(n):\n",
        "    for i in range(n):\n",
        "        print('hello')"
      ],
      "execution_count": null,
      "outputs": []
    },
    {
      "cell_type": "code",
      "metadata": {
        "id": "_7K8vOCqNNAD",
        "colab_type": "code",
        "colab": {}
      },
      "source": [
        "hello_n_times(1)"
      ],
      "execution_count": null,
      "outputs": []
    },
    {
      "cell_type": "code",
      "metadata": {
        "id": "cGY6_p7lNNHr",
        "colab_type": "code",
        "colab": {}
      },
      "source": [
        "hello_n_times(3)"
      ],
      "execution_count": null,
      "outputs": []
    },
    {
      "cell_type": "code",
      "metadata": {
        "id": "IYrYMqnS3i_C",
        "colab_type": "code",
        "colab": {}
      },
      "source": [
        "def even_nums(n):\n",
        "    for i in range(n):\n",
        "        if i % 2 == 0:\n",
        "            print(i)\n",
        "even_nums(10)"
      ],
      "execution_count": null,
      "outputs": []
    },
    {
      "cell_type": "code",
      "metadata": {
        "id": "EWvwvzxWNNE0",
        "colab_type": "code",
        "colab": {}
      },
      "source": [
        "def print_n_times(string, n):\n",
        "    for i in range(n):\n",
        "        print(string)"
      ],
      "execution_count": null,
      "outputs": []
    },
    {
      "cell_type": "code",
      "metadata": {
        "id": "ZlxB6CLDNM8X",
        "colab_type": "code",
        "colab": {}
      },
      "source": [
        "print_n_times('안녕하세요', 2) "
      ],
      "execution_count": null,
      "outputs": []
    },
    {
      "cell_type": "code",
      "metadata": {
        "id": "BDqdEh9hPjdM",
        "colab_type": "code",
        "colab": {}
      },
      "source": [
        "print_n_times('좋은 하루 보내세요', 3)"
      ],
      "execution_count": null,
      "outputs": []
    },
    {
      "cell_type": "markdown",
      "metadata": {
        "id": "t6zvq4QzmlHi",
        "colab_type": "text"
      },
      "source": [
        "### 리턴"
      ]
    },
    {
      "cell_type": "code",
      "metadata": {
        "id": "UcAAWzb0P5IO",
        "colab_type": "code",
        "colab": {}
      },
      "source": [
        "def func():\n",
        "    print('A')\n",
        "    return\n",
        "    print('B')"
      ],
      "execution_count": null,
      "outputs": []
    },
    {
      "cell_type": "code",
      "metadata": {
        "id": "lJUuEUQCP5O9",
        "colab_type": "code",
        "colab": {}
      },
      "source": [
        "print(func())"
      ],
      "execution_count": null,
      "outputs": []
    },
    {
      "cell_type": "code",
      "metadata": {
        "id": "1HP92WePP5dX",
        "colab_type": "code",
        "colab": {}
      },
      "source": [
        "def func():\n",
        "    print('A')\n",
        "    return 'result'\n",
        "    print('B')"
      ],
      "execution_count": null,
      "outputs": []
    },
    {
      "cell_type": "code",
      "metadata": {
        "id": "yh4w3Vf_P5i-",
        "colab_type": "code",
        "colab": {}
      },
      "source": [
        "print(func())"
      ],
      "execution_count": null,
      "outputs": []
    },
    {
      "cell_type": "code",
      "metadata": {
        "id": "2_8PCaDmP5rd",
        "colab_type": "code",
        "colab": {}
      },
      "source": [
        "def add_and_mul(a, b):\n",
        "    return a+b, a*b"
      ],
      "execution_count": null,
      "outputs": []
    },
    {
      "cell_type": "code",
      "metadata": {
        "id": "USnmKN4_P5aT",
        "colab_type": "code",
        "colab": {}
      },
      "source": [
        "add_and_mul(2, 3)"
      ],
      "execution_count": null,
      "outputs": []
    },
    {
      "cell_type": "code",
      "metadata": {
        "id": "qxDlXbDd2VFt",
        "colab_type": "code",
        "colab": {}
      },
      "source": [
        "def str_times(string, n):\n",
        "    return string*n"
      ],
      "execution_count": null,
      "outputs": []
    },
    {
      "cell_type": "code",
      "metadata": {
        "id": "6K9NhTkyP5XB",
        "colab_type": "code",
        "colab": {}
      },
      "source": [
        "print(str_times('안녕',3))"
      ],
      "execution_count": null,
      "outputs": []
    },
    {
      "cell_type": "markdown",
      "metadata": {
        "id": "DwVOyFZC8KrQ",
        "colab_type": "text"
      },
      "source": [
        "### 전역변수/지역변수"
      ]
    },
    {
      "cell_type": "code",
      "metadata": {
        "id": "Ax9SNUVoP5T3",
        "colab_type": "code",
        "colab": {}
      },
      "source": [
        "x = 100\n",
        "def test():\n",
        "    print(x)\n",
        "test()\n",
        "print(x)"
      ],
      "execution_count": null,
      "outputs": []
    },
    {
      "cell_type": "code",
      "metadata": {
        "id": "YCYEKNaF8XUY",
        "colab_type": "code",
        "colab": {}
      },
      "source": [
        "def test():\n",
        "    y = 100\n",
        "    print(y)\n",
        "test()\n",
        "print(y)\n",
        "'''\n",
        "y 는 test 내에서 사용할 수 있는 지역변수임.\n",
        "함수 밖에서 사용하려고 하면 정의되지 않았다는 오류 발생\n",
        "\n",
        "'''"
      ],
      "execution_count": null,
      "outputs": []
    },
    {
      "cell_type": "markdown",
      "metadata": {
        "id": "JF3_NBaECYtr",
        "colab_type": "text"
      },
      "source": [
        "함수 내에서 전역변수를 변경할 수 없음"
      ]
    },
    {
      "cell_type": "code",
      "metadata": {
        "id": "71uf0hjh8XPN",
        "colab_type": "code",
        "colab": {}
      },
      "source": [
        "x = 100\n",
        "def f():\n",
        "    x = 200\n",
        "f()\n",
        "print(x)"
      ],
      "execution_count": null,
      "outputs": []
    },
    {
      "cell_type": "markdown",
      "metadata": {
        "id": "3iErNVdjCk0v",
        "colab_type": "text"
      },
      "source": [
        "그렇다면 어떻게 해야할까?\n",
        "1. return 사용\n",
        "2. global 사용"
      ]
    },
    {
      "cell_type": "code",
      "metadata": {
        "id": "M0jmXYHp8XLh",
        "colab_type": "code",
        "colab": {}
      },
      "source": [
        "x = 100\n",
        "def f():\n",
        "    x = 200\n",
        "    return x\n",
        "x = f()\n",
        "print(x) "
      ],
      "execution_count": null,
      "outputs": []
    },
    {
      "cell_type": "code",
      "metadata": {
        "id": "K5ZEi-oG8XHm",
        "colab_type": "code",
        "colab": {}
      },
      "source": [
        "x = 100\n",
        "def f():\n",
        "    global x\n",
        "    x = 200\n",
        "    return x\n",
        "f()\n",
        "print(x) "
      ],
      "execution_count": null,
      "outputs": []
    },
    {
      "cell_type": "markdown",
      "metadata": {
        "id": "iQ5zi8-zHWeW",
        "colab_type": "text"
      },
      "source": [
        "### lambda"
      ]
    },
    {
      "cell_type": "code",
      "metadata": {
        "id": "mYRYWGa9HVsz",
        "colab_type": "code",
        "colab": {}
      },
      "source": [
        "f = lambda x: x**2+1000\n",
        "\n",
        "print(f(0))\n",
        "print(f(1))\n",
        "print(f(2))\n",
        "print(f(3))"
      ],
      "execution_count": null,
      "outputs": []
    },
    {
      "cell_type": "code",
      "metadata": {
        "id": "Q3cTCFmAIC_d",
        "colab_type": "code",
        "colab": {}
      },
      "source": [
        "f2 = lambda x1, x2: x1**x2+1000\n",
        "\n",
        "print(f2(1, 2))\n",
        "print(f2(1, 3))\n",
        "print(f2(2, 3))\n",
        "print(f2(3, 3))"
      ],
      "execution_count": null,
      "outputs": []
    },
    {
      "cell_type": "markdown",
      "metadata": {
        "colab_type": "text",
        "id": "_Cz_g9nArud-"
      },
      "source": [
        "### 퀴즈-함수"
      ]
    },
    {
      "cell_type": "markdown",
      "metadata": {
        "colab_type": "text",
        "id": "7BtQR4l7rud_"
      },
      "source": [
        "Q. 주어진 숫자가 양수인지 음수인지 0인지 판별해주는 함수를 작성해보기\n"
      ]
    },
    {
      "cell_type": "code",
      "metadata": {
        "colab_type": "code",
        "id": "mwF7s4iJrueA",
        "colab": {}
      },
      "source": [
        "def f(num):\n",
        "    pass"
      ],
      "execution_count": null,
      "outputs": []
    },
    {
      "cell_type": "markdown",
      "metadata": {
        "colab_type": "text",
        "id": "JGoFPLdcrueF"
      },
      "source": [
        "Q. 다음과 같은 수식을 파이썬 함수로 만들어보기  \n",
        "$f(x) = 2x^2+5 $\n",
        "\n"
      ]
    },
    {
      "cell_type": "code",
      "metadata": {
        "colab_type": "code",
        "id": "X23MqNjVrueF",
        "colab": {}
      },
      "source": [
        "def f():\n",
        "    return\n",
        "print(f(3))"
      ],
      "execution_count": null,
      "outputs": []
    },
    {
      "cell_type": "markdown",
      "metadata": {
        "colab_type": "text",
        "id": "V2h__CP4rueJ"
      },
      "source": [
        "Q. 구구단 출력하기  \n",
        "단수를 입력으로 받고 해당 단수를 프린트하기\n"
      ]
    },
    {
      "cell_type": "code",
      "metadata": {
        "colab_type": "code",
        "id": "WMS4raejrueJ",
        "colab": {}
      },
      "source": [
        "def times_table(x):\n",
        "    print(x,'단')\n",
        "    return\n",
        "times_table(5)\n",
        "times_table(8)"
      ],
      "execution_count": null,
      "outputs": []
    },
    {
      "cell_type": "markdown",
      "metadata": {
        "colab_type": "text",
        "id": "aDfy016-rueO"
      },
      "source": [
        "Q. 아이디를 인풋으로 받아서 members에 존재하면 '존재하는 아이디입니다.' 이라고 출력하고  \n",
        "존재하지 않으면 '아이디로 가능합니다.'라고 출력하여라 \n"
      ]
    },
    {
      "cell_type": "code",
      "metadata": {
        "colab_type": "code",
        "id": "pqOzgnVDrueO",
        "colab": {}
      },
      "source": [
        "members = {'good01', 'hahaha', 'na2020', 'happy', 'good', 'yjkim'}\n",
        "def login(t):\n",
        "    pass\n",
        "login('go')\n",
        "login('happy')\n",
        "login('haha')\n",
        "login('yjpark')"
      ],
      "execution_count": null,
      "outputs": []
    },
    {
      "cell_type": "markdown",
      "metadata": {
        "colab_type": "text",
        "id": "PtInXjg0rueS"
      },
      "source": [
        "Q. 입력받은 수가 양수이면 그대로 리턴하고 그렇지 않으면 0을 리턴하기  \n",
        "\n"
      ]
    },
    {
      "cell_type": "code",
      "metadata": {
        "colab_type": "code",
        "id": "gVIgjf6PrueS",
        "colab": {}
      },
      "source": [
        "def relu(x):\n",
        "    return"
      ],
      "execution_count": null,
      "outputs": []
    },
    {
      "cell_type": "markdown",
      "metadata": {
        "colab_type": "text",
        "id": "zYsz5WMxrueW"
      },
      "source": [
        "Q. 다음 코드에서 10이 출력되는 이유는?"
      ]
    },
    {
      "cell_type": "code",
      "metadata": {
        "colab_type": "code",
        "id": "YIrKeWdgrueW",
        "colab": {}
      },
      "source": [
        "a = 10\n",
        "def f(a):\n",
        "    a += 2\n",
        "f(a)\n",
        "print(a)"
      ],
      "execution_count": null,
      "outputs": []
    },
    {
      "cell_type": "markdown",
      "metadata": {
        "colab_type": "text",
        "id": "DQqqVUC3rueY"
      },
      "source": [
        "Q. 나이를 입력받으면 x대 라고 리턴값을 주는 함수 만들어보기\n",
        "``` \n",
        "f(23)  # 20대\n",
        "f(55)  # 50대\n",
        "f(89)  # 80대\n",
        "```\n"
      ]
    },
    {
      "cell_type": "code",
      "metadata": {
        "colab_type": "code",
        "id": "Y6yLm-8crueZ",
        "colab": {}
      },
      "source": [
        "def f(age):\n",
        "    return"
      ],
      "execution_count": null,
      "outputs": []
    },
    {
      "cell_type": "code",
      "metadata": {
        "colab_type": "code",
        "id": "wuLvmEJRrueb",
        "colab": {}
      },
      "source": [
        "print(f(23))  # 20대\n",
        "print(f(55))  # 50대\n",
        "print(f(89))  # 80대"
      ],
      "execution_count": null,
      "outputs": []
    },
    {
      "cell_type": "markdown",
      "metadata": {
        "id": "llNqXVbFGV6s",
        "colab_type": "text"
      },
      "source": [
        "### 퀴즈정답-함수"
      ]
    },
    {
      "cell_type": "markdown",
      "metadata": {
        "colab_type": "text",
        "id": "_bv3gPDPB1T4"
      },
      "source": [
        "Q. 주어진 숫자가 양수인지 음수인지 0인지 판별해주는 함수를 작성해보기\n"
      ]
    },
    {
      "cell_type": "code",
      "metadata": {
        "colab_type": "code",
        "id": "Y7ksz4MGB1T5",
        "colab": {}
      },
      "source": [
        "def f(num):\n",
        "    pass"
      ],
      "execution_count": null,
      "outputs": []
    },
    {
      "cell_type": "markdown",
      "metadata": {
        "colab_type": "text",
        "id": "EZnmiwNyB1T7"
      },
      "source": [
        "A."
      ]
    },
    {
      "cell_type": "code",
      "metadata": {
        "colab_type": "code",
        "id": "hJhnEQM5B1T7",
        "colab": {}
      },
      "source": [
        "def f(num):\n",
        "    if num > 0:\n",
        "        return '양수'\n",
        "    elif num < 0:\n",
        "        return '음수'\n",
        "    else:\n",
        "        return '0'\n",
        "print(f(-10))\n",
        "print(f(-1.0))\n",
        "print(f(0))\n",
        "print(f(1.0))\n",
        "print(f(10))\n"
      ],
      "execution_count": null,
      "outputs": []
    },
    {
      "cell_type": "markdown",
      "metadata": {
        "colab_type": "text",
        "id": "Ui7V-mR8ByhR"
      },
      "source": [
        "Q. 다음과 같은 수식을 파이썬 함수로 만들어보기  \n",
        "$f(x) = 2x^2+5 $\n",
        "\n"
      ]
    },
    {
      "cell_type": "code",
      "metadata": {
        "colab_type": "code",
        "id": "O5LjkBb3ByhS",
        "colab": {}
      },
      "source": [
        "def f():\n",
        "    return\n",
        "print(f(3))"
      ],
      "execution_count": null,
      "outputs": []
    },
    {
      "cell_type": "markdown",
      "metadata": {
        "colab_type": "text",
        "id": "m0Xf-pFIByhU"
      },
      "source": [
        "A."
      ]
    },
    {
      "cell_type": "code",
      "metadata": {
        "colab_type": "code",
        "id": "DwCjQ7qkByhV",
        "colab": {}
      },
      "source": [
        "def f(x):\n",
        "    return 2*x**2+5\n",
        "print(f(3))"
      ],
      "execution_count": null,
      "outputs": []
    },
    {
      "cell_type": "markdown",
      "metadata": {
        "colab_type": "text",
        "id": "7vS95qsGBy9I"
      },
      "source": [
        "Q. 구구단 출력하기  \n",
        "단수를 입력으로 받고 해당 단수를 프린트하기\n"
      ]
    },
    {
      "cell_type": "code",
      "metadata": {
        "colab_type": "code",
        "id": "x5s52hUUBy9J",
        "colab": {}
      },
      "source": [
        "def times_table(x):\n",
        "    print(x,'단')\n",
        "    return\n",
        "times_table(5)\n",
        "times_table(8)"
      ],
      "execution_count": null,
      "outputs": []
    },
    {
      "cell_type": "markdown",
      "metadata": {
        "colab_type": "text",
        "id": "w4mc5Cf1By9K"
      },
      "source": [
        "A."
      ]
    },
    {
      "cell_type": "code",
      "metadata": {
        "colab_type": "code",
        "id": "8UXKoZglBy9K",
        "colab": {}
      },
      "source": [
        "def times_table(x):\n",
        "    print(x,'단')\n",
        "    for i in range(1, 10):\n",
        "        print(x,'x',i,'=', x*i)\n",
        "    return\n",
        "times_table(5)\n",
        "times_table(8)"
      ],
      "execution_count": null,
      "outputs": []
    },
    {
      "cell_type": "markdown",
      "metadata": {
        "colab_type": "text",
        "id": "iyYpZ5z9BzmL"
      },
      "source": [
        "Q. 아이디를 인풋으로 받아서 members에 존재하면 '존재하는 아이디입니다.' 이라고 출력하고  \n",
        "존재하지 않으면 '아이디로 가능합니다.'라고 출력하여라 \n"
      ]
    },
    {
      "cell_type": "code",
      "metadata": {
        "colab_type": "code",
        "id": "kk7v9AfwBzmN",
        "colab": {}
      },
      "source": [
        "members = {'good01', 'hahaha', 'na2020', 'happy', 'good', 'yjkim'}\n",
        "def login(t):\n",
        "    pass\n",
        "login('go')\n",
        "login('happy')\n",
        "login('haha')\n",
        "login('yjpark')"
      ],
      "execution_count": null,
      "outputs": []
    },
    {
      "cell_type": "markdown",
      "metadata": {
        "colab_type": "text",
        "id": "S6cJNxJ9BzmP"
      },
      "source": [
        "A."
      ]
    },
    {
      "cell_type": "code",
      "metadata": {
        "colab_type": "code",
        "id": "qczthAjHBzmP",
        "colab": {}
      },
      "source": [
        "members = {'good01', 'hahaha', 'na2020', 'happy', 'good', 'yjkim'}\n",
        "def login(t):\n",
        "    if t in members:\n",
        "        print('존재하는 아이디입니다.')\n",
        "    else:\n",
        "        print('아이디로 가능합니다.')\n",
        "    return\n",
        "login('go')\n",
        "login('happy')\n",
        "login('haha')\n",
        "login('yjpark')"
      ],
      "execution_count": null,
      "outputs": []
    },
    {
      "cell_type": "markdown",
      "metadata": {
        "colab_type": "text",
        "id": "cPmLVWrkB0Qa"
      },
      "source": [
        "Q. 입력받은 수가 양수이면 그대로 리턴하고 그렇지 않으면 0을 리턴하기  \n",
        "\n"
      ]
    },
    {
      "cell_type": "code",
      "metadata": {
        "colab_type": "code",
        "id": "gfe8DMquB0Qa",
        "colab": {}
      },
      "source": [
        "def relu(x):\n",
        "    return"
      ],
      "execution_count": null,
      "outputs": []
    },
    {
      "cell_type": "markdown",
      "metadata": {
        "colab_type": "text",
        "id": "fssCT_HRB0Qc"
      },
      "source": [
        "A."
      ]
    },
    {
      "cell_type": "code",
      "metadata": {
        "colab_type": "code",
        "id": "7Lf7eMgXB0Qd",
        "colab": {}
      },
      "source": [
        "def relu(x):\n",
        "    if x > 0: \n",
        "        return x\n",
        "    else:\n",
        "        return 0\n",
        "print(relu(10))\n",
        "print(relu(-10))\n",
        "print(relu(0))"
      ],
      "execution_count": null,
      "outputs": []
    },
    {
      "cell_type": "markdown",
      "metadata": {
        "colab_type": "text",
        "id": "fIeRdUgQB0zS"
      },
      "source": [
        "Q. 다음 코드에서 10이 출력되는 이유는?"
      ]
    },
    {
      "cell_type": "code",
      "metadata": {
        "colab_type": "code",
        "id": "SeQ5cLNLB0zT",
        "colab": {}
      },
      "source": [
        "a = 10\n",
        "def f(a):\n",
        "    a += 2\n",
        "f(a)\n",
        "print(a)"
      ],
      "execution_count": null,
      "outputs": []
    },
    {
      "cell_type": "markdown",
      "metadata": {
        "colab_type": "text",
        "id": "dVlQ4GkLB0zU"
      },
      "source": [
        "A. 함수 f 내부에서 바꾼 a는 지역변수이다.  \n",
        "print(a)에서 a는 전역변수이다.  \n",
        "그러므로 10이 그대로 출력된다."
      ]
    },
    {
      "cell_type": "markdown",
      "metadata": {
        "colab_type": "text",
        "id": "CWa8sLohCNQk"
      },
      "source": [
        "Q. 나이를 입력받으면 x대 라고 리턴값을 주는 함수 만들어보기\n",
        "``` \n",
        "f(23)  # 20대\n",
        "f(55)  # 50대\n",
        "f(89)  # 80대\n",
        "```\n"
      ]
    },
    {
      "cell_type": "code",
      "metadata": {
        "colab_type": "code",
        "id": "XL3t3olxCNQl",
        "colab": {}
      },
      "source": [
        "def f(age):\n",
        "    return"
      ],
      "execution_count": null,
      "outputs": []
    },
    {
      "cell_type": "markdown",
      "metadata": {
        "colab_type": "text",
        "id": "JYgXJQuCCNQl"
      },
      "source": [
        "A."
      ]
    },
    {
      "cell_type": "code",
      "metadata": {
        "colab_type": "code",
        "id": "to7B_2s5CNQm",
        "colab": {}
      },
      "source": [
        "def f(age):\n",
        "    return str(age//10*10) + '대'\n"
      ],
      "execution_count": null,
      "outputs": []
    },
    {
      "cell_type": "code",
      "metadata": {
        "id": "ZHZnW751Nifa",
        "colab_type": "code",
        "colab": {}
      },
      "source": [
        "print(f(23))  # 20대\n",
        "print(f(55))  # 50대\n",
        "print(f(89))  # 80대"
      ],
      "execution_count": null,
      "outputs": []
    },
    {
      "cell_type": "markdown",
      "metadata": {
        "id": "NrqHH05GJ3zO",
        "colab_type": "text"
      },
      "source": [
        "## class"
      ]
    },
    {
      "cell_type": "markdown",
      "metadata": {
        "id": "67FGkPOfYJx2",
        "colab_type": "text"
      },
      "source": [
        "### 클래스란?"
      ]
    },
    {
      "cell_type": "code",
      "metadata": {
        "id": "2hkcEe8fxBFn",
        "colab_type": "code",
        "colab": {}
      },
      "source": [
        "print(type(list()))"
      ],
      "execution_count": null,
      "outputs": []
    },
    {
      "cell_type": "code",
      "metadata": {
        "id": "S1nfXm9BxJLm",
        "colab_type": "code",
        "colab": {}
      },
      "source": [
        "i1, i2, i3 = [], [], []"
      ],
      "execution_count": null,
      "outputs": []
    },
    {
      "cell_type": "code",
      "metadata": {
        "id": "Kdz0_Dc2xJay",
        "colab_type": "code",
        "colab": {}
      },
      "source": [
        "i1.append(10)\n",
        "print(i1, i2, i3)"
      ],
      "execution_count": null,
      "outputs": []
    },
    {
      "cell_type": "code",
      "metadata": {
        "id": "HDNfIm8yxJiS",
        "colab_type": "code",
        "colab": {}
      },
      "source": [
        "i2.extend([10, 20])\n",
        "print(i1, i2, i3) "
      ],
      "execution_count": null,
      "outputs": []
    },
    {
      "cell_type": "code",
      "metadata": {
        "id": "CVa-sIN5xoX7",
        "colab_type": "code",
        "colab": {}
      },
      "source": [
        "i2.remove(10)\n",
        "print(i1, i2, i3) "
      ],
      "execution_count": null,
      "outputs": []
    },
    {
      "cell_type": "code",
      "metadata": {
        "id": "GfC39c1IxoT_",
        "colab_type": "code",
        "colab": {}
      },
      "source": [
        "i2.extend([10, 20])\n",
        "i2"
      ],
      "execution_count": null,
      "outputs": []
    },
    {
      "cell_type": "code",
      "metadata": {
        "id": "Rnn9qTg8xoQR",
        "colab_type": "code",
        "colab": {}
      },
      "source": [
        "i1"
      ],
      "execution_count": null,
      "outputs": []
    },
    {
      "cell_type": "code",
      "metadata": {
        "id": "djRU6ruRapax",
        "colab_type": "code",
        "colab": {}
      },
      "source": [
        "i3"
      ],
      "execution_count": null,
      "outputs": []
    },
    {
      "cell_type": "code",
      "metadata": {
        "id": "_gALS7YKytQz",
        "colab_type": "code",
        "colab": {}
      },
      "source": [
        "i2.remove(10)\n",
        "print(i1, i2, i3)"
      ],
      "execution_count": null,
      "outputs": []
    },
    {
      "cell_type": "markdown",
      "metadata": {
        "id": "Mz1GTgqo5bNa",
        "colab_type": "text"
      },
      "source": [
        "### Class 기본"
      ]
    },
    {
      "cell_type": "code",
      "metadata": {
        "id": "NXjYD8jm0hi3",
        "colab_type": "code",
        "colab": {}
      },
      "source": [
        "class Person:\n",
        "    def __init__(self, name, job, dept, pay):\n",
        "        self.name = name\n",
        "        self.job = job\n",
        "        self.dept = dept\n",
        "        self.pay = pay\n"
      ],
      "execution_count": null,
      "outputs": []
    },
    {
      "cell_type": "code",
      "metadata": {
        "id": "xwwsXZUfO9-y",
        "colab_type": "code",
        "colab": {}
      },
      "source": [
        "id001 = Person('박땡땡', '디자이너', '디자인팀', 5000)\n",
        "id002 = Person('김땡땡', '영업사원', '영업팀', 5000)"
      ],
      "execution_count": null,
      "outputs": []
    },
    {
      "cell_type": "markdown",
      "metadata": {
        "id": "_sBYsxktSWsr",
        "colab_type": "text"
      },
      "source": [
        "메서드 추가하기"
      ]
    },
    {
      "cell_type": "code",
      "metadata": {
        "id": "Xt2o-g_IO-Oz",
        "colab_type": "code",
        "colab": {}
      },
      "source": [
        "class Person:\n",
        "    def __init__(self, name, job, dept, pay):\n",
        "        self.name = name\n",
        "        self.job = job\n",
        "        self.dept = dept\n",
        "        self.pay = pay\n",
        "    \n",
        "    def changeDept(self, dept):\n",
        "        self.dept = dept\n",
        "    \n",
        "    def giveRaise(self, percent):\n",
        "        self.pay = int(self.pay*(1+percent))\n",
        "        "
      ],
      "execution_count": null,
      "outputs": []
    },
    {
      "cell_type": "code",
      "metadata": {
        "id": "Z3fzJMlIO-Kx",
        "colab_type": "code",
        "colab": {}
      },
      "source": [
        "id001 = Person('박땡땡', '디자이너', '디자인팀', 5000)\n",
        "id002 = Person('김땡땡', '영업사원', '영업팀', 5000)"
      ],
      "execution_count": null,
      "outputs": []
    },
    {
      "cell_type": "code",
      "metadata": {
        "id": "0l981I6xZAp3",
        "colab_type": "code",
        "colab": {}
      },
      "source": [
        "print(id001.name, id001.job, id001.dept, id001.pay)\n",
        "print(id002.name, id002.job, id002.dept, id002.pay)"
      ],
      "execution_count": null,
      "outputs": []
    },
    {
      "cell_type": "code",
      "metadata": {
        "id": "eP2ZscUaO-GY",
        "colab_type": "code",
        "colab": {}
      },
      "source": [
        "id002.giveRaise(0.10) "
      ],
      "execution_count": null,
      "outputs": []
    },
    {
      "cell_type": "code",
      "metadata": {
        "id": "o7EYSq2nWq9y",
        "colab_type": "code",
        "colab": {}
      },
      "source": [
        "print(id001.pay, id002.pay) "
      ],
      "execution_count": null,
      "outputs": []
    },
    {
      "cell_type": "code",
      "metadata": {
        "id": "aSLd285kZTH1",
        "colab_type": "code",
        "colab": {}
      },
      "source": [
        "id002.giveRaise(0.05)"
      ],
      "execution_count": null,
      "outputs": []
    },
    {
      "cell_type": "code",
      "metadata": {
        "id": "heGxkc0PZVOO",
        "colab_type": "code",
        "colab": {}
      },
      "source": [
        "print(id001.pay, id002.pay)"
      ],
      "execution_count": null,
      "outputs": []
    },
    {
      "cell_type": "code",
      "metadata": {
        "id": "HXwKtpW_Wq6r",
        "colab_type": "code",
        "colab": {}
      },
      "source": [
        "id001.changeDept('디자인2팀')"
      ],
      "execution_count": null,
      "outputs": []
    },
    {
      "cell_type": "code",
      "metadata": {
        "id": "U1reX7YmWq2P",
        "colab_type": "code",
        "colab": {}
      },
      "source": [
        "print(id001.dept, id002.dept)"
      ],
      "execution_count": null,
      "outputs": []
    },
    {
      "cell_type": "markdown",
      "metadata": {
        "id": "V_36g1J4bh1f",
        "colab_type": "text"
      },
      "source": [
        "### 상속"
      ]
    },
    {
      "cell_type": "code",
      "metadata": {
        "id": "Y_1uD8oLZ6Wt",
        "colab_type": "code",
        "colab": {}
      },
      "source": [
        "class Person:\n",
        "    def __init__(self, name, job, dept, pay):\n",
        "        self.name = name\n",
        "        self.job = job\n",
        "        self.dept = dept\n",
        "        self.pay = pay\n",
        "    \n",
        "    def changeDept(self, dept):\n",
        "        self.dept = dept\n",
        "    \n",
        "    def giveRaise(self, percent):\n",
        "        self.pay = int(self.pay*(1+percent)) "
      ],
      "execution_count": null,
      "outputs": []
    },
    {
      "cell_type": "code",
      "metadata": {
        "id": "FCE8zVmectmZ",
        "colab_type": "code",
        "colab": {}
      },
      "source": [
        "class Manager(Person):\n",
        "    def manage(self, dept):\n",
        "        self.manageDepts = dept"
      ],
      "execution_count": null,
      "outputs": []
    },
    {
      "cell_type": "code",
      "metadata": {
        "id": "nBWLupncdtnX",
        "colab_type": "code",
        "colab": {}
      },
      "source": [
        "id100 = Manager('정땡땡', '디자이너', '디자인2팀', 9000) "
      ],
      "execution_count": null,
      "outputs": []
    },
    {
      "cell_type": "code",
      "metadata": {
        "id": "Zyk9dam5dtrW",
        "colab_type": "code",
        "colab": {}
      },
      "source": [
        "print(id100.name, id100.job, id100.dept, id100.pay) "
      ],
      "execution_count": null,
      "outputs": []
    },
    {
      "cell_type": "code",
      "metadata": {
        "id": "W58gvgindtkR",
        "colab_type": "code",
        "colab": {}
      },
      "source": [
        "id100.changeDept('디자인팀')"
      ],
      "execution_count": null,
      "outputs": []
    },
    {
      "cell_type": "code",
      "metadata": {
        "id": "I2O5q0wueQAl",
        "colab_type": "code",
        "colab": {}
      },
      "source": [
        "print(id100.dept)"
      ],
      "execution_count": null,
      "outputs": []
    },
    {
      "cell_type": "code",
      "metadata": {
        "id": "fU29DSfeej0j",
        "colab_type": "code",
        "colab": {}
      },
      "source": [
        "id100.manage(['디자인팀', '디자인2팀', '디자인3팀'])"
      ],
      "execution_count": null,
      "outputs": []
    },
    {
      "cell_type": "code",
      "metadata": {
        "id": "Ujh6ua4zeQER",
        "colab_type": "code",
        "colab": {}
      },
      "source": [
        "print(id100.manageDepts)"
      ],
      "execution_count": null,
      "outputs": []
    },
    {
      "cell_type": "code",
      "metadata": {
        "id": "IkaUFoWzeQLP",
        "colab_type": "code",
        "colab": {}
      },
      "source": [
        "id001 = Person('박땡땡', '디자이너', '디자인팀', 5000)"
      ],
      "execution_count": null,
      "outputs": []
    },
    {
      "cell_type": "code",
      "metadata": {
        "id": "Zcjh6wWTeQIq",
        "colab_type": "code",
        "colab": {}
      },
      "source": [
        "id001.giveRaise(0.1)"
      ],
      "execution_count": null,
      "outputs": []
    },
    {
      "cell_type": "code",
      "metadata": {
        "id": "YbySrNYpkxkA",
        "colab_type": "code",
        "colab": {}
      },
      "source": [
        "print(id001.pay)"
      ],
      "execution_count": null,
      "outputs": []
    },
    {
      "cell_type": "code",
      "metadata": {
        "id": "683gfizvkxw4",
        "colab_type": "code",
        "colab": {}
      },
      "source": [
        "id001.manage(['디자인팀'])   #error"
      ],
      "execution_count": null,
      "outputs": []
    },
    {
      "cell_type": "markdown",
      "metadata": {
        "id": "r3cMnp4sl4n7",
        "colab_type": "text"
      },
      "source": [
        "### 오버라이딩"
      ]
    },
    {
      "cell_type": "code",
      "metadata": {
        "id": "OVozRAmnkxuG",
        "colab_type": "code",
        "colab": {}
      },
      "source": [
        "class Person:\n",
        "    def __init__(self, name, job, dept, pay):\n",
        "        self.name = name\n",
        "        self.job = job\n",
        "        self.dept = dept\n",
        "        self.pay = pay\n",
        "    \n",
        "    def changeDept(self, dept):\n",
        "        self.dept = dept\n",
        "    \n",
        "    def giveRaise(self, percent):\n",
        "        self.pay = int(self.pay*(1+percent)) "
      ],
      "execution_count": null,
      "outputs": []
    },
    {
      "cell_type": "code",
      "metadata": {
        "id": "ErlHeoOKkxrV",
        "colab_type": "code",
        "colab": {}
      },
      "source": [
        "class Manager(Person):\n",
        "    def manage(self, dept):\n",
        "        self.manageDepts = dept\n",
        "\n",
        "    def giveRaise(self, percent, bonus=0.05):\n",
        "        Person.giveRaise(self, percent+bonus)"
      ],
      "execution_count": null,
      "outputs": []
    },
    {
      "cell_type": "code",
      "metadata": {
        "id": "7RVpUL5dkxoO",
        "colab_type": "code",
        "colab": {}
      },
      "source": [
        "id200 = Manager('윤땡땡', '엔지니어', '개발1팀', 10000) "
      ],
      "execution_count": null,
      "outputs": []
    },
    {
      "cell_type": "code",
      "metadata": {
        "id": "8Mp2JQ9YmELg",
        "colab_type": "code",
        "colab": {}
      },
      "source": [
        "id200.giveRaise(0.1, 0.1) "
      ],
      "execution_count": null,
      "outputs": []
    },
    {
      "cell_type": "code",
      "metadata": {
        "id": "R3QG7X-ZytJp",
        "colab_type": "code",
        "colab": {}
      },
      "source": [
        "print(id200.pay)"
      ],
      "execution_count": null,
      "outputs": []
    },
    {
      "cell_type": "code",
      "metadata": {
        "id": "nb8z--1EytGv",
        "colab_type": "code",
        "colab": {}
      },
      "source": [
        "id300 = Manager('최땡땡', '총무', '관리팀', 10000)"
      ],
      "execution_count": null,
      "outputs": []
    },
    {
      "cell_type": "code",
      "metadata": {
        "id": "OTt39YkJys_7",
        "colab_type": "code",
        "colab": {}
      },
      "source": [
        "id300.giveRaise(0.1)"
      ],
      "execution_count": null,
      "outputs": []
    },
    {
      "cell_type": "code",
      "metadata": {
        "id": "_ej7ll5dys9A",
        "colab_type": "code",
        "colab": {}
      },
      "source": [
        "print(id300.pay)"
      ],
      "execution_count": null,
      "outputs": []
    },
    {
      "cell_type": "markdown",
      "metadata": {
        "colab_type": "text",
        "id": "nAjv3VGCq72h"
      },
      "source": [
        "### 퀴즈-클래스"
      ]
    },
    {
      "cell_type": "markdown",
      "metadata": {
        "colab_type": "text",
        "id": "3Aenyfblq72h"
      },
      "source": [
        "Q. MyBook 클래스를 완성하기  \n",
        "1. 생성자 채우기   \n",
        "클래스 생성시 인자를 받아서 인스턴스 변수 name 과 author를 만들기 \n",
        "2. 점수를 매길 수 있는 메서드 채우기   \n",
        "인자를 받아 rating 이라는 인스턴스 변수 만들기  \n",
        "3. 가격을 정할 수 있는 메서드 채우기  \n",
        "인자를 받아 price 라는 인스턴스 변수 만들기\n",
        "\n",
        "4. 클래스를 완성 후 다음 코드들을 실행시키면서 이해해보기  \n",
        "에러가 나는 코드는 그 이유를 고민해보기  "
      ]
    },
    {
      "cell_type": "code",
      "metadata": {
        "colab_type": "code",
        "id": "yLaNTaHtq72i",
        "colab": {}
      },
      "source": [
        "class MyBook:\n",
        "    def __init__(self):\n",
        "        pass\n",
        "    def set_rating(self):\n",
        "        print(self.name, ': ',  rating, '점을 주었습니다.', sep='')\n",
        "    def set_price(self):\n",
        "        pass"
      ],
      "execution_count": null,
      "outputs": []
    },
    {
      "cell_type": "code",
      "metadata": {
        "colab_type": "code",
        "id": "5TbYi1RPq72j",
        "colab": {}
      },
      "source": [
        "a1 = MyBook('나의 눈부신 친구', '엘레나 페란테')\n",
        "print(a1.name)      #나의 눈부신 친구\n",
        "print(a1.author)    #엘레나 페란테"
      ],
      "execution_count": null,
      "outputs": []
    },
    {
      "cell_type": "code",
      "metadata": {
        "colab_type": "code",
        "id": "wHAFwSPUq72l",
        "colab": {}
      },
      "source": [
        "print(a.rating)     #error"
      ],
      "execution_count": null,
      "outputs": []
    },
    {
      "cell_type": "code",
      "metadata": {
        "colab_type": "code",
        "id": "smVEZ_84q72o",
        "colab": {}
      },
      "source": [
        "a1.set_rating(8)\n",
        "print(a1.rating)    #8"
      ],
      "execution_count": null,
      "outputs": []
    },
    {
      "cell_type": "code",
      "metadata": {
        "colab_type": "code",
        "id": "becMuFKLq72r",
        "colab": {}
      },
      "source": [
        "print(a1.price)     #error"
      ],
      "execution_count": null,
      "outputs": []
    },
    {
      "cell_type": "code",
      "metadata": {
        "colab_type": "code",
        "id": "SP3UU_fMq72s",
        "colab": {}
      },
      "source": [
        "a1.set_price(16800)\n",
        "print(a1.price)     #16800"
      ],
      "execution_count": null,
      "outputs": []
    },
    {
      "cell_type": "code",
      "metadata": {
        "colab_type": "code",
        "id": "qkaxNkUlq72u",
        "colab": {}
      },
      "source": [
        "a2 = MyBook('빨강 머리 앤','루시 모드 몽고메리')\n",
        "print(a2.name)\n",
        "print(a2.author)"
      ],
      "execution_count": null,
      "outputs": []
    },
    {
      "cell_type": "code",
      "metadata": {
        "colab_type": "code",
        "id": "oCc_spDjq72v",
        "colab": {}
      },
      "source": [
        "a2.set_rating(7)\n",
        "a2.set_price(14500)"
      ],
      "execution_count": null,
      "outputs": []
    },
    {
      "cell_type": "code",
      "metadata": {
        "colab_type": "code",
        "id": "JsoWO-Kbq72x",
        "colab": {}
      },
      "source": [
        "print(a2.rating)    #7\n",
        "print(a2.price)     #14500\n"
      ],
      "execution_count": null,
      "outputs": []
    },
    {
      "cell_type": "markdown",
      "metadata": {
        "colab_type": "text",
        "id": "Ct3v3OJUq73C"
      },
      "source": [
        "Q. 상속  \n",
        "위에서 정의한 MyBook을 상속받아 MyFavoriteBook이라는 자식 클래스를 만들기  \n",
        "1. has_cover 메서드 완성하기  \n",
        "1-1. 인자를 받아 cover라는 인스턴스 변수를 가질 수 있도록 할 것  \n",
        "cover의 기본값은 False로 만들 것  \n",
        "1-2. cover가 True이면 \"'책이름' 책에 커버를 씌웠습니다.\"  \n",
        "False이면 \"'책 이름' 책에 커버가 없습니다.\"라는 문장 프린트하기 \n",
        "  \n",
        "2. 클래스를 완성 후 다음 코드들을 실행시키면서 이해해보기  \n",
        "에러가 나는 코드는 그 이유를 고민해보기  \n"
      ]
    },
    {
      "cell_type": "code",
      "metadata": {
        "colab_type": "code",
        "id": "eQrVUms2q73C",
        "colab": {}
      },
      "source": [
        "class MyFavoriteBook(MyBook):\n",
        "    def has_cover(self):\n",
        "        print(self.name, \"책에 커버를 씌웠습니다.\")\n",
        "        print(self.name, \"책에 커버가 없습니다.\")"
      ],
      "execution_count": null,
      "outputs": []
    },
    {
      "cell_type": "code",
      "metadata": {
        "colab_type": "code",
        "id": "rPUepVUHq73E",
        "colab": {}
      },
      "source": [
        "b1 = MyFavoriteBook()     # error"
      ],
      "execution_count": null,
      "outputs": []
    },
    {
      "cell_type": "code",
      "metadata": {
        "colab_type": "code",
        "id": "886j0mYRq73F",
        "colab": {}
      },
      "source": [
        "b1 = MyFavoriteBook('나의 라임 오렌지나무', 'J. M. 바스콘셀로스')\n",
        "print(b1.name, b1.author)"
      ],
      "execution_count": null,
      "outputs": []
    },
    {
      "cell_type": "code",
      "metadata": {
        "colab_type": "code",
        "id": "TynM-QoUq73H",
        "colab": {}
      },
      "source": [
        "b1.set_rating(9)"
      ],
      "execution_count": null,
      "outputs": []
    },
    {
      "cell_type": "code",
      "metadata": {
        "colab_type": "code",
        "id": "UqESOiMTq73I",
        "colab": {}
      },
      "source": [
        "b1.cover                # error"
      ],
      "execution_count": null,
      "outputs": []
    },
    {
      "cell_type": "code",
      "metadata": {
        "colab_type": "code",
        "id": "KwZq6Aznq73J",
        "colab": {}
      },
      "source": [
        "b1.has_cover(True)"
      ],
      "execution_count": null,
      "outputs": []
    },
    {
      "cell_type": "code",
      "metadata": {
        "colab_type": "code",
        "id": "cuP-Cdduq73L",
        "colab": {}
      },
      "source": [
        "b1.has_cover(False)"
      ],
      "execution_count": null,
      "outputs": []
    },
    {
      "cell_type": "code",
      "metadata": {
        "colab_type": "code",
        "id": "p_d2kazoq73M",
        "colab": {}
      },
      "source": [
        "print(b1.cover)"
      ],
      "execution_count": null,
      "outputs": []
    },
    {
      "cell_type": "markdown",
      "metadata": {
        "id": "Oc2xO7JsUK44",
        "colab_type": "text"
      },
      "source": [
        "### 퀴즈정답-클래스"
      ]
    },
    {
      "cell_type": "markdown",
      "metadata": {
        "colab_type": "text",
        "id": "6dj3kdGXB1vA"
      },
      "source": [
        "Q. MyBook 클래스를 완성하기  \n",
        "1. 생성자 채우기   \n",
        "클래스 생성시 인자를 받아서 인스턴스 변수 name 과 author를 만들기 \n",
        "2. 점수를 매길 수 있는 메서드 채우기   \n",
        "인자를 받아 rating 이라는 인스턴스 변수 만들기  \n",
        "3. 가격을 정할 수 있는 메서드 채우기  \n",
        "인자를 받아 price 라는 인스턴스 변수 만들기\n",
        "\n",
        "4. 클래스를 완성 후 다음 코드들을 실행시키면서 이해해보기  \n",
        "에러가 나는 코드는 그 이유를 고민해보기  "
      ]
    },
    {
      "cell_type": "code",
      "metadata": {
        "colab_type": "code",
        "id": "wsSljGotB1vB",
        "colab": {}
      },
      "source": [
        "class MyBook:\n",
        "    def __init__(self):\n",
        "        pass\n",
        "    def set_rating(self):\n",
        "        \n",
        "        print(self.name, ': ',  rating, '점을 주었습니다.', sep='')\n",
        "    def set_price(self):\n",
        "        pass"
      ],
      "execution_count": null,
      "outputs": []
    },
    {
      "cell_type": "markdown",
      "metadata": {
        "colab_type": "text",
        "id": "q3IQnnZXB1vC"
      },
      "source": [
        "A."
      ]
    },
    {
      "cell_type": "code",
      "metadata": {
        "colab_type": "code",
        "id": "LYddmFdZB1vE",
        "colab": {}
      },
      "source": [
        "class MyBook:\n",
        "    def __init__(self, name, author):\n",
        "        self.name = name\n",
        "        self.author = author\n",
        "    def set_rating(self, rating):\n",
        "        self.rating = rating\n",
        "        print(self.name, ': ',  rating, '점을 주었습니다.', sep='')\n",
        "    def set_price(self, price):\n",
        "        self.price = price"
      ],
      "execution_count": null,
      "outputs": []
    },
    {
      "cell_type": "code",
      "metadata": {
        "colab_type": "code",
        "id": "JAV5zXMrX8mX",
        "colab": {}
      },
      "source": [
        "a1 = MyBook('나의 눈부신 친구', '엘레나 페란테')\n",
        "print(a1.name)      #나의 눈부신 친구\n",
        "print(a1.author)    #엘레나 페란테"
      ],
      "execution_count": null,
      "outputs": []
    },
    {
      "cell_type": "code",
      "metadata": {
        "colab_type": "code",
        "id": "-Lz_64HfX8mb",
        "colab": {}
      },
      "source": [
        "print(a.rating)     #error"
      ],
      "execution_count": null,
      "outputs": []
    },
    {
      "cell_type": "code",
      "metadata": {
        "colab_type": "code",
        "id": "s4lcrhzXX8md",
        "colab": {}
      },
      "source": [
        "a1.set_rating(8)\n",
        "print(a1.rating)    #8"
      ],
      "execution_count": null,
      "outputs": []
    },
    {
      "cell_type": "code",
      "metadata": {
        "colab_type": "code",
        "id": "BBkkvhf0X8me",
        "colab": {}
      },
      "source": [
        "print(a1.price)     #error"
      ],
      "execution_count": null,
      "outputs": []
    },
    {
      "cell_type": "code",
      "metadata": {
        "colab_type": "code",
        "id": "kNC4mXScX8mg",
        "colab": {}
      },
      "source": [
        "a1.set_price(16800)\n",
        "print(a1.price)     #16800"
      ],
      "execution_count": null,
      "outputs": []
    },
    {
      "cell_type": "code",
      "metadata": {
        "colab_type": "code",
        "id": "u5pkeafgX8mi",
        "colab": {}
      },
      "source": [
        "a2 = MyBook('빨강 머리 앤','루시 모드 몽고메리')\n",
        "print(a2.name)\n",
        "print(a2.author)"
      ],
      "execution_count": null,
      "outputs": []
    },
    {
      "cell_type": "code",
      "metadata": {
        "colab_type": "code",
        "id": "katfNFaPX8mj",
        "colab": {}
      },
      "source": [
        "a2.set_rating(7)\n",
        "a2.set_price(14500)"
      ],
      "execution_count": null,
      "outputs": []
    },
    {
      "cell_type": "code",
      "metadata": {
        "colab_type": "code",
        "id": "BJ0iT9fqX8ml",
        "colab": {}
      },
      "source": [
        "print(a2.rating)    #7\n",
        "print(a2.price)     #14500\n"
      ],
      "execution_count": null,
      "outputs": []
    },
    {
      "cell_type": "markdown",
      "metadata": {
        "colab_type": "text",
        "id": "AjvQXbHhB2R1"
      },
      "source": [
        "Q. 상속  \n",
        "위에서 정의한 MyBook을 상속받아 MyFavoriteBook이라는 자식 클래스를 만들기  \n",
        "1. has_cover 메서드 완성하기  \n",
        "1-1. 인자를 받아 cover라는 인스턴스 변수를 가질 수 있도록 할 것  \n",
        "cover의 기본값은 False로 만들 것  \n",
        "1-2. cover가 True이면 \"'책이름' 책에 커버를 씌웠습니다.\"  \n",
        "False이면 \"'책 이름' 책에 커버가 없습니다.\"라는 문장 프린트하기 \n",
        "  \n",
        "2. 클래스를 완성 후 다음 코드들을 실행시키면서 이해해보기  \n",
        "에러가 나는 코드는 그 이유를 고민해보기  \n"
      ]
    },
    {
      "cell_type": "code",
      "metadata": {
        "colab_type": "code",
        "id": "ebEwLbfYB2R2",
        "colab": {}
      },
      "source": [
        "class MyFavoriteBook(MyBook):\n",
        "    def has_cover(self):\n",
        "        print(self.name, \"책에 커버를 씌웠습니다.\")\n",
        "        print(self.name, \"책에 커버가 없습니다.\")"
      ],
      "execution_count": null,
      "outputs": []
    },
    {
      "cell_type": "markdown",
      "metadata": {
        "colab_type": "text",
        "id": "CtIp1WqSB2R4"
      },
      "source": [
        "A."
      ]
    },
    {
      "cell_type": "code",
      "metadata": {
        "colab_type": "code",
        "id": "eE78ZJ8cB2R5",
        "colab": {}
      },
      "source": [
        "class MyBook:\n",
        "    def __init__(self, name, author):\n",
        "        self.name = name\n",
        "        self.author = author\n",
        "    def set_rating(self, rating):\n",
        "        self.rating = rating\n",
        "        print(self.name, ': ',  rating, '점을 주었습니다.', sep='')\n",
        "    def set_price(self, price):\n",
        "        self.price = price"
      ],
      "execution_count": null,
      "outputs": []
    },
    {
      "cell_type": "code",
      "metadata": {
        "id": "-PNWDFfiYM4L",
        "colab_type": "code",
        "colab": {}
      },
      "source": [
        "class MyFavoriteBook(MyBook):\n",
        "    def has_cover(self, cover=False):\n",
        "        self.cover = cover\n",
        "        if self.cover == True:\n",
        "            print(self.name, \"책에 커버를 씌웠습니다.\")\n",
        "        elif self.cover == False:\n",
        "            print(self.name, \"책에 커버가 없습니다.\")"
      ],
      "execution_count": null,
      "outputs": []
    },
    {
      "cell_type": "code",
      "metadata": {
        "id": "_w5pMbnTm4gu",
        "colab_type": "code",
        "colab": {}
      },
      "source": [
        "b1 = MyFavoriteBook()     # error"
      ],
      "execution_count": null,
      "outputs": []
    },
    {
      "cell_type": "code",
      "metadata": {
        "id": "WcydKNjCm43P",
        "colab_type": "code",
        "colab": {}
      },
      "source": [
        "b1 = MyFavoriteBook('나의 라임 오렌지나무', 'J. M. 바스콘셀로스')\n",
        "print(b1.name, b1.author)"
      ],
      "execution_count": null,
      "outputs": []
    },
    {
      "cell_type": "code",
      "metadata": {
        "id": "VX6OOi5Pm4dc",
        "colab_type": "code",
        "colab": {}
      },
      "source": [
        "b1.set_rating(9)"
      ],
      "execution_count": null,
      "outputs": []
    },
    {
      "cell_type": "code",
      "metadata": {
        "id": "u2dEE9Kym4aR",
        "colab_type": "code",
        "colab": {}
      },
      "source": [
        "b1.cover                # error"
      ],
      "execution_count": null,
      "outputs": []
    },
    {
      "cell_type": "code",
      "metadata": {
        "id": "_DonxZTJp5Zz",
        "colab_type": "code",
        "colab": {}
      },
      "source": [
        "b1.has_cover(True)"
      ],
      "execution_count": null,
      "outputs": []
    },
    {
      "cell_type": "code",
      "metadata": {
        "id": "PDJ3ssRqp5V9",
        "colab_type": "code",
        "colab": {}
      },
      "source": [
        "b1.has_cover(False)"
      ],
      "execution_count": null,
      "outputs": []
    },
    {
      "cell_type": "code",
      "metadata": {
        "id": "IXkQAm3bp5Sl",
        "colab_type": "code",
        "colab": {}
      },
      "source": [
        "print(b1.cover)"
      ],
      "execution_count": null,
      "outputs": []
    },
    {
      "cell_type": "markdown",
      "metadata": {
        "id": "ZzvaTUwpS-RE",
        "colab_type": "text"
      },
      "source": [
        "# Appendix"
      ]
    },
    {
      "cell_type": "markdown",
      "metadata": {
        "id": "0F25v-iqTBLi",
        "colab_type": "text"
      },
      "source": [
        "## functions"
      ]
    },
    {
      "cell_type": "markdown",
      "metadata": {
        "id": "bDnhPNrnk6N-",
        "colab_type": "text"
      },
      "source": [
        "### 위치인자/ 키워드인자"
      ]
    },
    {
      "cell_type": "code",
      "metadata": {
        "id": "Z4V72bN0lAdr",
        "colab_type": "code",
        "colab": {}
      },
      "source": [
        "def print_abc(a, b, c):\n",
        "    print('a:', a)\n",
        "    print('b:', b)\n",
        "    print('c:', c)"
      ],
      "execution_count": null,
      "outputs": []
    },
    {
      "cell_type": "markdown",
      "metadata": {
        "id": "e9odyd6ik9t2",
        "colab_type": "text"
      },
      "source": [
        "위치인자"
      ]
    },
    {
      "cell_type": "code",
      "metadata": {
        "id": "_DMS7PM7k-D-",
        "colab_type": "code",
        "colab": {}
      },
      "source": [
        "print_abc(10, 20, 30)"
      ],
      "execution_count": null,
      "outputs": []
    },
    {
      "cell_type": "markdown",
      "metadata": {
        "id": "enAC1PgKlRZ4",
        "colab_type": "text"
      },
      "source": [
        "키워드인자"
      ]
    },
    {
      "cell_type": "code",
      "metadata": {
        "id": "zOCoSCDPlQpO",
        "colab_type": "code",
        "colab": {}
      },
      "source": [
        "print_abc(a=10, b=20, c=30)"
      ],
      "execution_count": null,
      "outputs": []
    },
    {
      "cell_type": "code",
      "metadata": {
        "id": "9bJ07builXDK",
        "colab_type": "code",
        "colab": {}
      },
      "source": [
        "# 키워드인자로 주면 순서는 상관 없음\n",
        "print_abc(c=30, b=20, a=10)"
      ],
      "execution_count": null,
      "outputs": []
    },
    {
      "cell_type": "markdown",
      "metadata": {
        "id": "NwMuxTs_TD2-",
        "colab_type": "text"
      },
      "source": [
        "### 함수 초기값 설정"
      ]
    },
    {
      "cell_type": "code",
      "metadata": {
        "id": "YnOee4eJTB_e",
        "colab_type": "code",
        "colab": {}
      },
      "source": [
        "def func(x, y=0):\n",
        "    print(x, y)"
      ],
      "execution_count": null,
      "outputs": []
    },
    {
      "cell_type": "code",
      "metadata": {
        "id": "Qkl70su4TB8x",
        "colab_type": "code",
        "colab": {}
      },
      "source": [
        "# x=10, y=10 을 입력값으로 함\n",
        "func(10, 10)"
      ],
      "execution_count": null,
      "outputs": []
    },
    {
      "cell_type": "code",
      "metadata": {
        "id": "9Ot8VVaUTB5z",
        "colab_type": "code",
        "colab": {}
      },
      "source": [
        "# x=10을 입력값으로 함. y는 입력해주지 않았으니 기본값인 0 사용\n",
        "func(20)"
      ],
      "execution_count": null,
      "outputs": []
    },
    {
      "cell_type": "code",
      "metadata": {
        "id": "mICn5AN_VRD1",
        "colab_type": "code",
        "colab": {}
      },
      "source": [
        "# 일반매개변수, 기본매개변수 순서대로 잘 선언함 \n",
        "def func(x, y=0):\n",
        "    print(x, y)"
      ],
      "execution_count": null,
      "outputs": []
    },
    {
      "cell_type": "code",
      "metadata": {
        "id": "b2nKxw2jU5g1",
        "colab_type": "code",
        "colab": {}
      },
      "source": [
        "# 기본매개변수 뒤에 일반매개변수가 와서 오류남\n",
        "# 순서를 바꾸거나 y도 기본값을 주어 기본매개변수를 만들면 오류해결\n",
        "def func(x=0, y):\n",
        "    print(x, y)"
      ],
      "execution_count": null,
      "outputs": []
    },
    {
      "cell_type": "markdown",
      "metadata": {
        "id": "i1SxDsCzdQqt",
        "colab_type": "text"
      },
      "source": [
        "### 가변 매개변수"
      ]
    },
    {
      "cell_type": "code",
      "metadata": {
        "id": "ytbUkpQoTBxU",
        "colab_type": "code",
        "colab": {}
      },
      "source": [
        "'''\n",
        "함수 선언\n",
        "add_func은 입력이 몇 개이든 상관 없음\n",
        "*args 라고 매개변수 이름 앞에  *를 붙이면 입력값 전부를 모아 튜플로 만들어줌.\n",
        "*args는 매개변수를 뜻하는 arguments의 약자. 관례적으로 많이 쓰임.\n",
        "'''\n",
        "def add_func(*args):\n",
        "    res = 0\n",
        "    for i in args:\n",
        "        res += i\n",
        "    return res"
      ],
      "execution_count": null,
      "outputs": []
    },
    {
      "cell_type": "code",
      "metadata": {
        "id": "Ojm0BKjTTBrG",
        "colab_type": "code",
        "colab": {}
      },
      "source": [
        "print(add_func(0))"
      ],
      "execution_count": null,
      "outputs": []
    },
    {
      "cell_type": "code",
      "metadata": {
        "id": "I7bTgzzFTBuM",
        "colab_type": "code",
        "colab": {}
      },
      "source": [
        "print(add_func(10, 20, 30))"
      ],
      "execution_count": null,
      "outputs": []
    },
    {
      "cell_type": "code",
      "metadata": {
        "id": "PmpvQxLneto4",
        "colab_type": "code",
        "colab": {}
      },
      "source": [
        "def add_func(s, *args):\n",
        "    print(s)\n",
        "    print(sum(args))"
      ],
      "execution_count": null,
      "outputs": []
    },
    {
      "cell_type": "code",
      "metadata": {
        "id": "QsvEkvwZgStp",
        "colab_type": "code",
        "colab": {}
      },
      "source": [
        "add_func('총합', 2, 3, 4)"
      ],
      "execution_count": null,
      "outputs": []
    },
    {
      "cell_type": "code",
      "metadata": {
        "id": "R_ocOeEeTBn9",
        "colab_type": "code",
        "colab": {}
      },
      "source": [
        "def add_func(*args, s):\n",
        "    print(s)\n",
        "    print(sum(args))"
      ],
      "execution_count": null,
      "outputs": []
    },
    {
      "cell_type": "code",
      "metadata": {
        "id": "u8Iji1PLTBlF",
        "colab_type": "code",
        "colab": {}
      },
      "source": [
        "'''\n",
        "함수 호출\n",
        "args = (2, 3, 4, '총합')이 되고 일반 매개변수 s는 인자를 전달받지 못해 오류가 남 \n",
        "매개변수 선언시 순서를 바꾸거나 호출시 (2, 3, 4, s = '총합')이라고 s를 키워드 인자로 주면 오류 해결\n",
        "'''\n",
        "add_func(2, 3, 4, '총합')"
      ],
      "execution_count": null,
      "outputs": []
    },
    {
      "cell_type": "code",
      "metadata": {
        "id": "BUh4toOaTBiN",
        "colab_type": "code",
        "colab": {}
      },
      "source": [
        "add_func(2, 3, 4, s='총합')"
      ],
      "execution_count": null,
      "outputs": []
    },
    {
      "cell_type": "code",
      "metadata": {
        "id": "zWnC4a3Zjgqv",
        "colab_type": "code",
        "colab": {}
      },
      "source": [
        ""
      ],
      "execution_count": null,
      "outputs": []
    },
    {
      "cell_type": "markdown",
      "metadata": {
        "id": "rpBJlp-nuQaM",
        "colab_type": "text"
      },
      "source": [
        "## classes"
      ]
    },
    {
      "cell_type": "markdown",
      "metadata": {
        "id": "UIltPYfZuX_f",
        "colab_type": "text"
      },
      "source": [
        "### 클래스 변수"
      ]
    },
    {
      "cell_type": "code",
      "metadata": {
        "id": "RypWawN-uW-3",
        "colab_type": "code",
        "colab": {}
      },
      "source": [
        "class Student:\n",
        "    count = 0\n",
        "    students = []\n",
        "    def __init__(self):\n",
        "        Student.count += 1\n",
        "        Student.students.append(self)"
      ],
      "execution_count": null,
      "outputs": []
    },
    {
      "cell_type": "code",
      "metadata": {
        "id": "5kQBLHiDza5b",
        "colab_type": "code",
        "colab": {}
      },
      "source": [
        "print(Student.count)\n",
        "print(Student.students)"
      ],
      "execution_count": null,
      "outputs": []
    },
    {
      "cell_type": "code",
      "metadata": {
        "id": "QFCToMn7uXLg",
        "colab_type": "code",
        "colab": {}
      },
      "source": [
        "id001 = Student()\n",
        "id002 = Student()"
      ],
      "execution_count": null,
      "outputs": []
    },
    {
      "cell_type": "code",
      "metadata": {
        "id": "n9u3PNJ-uXVt",
        "colab_type": "code",
        "colab": {}
      },
      "source": [
        "print(Student.count)\n",
        "print(Student.students)"
      ],
      "execution_count": null,
      "outputs": []
    },
    {
      "cell_type": "code",
      "metadata": {
        "id": "ZgWzU3v52Oz8",
        "colab_type": "code",
        "colab": {}
      },
      "source": [
        "id001.count #이렇게 접근 가능하지만 비추천"
      ],
      "execution_count": null,
      "outputs": []
    },
    {
      "cell_type": "markdown",
      "metadata": {
        "id": "-r3bn_8_2N7W",
        "colab_type": "text"
      },
      "source": [
        "### 클래스 메서드"
      ]
    },
    {
      "cell_type": "code",
      "metadata": {
        "id": "LVsTDXWQuXfl",
        "colab_type": "code",
        "colab": {}
      },
      "source": [
        "class Student:\n",
        "    count = 0\n",
        "    students = []\n",
        "\n",
        "    @classmethod\n",
        "    def print(cls):\n",
        "        print('*학생 목록*')\n",
        "        for s in cls.students:\n",
        "            print(str(s.name))\n",
        "\n",
        "    def __init__(self, name):\n",
        "        self.name = name \n",
        "        Student.count += 1\n",
        "        Student.students.append(self)"
      ],
      "execution_count": null,
      "outputs": []
    },
    {
      "cell_type": "code",
      "metadata": {
        "id": "87XdtSTz3_Bn",
        "colab_type": "code",
        "colab": {}
      },
      "source": [
        "Student.print()"
      ],
      "execution_count": null,
      "outputs": []
    },
    {
      "cell_type": "code",
      "metadata": {
        "id": "Aw7ijPcojghx",
        "colab_type": "code",
        "colab": {}
      },
      "source": [
        "id001 = Student('박땡땡')\n",
        "id002 = Student('김땡땡')\n",
        "id003 = Student('최땡땡')"
      ],
      "execution_count": null,
      "outputs": []
    },
    {
      "cell_type": "code",
      "metadata": {
        "id": "-0IbtOHQ3r2S",
        "colab_type": "code",
        "colab": {}
      },
      "source": [
        "Student.print() "
      ],
      "execution_count": null,
      "outputs": []
    },
    {
      "cell_type": "markdown",
      "metadata": {
        "id": "E9ukjlD71Aue",
        "colab_type": "text"
      },
      "source": [
        "## 모듈_패키지"
      ]
    },
    {
      "cell_type": "markdown",
      "metadata": {
        "id": "cYOJt9Or1Gg5",
        "colab_type": "text"
      },
      "source": [
        "### 모듈\n",
        "표준 모듈"
      ]
    },
    {
      "cell_type": "code",
      "metadata": {
        "id": "yVjqPRKP1Cua",
        "colab_type": "code",
        "colab": {}
      },
      "source": [
        "import math"
      ],
      "execution_count": null,
      "outputs": []
    },
    {
      "cell_type": "code",
      "metadata": {
        "id": "vSObokX71Dg5",
        "colab_type": "code",
        "colab": {}
      },
      "source": [
        "math.pi"
      ],
      "execution_count": null,
      "outputs": []
    },
    {
      "cell_type": "code",
      "metadata": {
        "id": "xRoVgDMm1Dj5",
        "colab_type": "code",
        "colab": {}
      },
      "source": [
        "math.sin(1)"
      ],
      "execution_count": null,
      "outputs": []
    },
    {
      "cell_type": "code",
      "metadata": {
        "id": "SFPsZgKf1Dnn",
        "colab_type": "code",
        "colab": {}
      },
      "source": [
        "from math import pi, sin"
      ],
      "execution_count": null,
      "outputs": []
    },
    {
      "cell_type": "code",
      "metadata": {
        "id": "tlDn8Ju-2YNO",
        "colab_type": "code",
        "colab": {}
      },
      "source": [
        "pi"
      ],
      "execution_count": null,
      "outputs": []
    },
    {
      "cell_type": "code",
      "metadata": {
        "id": "UxDVhZWk2Y8G",
        "colab_type": "code",
        "colab": {}
      },
      "source": [
        "sin(1)"
      ],
      "execution_count": null,
      "outputs": []
    },
    {
      "cell_type": "markdown",
      "metadata": {
        "id": "Y6gw8x366kfE",
        "colab_type": "text"
      },
      "source": [
        "### 패키지"
      ]
    },
    {
      "cell_type": "code",
      "metadata": {
        "id": "GmAd5eF876tl",
        "colab_type": "code",
        "colab": {}
      },
      "source": [
        "import numpy\n",
        "x = numpy.array([10, 20])\n",
        "x"
      ],
      "execution_count": null,
      "outputs": []
    },
    {
      "cell_type": "code",
      "metadata": {
        "id": "p_dBNpjx8A_3",
        "colab_type": "code",
        "colab": {}
      },
      "source": [
        "y = numpy.linalg.det([[10, 20], [10, 20]])"
      ],
      "execution_count": null,
      "outputs": []
    },
    {
      "cell_type": "markdown",
      "metadata": {
        "id": "WJ047jr9Bs0W",
        "colab_type": "text"
      },
      "source": [
        "as"
      ]
    },
    {
      "cell_type": "code",
      "metadata": {
        "id": "Qi85RMyIBCyN",
        "colab_type": "code",
        "colab": {}
      },
      "source": [
        "import numpy as np\n",
        "arr = np.array([10, 20])"
      ],
      "execution_count": null,
      "outputs": []
    },
    {
      "cell_type": "code",
      "metadata": {
        "id": "ULAar0sWB1Dg",
        "colab_type": "code",
        "colab": {}
      },
      "source": [
        "import numpy as np\n",
        "import pandas as pd\n",
        "import matplotlib.pyplot as plt"
      ],
      "execution_count": null,
      "outputs": []
    }
  ]
}