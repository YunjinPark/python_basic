{
 "cells": [
  {
   "cell_type": "code",
   "execution_count": 0,
   "metadata": {
    "colab": {},
    "colab_type": "code",
    "id": "Uuq9sXpE14EM"
   },
   "outputs": [],
   "source": [
    "import numpy as np"
   ]
  },
  {
   "cell_type": "markdown",
   "metadata": {
    "colab_type": "text",
    "id": "1sLKRoyH1-Yo"
   },
   "source": [
    "#1\n",
    "주어진 리스트 x를 1차원의 numpy array로 바꿔보기. 데이터 타입은 np.float64 으로 지정해줄 것."
   ]
  },
  {
   "cell_type": "code",
   "execution_count": 0,
   "metadata": {
    "colab": {},
    "colab_type": "code",
    "id": "0XuJxTyN19yK"
   },
   "outputs": [],
   "source": [
    "x = [10, 200, 100, -140, -60]"
   ]
  },
  {
   "cell_type": "code",
   "execution_count": 20,
   "metadata": {
    "colab": {
     "base_uri": "https://localhost:8080/",
     "height": 34
    },
    "colab_type": "code",
    "executionInfo": {
     "elapsed": 905,
     "status": "ok",
     "timestamp": 1581850464115,
     "user": {
      "displayName": "Pp P",
      "photoUrl": "",
      "userId": "08298133653752998002"
     },
     "user_tz": -540
    },
    "id": "t7I5DKH52eE6",
    "outputId": "4d171a9f-de94-4738-ad29-546bf680c2f3"
   },
   "outputs": [
    {
     "data": {
      "text/plain": [
       "array([  10.,  200.,  100., -140.,  -60.])"
      ]
     },
     "execution_count": 20,
     "metadata": {
      "tags": []
     },
     "output_type": "execute_result"
    }
   ],
   "source": [
    "# output: array([  10.,  200.,  100., -140.,  -60.])"
   ]
  },
  {
   "cell_type": "markdown",
   "metadata": {
    "colab_type": "text",
    "id": "hRCFvJya3AWA"
   },
   "source": [
    "# 2\n",
    "가장자리만 0이고 안쪽은 전부 1인 (5,5) 매트릭스를 만들기."
   ]
  },
  {
   "cell_type": "code",
   "execution_count": 21,
   "metadata": {
    "colab": {
     "base_uri": "https://localhost:8080/",
     "height": 191
    },
    "colab_type": "code",
    "executionInfo": {
     "elapsed": 761,
     "status": "ok",
     "timestamp": 1581850483636,
     "user": {
      "displayName": "Pp P",
      "photoUrl": "",
      "userId": "08298133653752998002"
     },
     "user_tz": -540
    },
    "id": "7wBfL4JS2k9A",
    "outputId": "9b857ca5-f992-4a9a-c859-54e19110a52c"
   },
   "outputs": [
    {
     "name": "stdout",
     "output_type": "stream",
     "text": [
      "[[0. 0. 0. 0. 0.]\n",
      " [0. 1. 1. 1. 0.]\n",
      " [0. 1. 1. 1. 0.]\n",
      " [0. 1. 1. 1. 0.]\n",
      " [0. 0. 0. 0. 0.]]\n",
      "[[0. 0. 0. 0. 0.]\n",
      " [0. 1. 1. 1. 0.]\n",
      " [0. 1. 1. 1. 0.]\n",
      " [0. 1. 1. 1. 0.]\n",
      " [0. 0. 0. 0. 0.]]\n"
     ]
    }
   ],
   "source": [
    "'''\n",
    "output:\n",
    "array([[0., 0., 0., 0., 0.],\n",
    "       [0., 1., 1., 1., 0.],\n",
    "       [0., 1., 1., 1., 0.],\n",
    "       [0., 1., 1., 1., 0.],\n",
    "       [0., 0., 0., 0., 0.]])\n",
    "'''\n",
    "# 1. pad함수 없이.\n",
    "\n",
    "# 2. np.pad함수 사용\n"
   ]
  },
  {
   "cell_type": "markdown",
   "metadata": {
    "colab_type": "text",
    "id": "B48GqCTG-o4E"
   },
   "source": [
    "# 3\n",
    "주어진 매트릭스(n, m)의 i번째 로우를 n-i번째 로우로 바꿔주는 코드를 작성"
   ]
  },
  {
   "cell_type": "code",
   "execution_count": 0,
   "metadata": {
    "colab": {},
    "colab_type": "code",
    "id": "KN_V3Y3_-qlr"
   },
   "outputs": [],
   "source": [
    "x = np.array([[ 0,  1,  2,  3,  4,  5,  6],\n",
    "            [ 7,  8,  9, 10, 11, 12, 13],\n",
    "            [14, 15, 16, 17, 18, 19, 20],\n",
    "            [21, 22, 23, 24, 25, 26, 27],\n",
    "            [28, 29, 30, 31, 32, 33, 34],\n",
    "            [35, 36, 37, 38, 39, 40, 41]])"
   ]
  },
  {
   "cell_type": "code",
   "execution_count": 24,
   "metadata": {
    "colab": {
     "base_uri": "https://localhost:8080/",
     "height": 121
    },
    "colab_type": "code",
    "executionInfo": {
     "elapsed": 458,
     "status": "ok",
     "timestamp": 1581850552204,
     "user": {
      "displayName": "Pp P",
      "photoUrl": "",
      "userId": "08298133653752998002"
     },
     "user_tz": -540
    },
    "id": "KbzgNSWvArWU",
    "outputId": "70deaacc-f027-4ba7-ed3f-b1b414895d02"
   },
   "outputs": [
    {
     "data": {
      "text/plain": [
       "array([[35, 36, 37, 38, 39, 40, 41],\n",
       "       [28, 29, 30, 31, 32, 33, 34],\n",
       "       [21, 22, 23, 24, 25, 26, 27],\n",
       "       [14, 15, 16, 17, 18, 19, 20],\n",
       "       [ 7,  8,  9, 10, 11, 12, 13],\n",
       "       [ 0,  1,  2,  3,  4,  5,  6]])"
      ]
     },
     "execution_count": 24,
     "metadata": {
      "tags": []
     },
     "output_type": "execute_result"
    }
   ],
   "source": [
    "'''\n",
    "output:\n",
    "array([[35, 36, 37, 38, 39, 40, 41],\n",
    "       [28, 29, 30, 31, 32, 33, 34],\n",
    "       [21, 22, 23, 24, 25, 26, 27],\n",
    "       [14, 15, 16, 17, 18, 19, 20],\n",
    "       [ 7,  8,  9, 10, 11, 12, 13],\n",
    "       [ 0,  1,  2,  3,  4,  5,  6]])\n",
    "'''"
   ]
  },
  {
   "cell_type": "markdown",
   "metadata": {
    "colab_type": "text",
    "id": "TTtBahl--q1C"
   },
   "source": [
    "# 4\n",
    "주어진 배열에서 3의 배수이고, 50 보다 작거나 같은 원소만 추출."
   ]
  },
  {
   "cell_type": "code",
   "execution_count": 0,
   "metadata": {
    "colab": {},
    "colab_type": "code",
    "id": "lfpIMYWb-roA"
   },
   "outputs": [],
   "source": [
    "x = np.array([46, 30, 11, 65, 64, 14, 61, 54, 62,  3,  8, 27, 33, 84,  9, 54, 56,\n",
    "       54, 64, 26, 83, 16, 99, 24,  3, 29, 55, 90, 90, 42])"
   ]
  },
  {
   "cell_type": "code",
   "execution_count": 26,
   "metadata": {
    "colab": {
     "base_uri": "https://localhost:8080/",
     "height": 34
    },
    "colab_type": "code",
    "executionInfo": {
     "elapsed": 613,
     "status": "ok",
     "timestamp": 1581850567586,
     "user": {
      "displayName": "Pp P",
      "photoUrl": "",
      "userId": "08298133653752998002"
     },
     "user_tz": -540
    },
    "id": "dEKeTiJ9CF1C",
    "outputId": "df14e0ef-fb91-403f-d7a6-65fa386d071a"
   },
   "outputs": [
    {
     "data": {
      "text/plain": [
       "array([30,  3, 27, 33,  9, 24,  3, 42])"
      ]
     },
     "execution_count": 26,
     "metadata": {
      "tags": []
     },
     "output_type": "execute_result"
    }
   ],
   "source": [
    "# output: array([30,  3, 27, 33,  9, 24,  3, 42])"
   ]
  },
  {
   "cell_type": "markdown",
   "metadata": {
    "colab_type": "text",
    "id": "COEJQLZp-r5g"
   },
   "source": [
    "# 5\n",
    "주어진 배열의 차원, shape, 원소 개수를 구하기."
   ]
  },
  {
   "cell_type": "code",
   "execution_count": 0,
   "metadata": {
    "colab": {},
    "colab_type": "code",
    "id": "4I2DfQ1_-tIS"
   },
   "outputs": [],
   "source": [
    "x = np.array([[[[5, 1, 2, 5, 7, 4, 2, 0, 4, 1, 7],\n",
    "                [4, 3, 7, 6, 3, 1, 7, 8, 8, 0, 7]],\n",
    "                [[9, 6, 0, 7, 4, 3, 4, 2, 2, 6, 8],\n",
    "                [4, 2, 3, 5, 0, 5, 0, 9, 6, 5, 1]],\n",
    "                [[2, 3, 4, 2, 4, 3, 9, 5, 8, 4, 6],\n",
    "                [8, 0, 9, 8, 2, 7, 8, 2, 0, 0, 9]],\n",
    "                [[4, 7, 0, 9, 8, 2, 5, 4, 1, 0, 5],\n",
    "                [7, 0, 5, 3, 5, 9, 1, 2, 2, 5, 2]]],\n",
    "            [[[0, 0, 0, 1, 3, 7, 1, 2, 5, 1, 4],\n",
    "                [7, 3, 2, 8, 2, 2, 8, 6, 3, 8, 0]],\n",
    "                [[6, 7, 9, 2, 1, 5, 1, 2, 7, 1, 6],\n",
    "                [6, 1, 9, 7, 6, 3, 1, 3, 2, 8, 8]],\n",
    "                [[1, 8, 2, 1, 1, 2, 8, 2, 1, 5, 3],\n",
    "                [6, 7, 4, 2, 8, 4, 1, 2, 5, 2, 0]],\n",
    "                [[6, 1, 6, 9, 7, 8, 8, 6, 6, 0, 1],\n",
    "                [9, 2, 7, 3, 9, 6, 0, 4, 6, 3, 3]]]])"
   ]
  },
  {
   "cell_type": "code",
   "execution_count": 30,
   "metadata": {
    "colab": {
     "base_uri": "https://localhost:8080/",
     "height": 69
    },
    "colab_type": "code",
    "executionInfo": {
     "elapsed": 704,
     "status": "ok",
     "timestamp": 1581850596966,
     "user": {
      "displayName": "Pp P",
      "photoUrl": "",
      "userId": "08298133653752998002"
     },
     "user_tz": -540
    },
    "id": "2f_LOd0mD4Tk",
    "outputId": "27950065-39f6-45e2-c595-312a4f7f11dc"
   },
   "outputs": [
    {
     "name": "stdout",
     "output_type": "stream",
     "text": [
      "x의 dimension: 4\n",
      "x의 shape: (2, 4, 2, 11)\n",
      "x의 size: 176\n"
     ]
    }
   ],
   "source": [
    "'''\n",
    "output:\n",
    "x의 dimension: 4\n",
    "x의 shape: (2, 4, 2, 11)\n",
    "x의 size: 176\n",
    "'''"
   ]
  },
  {
   "cell_type": "markdown",
   "metadata": {
    "colab_type": "text",
    "id": "AGYb3SMy-tbz"
   },
   "source": [
    "# 6\n",
    "주어진 배열 x와 같은 shape을 가지고, 원소는 모두 4인 배열 구하기"
   ]
  },
  {
   "cell_type": "code",
   "execution_count": 0,
   "metadata": {
    "colab": {},
    "colab_type": "code",
    "id": "8lRMCbe2-uu3"
   },
   "outputs": [],
   "source": [
    "x = np.array([[[0.55769089, 0.23299233, 0.18249755, 0.9732918 , 0.02106981],\n",
    "                        [0.23723868, 0.88100977, 0.11237681, 0.54849432, 0.14166628]],\n",
    "                    [[0.40571156, 0.86052991, 0.08693893, 0.87787536, 0.22658562],\n",
    "                        [0.28312625, 0.86719966, 0.04834027, 0.3603239 , 0.11649041]],\n",
    "                    [[0.0101401 , 0.32296365, 0.41904702, 0.87439744, 0.90868535],\n",
    "                        [0.04083139, 0.41187572, 0.55659584, 0.08919614, 0.59739324]]])"
   ]
  },
  {
   "cell_type": "code",
   "execution_count": 32,
   "metadata": {
    "colab": {
     "base_uri": "https://localhost:8080/",
     "height": 156
    },
    "colab_type": "code",
    "executionInfo": {
     "elapsed": 441,
     "status": "ok",
     "timestamp": 1581850608237,
     "user": {
      "displayName": "Pp P",
      "photoUrl": "",
      "userId": "08298133653752998002"
     },
     "user_tz": -540
    },
    "id": "BdDfkFQvFZcf",
    "outputId": "6b25dbb1-d62d-46be-dd20-964dd10b0450"
   },
   "outputs": [
    {
     "data": {
      "text/plain": [
       "array([[[4., 4., 4., 4., 4.],\n",
       "        [4., 4., 4., 4., 4.]],\n",
       "\n",
       "       [[4., 4., 4., 4., 4.],\n",
       "        [4., 4., 4., 4., 4.]],\n",
       "\n",
       "       [[4., 4., 4., 4., 4.],\n",
       "        [4., 4., 4., 4., 4.]]])"
      ]
     },
     "execution_count": 32,
     "metadata": {
      "tags": []
     },
     "output_type": "execute_result"
    }
   ],
   "source": [
    "'''\n",
    "output:\n",
    "array([[[4., 4., 4., 4., 4.],\n",
    "        [4., 4., 4., 4., 4.]],\n",
    "\n",
    "       [[4., 4., 4., 4., 4.],\n",
    "        [4., 4., 4., 4., 4.]],\n",
    "\n",
    "       [[4., 4., 4., 4., 4.],\n",
    "        [4., 4., 4., 4., 4.]]])\n",
    "'''"
   ]
  },
  {
   "cell_type": "markdown",
   "metadata": {
    "colab_type": "text",
    "id": "XBeTQXhM-wUh"
   },
   "source": [
    "# 7\n",
    "-10에서 30 사이의 정수 중 랜덤하게 6개를 샘플링."
   ]
  },
  {
   "cell_type": "code",
   "execution_count": 33,
   "metadata": {
    "colab": {
     "base_uri": "https://localhost:8080/",
     "height": 34
    },
    "colab_type": "code",
    "executionInfo": {
     "elapsed": 655,
     "status": "ok",
     "timestamp": 1581850621452,
     "user": {
      "displayName": "Pp P",
      "photoUrl": "",
      "userId": "08298133653752998002"
     },
     "user_tz": -540
    },
    "id": "FOUxUILD-x5o",
    "outputId": "485671e8-e5d4-4674-9416-b8356988c512"
   },
   "outputs": [
    {
     "data": {
      "text/plain": [
       "array([-8, 18, 24, 28,  7,  9])"
      ]
     },
     "execution_count": 33,
     "metadata": {
      "tags": []
     },
     "output_type": "execute_result"
    }
   ],
   "source": [
    "np.random.seed(123)\n",
    "# output: array([-8, 18, 24, 28,  7,  9])"
   ]
  },
  {
   "cell_type": "markdown",
   "metadata": {
    "colab_type": "text",
    "id": "JLBNyJ_eGBZf"
   },
   "source": [
    "# 8\n",
    "주어진 배열을 랜덤하게 섞어보기"
   ]
  },
  {
   "cell_type": "code",
   "execution_count": 0,
   "metadata": {
    "colab": {},
    "colab_type": "code",
    "id": "5xdHXpb3GC7x"
   },
   "outputs": [],
   "source": [
    "x = np.arange(30)"
   ]
  },
  {
   "cell_type": "code",
   "execution_count": 41,
   "metadata": {
    "colab": {
     "base_uri": "https://localhost:8080/",
     "height": 52
    },
    "colab_type": "code",
    "executionInfo": {
     "elapsed": 753,
     "status": "ok",
     "timestamp": 1581850684542,
     "user": {
      "displayName": "Pp P",
      "photoUrl": "",
      "userId": "08298133653752998002"
     },
     "user_tz": -540
    },
    "id": "yIl6OaapIBSa",
    "outputId": "0f97dc7f-c55f-4efd-9dc7-51231efb9811"
   },
   "outputs": [
    {
     "name": "stdout",
     "output_type": "stream",
     "text": [
      "[26  8 10 15  9 16 14 29 18  4 25  3  5  0 11 21 12 20 17  6  2 23 19 13\n",
      " 28 22 27 24  1  7]\n"
     ]
    }
   ],
   "source": [
    "# 셔플 된 형태 (랜덤함)"
   ]
  },
  {
   "cell_type": "markdown",
   "metadata": {
    "colab_type": "text",
    "id": "bc9uQn5wGDQN"
   },
   "source": [
    "# 9\n",
    "다음 배열의 (0, 4) 원소의 값은?"
   ]
  },
  {
   "cell_type": "code",
   "execution_count": 0,
   "metadata": {
    "colab": {},
    "colab_type": "code",
    "id": "XzUCRuTZGEfd"
   },
   "outputs": [],
   "source": [
    "arr = np.array([[0.24729279, 0.15149773, 0.23264993, 0.57789104, 0.4754031 ,\n",
    "                0.29082174, 0.65636695, 0.72398085, 0.12575465, 0.77784599],\n",
    "            [0.66500578, 0.04162141, 0.94433265, 0.34871354, 0.8935809 ,\n",
    "                0.75310631, 0.62090814, 0.45782245, 0.79072654, 0.26589272],\n",
    "            [0.4236849 , 0.24108758, 0.15393337, 0.47541068, 0.38291606,\n",
    "                0.85558059, 0.37261941, 0.69719457, 0.91373938, 0.36068192],\n",
    "            [0.83447814, 0.2758488 , 0.97392625, 0.02931075, 0.09624108,\n",
    "                0.82089376, 0.4507533 , 0.28030167, 0.55391228, 0.92006303],\n",
    "            [0.86338432, 0.50512356, 0.90668294, 0.868307  , 0.13476902,\n",
    "                0.16586259, 0.89588933, 0.45413397, 0.61715948, 0.17279922]])"
   ]
  },
  {
   "cell_type": "code",
   "execution_count": 42,
   "metadata": {
    "colab": {
     "base_uri": "https://localhost:8080/",
     "height": 34
    },
    "colab_type": "code",
    "executionInfo": {
     "elapsed": 760,
     "status": "ok",
     "timestamp": 1581850697788,
     "user": {
      "displayName": "Pp P",
      "photoUrl": "",
      "userId": "08298133653752998002"
     },
     "user_tz": -540
    },
    "id": "0fTo9oySLUq4",
    "outputId": "53ffc139-1e73-4330-b97a-e4d9403a5c72"
   },
   "outputs": [
    {
     "data": {
      "text/plain": [
       "0.4754031"
      ]
     },
     "execution_count": 42,
     "metadata": {
      "tags": []
     },
     "output_type": "execute_result"
    }
   ],
   "source": [
    "# output: 0.4754031"
   ]
  },
  {
   "cell_type": "markdown",
   "metadata": {
    "colab_type": "text",
    "id": "yLvkOpAZGFGR"
   },
   "source": [
    "# 10\n",
    "다음 매트릭스(n, m)의 컬럼의 위치를 변경해보기  \n",
    "0 -> 5  \n",
    "1 -> 0  \n",
    "2 -> 3  \n",
    "3 -> 4  \n",
    "4 -> 2  \n",
    "5 -> 1  "
   ]
  },
  {
   "cell_type": "code",
   "execution_count": 0,
   "metadata": {
    "colab": {},
    "colab_type": "code",
    "id": "HGlrGxaKGGRk"
   },
   "outputs": [],
   "source": [
    "arr = np.array([[0, 1, 2, 3, 4, 5],\n",
    "                [6, 7, 8, 9, 10, 11]])"
   ]
  },
  {
   "cell_type": "code",
   "execution_count": 44,
   "metadata": {
    "colab": {
     "base_uri": "https://localhost:8080/",
     "height": 52
    },
    "colab_type": "code",
    "executionInfo": {
     "elapsed": 696,
     "status": "ok",
     "timestamp": 1581850710983,
     "user": {
      "displayName": "Pp P",
      "photoUrl": "",
      "userId": "08298133653752998002"
     },
     "user_tz": -540
    },
    "id": "aEKEwTjtQCjH",
    "outputId": "0ee23268-ef71-4651-d451-6aa401267e2d"
   },
   "outputs": [
    {
     "data": {
      "text/plain": [
       "array([[ 1,  5,  4,  2,  3,  0],\n",
       "       [ 7, 11, 10,  8,  9,  6]])"
      ]
     },
     "execution_count": 44,
     "metadata": {
      "tags": []
     },
     "output_type": "execute_result"
    }
   ],
   "source": [
    "'''\n",
    "output:\n",
    "array([[ 1,  5,  4,  2,  3,  0],\n",
    "       [ 7, 11, 10,  8,  9,  6]])\n",
    "'''"
   ]
  },
  {
   "cell_type": "markdown",
   "metadata": {
    "colab_type": "text",
    "id": "aXM-633VGGiE"
   },
   "source": [
    "# 11\n",
    "-1에서 1사이에서 균일한 간격의 점 15개로 구성된 배열을 만들기"
   ]
  },
  {
   "cell_type": "code",
   "execution_count": 45,
   "metadata": {
    "colab": {
     "base_uri": "https://localhost:8080/",
     "height": 69
    },
    "colab_type": "code",
    "executionInfo": {
     "elapsed": 700,
     "status": "ok",
     "timestamp": 1581850739674,
     "user": {
      "displayName": "Pp P",
      "photoUrl": "",
      "userId": "08298133653752998002"
     },
     "user_tz": -540
    },
    "id": "p1gZrCWMGHRH",
    "outputId": "8aac5818-8917-4820-a26b-0aaf5bbfeb8c"
   },
   "outputs": [
    {
     "data": {
      "text/plain": [
       "array([-1.        , -0.85714286, -0.71428571, -0.57142857, -0.42857143,\n",
       "       -0.28571429, -0.14285714,  0.        ,  0.14285714,  0.28571429,\n",
       "        0.42857143,  0.57142857,  0.71428571,  0.85714286,  1.        ])"
      ]
     },
     "execution_count": 45,
     "metadata": {
      "tags": []
     },
     "output_type": "execute_result"
    }
   ],
   "source": [
    "'''\n",
    "output:\n",
    "array([-1.        , -0.85714286, -0.71428571, -0.57142857, -0.42857143,\n",
    "       -0.28571429, -0.14285714,  0.        ,  0.14285714,  0.28571429,\n",
    "        0.42857143,  0.57142857,  0.71428571,  0.85714286,  1.        ])\n",
    "'''"
   ]
  },
  {
   "cell_type": "markdown",
   "metadata": {
    "colab_type": "text",
    "id": "y8zoA07jIvCF"
   },
   "source": [
    "# 12\n",
    "(4, 4) identity 매트릭스 만들기"
   ]
  },
  {
   "cell_type": "code",
   "execution_count": 46,
   "metadata": {
    "colab": {
     "base_uri": "https://localhost:8080/",
     "height": 86
    },
    "colab_type": "code",
    "executionInfo": {
     "elapsed": 750,
     "status": "ok",
     "timestamp": 1581850749510,
     "user": {
      "displayName": "Pp P",
      "photoUrl": "",
      "userId": "08298133653752998002"
     },
     "user_tz": -540
    },
    "id": "gus3-VfKIuJv",
    "outputId": "eb23cad5-d3e0-4398-e884-aa71c308101c"
   },
   "outputs": [
    {
     "data": {
      "text/plain": [
       "array([[1., 0., 0., 0.],\n",
       "       [0., 1., 0., 0.],\n",
       "       [0., 0., 1., 0.],\n",
       "       [0., 0., 0., 1.]])"
      ]
     },
     "execution_count": 46,
     "metadata": {
      "tags": []
     },
     "output_type": "execute_result"
    }
   ],
   "source": [
    "'''\n",
    "output:\n",
    "array([[1., 0., 0., 0.],\n",
    "       [0., 1., 0., 0.],\n",
    "       [0., 0., 1., 0.],\n",
    "       [0., 0., 0., 1.]])\n",
    "'''"
   ]
  },
  {
   "cell_type": "markdown",
   "metadata": {
    "colab_type": "text",
    "id": "RpoBmaZUIz6P"
   },
   "source": [
    "# 13\n",
    "주어진 배열의 원소 사이사이에 100을 3번 넣어주어 새로운 배열 반환"
   ]
  },
  {
   "cell_type": "code",
   "execution_count": 0,
   "metadata": {
    "colab": {},
    "colab_type": "code",
    "id": "ALwCVfo8TNhb"
   },
   "outputs": [],
   "source": [
    "arr = np.array([71, 73, 90, 91, 61, 43, 41, 86, 14])"
   ]
  },
  {
   "cell_type": "code",
   "execution_count": 48,
   "metadata": {
    "colab": {
     "base_uri": "https://localhost:8080/",
     "height": 69
    },
    "colab_type": "code",
    "executionInfo": {
     "elapsed": 546,
     "status": "ok",
     "timestamp": 1581850788730,
     "user": {
      "displayName": "Pp P",
      "photoUrl": "",
      "userId": "08298133653752998002"
     },
     "user_tz": -540
    },
    "id": "3poVCWTvI03q",
    "outputId": "67657c8c-fc2a-4bcd-e2c8-d86362ad4cde"
   },
   "outputs": [
    {
     "data": {
      "text/plain": [
       "array([ 71., 100., 100., 100.,  73., 100., 100., 100.,  90., 100., 100.,\n",
       "       100.,  91., 100., 100., 100.,  61., 100., 100., 100.,  43., 100.,\n",
       "       100., 100.,  41., 100., 100., 100.,  86., 100., 100., 100.,  14.])"
      ]
     },
     "execution_count": 48,
     "metadata": {
      "tags": []
     },
     "output_type": "execute_result"
    }
   ],
   "source": [
    "'''\n",
    "output:\n",
    "array([ 71., 100., 100., 100.,  73., 100., 100., 100.,  90., 100., 100.,\n",
    "       100.,  91., 100., 100., 100.,  61., 100., 100., 100.,  43., 100.,\n",
    "       100., 100.,  41., 100., 100., 100.,  86., 100., 100., 100.,  14.])\n",
    "'''"
   ]
  },
  {
   "cell_type": "markdown",
   "metadata": {
    "colab_type": "text",
    "id": "otM6rWlmI1Mc"
   },
   "source": [
    "# 14\n",
    "주어진 배열의 index가 0, 4, 5, 9, 12, 22 인 원소들의 값으로만 이루어진 새로운 배열 반환."
   ]
  },
  {
   "cell_type": "code",
   "execution_count": 0,
   "metadata": {
    "colab": {},
    "colab_type": "code",
    "id": "tq9qFfjiI13K"
   },
   "outputs": [],
   "source": [
    "arr = np.array([4.837, 9.343, 5.621, 5.248, 4.597, 7.275, 1.878, 7.989, 8.169,\n",
    "                5.78 , 5.35 , 9.075, 1.931, 1.825, 7.463, 3.791, 1.466, 4.441,\n",
    "                9.785, 7.863, 9.53 , 2.804, 6.322, 4.314, 6.169])"
   ]
  },
  {
   "cell_type": "code",
   "execution_count": 50,
   "metadata": {
    "colab": {
     "base_uri": "https://localhost:8080/",
     "height": 34
    },
    "colab_type": "code",
    "executionInfo": {
     "elapsed": 827,
     "status": "ok",
     "timestamp": 1581850808896,
     "user": {
      "displayName": "Pp P",
      "photoUrl": "",
      "userId": "08298133653752998002"
     },
     "user_tz": -540
    },
    "id": "u8RJPFIxjEW4",
    "outputId": "1090d58a-89f1-4f06-e158-504ce165c1f0"
   },
   "outputs": [
    {
     "data": {
      "text/plain": [
       "array([4.837, 4.597, 7.275, 5.78 , 1.931, 6.322])"
      ]
     },
     "execution_count": 50,
     "metadata": {
      "tags": []
     },
     "output_type": "execute_result"
    }
   ],
   "source": [
    "# output: array([4.837, 4.597, 7.275, 5.78 , 1.931, 6.322])\n"
   ]
  },
  {
   "cell_type": "code",
   "execution_count": 0,
   "metadata": {
    "colab": {},
    "colab_type": "code",
    "id": "fvUFgJsij603"
   },
   "outputs": [],
   "source": []
  }
 ],
 "metadata": {
  "colab": {
   "authorship_tag": "ABX9TyMfwaDtesj/xZqFpdRjj7iV",
   "collapsed_sections": [],
   "name": "Numpy-quiz-array.ipynb",
   "provenance": []
  },
  "kernelspec": {
   "display_name": "Python 3",
   "language": "python",
   "name": "python3"
  },
  "language_info": {
   "codemirror_mode": {
    "name": "ipython",
    "version": 3
   },
   "file_extension": ".py",
   "mimetype": "text/x-python",
   "name": "python",
   "nbconvert_exporter": "python",
   "pygments_lexer": "ipython3",
   "version": "3.6.9"
  }
 },
 "nbformat": 4,
 "nbformat_minor": 1
}
