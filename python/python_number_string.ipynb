{
  "nbformat": 4,
  "nbformat_minor": 0,
  "metadata": {
    "colab": {
      "name": "python_number_string.ipynb",
      "provenance": [],
      "collapsed_sections": []
    },
    "kernelspec": {
      "name": "python3",
      "display_name": "Python 3"
    }
  },
  "cells": [
    {
      "cell_type": "markdown",
      "metadata": {
        "id": "RalhxRTsRZCz",
        "colab_type": "text"
      },
      "source": [
        "# 목차\n",
        "1. [변수](#Variable)  \n",
        "2. [숫자](#숫자)  \n",
        "[퀴즈](#퀴즈-숫자)  \n",
        "[퀴즈 정답](#퀴즈정답-숫자)  \n",
        "3. [문자열](#문자열)  \n",
        "[퀴즈](#퀴즈-문자열)  \n",
        "[퀴즈 정답](#퀴즈정답-문자열)  \n",
        "4. [불](#불)  \n",
        "\n",
        "5. [참고](#Appendix)"
      ]
    },
    {
      "cell_type": "markdown",
      "metadata": {
        "id": "sT1jxjqynvy_",
        "colab_type": "text"
      },
      "source": [
        "# Variable\n"
      ]
    },
    {
      "cell_type": "code",
      "metadata": {
        "id": "eK85mcbPnoud",
        "colab_type": "code",
        "colab": {}
      },
      "source": [
        "a = 1\n",
        "b = 2"
      ],
      "execution_count": null,
      "outputs": []
    },
    {
      "cell_type": "code",
      "metadata": {
        "id": "LMAB1QbAO5eB",
        "colab_type": "code",
        "colab": {}
      },
      "source": [
        "a"
      ],
      "execution_count": null,
      "outputs": []
    },
    {
      "cell_type": "code",
      "metadata": {
        "id": "hu-xv9BwO8Dk",
        "colab_type": "code",
        "colab": {}
      },
      "source": [
        "b"
      ],
      "execution_count": null,
      "outputs": []
    },
    {
      "cell_type": "code",
      "metadata": {
        "id": "HX1YOKwaV8Rr",
        "colab_type": "code",
        "colab": {}
      },
      "source": [
        "c   #error"
      ],
      "execution_count": null,
      "outputs": []
    },
    {
      "cell_type": "code",
      "metadata": {
        "id": "Tzp-QrjxnvFo",
        "colab_type": "code",
        "colab": {}
      },
      "source": [
        "c = a + b\n",
        "c"
      ],
      "execution_count": null,
      "outputs": []
    },
    {
      "cell_type": "code",
      "metadata": {
        "id": "ZnvuPJAFPCU3",
        "colab_type": "code",
        "colab": {}
      },
      "source": [
        "x = 10\n",
        "x = x + 20\n",
        "x"
      ],
      "execution_count": null,
      "outputs": []
    },
    {
      "cell_type": "code",
      "metadata": {
        "id": "FomTWl7NUZcL",
        "colab_type": "code",
        "colab": {}
      },
      "source": [
        "s = 100\n",
        "s = s + s\n",
        "s"
      ],
      "execution_count": null,
      "outputs": []
    },
    {
      "cell_type": "markdown",
      "metadata": {
        "id": "mfkkjqbY5rQu",
        "colab_type": "text"
      },
      "source": [
        "# Data Structures\n"
      ]
    },
    {
      "cell_type": "markdown",
      "metadata": {
        "id": "rg0dbPiYZumZ",
        "colab_type": "text"
      },
      "source": [
        "## 숫자"
      ]
    },
    {
      "cell_type": "markdown",
      "metadata": {
        "id": "Vb_F2fqwac02",
        "colab_type": "text"
      },
      "source": [
        "### 정수"
      ]
    },
    {
      "cell_type": "code",
      "metadata": {
        "id": "Gbz5TltHa1_G",
        "colab_type": "code",
        "colab": {}
      },
      "source": [
        "0"
      ],
      "execution_count": null,
      "outputs": []
    },
    {
      "cell_type": "code",
      "metadata": {
        "id": "VF0-Yv02bcXK",
        "colab_type": "code",
        "colab": {}
      },
      "source": [
        "type(0)"
      ],
      "execution_count": null,
      "outputs": []
    },
    {
      "cell_type": "code",
      "metadata": {
        "id": "9OM4Fb4sZuFO",
        "colab_type": "code",
        "colab": {}
      },
      "source": [
        "10"
      ],
      "execution_count": null,
      "outputs": []
    },
    {
      "cell_type": "code",
      "metadata": {
        "id": "7zXzUlM6Z6nT",
        "colab_type": "code",
        "colab": {}
      },
      "source": [
        "type(10)"
      ],
      "execution_count": null,
      "outputs": []
    },
    {
      "cell_type": "code",
      "metadata": {
        "id": "XMCfgq3X5sTe",
        "colab_type": "code",
        "colab": {}
      },
      "source": [
        "-10"
      ],
      "execution_count": null,
      "outputs": []
    },
    {
      "cell_type": "code",
      "metadata": {
        "id": "Iv-h22hVZ6qm",
        "colab_type": "code",
        "colab": {}
      },
      "source": [
        "type(-10)"
      ],
      "execution_count": null,
      "outputs": []
    },
    {
      "cell_type": "markdown",
      "metadata": {
        "id": "7fx7TXBdbTbt",
        "colab_type": "text"
      },
      "source": [
        "### 실수"
      ]
    },
    {
      "cell_type": "code",
      "metadata": {
        "id": "_hPlObl3Z6ww",
        "colab_type": "code",
        "colab": {}
      },
      "source": [
        "0.0"
      ],
      "execution_count": null,
      "outputs": []
    },
    {
      "cell_type": "code",
      "metadata": {
        "id": "CD5Q4Jdg5sX5",
        "colab_type": "code",
        "colab": {}
      },
      "source": [
        "type(0.0)"
      ],
      "execution_count": null,
      "outputs": []
    },
    {
      "cell_type": "code",
      "metadata": {
        "id": "YXSsD6PDZ6z8",
        "colab_type": "code",
        "colab": {}
      },
      "source": [
        "10.0"
      ],
      "execution_count": null,
      "outputs": []
    },
    {
      "cell_type": "code",
      "metadata": {
        "id": "JUR2mfK9bfOh",
        "colab_type": "code",
        "colab": {}
      },
      "source": [
        "type(10.0)"
      ],
      "execution_count": null,
      "outputs": []
    },
    {
      "cell_type": "code",
      "metadata": {
        "id": "3Pl66F_PZ63S",
        "colab_type": "code",
        "colab": {}
      },
      "source": [
        "-10.0"
      ],
      "execution_count": null,
      "outputs": []
    },
    {
      "cell_type": "code",
      "metadata": {
        "id": "Jqjph7NdbjLT",
        "colab_type": "code",
        "colab": {}
      },
      "source": [
        "type(-10.0)"
      ],
      "execution_count": null,
      "outputs": []
    },
    {
      "cell_type": "code",
      "metadata": {
        "id": "ekUAPQY1b0_2",
        "colab_type": "code",
        "colab": {}
      },
      "source": [
        "1.23456"
      ],
      "execution_count": null,
      "outputs": []
    },
    {
      "cell_type": "code",
      "metadata": {
        "id": "AcYZ0UYab1xR",
        "colab_type": "code",
        "colab": {}
      },
      "source": [
        "type(1.23456)"
      ],
      "execution_count": null,
      "outputs": []
    },
    {
      "cell_type": "markdown",
      "metadata": {
        "id": "4qY0Qc0ffr3u",
        "colab_type": "text"
      },
      "source": [
        "### 형변환"
      ]
    },
    {
      "cell_type": "code",
      "metadata": {
        "id": "Kb_ToziMfuJF",
        "colab_type": "code",
        "colab": {}
      },
      "source": [
        "int(10.123)"
      ],
      "execution_count": null,
      "outputs": []
    },
    {
      "cell_type": "code",
      "metadata": {
        "id": "e21zSCxIPWQQ",
        "colab_type": "code",
        "colab": {}
      },
      "source": [
        "type(int(10.123))"
      ],
      "execution_count": null,
      "outputs": []
    },
    {
      "cell_type": "code",
      "metadata": {
        "id": "lkl9_pHAfuMc",
        "colab_type": "code",
        "colab": {}
      },
      "source": [
        "float(10)"
      ],
      "execution_count": null,
      "outputs": []
    },
    {
      "cell_type": "code",
      "metadata": {
        "id": "qeChZIgoPbAq",
        "colab_type": "code",
        "colab": {}
      },
      "source": [
        "type(float(10))"
      ],
      "execution_count": null,
      "outputs": []
    },
    {
      "cell_type": "code",
      "metadata": {
        "id": "gY9sLvowyYaC",
        "colab_type": "code",
        "colab": {}
      },
      "source": [
        "int(10.0)"
      ],
      "execution_count": null,
      "outputs": []
    },
    {
      "cell_type": "code",
      "metadata": {
        "id": "z5pd4ZkSPeUA",
        "colab_type": "code",
        "colab": {}
      },
      "source": [
        "type(int(10.0))"
      ],
      "execution_count": null,
      "outputs": []
    },
    {
      "cell_type": "markdown",
      "metadata": {
        "id": "77apppBobqui",
        "colab_type": "text"
      },
      "source": [
        "### 연산자"
      ]
    },
    {
      "cell_type": "markdown",
      "metadata": {
        "id": "XawpaeXV0yEl",
        "colab_type": "text"
      },
      "source": [
        "#### 덧셈 연산자 +"
      ]
    },
    {
      "cell_type": "code",
      "metadata": {
        "id": "_cuNBttF5sd4",
        "colab_type": "code",
        "colab": {}
      },
      "source": [
        "3 + 5"
      ],
      "execution_count": null,
      "outputs": []
    },
    {
      "cell_type": "code",
      "metadata": {
        "id": "Hyw7wJ0gPjcf",
        "colab_type": "code",
        "colab": {}
      },
      "source": [
        "-10 + 1"
      ],
      "execution_count": null,
      "outputs": []
    },
    {
      "cell_type": "code",
      "metadata": {
        "id": "Xc1wLRta5VyB",
        "colab_type": "code",
        "colab": {}
      },
      "source": [
        "3.0 + 5"
      ],
      "execution_count": null,
      "outputs": []
    },
    {
      "cell_type": "code",
      "metadata": {
        "id": "AYDzEdsCPnRM",
        "colab_type": "code",
        "colab": {}
      },
      "source": [
        "-10.0 + 1"
      ],
      "execution_count": null,
      "outputs": []
    },
    {
      "cell_type": "markdown",
      "metadata": {
        "id": "xdZ8pvbq03W2",
        "colab_type": "text"
      },
      "source": [
        "#### 뺄셈 연산자 -"
      ]
    },
    {
      "cell_type": "code",
      "metadata": {
        "id": "sCZvnUjCcMIh",
        "colab_type": "code",
        "colab": {}
      },
      "source": [
        "3 - 5"
      ],
      "execution_count": null,
      "outputs": []
    },
    {
      "cell_type": "code",
      "metadata": {
        "id": "YcQH96CccMQE",
        "colab_type": "code",
        "colab": {}
      },
      "source": [
        "3 - 5.0"
      ],
      "execution_count": null,
      "outputs": []
    },
    {
      "cell_type": "code",
      "metadata": {
        "id": "ffVtjNe-SKdT",
        "colab_type": "code",
        "colab": {}
      },
      "source": [
        "10 - 10"
      ],
      "execution_count": null,
      "outputs": []
    },
    {
      "cell_type": "code",
      "metadata": {
        "id": "nPLDy5DuSKjy",
        "colab_type": "code",
        "colab": {}
      },
      "source": [
        "10.0 - 0"
      ],
      "execution_count": null,
      "outputs": []
    },
    {
      "cell_type": "markdown",
      "metadata": {
        "id": "hx2VBODI07Ga",
        "colab_type": "text"
      },
      "source": [
        "#### 곱셈 연산자 *"
      ]
    },
    {
      "cell_type": "code",
      "metadata": {
        "id": "wkTYNpQZcMTb",
        "colab_type": "code",
        "colab": {}
      },
      "source": [
        "3*5"
      ],
      "execution_count": null,
      "outputs": []
    },
    {
      "cell_type": "code",
      "metadata": {
        "id": "VA-YoYNLcMWn",
        "colab_type": "code",
        "colab": {}
      },
      "source": [
        "3.0*5"
      ],
      "execution_count": null,
      "outputs": []
    },
    {
      "cell_type": "code",
      "metadata": {
        "id": "H48aiBrASRdM",
        "colab_type": "code",
        "colab": {}
      },
      "source": [
        "-100*10"
      ],
      "execution_count": null,
      "outputs": []
    },
    {
      "cell_type": "code",
      "metadata": {
        "id": "SWti4quYSUpm",
        "colab_type": "code",
        "colab": {}
      },
      "source": [
        "-100*-10"
      ],
      "execution_count": null,
      "outputs": []
    },
    {
      "cell_type": "markdown",
      "metadata": {
        "id": "KgPC1gkK0-6N",
        "colab_type": "text"
      },
      "source": [
        "#### 나눗셈 연산자 /"
      ]
    },
    {
      "cell_type": "code",
      "metadata": {
        "id": "oe6OZrmAcj_w",
        "colab_type": "code",
        "colab": {}
      },
      "source": [
        "10/3"
      ],
      "execution_count": null,
      "outputs": []
    },
    {
      "cell_type": "code",
      "metadata": {
        "id": "7SALEBb5df-o",
        "colab_type": "code",
        "colab": {}
      },
      "source": [
        "9/3"
      ],
      "execution_count": null,
      "outputs": []
    },
    {
      "cell_type": "code",
      "metadata": {
        "id": "TPI9gTnS1IFf",
        "colab_type": "code",
        "colab": {}
      },
      "source": [
        "9.0/3"
      ],
      "execution_count": null,
      "outputs": []
    },
    {
      "cell_type": "code",
      "metadata": {
        "id": "u4lb6wwhUN3v",
        "colab_type": "code",
        "colab": {}
      },
      "source": [
        "10/3"
      ],
      "execution_count": null,
      "outputs": []
    },
    {
      "cell_type": "code",
      "metadata": {
        "id": "MN6yTOeZShw7",
        "colab_type": "code",
        "colab": {}
      },
      "source": [
        "-10/3"
      ],
      "execution_count": null,
      "outputs": []
    },
    {
      "cell_type": "code",
      "metadata": {
        "id": "JF2lCmYWUFcQ",
        "colab_type": "code",
        "colab": {}
      },
      "source": [
        "10/-3"
      ],
      "execution_count": null,
      "outputs": []
    },
    {
      "cell_type": "code",
      "metadata": {
        "id": "3EI6N8FhUFhA",
        "colab_type": "code",
        "colab": {}
      },
      "source": [
        "-10/-3"
      ],
      "execution_count": null,
      "outputs": []
    },
    {
      "cell_type": "markdown",
      "metadata": {
        "id": "pmrFL9LV1L37",
        "colab_type": "text"
      },
      "source": [
        "#### 정수 나누기 연산자 //\n"
      ]
    },
    {
      "cell_type": "code",
      "metadata": {
        "id": "vAyreWVmcMZl",
        "colab_type": "code",
        "colab": {}
      },
      "source": [
        "10//3"
      ],
      "execution_count": null,
      "outputs": []
    },
    {
      "cell_type": "code",
      "metadata": {
        "id": "4QwpFnk9SnhJ",
        "colab_type": "code",
        "colab": {}
      },
      "source": [
        "-10//3"
      ],
      "execution_count": null,
      "outputs": []
    },
    {
      "cell_type": "code",
      "metadata": {
        "id": "wxh41pGFSnt7",
        "colab_type": "code",
        "colab": {}
      },
      "source": [
        "10//-3"
      ],
      "execution_count": null,
      "outputs": []
    },
    {
      "cell_type": "code",
      "metadata": {
        "id": "pglBmO8vTPes",
        "colab_type": "code",
        "colab": {}
      },
      "source": [
        "-10//-3"
      ],
      "execution_count": null,
      "outputs": []
    },
    {
      "cell_type": "code",
      "metadata": {
        "id": "pa5PTUVwmK5o",
        "colab_type": "code",
        "colab": {}
      },
      "source": [
        "10.0//3"
      ],
      "execution_count": null,
      "outputs": []
    },
    {
      "cell_type": "markdown",
      "metadata": {
        "id": "pSMNvrqP1XDK",
        "colab_type": "text"
      },
      "source": [
        "#### 나머지 연산자 %"
      ]
    },
    {
      "cell_type": "code",
      "metadata": {
        "id": "n1PbXST1Togm",
        "colab_type": "code",
        "colab": {}
      },
      "source": [
        "10%3"
      ],
      "execution_count": null,
      "outputs": []
    },
    {
      "cell_type": "code",
      "metadata": {
        "id": "s_ivJT40UWWP",
        "colab_type": "code",
        "colab": {}
      },
      "source": [
        "-10%3"
      ],
      "execution_count": null,
      "outputs": []
    },
    {
      "cell_type": "code",
      "metadata": {
        "id": "hQxrV-F-UWa0",
        "colab_type": "code",
        "colab": {}
      },
      "source": [
        "10%-3"
      ],
      "execution_count": null,
      "outputs": []
    },
    {
      "cell_type": "code",
      "metadata": {
        "id": "IcadtBITUWex",
        "colab_type": "code",
        "colab": {}
      },
      "source": [
        "-10%-3"
      ],
      "execution_count": null,
      "outputs": []
    },
    {
      "cell_type": "code",
      "metadata": {
        "id": "uOnkcpYqckXS",
        "colab_type": "code",
        "colab": {}
      },
      "source": [
        "10%3.0 "
      ],
      "execution_count": null,
      "outputs": []
    },
    {
      "cell_type": "markdown",
      "metadata": {
        "id": "B5LaHEQ53BZo",
        "colab_type": "text"
      },
      "source": [
        "#### 제곱 연산자 **"
      ]
    },
    {
      "cell_type": "code",
      "metadata": {
        "id": "IUwBhKhyVw6P",
        "colab_type": "code",
        "colab": {}
      },
      "source": [
        "2**10"
      ],
      "execution_count": null,
      "outputs": []
    },
    {
      "cell_type": "code",
      "metadata": {
        "id": "WtsjxAsEdMJ2",
        "colab_type": "code",
        "colab": {}
      },
      "source": [
        "10**3"
      ],
      "execution_count": null,
      "outputs": []
    },
    {
      "cell_type": "code",
      "metadata": {
        "id": "urFPuvsPdMRD",
        "colab_type": "code",
        "colab": {}
      },
      "source": [
        "10.0**3"
      ],
      "execution_count": null,
      "outputs": []
    },
    {
      "cell_type": "markdown",
      "metadata": {
        "id": "T91wNs3_e1sb",
        "colab_type": "text"
      },
      "source": [
        "### 연산자 우선순위\n"
      ]
    },
    {
      "cell_type": "code",
      "metadata": {
        "id": "sMM8T342e4gH",
        "colab_type": "code",
        "colab": {}
      },
      "source": [
        "1 + 3 * 2 "
      ],
      "execution_count": null,
      "outputs": []
    },
    {
      "cell_type": "code",
      "metadata": {
        "id": "44TtIzJMfcRH",
        "colab_type": "code",
        "colab": {}
      },
      "source": [
        "(1 + 3) * 2 "
      ],
      "execution_count": null,
      "outputs": []
    },
    {
      "cell_type": "code",
      "metadata": {
        "id": "OeqLNELHVMlh",
        "colab_type": "code",
        "colab": {}
      },
      "source": [
        "-10**2"
      ],
      "execution_count": null,
      "outputs": []
    },
    {
      "cell_type": "code",
      "metadata": {
        "id": "LmgvztuoVMqU",
        "colab_type": "code",
        "colab": {}
      },
      "source": [
        "(-10)**2"
      ],
      "execution_count": null,
      "outputs": []
    },
    {
      "cell_type": "markdown",
      "metadata": {
        "id": "30KZVtHsposm",
        "colab_type": "text"
      },
      "source": [
        "### 복합 대입 연산자"
      ]
    },
    {
      "cell_type": "markdown",
      "metadata": {
        "id": "RZswSmhKD5QG",
        "colab_type": "text"
      },
      "source": [
        "#### +="
      ]
    },
    {
      "cell_type": "code",
      "metadata": {
        "id": "cToPr6yApvV6",
        "colab_type": "code",
        "colab": {}
      },
      "source": [
        "a = 10\n",
        "a += 5\n",
        "a"
      ],
      "execution_count": null,
      "outputs": []
    },
    {
      "cell_type": "code",
      "metadata": {
        "id": "cTGl7230pvZ0",
        "colab_type": "code",
        "colab": {}
      },
      "source": [
        "a = 10\n",
        "b = 20\n",
        "b += a\n",
        "b"
      ],
      "execution_count": null,
      "outputs": []
    },
    {
      "cell_type": "code",
      "metadata": {
        "id": "b_xpUyH2Vm0N",
        "colab_type": "code",
        "colab": {}
      },
      "source": [
        "del c\n",
        "c += 10  #error"
      ],
      "execution_count": null,
      "outputs": []
    },
    {
      "cell_type": "markdown",
      "metadata": {
        "id": "K6bU3Pq7J8Y0",
        "colab_type": "text"
      },
      "source": [
        "#### -="
      ]
    },
    {
      "cell_type": "code",
      "metadata": {
        "id": "uqt5mwCUEfex",
        "colab_type": "code",
        "colab": {}
      },
      "source": [
        "a = 10\n",
        "b = 20\n",
        "b -= a\n",
        "b"
      ],
      "execution_count": null,
      "outputs": []
    },
    {
      "cell_type": "code",
      "metadata": {
        "id": "Jz8E3HSHVxlR",
        "colab_type": "code",
        "colab": {}
      },
      "source": [
        "x = 100\n",
        "x -= 200\n",
        "x"
      ],
      "execution_count": null,
      "outputs": []
    },
    {
      "cell_type": "markdown",
      "metadata": {
        "id": "nNIkVU2tKFep",
        "colab_type": "text"
      },
      "source": [
        "#### *="
      ]
    },
    {
      "cell_type": "code",
      "metadata": {
        "id": "0jpGeFqJpvdV",
        "colab_type": "code",
        "colab": {}
      },
      "source": [
        "a = 10\n",
        "b = 20\n",
        "b *= a\n",
        "b"
      ],
      "execution_count": null,
      "outputs": []
    },
    {
      "cell_type": "markdown",
      "metadata": {
        "id": "0CQ-6q5uKK8-",
        "colab_type": "text"
      },
      "source": [
        "/="
      ]
    },
    {
      "cell_type": "code",
      "metadata": {
        "id": "ZcO6sOocpvg-",
        "colab_type": "code",
        "colab": {}
      },
      "source": [
        "a = 10\n",
        "b = 20\n",
        "b /= a\n",
        "b"
      ],
      "execution_count": null,
      "outputs": []
    },
    {
      "cell_type": "code",
      "metadata": {
        "id": "TlJzGWoUV2Yt",
        "colab_type": "code",
        "colab": {}
      },
      "source": [
        "x = 100\n",
        "x /= 2\n",
        "x"
      ],
      "execution_count": null,
      "outputs": []
    },
    {
      "cell_type": "markdown",
      "metadata": {
        "id": "v4RS4R5sKUFQ",
        "colab_type": "text"
      },
      "source": [
        "#### //="
      ]
    },
    {
      "cell_type": "code",
      "metadata": {
        "id": "bFJr_32ipvlD",
        "colab_type": "code",
        "colab": {}
      },
      "source": [
        "a = 10\n",
        "b = 20\n",
        "b //= a\n",
        "b"
      ],
      "execution_count": null,
      "outputs": []
    },
    {
      "cell_type": "code",
      "metadata": {
        "id": "plbV_X7GV9yz",
        "colab_type": "code",
        "colab": {}
      },
      "source": [
        "x = 100\n",
        "x //= 33\n",
        "x"
      ],
      "execution_count": null,
      "outputs": []
    },
    {
      "cell_type": "markdown",
      "metadata": {
        "id": "2ezNXtoLKbXQ",
        "colab_type": "text"
      },
      "source": [
        "#### %="
      ]
    },
    {
      "cell_type": "code",
      "metadata": {
        "id": "cA0oqyS-Kbgf",
        "colab_type": "code",
        "colab": {}
      },
      "source": [
        "a = 10\n",
        "b = 20\n",
        "b %= a\n",
        "b"
      ],
      "execution_count": null,
      "outputs": []
    },
    {
      "cell_type": "code",
      "metadata": {
        "id": "wj8qM8TrWD7Y",
        "colab_type": "code",
        "colab": {}
      },
      "source": [
        "x = 100 \n",
        "x %= 3\n",
        "x"
      ],
      "execution_count": null,
      "outputs": []
    },
    {
      "cell_type": "markdown",
      "metadata": {
        "id": "R-ionOf2Kg_V",
        "colab_type": "text"
      },
      "source": [
        "**="
      ]
    },
    {
      "cell_type": "code",
      "metadata": {
        "id": "K7v1q4JkKhRn",
        "colab_type": "code",
        "colab": {}
      },
      "source": [
        "a = 10\n",
        "b = 20\n",
        "b **= a\n",
        "b"
      ],
      "execution_count": null,
      "outputs": []
    },
    {
      "cell_type": "code",
      "metadata": {
        "id": "DpIZkBiTWSeo",
        "colab_type": "code",
        "colab": {}
      },
      "source": [
        "x = 2\n",
        "x **=10\n",
        "x"
      ],
      "execution_count": null,
      "outputs": []
    },
    {
      "cell_type": "markdown",
      "metadata": {
        "id": "hOF_u6oQfp_1",
        "colab_type": "text"
      },
      "source": [
        "### 퀴즈-숫자"
      ]
    },
    {
      "cell_type": "markdown",
      "metadata": {
        "id": "J8fz366GhK0H",
        "colab_type": "text"
      },
      "source": [
        "Q. 다음 정수를 실수 형태로 변환하기"
      ]
    },
    {
      "cell_type": "code",
      "metadata": {
        "id": "vJyYZtHRhhYv",
        "colab_type": "code",
        "colab": {}
      },
      "source": [
        "5"
      ],
      "execution_count": null,
      "outputs": []
    },
    {
      "cell_type": "markdown",
      "metadata": {
        "id": "WLc1m-EthmVi",
        "colab_type": "text"
      },
      "source": [
        "Q. 다음 실수를 정수 형태로 변환하기"
      ]
    },
    {
      "cell_type": "code",
      "metadata": {
        "id": "I2v-zpyuiCgi",
        "colab_type": "code",
        "colab": {}
      },
      "source": [
        "3.4"
      ],
      "execution_count": null,
      "outputs": []
    },
    {
      "cell_type": "markdown",
      "metadata": {
        "id": "rBhfOlqfiEJ1",
        "colab_type": "text"
      },
      "source": [
        "Q. 다음 코드의 실행 결과를 예측하기"
      ]
    },
    {
      "cell_type": "code",
      "metadata": {
        "id": "w0tgcgBMe4dF",
        "colab_type": "code",
        "colab": {}
      },
      "source": [
        "1 + 4 * 3 / 2 - 2 - 1"
      ],
      "execution_count": null,
      "outputs": []
    },
    {
      "cell_type": "markdown",
      "metadata": {
        "id": "jrVnygTdMDn8",
        "colab_type": "text"
      },
      "source": [
        "Q. 17을 4로 나누었을 때의 몫과 나머지 구하기"
      ]
    },
    {
      "cell_type": "code",
      "metadata": {
        "id": "n711-btyMNPM",
        "colab_type": "code",
        "colab": {}
      },
      "source": [
        ""
      ],
      "execution_count": null,
      "outputs": []
    },
    {
      "cell_type": "markdown",
      "metadata": {
        "id": "V-Q1A-XdKwep",
        "colab_type": "text"
      },
      "source": [
        "Q. 화씨(°F)와 섭씨(°C) :  관계식\n",
        "(F − 32) × 5/9 = C  \n",
        "이 식을 통해 212°F 는 몇 섭씨인지 계산하기\n"
      ]
    },
    {
      "cell_type": "code",
      "metadata": {
        "id": "LGSFDIhxKxDl",
        "colab_type": "code",
        "colab": {}
      },
      "source": [
        ""
      ],
      "execution_count": null,
      "outputs": []
    },
    {
      "cell_type": "markdown",
      "metadata": {
        "id": "0Iv3MHRaqTdG",
        "colab_type": "text"
      },
      "source": [
        "Q. 다음 세 과목(kor, eng, math)의 평균을 구해서 score 라는 변수에 입력해보기"
      ]
    },
    {
      "cell_type": "code",
      "metadata": {
        "id": "eFPJzpg3qip-",
        "colab_type": "code",
        "colab": {}
      },
      "source": [
        "kor = 80\n",
        "eng = 70\n",
        "math = 90"
      ],
      "execution_count": null,
      "outputs": []
    },
    {
      "cell_type": "markdown",
      "metadata": {
        "colab_type": "text",
        "id": "M3W9LJp5ivGt"
      },
      "source": [
        "### 퀴즈정답-숫자"
      ]
    },
    {
      "cell_type": "markdown",
      "metadata": {
        "colab_type": "text",
        "id": "n227HJuTivGu"
      },
      "source": [
        "Q. 다음 정수를 실수 형태로 변환하기"
      ]
    },
    {
      "cell_type": "code",
      "metadata": {
        "colab_type": "code",
        "id": "YpHkU15NivGv",
        "colab": {}
      },
      "source": [
        "5"
      ],
      "execution_count": null,
      "outputs": []
    },
    {
      "cell_type": "markdown",
      "metadata": {
        "id": "24nQJMhti0N3",
        "colab_type": "text"
      },
      "source": [
        "A. "
      ]
    },
    {
      "cell_type": "code",
      "metadata": {
        "id": "jPcIfCRPi-Ob",
        "colab_type": "code",
        "colab": {}
      },
      "source": [
        "float(5)"
      ],
      "execution_count": null,
      "outputs": []
    },
    {
      "cell_type": "markdown",
      "metadata": {
        "colab_type": "text",
        "id": "7yVJ4DbuivGx"
      },
      "source": [
        "Q. 다음 실수를 정수 형태로 변환하기"
      ]
    },
    {
      "cell_type": "code",
      "metadata": {
        "colab_type": "code",
        "id": "BTV1KpWNivGx",
        "colab": {}
      },
      "source": [
        "3.4"
      ],
      "execution_count": null,
      "outputs": []
    },
    {
      "cell_type": "markdown",
      "metadata": {
        "id": "4ayWVhQRjBgQ",
        "colab_type": "text"
      },
      "source": [
        "A. "
      ]
    },
    {
      "cell_type": "code",
      "metadata": {
        "id": "Z23sWh72jAcp",
        "colab_type": "code",
        "colab": {}
      },
      "source": [
        "int(3.4)"
      ],
      "execution_count": null,
      "outputs": []
    },
    {
      "cell_type": "markdown",
      "metadata": {
        "colab_type": "text",
        "id": "JS8Afi3OivG0"
      },
      "source": [
        "Q. 다음 코드의 실행 결과를 예측하기"
      ]
    },
    {
      "cell_type": "code",
      "metadata": {
        "colab_type": "code",
        "id": "74ZE8OMtivG0",
        "colab": {}
      },
      "source": [
        "1 + 4 * 3 / 2 - 2 - 1"
      ],
      "execution_count": null,
      "outputs": []
    },
    {
      "cell_type": "markdown",
      "metadata": {
        "colab_type": "text",
        "id": "YqMM_U7ZMobU"
      },
      "source": [
        "Q. 17을 4로 나누었을 때의 몫과 나머지 구하기"
      ]
    },
    {
      "cell_type": "markdown",
      "metadata": {
        "id": "8agKhaciMu6-",
        "colab_type": "text"
      },
      "source": [
        "A."
      ]
    },
    {
      "cell_type": "code",
      "metadata": {
        "colab_type": "code",
        "id": "e2jtWVL-MobU",
        "colab": {}
      },
      "source": [
        "print('몫:', 17//4)\n",
        "print('나머지:', 17%4)"
      ],
      "execution_count": null,
      "outputs": []
    },
    {
      "cell_type": "markdown",
      "metadata": {
        "colab_type": "text",
        "id": "t5-tQHFLMobY"
      },
      "source": [
        "Q. 화씨(°F)와 섭씨(°C) :  관계식\n",
        "(F − 32) × 5/9 = C  \n",
        "이 식을 통해 212°F 는 몇 섭씨인지 계산하기\n"
      ]
    },
    {
      "cell_type": "code",
      "metadata": {
        "colab_type": "code",
        "id": "gabSYpoJMobY",
        "colab": {}
      },
      "source": [
        "F = 212\n",
        "C = (F - 32)*5/9\n",
        "C "
      ],
      "execution_count": null,
      "outputs": []
    },
    {
      "cell_type": "markdown",
      "metadata": {
        "id": "cNTJPmR9qxDV",
        "colab_type": "text"
      },
      "source": [
        "Q. 다음 세 과목(kor, eng, math)의 평균을 구해서 score 라는 변수에 입력해보기"
      ]
    },
    {
      "cell_type": "code",
      "metadata": {
        "id": "_JxrrwXkrIqO",
        "colab_type": "code",
        "colab": {}
      },
      "source": [
        "kor = 80\n",
        "eng = 70\n",
        "math = 90"
      ],
      "execution_count": null,
      "outputs": []
    },
    {
      "cell_type": "markdown",
      "metadata": {
        "id": "rv8KVYnHrP6-",
        "colab_type": "text"
      },
      "source": [
        "A."
      ]
    },
    {
      "cell_type": "code",
      "metadata": {
        "id": "sIgIWRsKq5s-",
        "colab_type": "code",
        "colab": {}
      },
      "source": [
        "score = (kor + eng + math)/3\n",
        "score"
      ],
      "execution_count": null,
      "outputs": []
    },
    {
      "cell_type": "markdown",
      "metadata": {
        "id": "K2JtMkpSZ00C",
        "colab_type": "text"
      },
      "source": [
        "## 문자열"
      ]
    },
    {
      "cell_type": "markdown",
      "metadata": {
        "id": "xG8IqCMAOtau",
        "colab_type": "text"
      },
      "source": [
        "### 문자열 생성"
      ]
    },
    {
      "cell_type": "code",
      "metadata": {
        "id": "ayMdiUWjaFRM",
        "colab_type": "code",
        "colab": {}
      },
      "source": [
        "print('python')"
      ],
      "execution_count": null,
      "outputs": []
    },
    {
      "cell_type": "code",
      "metadata": {
        "id": "WAbRhvuANe_g",
        "colab_type": "code",
        "colab": {}
      },
      "source": [
        "type('python')"
      ],
      "execution_count": null,
      "outputs": []
    },
    {
      "cell_type": "code",
      "metadata": {
        "id": "SrKVQj48lHXc",
        "colab_type": "code",
        "colab": {}
      },
      "source": [
        "print(\"python\")"
      ],
      "execution_count": null,
      "outputs": []
    },
    {
      "cell_type": "code",
      "metadata": {
        "id": "0nhuV3KVlIw3",
        "colab_type": "code",
        "colab": {}
      },
      "source": [
        "type(\"python\")"
      ],
      "execution_count": null,
      "outputs": []
    },
    {
      "cell_type": "code",
      "metadata": {
        "id": "g0swLHspm117",
        "colab_type": "code",
        "colab": {}
      },
      "source": [
        "string = '오늘은 즐거운 하루입니다.'"
      ],
      "execution_count": null,
      "outputs": []
    },
    {
      "cell_type": "code",
      "metadata": {
        "id": "4HwIui5Bm2BJ",
        "colab_type": "code",
        "colab": {}
      },
      "source": [
        "print(string)"
      ],
      "execution_count": null,
      "outputs": []
    },
    {
      "cell_type": "code",
      "metadata": {
        "id": "bfdYqsVWm2Kz",
        "colab_type": "code",
        "colab": {}
      },
      "source": [
        "type(string)"
      ],
      "execution_count": null,
      "outputs": []
    },
    {
      "cell_type": "markdown",
      "metadata": {
        "id": "vwSzoovpQKK_",
        "colab_type": "text"
      },
      "source": [
        "문자열 안에 따옴표를 넣고 싶다면?"
      ]
    },
    {
      "cell_type": "code",
      "metadata": {
        "id": "WDoZ0BT_lQlP",
        "colab_type": "code",
        "colab": {}
      },
      "source": [
        "print('Readability counts.')\n",
        "print('\"Readability counts.\"')"
      ],
      "execution_count": null,
      "outputs": []
    },
    {
      "cell_type": "code",
      "metadata": {
        "id": "X2DSKnVAO4H8",
        "colab_type": "code",
        "colab": {}
      },
      "source": [
        "print(\"Readability counts.\")\n",
        "print(\"'Readability counts.'\")"
      ],
      "execution_count": null,
      "outputs": []
    },
    {
      "cell_type": "code",
      "metadata": {
        "id": "x7vp6AzJTsep",
        "colab_type": "code",
        "colab": {}
      },
      "source": [
        "string = \"The Zen of Python, by Tim Peters. \\\"Beautiful is better than ugly.\\\"\" \n",
        "string "
      ],
      "execution_count": null,
      "outputs": []
    },
    {
      "cell_type": "markdown",
      "metadata": {
        "id": "BCdUMDXjQPBJ",
        "colab_type": "text"
      },
      "source": [
        "여러 줄을 작성하고 싶다면?"
      ]
    },
    {
      "cell_type": "code",
      "metadata": {
        "id": "wDODnrhzPT3L",
        "colab_type": "code",
        "colab": {}
      },
      "source": [
        "string = '''Simple is better than complex.\n",
        "Complex is better than complicated.'''\n",
        "print(string)"
      ],
      "execution_count": null,
      "outputs": []
    },
    {
      "cell_type": "code",
      "metadata": {
        "id": "z8BmExEHPT-5",
        "colab_type": "code",
        "colab": {}
      },
      "source": [
        "string = \"\"\"Simple is better than complex.\n",
        "Complex is better than complicated.\"\"\"\n",
        "print(string)"
      ],
      "execution_count": null,
      "outputs": []
    },
    {
      "cell_type": "code",
      "metadata": {
        "id": "CPxmmuLSVXHX",
        "colab_type": "code",
        "colab": {}
      },
      "source": [
        "string = \"Simple is better than complex.\\nComplex is better than complicated.\"\n",
        "print(string)"
      ],
      "execution_count": null,
      "outputs": []
    },
    {
      "cell_type": "markdown",
      "metadata": {
        "id": "TvRr6h8nUbuv",
        "colab_type": "text"
      },
      "source": [
        "### 문자열 연산자"
      ]
    },
    {
      "cell_type": "markdown",
      "metadata": {
        "id": "4Nq1lyfRW1gH",
        "colab_type": "text"
      },
      "source": [
        "#### 문자열 연결 연산자"
      ]
    },
    {
      "cell_type": "code",
      "metadata": {
        "id": "fXXJagohPUEN",
        "colab_type": "code",
        "colab": {}
      },
      "source": [
        "a = '문자열을' \n",
        "b = '더해보겠습니다.'\n",
        "print(a + ' ' + b)"
      ],
      "execution_count": null,
      "outputs": []
    },
    {
      "cell_type": "code",
      "metadata": {
        "id": "QR2pDy3nY72T",
        "colab_type": "code",
        "colab": {}
      },
      "source": [
        "'안녕' + '하세요' + '?'"
      ],
      "execution_count": null,
      "outputs": []
    },
    {
      "cell_type": "code",
      "metadata": {
        "id": "drF7grvznpYL",
        "colab_type": "code",
        "colab": {}
      },
      "source": [
        "year = 2020\n",
        "'지금은 ' + str(year) + '년 입니다. '"
      ],
      "execution_count": null,
      "outputs": []
    },
    {
      "cell_type": "markdown",
      "metadata": {
        "id": "F27s3nrkY1Zj",
        "colab_type": "text"
      },
      "source": [
        "#### 문자열 반복 연산자"
      ]
    },
    {
      "cell_type": "code",
      "metadata": {
        "id": "3Y7cDlNMW_6J",
        "colab_type": "code",
        "colab": {}
      },
      "source": [
        "a = '안녕'\n",
        "a * 3"
      ],
      "execution_count": null,
      "outputs": []
    },
    {
      "cell_type": "code",
      "metadata": {
        "id": "JXObWk0WW_9W",
        "colab_type": "code",
        "colab": {}
      },
      "source": [
        "'힘내세요 '*3 +'!!!'"
      ],
      "execution_count": null,
      "outputs": []
    },
    {
      "cell_type": "markdown",
      "metadata": {
        "id": "iVLWXZ0DJ6h_",
        "colab_type": "text"
      },
      "source": [
        "#### in, not in"
      ]
    },
    {
      "cell_type": "code",
      "metadata": {
        "id": "ex7_OAayJ-Lj",
        "colab_type": "code",
        "colab": {}
      },
      "source": [
        "str1 = '커피'\n",
        "str2 = '메뉴: 커피, 녹차, 과일주스'"
      ],
      "execution_count": null,
      "outputs": []
    },
    {
      "cell_type": "code",
      "metadata": {
        "id": "2g2-8OjZJ-Pw",
        "colab_type": "code",
        "colab": {}
      },
      "source": [
        "str1 in str2"
      ],
      "execution_count": null,
      "outputs": []
    },
    {
      "cell_type": "code",
      "metadata": {
        "id": "HfUaM0k1LPh9",
        "colab_type": "code",
        "colab": {}
      },
      "source": [
        "str1 not in str2"
      ],
      "execution_count": null,
      "outputs": []
    },
    {
      "cell_type": "code",
      "metadata": {
        "id": "HEuITgAVJ-Uk",
        "colab_type": "code",
        "colab": {}
      },
      "source": [
        "str3 = '딸기주스'\n",
        "str3 in str2"
      ],
      "execution_count": null,
      "outputs": []
    },
    {
      "cell_type": "code",
      "metadata": {
        "id": "b8va9A3-J-ck",
        "colab_type": "code",
        "colab": {}
      },
      "source": [
        "str3 not in str2"
      ],
      "execution_count": null,
      "outputs": []
    },
    {
      "cell_type": "markdown",
      "metadata": {
        "id": "cXCWjiACZUhG",
        "colab_type": "text"
      },
      "source": [
        "### 문자열 인덱싱"
      ]
    },
    {
      "cell_type": "code",
      "metadata": {
        "id": "QTgLGKMDXAA0",
        "colab_type": "code",
        "colab": {}
      },
      "source": [
        "a = '좋은 하루 보내세요!'\n",
        "a"
      ],
      "execution_count": null,
      "outputs": []
    },
    {
      "cell_type": "code",
      "metadata": {
        "id": "fePN4bUcXADz",
        "colab_type": "code",
        "colab": {}
      },
      "source": [
        "a[0]"
      ],
      "execution_count": null,
      "outputs": []
    },
    {
      "cell_type": "code",
      "metadata": {
        "id": "YxRl594jXALC",
        "colab_type": "code",
        "colab": {}
      },
      "source": [
        "a[5]"
      ],
      "execution_count": null,
      "outputs": []
    },
    {
      "cell_type": "code",
      "metadata": {
        "id": "PBBPB1kdXAO4",
        "colab_type": "code",
        "colab": {}
      },
      "source": [
        "a[-1]"
      ],
      "execution_count": null,
      "outputs": []
    },
    {
      "cell_type": "code",
      "metadata": {
        "id": "aFjKOvumbCzR",
        "colab_type": "code",
        "colab": {}
      },
      "source": [
        "a[-4]"
      ],
      "execution_count": null,
      "outputs": []
    },
    {
      "cell_type": "code",
      "metadata": {
        "id": "cHGXGS-2bF8P",
        "colab_type": "code",
        "colab": {}
      },
      "source": [
        "a[3] + a[4]"
      ],
      "execution_count": null,
      "outputs": []
    },
    {
      "cell_type": "markdown",
      "metadata": {
        "id": "ZAzRYZlqdLdO",
        "colab_type": "text"
      },
      "source": [
        "### 문자열 슬라이싱"
      ]
    },
    {
      "cell_type": "code",
      "metadata": {
        "id": "_wzL5IhcbHm_",
        "colab_type": "code",
        "colab": {}
      },
      "source": [
        "a = '오늘은 보람찬 하루였다.'"
      ],
      "execution_count": null,
      "outputs": []
    },
    {
      "cell_type": "code",
      "metadata": {
        "id": "CUNUbzNPdZta",
        "colab_type": "code",
        "colab": {}
      },
      "source": [
        "a[4:7]"
      ],
      "execution_count": null,
      "outputs": []
    },
    {
      "cell_type": "code",
      "metadata": {
        "id": "iqz58W93bHtI",
        "colab_type": "code",
        "colab": {}
      },
      "source": [
        "a[2:3]"
      ],
      "execution_count": null,
      "outputs": []
    },
    {
      "cell_type": "code",
      "metadata": {
        "id": "NZoS6WQhbHqA",
        "colab_type": "code",
        "colab": {}
      },
      "source": [
        "a[8:]"
      ],
      "execution_count": null,
      "outputs": []
    },
    {
      "cell_type": "code",
      "metadata": {
        "id": "AJmeGcYKgiVA",
        "colab_type": "code",
        "colab": {}
      },
      "source": [
        "a[:3]"
      ],
      "execution_count": null,
      "outputs": []
    },
    {
      "cell_type": "code",
      "metadata": {
        "id": "iU3M0FFSgmeD",
        "colab_type": "code",
        "colab": {}
      },
      "source": [
        "a[:]"
      ],
      "execution_count": null,
      "outputs": []
    },
    {
      "cell_type": "code",
      "metadata": {
        "id": "bdk_WERxbHwe",
        "colab_type": "code",
        "colab": {}
      },
      "source": [
        "b = '가나다라마바사아자차카타파하'"
      ],
      "execution_count": null,
      "outputs": []
    },
    {
      "cell_type": "code",
      "metadata": {
        "id": "9JCePUUpbHzR",
        "colab_type": "code",
        "colab": {}
      },
      "source": [
        "b[0:8:2]"
      ],
      "execution_count": null,
      "outputs": []
    },
    {
      "cell_type": "code",
      "metadata": {
        "id": "hOfcsfx8heB0",
        "colab_type": "code",
        "colab": {}
      },
      "source": [
        "b[-5:-1:2]"
      ],
      "execution_count": null,
      "outputs": []
    },
    {
      "cell_type": "code",
      "metadata": {
        "id": "Ugrw_6vchGNx",
        "colab_type": "code",
        "colab": {}
      },
      "source": [
        "b[:8:2]"
      ],
      "execution_count": null,
      "outputs": []
    },
    {
      "cell_type": "code",
      "metadata": {
        "id": "x1_nZQi1hM96",
        "colab_type": "code",
        "colab": {}
      },
      "source": [
        "b[0::2]"
      ],
      "execution_count": null,
      "outputs": []
    },
    {
      "cell_type": "code",
      "metadata": {
        "id": "Me-xwjztdOjm",
        "colab_type": "code",
        "colab": {}
      },
      "source": [
        "b[::2]"
      ],
      "execution_count": null,
      "outputs": []
    },
    {
      "cell_type": "code",
      "metadata": {
        "id": "_M-miynubH3q",
        "colab_type": "code",
        "colab": {}
      },
      "source": [
        "b[::-1]"
      ],
      "execution_count": null,
      "outputs": []
    },
    {
      "cell_type": "markdown",
      "metadata": {
        "id": "gO6GgaM6j1yA",
        "colab_type": "text"
      },
      "source": [
        "### 문자열 길이"
      ]
    },
    {
      "cell_type": "code",
      "metadata": {
        "id": "605GZWvapGNp",
        "colab_type": "code",
        "colab": {}
      },
      "source": [
        "len('나')"
      ],
      "execution_count": null,
      "outputs": []
    },
    {
      "cell_type": "code",
      "metadata": {
        "id": "u07GIHTdg8bV",
        "colab_type": "code",
        "colab": {}
      },
      "source": [
        "a = '좋은 하루 보내세요!'\n",
        "len(a)"
      ],
      "execution_count": null,
      "outputs": []
    },
    {
      "cell_type": "code",
      "metadata": {
        "id": "irOhcnFgj5qj",
        "colab_type": "code",
        "colab": {}
      },
      "source": [
        "len('abc')"
      ],
      "execution_count": null,
      "outputs": []
    },
    {
      "cell_type": "code",
      "metadata": {
        "id": "Gg8swCRJo-X8",
        "colab_type": "code",
        "colab": {}
      },
      "source": [
        "len('abc ')"
      ],
      "execution_count": null,
      "outputs": []
    },
    {
      "cell_type": "code",
      "metadata": {
        "id": "9gVYfZeFon-2",
        "colab_type": "code",
        "colab": {}
      },
      "source": [
        "len('Python is a programming language')"
      ],
      "execution_count": null,
      "outputs": []
    },
    {
      "cell_type": "markdown",
      "metadata": {
        "id": "pHduHpRXj55k",
        "colab_type": "text"
      },
      "source": [
        "### 문자열 메서드"
      ]
    },
    {
      "cell_type": "markdown",
      "metadata": {
        "id": "UIhwt2BiknKn",
        "colab_type": "text"
      },
      "source": [
        "#### str.format()"
      ]
    },
    {
      "cell_type": "code",
      "metadata": {
        "id": "YeERdTsprbRt",
        "colab_type": "code",
        "colab": {}
      },
      "source": [
        "'{}년 {}월 입니다.'.format(2020, 7)"
      ],
      "execution_count": null,
      "outputs": []
    },
    {
      "cell_type": "code",
      "metadata": {
        "id": "zCfu3HPMpiUB",
        "colab_type": "code",
        "colab": {}
      },
      "source": [
        "year = 2020\n",
        "month = 7\n",
        "'{}년 {}월 입니다.'.format(year, month)"
      ],
      "execution_count": null,
      "outputs": []
    },
    {
      "cell_type": "code",
      "metadata": {
        "id": "VC3DZyyHttO7",
        "colab_type": "code",
        "colab": {}
      },
      "source": [
        "'지난 달 평균 기온은 {:.1f}도 입니다.'.format(23.12345)"
      ],
      "execution_count": null,
      "outputs": []
    },
    {
      "cell_type": "code",
      "metadata": {
        "id": "1bihkIUkpuSQ",
        "colab_type": "code",
        "colab": {}
      },
      "source": [
        "'지난 달 평균 기온은 {:.3f}도 입니다.'.format(23.12345)"
      ],
      "execution_count": null,
      "outputs": []
    },
    {
      "cell_type": "code",
      "metadata": {
        "id": "FopozF-KuvZJ",
        "colab_type": "code",
        "colab": {}
      },
      "source": [
        "'{} 주소는 {} {} {} {}입니다.'.format('국립중앙박물관','서울시', '용산구', '서빙고로', 137)"
      ],
      "execution_count": null,
      "outputs": []
    },
    {
      "cell_type": "markdown",
      "metadata": {
        "id": "DWlegLHFkuE2",
        "colab_type": "text"
      },
      "source": [
        "#### str.lower() , str.upper()"
      ]
    },
    {
      "cell_type": "code",
      "metadata": {
        "id": "SXLbNXijqE0D",
        "colab_type": "code",
        "colab": {}
      },
      "source": [
        "'pyj'.lower()"
      ],
      "execution_count": null,
      "outputs": []
    },
    {
      "cell_type": "code",
      "metadata": {
        "id": "TfEWBiEbqFGt",
        "colab_type": "code",
        "colab": {}
      },
      "source": [
        "'PYJ'.lower()"
      ],
      "execution_count": null,
      "outputs": []
    },
    {
      "cell_type": "code",
      "metadata": {
        "id": "5Gc2q6vBqRy1",
        "colab_type": "code",
        "colab": {}
      },
      "source": [
        "'pyj'.upper()"
      ],
      "execution_count": null,
      "outputs": []
    },
    {
      "cell_type": "code",
      "metadata": {
        "id": "zM8qcKltqSDy",
        "colab_type": "code",
        "colab": {}
      },
      "source": [
        "'PYJ'.upper()"
      ],
      "execution_count": null,
      "outputs": []
    },
    {
      "cell_type": "code",
      "metadata": {
        "id": "5cFSWCv_xBgW",
        "colab_type": "code",
        "colab": {}
      },
      "source": [
        "'Hello'.lower()"
      ],
      "execution_count": null,
      "outputs": []
    },
    {
      "cell_type": "code",
      "metadata": {
        "id": "T27Uq2rbxIpc",
        "colab_type": "code",
        "colab": {}
      },
      "source": [
        "'Hello'.upper()"
      ],
      "execution_count": null,
      "outputs": []
    },
    {
      "cell_type": "code",
      "metadata": {
        "id": "9LoGj9SfyWTV",
        "colab_type": "code",
        "colab": {}
      },
      "source": [
        "'Python is a Programming Language'.lower()"
      ],
      "execution_count": null,
      "outputs": []
    },
    {
      "cell_type": "code",
      "metadata": {
        "id": "puhY12Meydd8",
        "colab_type": "code",
        "colab": {}
      },
      "source": [
        "'Python is a Programming Language'.upper()"
      ],
      "execution_count": null,
      "outputs": []
    },
    {
      "cell_type": "markdown",
      "metadata": {
        "id": "ObJ9j7EYlObA",
        "colab_type": "text"
      },
      "source": [
        "#### str.strip(), str.rstrip(), str.lstrip()"
      ]
    },
    {
      "cell_type": "code",
      "metadata": {
        "id": "VzaLj0YsykSw",
        "colab_type": "code",
        "colab": {}
      },
      "source": [
        "'   Readability counts.   ' "
      ],
      "execution_count": null,
      "outputs": []
    },
    {
      "cell_type": "code",
      "metadata": {
        "id": "3IBr2gAnykXG",
        "colab_type": "code",
        "colab": {}
      },
      "source": [
        "'   Readability counts.   '.strip()"
      ],
      "execution_count": null,
      "outputs": []
    },
    {
      "cell_type": "code",
      "metadata": {
        "id": "4qk37RZjykaf",
        "colab_type": "code",
        "colab": {}
      },
      "source": [
        "'   Readability counts.   '.rstrip()"
      ],
      "execution_count": null,
      "outputs": []
    },
    {
      "cell_type": "code",
      "metadata": {
        "id": "YHSUnTqEykd8",
        "colab_type": "code",
        "colab": {}
      },
      "source": [
        "'   Readability counts.   '.lstrip()"
      ],
      "execution_count": null,
      "outputs": []
    },
    {
      "cell_type": "code",
      "metadata": {
        "id": "yPw4BbaCqdjU",
        "colab_type": "code",
        "colab": {}
      },
      "source": [
        "'공백이 없는 문자열은?'.strip()"
      ],
      "execution_count": null,
      "outputs": []
    },
    {
      "cell_type": "markdown",
      "metadata": {
        "id": "M2L3bSt7k78M",
        "colab_type": "text"
      },
      "source": [
        "#### str.find(), str.rfind()"
      ]
    },
    {
      "cell_type": "code",
      "metadata": {
        "id": "Xi6so0iy38_v",
        "colab_type": "code",
        "colab": {}
      },
      "source": [
        "'안녕하세요? 네 안녕하세요.'.find('안녕')"
      ],
      "execution_count": null,
      "outputs": []
    },
    {
      "cell_type": "code",
      "metadata": {
        "id": "f7Hoau86rBeg",
        "colab_type": "code",
        "colab": {}
      },
      "source": [
        "'안녕하세요? 네 안녕하세요.'.find('?')"
      ],
      "execution_count": null,
      "outputs": []
    },
    {
      "cell_type": "code",
      "metadata": {
        "id": "k6eZ6HaRrRbA",
        "colab_type": "code",
        "colab": {}
      },
      "source": [
        "'안녕하세요? 네 안녕하세요.'[5]"
      ],
      "execution_count": null,
      "outputs": []
    },
    {
      "cell_type": "code",
      "metadata": {
        "id": "Q-B_a3jx39PV",
        "colab_type": "code",
        "colab": {}
      },
      "source": [
        "'안녕하세요? 네 안녕하세요.'.rfind('안녕')"
      ],
      "execution_count": null,
      "outputs": []
    },
    {
      "cell_type": "code",
      "metadata": {
        "id": "54TwhSMkrGk_",
        "colab_type": "code",
        "colab": {}
      },
      "source": [
        "'안녕하세요? 네 안녕하세요.'.rfind('?')"
      ],
      "execution_count": null,
      "outputs": []
    },
    {
      "cell_type": "code",
      "metadata": {
        "id": "-vQ3GDDw6hNG",
        "colab_type": "code",
        "colab": {}
      },
      "source": [
        "'안녕하세요? 네 안녕하세요.'.find('네네')"
      ],
      "execution_count": null,
      "outputs": []
    },
    {
      "cell_type": "code",
      "metadata": {
        "id": "UEaPloCT6hhG",
        "colab_type": "code",
        "colab": {}
      },
      "source": [
        "'안녕하세요? 네 안녕하세요.'.find('네네')"
      ],
      "execution_count": null,
      "outputs": []
    },
    {
      "cell_type": "code",
      "metadata": {
        "id": "EQUPZtqo39WS",
        "colab_type": "code",
        "colab": {}
      },
      "source": [
        "string = '''동해 물과 백두산이 마르고 닳도록\n",
        "하느님이 보우하사 우리나라 만세.\n",
        "무궁화 삼천리 화려 강산\n",
        "대한 사람, 대한으로 길이 보전하세.'''\n"
      ],
      "execution_count": null,
      "outputs": []
    },
    {
      "cell_type": "code",
      "metadata": {
        "id": "TS72CU4l6UQp",
        "colab_type": "code",
        "colab": {}
      },
      "source": [
        "string.find('대한')"
      ],
      "execution_count": null,
      "outputs": []
    },
    {
      "cell_type": "code",
      "metadata": {
        "id": "VouSWNQj6W_G",
        "colab_type": "code",
        "colab": {}
      },
      "source": [
        "string.rfind('대한')"
      ],
      "execution_count": null,
      "outputs": []
    },
    {
      "cell_type": "code",
      "metadata": {
        "id": "Vxe75wiX6XFZ",
        "colab_type": "code",
        "colab": {}
      },
      "source": [
        "string.find('남산')"
      ],
      "execution_count": null,
      "outputs": []
    },
    {
      "cell_type": "markdown",
      "metadata": {
        "id": "ou09Dm4plSfN",
        "colab_type": "text"
      },
      "source": [
        "#### str.split()"
      ]
    },
    {
      "cell_type": "code",
      "metadata": {
        "id": "q4uh1O749DRK",
        "colab_type": "code",
        "colab": {}
      },
      "source": [
        "'1 2 3 4 5'.split()"
      ],
      "execution_count": null,
      "outputs": []
    },
    {
      "cell_type": "code",
      "metadata": {
        "id": "o5amccXIHW3n",
        "colab_type": "code",
        "colab": {}
      },
      "source": [
        "'1, 2, 3, 4, 5'.split(', ')"
      ],
      "execution_count": null,
      "outputs": []
    },
    {
      "cell_type": "code",
      "metadata": {
        "id": "ZG8dNWo161_g",
        "colab_type": "code",
        "colab": {}
      },
      "source": [
        "string = '''남산 위에 저 소나무, 철갑을 두른 듯\n",
        "바람 서리 불변함은 우리 기상일세.'''"
      ],
      "execution_count": null,
      "outputs": []
    },
    {
      "cell_type": "code",
      "metadata": {
        "id": "LHlhzOPU62UI",
        "colab_type": "code",
        "colab": {}
      },
      "source": [
        "string.split() "
      ],
      "execution_count": null,
      "outputs": []
    },
    {
      "cell_type": "code",
      "metadata": {
        "id": "xKbXGuMM62dd",
        "colab_type": "code",
        "colab": {}
      },
      "source": [
        "string.split(',')"
      ],
      "execution_count": null,
      "outputs": []
    },
    {
      "cell_type": "code",
      "metadata": {
        "id": "lLkbEaXbwyAV",
        "colab_type": "code",
        "colab": {}
      },
      "source": [
        "string.split('\\n')"
      ],
      "execution_count": null,
      "outputs": []
    },
    {
      "cell_type": "markdown",
      "metadata": {
        "id": "iE89Q7z5M1q3",
        "colab_type": "text"
      },
      "source": [
        "#### str.join()"
      ]
    },
    {
      "cell_type": "code",
      "metadata": {
        "id": "YCaYbsEwNlXb",
        "colab_type": "code",
        "colab": {}
      },
      "source": [
        "' '.join('abcde')"
      ],
      "execution_count": null,
      "outputs": []
    },
    {
      "cell_type": "code",
      "metadata": {
        "id": "fxlE4T3HNlTO",
        "colab_type": "code",
        "colab": {}
      },
      "source": [
        "'**'.join('abcde')"
      ],
      "execution_count": null,
      "outputs": []
    },
    {
      "cell_type": "markdown",
      "metadata": {
        "id": "WSNP3kM4lt72",
        "colab_type": "text"
      },
      "source": [
        "#### str.replace()"
      ]
    },
    {
      "cell_type": "code",
      "metadata": {
        "id": "qBKn5NO-kOU9",
        "colab_type": "code",
        "colab": {}
      },
      "source": [
        "string = '나는 자주 까먹어서 자주 복습합니다.'"
      ],
      "execution_count": null,
      "outputs": []
    },
    {
      "cell_type": "code",
      "metadata": {
        "id": "KSGEQqpIj5tX",
        "colab_type": "code",
        "colab": {}
      },
      "source": [
        "string.replace('자주', '종종')"
      ],
      "execution_count": null,
      "outputs": []
    },
    {
      "cell_type": "code",
      "metadata": {
        "id": "y2NjLVSPj5wx",
        "colab_type": "code",
        "colab": {}
      },
      "source": [
        "string.replace('자주', '종종', 2) "
      ],
      "execution_count": null,
      "outputs": []
    },
    {
      "cell_type": "code",
      "metadata": {
        "id": "Jmh08sw3j9dU",
        "colab_type": "code",
        "colab": {}
      },
      "source": [
        "string = '김치찌게, 된장찌게, 부대찌게'"
      ],
      "execution_count": null,
      "outputs": []
    },
    {
      "cell_type": "code",
      "metadata": {
        "id": "IVWVmzLij9hL",
        "colab_type": "code",
        "colab": {}
      },
      "source": [
        "string.replace('찌게', '찌개')"
      ],
      "execution_count": null,
      "outputs": []
    },
    {
      "cell_type": "markdown",
      "metadata": {
        "colab_type": "text",
        "id": "0FDqp7TpaZLv"
      },
      "source": [
        "### 퀴즈-문자열"
      ]
    },
    {
      "cell_type": "markdown",
      "metadata": {
        "colab_type": "text",
        "id": "m9on-KtoaZLx"
      },
      "source": [
        "Q. 문자열 만들기  \n",
        "string 이라는 변수에 'Life is short'라는 문자열을 담아보기"
      ]
    },
    {
      "cell_type": "code",
      "metadata": {
        "colab_type": "code",
        "id": "_t0bejlWaZLx",
        "colab": {}
      },
      "source": [
        "string = "
      ],
      "execution_count": null,
      "outputs": []
    },
    {
      "cell_type": "markdown",
      "metadata": {
        "colab_type": "text",
        "id": "mI1ktQXDaZL3"
      },
      "source": [
        "Q. 문자열 합치기  \n",
        "다음 세 문자열 변수를 이용해서 하나의 문자열 'Life is short'로 만들기  "
      ]
    },
    {
      "cell_type": "code",
      "metadata": {
        "colab_type": "code",
        "id": "_42WwuS3aZL4",
        "colab": {}
      },
      "source": [
        "a0 = 'Life'\n",
        "a1 = 'is'\n",
        "a2 = 'short'\n"
      ],
      "execution_count": null,
      "outputs": []
    },
    {
      "cell_type": "markdown",
      "metadata": {
        "colab_type": "text",
        "id": "BqQvPt2qaZL9"
      },
      "source": [
        "Q. 문자열 반복  \n",
        "문자열 '-'을 20번 반복하기\n"
      ]
    },
    {
      "cell_type": "code",
      "metadata": {
        "colab_type": "code",
        "id": "FQ8YamogaZL9",
        "colab": {}
      },
      "source": [
        "'-'"
      ],
      "execution_count": null,
      "outputs": []
    },
    {
      "cell_type": "markdown",
      "metadata": {
        "colab_type": "text",
        "id": "JHqKAV1OaZMC"
      },
      "source": [
        "Q. 문자열 인덱싱  \n",
        "문자열 '대한민국은 민주공화국이다.'에서 인덱싱을 통해서 '한'을 추출해보기.  \n",
        "'다'도 추출해보기\n"
      ]
    },
    {
      "cell_type": "code",
      "metadata": {
        "colab_type": "code",
        "id": "5hpf3fM8aZMD",
        "colab": {}
      },
      "source": [
        "string = '대한민국은 민주공화국이다.'"
      ],
      "execution_count": null,
      "outputs": []
    },
    {
      "cell_type": "markdown",
      "metadata": {
        "colab_type": "text",
        "id": "n1XEeB6aaZMI"
      },
      "source": [
        "Q. 문자열 슬라이싱 \n",
        "문자열 '대한민국은 민주공화국이다.'에서 슬라이싱을 통해서 '대한민국'을 추출해보기.  \n",
        "'민주공화국'도 추출해보기  \n"
      ]
    },
    {
      "cell_type": "code",
      "metadata": {
        "colab_type": "code",
        "id": "2cCtmBtIaZMI",
        "colab": {}
      },
      "source": [
        "string = '대한민국은 민주공화국이다.'"
      ],
      "execution_count": null,
      "outputs": []
    },
    {
      "cell_type": "markdown",
      "metadata": {
        "colab_type": "text",
        "id": "qt0hYZsjaZMO"
      },
      "source": [
        "Q. 문자열 길이  \n",
        "다음 문자열의 길이는?\n"
      ]
    },
    {
      "cell_type": "code",
      "metadata": {
        "colab_type": "code",
        "id": "W7jwlYOwaZMO",
        "colab": {}
      },
      "source": [
        "string = '문자열의 길이를 재는 함수는 무엇이었나요?'"
      ],
      "execution_count": null,
      "outputs": []
    },
    {
      "cell_type": "markdown",
      "metadata": {
        "colab_type": "text",
        "id": "qgOALGxkaZMS"
      },
      "source": [
        "Q. 소문자를 모두 대문자로 바꾸기  \n",
        "다음 문자열의 알파벳을 모두 대문자로 바꾸기\n"
      ]
    },
    {
      "cell_type": "code",
      "metadata": {
        "colab_type": "code",
        "id": "3JNrrPLSaZMS",
        "colab": {}
      },
      "source": [
        "'Python, c, c++'"
      ],
      "execution_count": null,
      "outputs": []
    },
    {
      "cell_type": "markdown",
      "metadata": {
        "colab_type": "text",
        "id": "oMQEt6oiaZMW"
      },
      "source": [
        "Q. 공백 제거  \n",
        "다음 문자열의 양쪽 공백을 모두 제거하기 \n"
      ]
    },
    {
      "cell_type": "code",
      "metadata": {
        "colab_type": "code",
        "id": "kKZx6q0uaZMW",
        "colab": {}
      },
      "source": [
        "'       양쪽 공백을 제거하기    '"
      ],
      "execution_count": null,
      "outputs": []
    },
    {
      "cell_type": "markdown",
      "metadata": {
        "colab_type": "text",
        "id": "Sm3mKK3laZMZ"
      },
      "source": [
        "Q. 위치 찾기  \n",
        "다음 문자열에서 '대한'이라는 문자가 처음 나올 때 위치는? (왼쪽부터 찾기)\n"
      ]
    },
    {
      "cell_type": "code",
      "metadata": {
        "colab_type": "code",
        "id": "yy0llcPIaZMa",
        "colab": {}
      },
      "source": [
        "string ='''무궁화 삼천리 화려 강산 \n",
        "대한 사람, 대한으로 길이 보전하세.'''"
      ],
      "execution_count": null,
      "outputs": []
    },
    {
      "cell_type": "markdown",
      "metadata": {
        "colab_type": "text",
        "id": "3gF9ZUkbaZMe"
      },
      "source": [
        "Q. 특정 문자로 자르기\n",
        "다음 문자열을 '*' 기준으로 자르기\n"
      ]
    },
    {
      "cell_type": "code",
      "metadata": {
        "colab_type": "code",
        "id": "jX_FC2GzaZMe",
        "colab": {}
      },
      "source": [
        "string = '''제1장 총강\n",
        "*제1조 ①대한민국은 민주공화국이다. \n",
        "②대한민국의 주권은 국민에게 있고, 모든 권력은 국민으로부터 나온다.\n",
        "*제2조 ①대한민국의 국민이 되는 요건은 법률로 정한다.\n",
        "②국가는 법률이 정하는 바에 의하여 재외국민을 보호할 의무를 진다.\n",
        "*제3조 대한민국의 영토는 한반도와 그 부속도서로 한다.\n",
        "*제4조 대한민국은 통일을 지향하며, 자유민주적 기본질서에 입각한 평화적 통일 정책을 수립하고 이를 추진한다.'''"
      ],
      "execution_count": null,
      "outputs": []
    },
    {
      "cell_type": "markdown",
      "metadata": {
        "colab_type": "text",
        "id": "3--Z_QqYaZMj"
      },
      "source": [
        "Q. 문자열 삽입  \n",
        "다음 문자열의 각각의 문자 사이에 공백' '을 삽입하기\n"
      ]
    },
    {
      "cell_type": "code",
      "metadata": {
        "colab_type": "code",
        "id": "eTm_Q-BBaZMj",
        "colab": {}
      },
      "source": [
        "string = '0123456789'"
      ],
      "execution_count": null,
      "outputs": []
    },
    {
      "cell_type": "markdown",
      "metadata": {
        "id": "rTovngS-LE4G",
        "colab_type": "text"
      },
      "source": [
        "### 퀴즈정답-문자열"
      ]
    },
    {
      "cell_type": "markdown",
      "metadata": {
        "id": "8xXrmrhCLNCz",
        "colab_type": "text"
      },
      "source": [
        "Q. 문자열 만들기  \n",
        "string 이라는 변수에 'Life is short'라는 문자열을 담아보기"
      ]
    },
    {
      "cell_type": "markdown",
      "metadata": {
        "id": "-jCmoYkxL-Pl",
        "colab_type": "text"
      },
      "source": [
        "A."
      ]
    },
    {
      "cell_type": "code",
      "metadata": {
        "id": "HQAKx-H7L4c9",
        "colab_type": "code",
        "colab": {}
      },
      "source": [
        "string = 'Life is short'"
      ],
      "execution_count": null,
      "outputs": []
    },
    {
      "cell_type": "markdown",
      "metadata": {
        "id": "tWgNoYgNL2cL",
        "colab_type": "text"
      },
      "source": [
        "Q. 문자열 합치기  \n",
        "다음 세 문자열 변수를 이용해서 하나의 문자열 'Life is short'로 만들기  "
      ]
    },
    {
      "cell_type": "code",
      "metadata": {
        "id": "5U8OstzTMGQ0",
        "colab_type": "code",
        "colab": {}
      },
      "source": [
        "a0 = 'Life'\n",
        "a1 = 'is'\n",
        "a2 = 'short'\n"
      ],
      "execution_count": null,
      "outputs": []
    },
    {
      "cell_type": "markdown",
      "metadata": {
        "colab_type": "text",
        "id": "GcmPVe-HMIVF"
      },
      "source": [
        "A."
      ]
    },
    {
      "cell_type": "code",
      "metadata": {
        "id": "ObjS6uDRMKhH",
        "colab_type": "code",
        "colab": {}
      },
      "source": [
        "a0 +' '+ a1 + ' ' + a2"
      ],
      "execution_count": null,
      "outputs": []
    },
    {
      "cell_type": "markdown",
      "metadata": {
        "colab_type": "text",
        "id": "N0YFY4JTMFNd"
      },
      "source": [
        "Q. 문자열 반복  \n",
        "문자열 '-'을 20번 반복하기\n"
      ]
    },
    {
      "cell_type": "code",
      "metadata": {
        "id": "R3dbbOsWOzOd",
        "colab_type": "code",
        "colab": {}
      },
      "source": [
        "'-'"
      ],
      "execution_count": null,
      "outputs": []
    },
    {
      "cell_type": "markdown",
      "metadata": {
        "colab_type": "text",
        "id": "Hkaz83d4OnRl"
      },
      "source": [
        "A."
      ]
    },
    {
      "cell_type": "code",
      "metadata": {
        "id": "Ib-BI1nYO3eV",
        "colab_type": "code",
        "colab": {}
      },
      "source": [
        "'-'*20"
      ],
      "execution_count": null,
      "outputs": []
    },
    {
      "cell_type": "markdown",
      "metadata": {
        "colab_type": "text",
        "id": "6OGLxCNCMFgk"
      },
      "source": [
        "Q. 문자열 인덱싱  \n",
        "문자열 '대한민국은 민주공화국이다.'에서 인덱싱을 통해서 '한'을 추출해보기.  \n",
        "'다'도 추출해보기\n"
      ]
    },
    {
      "cell_type": "code",
      "metadata": {
        "id": "lh8I3STzP2B-",
        "colab_type": "code",
        "colab": {}
      },
      "source": [
        "string = '대한민국은 민주공화국이다.'"
      ],
      "execution_count": null,
      "outputs": []
    },
    {
      "cell_type": "markdown",
      "metadata": {
        "colab_type": "text",
        "id": "cU5Gl_n9Oof9"
      },
      "source": [
        "A."
      ]
    },
    {
      "cell_type": "code",
      "metadata": {
        "id": "gT2WLgiWP6kb",
        "colab_type": "code",
        "colab": {}
      },
      "source": [
        "string[1]"
      ],
      "execution_count": null,
      "outputs": []
    },
    {
      "cell_type": "code",
      "metadata": {
        "id": "lszeSAJxP60S",
        "colab_type": "code",
        "colab": {}
      },
      "source": [
        "string[-2]"
      ],
      "execution_count": null,
      "outputs": []
    },
    {
      "cell_type": "markdown",
      "metadata": {
        "colab_type": "text",
        "id": "pN54xsoNMFo6"
      },
      "source": [
        "Q. 문자열 슬라이싱 \n",
        "문자열 '대한민국은 민주공화국이다.'에서 슬라이싱을 통해서 '대한민국'을 추출해보기.  \n",
        "'민주공화국'도 추출해보기  \n"
      ]
    },
    {
      "cell_type": "code",
      "metadata": {
        "id": "57VDYYFYQSxc",
        "colab_type": "code",
        "colab": {}
      },
      "source": [
        "string = '대한민국은 민주공화국이다.'"
      ],
      "execution_count": null,
      "outputs": []
    },
    {
      "cell_type": "markdown",
      "metadata": {
        "colab_type": "text",
        "id": "-bgkPtuFOo5K"
      },
      "source": [
        "A."
      ]
    },
    {
      "cell_type": "code",
      "metadata": {
        "id": "YroPLXAPQXSH",
        "colab_type": "code",
        "colab": {}
      },
      "source": [
        "string[:4]"
      ],
      "execution_count": null,
      "outputs": []
    },
    {
      "cell_type": "code",
      "metadata": {
        "id": "lR5O8jnnQbSI",
        "colab_type": "code",
        "colab": {}
      },
      "source": [
        "string[-8:-3]"
      ],
      "execution_count": null,
      "outputs": []
    },
    {
      "cell_type": "markdown",
      "metadata": {
        "colab_type": "text",
        "id": "Plu2UtFVOtq1"
      },
      "source": [
        "Q. 문자열 길이  \n",
        "다음 문자열의 길이는?\n"
      ]
    },
    {
      "cell_type": "code",
      "metadata": {
        "id": "H95Vest4QwSx",
        "colab_type": "code",
        "colab": {}
      },
      "source": [
        "string = '문자열의 길이를 재는 함수는 무엇이었나요?'"
      ],
      "execution_count": null,
      "outputs": []
    },
    {
      "cell_type": "markdown",
      "metadata": {
        "colab_type": "text",
        "id": "qcF9BBuwOsmv"
      },
      "source": [
        "A."
      ]
    },
    {
      "cell_type": "code",
      "metadata": {
        "id": "arO8At-cQ3z8",
        "colab_type": "code",
        "colab": {}
      },
      "source": [
        "len(string)"
      ],
      "execution_count": null,
      "outputs": []
    },
    {
      "cell_type": "markdown",
      "metadata": {
        "colab_type": "text",
        "id": "DiO29zeOOuEN"
      },
      "source": [
        "Q. 소문자를 모두 대문자로 바꾸기  \n",
        "다음 문자열의 알파벳을 모두 대문자로 바꾸기\n"
      ]
    },
    {
      "cell_type": "code",
      "metadata": {
        "id": "ZoZaoaQxRkMA",
        "colab_type": "code",
        "colab": {}
      },
      "source": [
        "'Python, c, c++'"
      ],
      "execution_count": null,
      "outputs": []
    },
    {
      "cell_type": "markdown",
      "metadata": {
        "colab_type": "text",
        "id": "vbTlpKtsOqoQ"
      },
      "source": [
        "A."
      ]
    },
    {
      "cell_type": "code",
      "metadata": {
        "id": "OuHc7JSCRp1M",
        "colab_type": "code",
        "colab": {}
      },
      "source": [
        "'Python, c, c++'.upper()"
      ],
      "execution_count": null,
      "outputs": []
    },
    {
      "cell_type": "markdown",
      "metadata": {
        "colab_type": "text",
        "id": "WMJC0bNTOue_"
      },
      "source": [
        "Q. 공백 제거  \n",
        "다음 문자열의 양쪽 공백을 모두 제거하기 \n"
      ]
    },
    {
      "cell_type": "code",
      "metadata": {
        "id": "keOD-JOwR0wb",
        "colab_type": "code",
        "colab": {}
      },
      "source": [
        "'       양쪽 공백을 제거하기    '"
      ],
      "execution_count": null,
      "outputs": []
    },
    {
      "cell_type": "markdown",
      "metadata": {
        "colab_type": "text",
        "id": "MiJ3Ip3mOq2Q"
      },
      "source": [
        "A."
      ]
    },
    {
      "cell_type": "code",
      "metadata": {
        "id": "6_wPJIecR64f",
        "colab_type": "code",
        "colab": {}
      },
      "source": [
        "'       양쪽 공백을 제거하기    '.strip()"
      ],
      "execution_count": null,
      "outputs": []
    },
    {
      "cell_type": "markdown",
      "metadata": {
        "colab_type": "text",
        "id": "9z1WW5WKOvfg"
      },
      "source": [
        "Q. 위치 찾기  \n",
        "다음 문자열에서 '대한'이라는 문자가 처음 나올 때 위치는? (왼쪽부터 찾기)\n"
      ]
    },
    {
      "cell_type": "code",
      "metadata": {
        "id": "nTwUhIVzSX9S",
        "colab_type": "code",
        "colab": {}
      },
      "source": [
        "string ='''무궁화 삼천리 화려 강산 \n",
        "대한 사람, 대한으로 길이 보전하세.'''"
      ],
      "execution_count": null,
      "outputs": []
    },
    {
      "cell_type": "markdown",
      "metadata": {
        "colab_type": "text",
        "id": "F_1U57MQOq-V"
      },
      "source": [
        "A."
      ]
    },
    {
      "cell_type": "code",
      "metadata": {
        "id": "MEdSnKFKShnl",
        "colab_type": "code",
        "colab": {}
      },
      "source": [
        "string.find('대한')"
      ],
      "execution_count": null,
      "outputs": []
    },
    {
      "cell_type": "markdown",
      "metadata": {
        "colab_type": "text",
        "id": "foLI2KAbOvyN"
      },
      "source": [
        "Q. 특정 문자로 자르기\n",
        "다음 문자열을 '*' 기준으로 자르기\n"
      ]
    },
    {
      "cell_type": "code",
      "metadata": {
        "id": "ymXFd8hdSzpd",
        "colab_type": "code",
        "colab": {}
      },
      "source": [
        "string = '''제1장 총강\n",
        "*제1조 ①대한민국은 민주공화국이다. \n",
        "②대한민국의 주권은 국민에게 있고, 모든 권력은 국민으로부터 나온다.\n",
        "*제2조 ①대한민국의 국민이 되는 요건은 법률로 정한다.\n",
        "②국가는 법률이 정하는 바에 의하여 재외국민을 보호할 의무를 진다.\n",
        "*제3조 대한민국의 영토는 한반도와 그 부속도서로 한다.\n",
        "*제4조 대한민국은 통일을 지향하며, 자유민주적 기본질서에 입각한 평화적 통일 정책을 수립하고 이를 추진한다.'''"
      ],
      "execution_count": null,
      "outputs": []
    },
    {
      "cell_type": "markdown",
      "metadata": {
        "colab_type": "text",
        "id": "tp6q5AQiOrD3"
      },
      "source": [
        "A."
      ]
    },
    {
      "cell_type": "code",
      "metadata": {
        "id": "vQ4U1OSJTZL8",
        "colab_type": "code",
        "colab": {}
      },
      "source": [
        "string.split('*')"
      ],
      "execution_count": null,
      "outputs": []
    },
    {
      "cell_type": "markdown",
      "metadata": {
        "colab_type": "text",
        "id": "V5zq16oEOwgQ"
      },
      "source": [
        "Q. 문자열 삽입  \n",
        "다음 문자열의 각각의 문자 사이에 공백' '을 삽입하기\n"
      ]
    },
    {
      "cell_type": "code",
      "metadata": {
        "id": "Sq8vm0asTsjQ",
        "colab_type": "code",
        "colab": {}
      },
      "source": [
        "string = '0123456789'"
      ],
      "execution_count": null,
      "outputs": []
    },
    {
      "cell_type": "markdown",
      "metadata": {
        "colab_type": "text",
        "id": "rKeNmGg8OrWd"
      },
      "source": [
        "A."
      ]
    },
    {
      "cell_type": "code",
      "metadata": {
        "id": "qhjcpyVwj9oi",
        "colab_type": "code",
        "colab": {}
      },
      "source": [
        "' '.join(string)"
      ],
      "execution_count": null,
      "outputs": []
    },
    {
      "cell_type": "markdown",
      "metadata": {
        "id": "mDikhuziz9rB",
        "colab_type": "text"
      },
      "source": [
        "## 불\n"
      ]
    },
    {
      "cell_type": "code",
      "metadata": {
        "id": "znEmMQ3KxhgZ",
        "colab_type": "code",
        "colab": {}
      },
      "source": [
        "True"
      ],
      "execution_count": null,
      "outputs": []
    },
    {
      "cell_type": "code",
      "metadata": {
        "id": "g1If2POq0BYT",
        "colab_type": "code",
        "colab": {}
      },
      "source": [
        "type(True)"
      ],
      "execution_count": null,
      "outputs": []
    },
    {
      "cell_type": "code",
      "metadata": {
        "id": "F9JvLmloxi5I",
        "colab_type": "code",
        "colab": {}
      },
      "source": [
        "False"
      ],
      "execution_count": null,
      "outputs": []
    },
    {
      "cell_type": "code",
      "metadata": {
        "id": "indFxBtk0Bbl",
        "colab_type": "code",
        "colab": {}
      },
      "source": [
        "type(False)"
      ],
      "execution_count": null,
      "outputs": []
    },
    {
      "cell_type": "markdown",
      "metadata": {
        "id": "4tGPeSgT4Uzs",
        "colab_type": "text"
      },
      "source": [
        "### 비교 연산자"
      ]
    },
    {
      "cell_type": "code",
      "metadata": {
        "id": "gIglY2G-0BfB",
        "colab_type": "code",
        "colab": {}
      },
      "source": [
        "10 < 20"
      ],
      "execution_count": null,
      "outputs": []
    },
    {
      "cell_type": "code",
      "metadata": {
        "id": "dTzJVVba4YWR",
        "colab_type": "code",
        "colab": {}
      },
      "source": [
        "10 > 20"
      ],
      "execution_count": null,
      "outputs": []
    },
    {
      "cell_type": "code",
      "metadata": {
        "id": "eDzH8LNz4Z02",
        "colab_type": "code",
        "colab": {}
      },
      "source": [
        "10 <= 20"
      ],
      "execution_count": null,
      "outputs": []
    },
    {
      "cell_type": "code",
      "metadata": {
        "id": "D2zFbEzV2h3x",
        "colab_type": "code",
        "colab": {}
      },
      "source": [
        "10 >= 20"
      ],
      "execution_count": null,
      "outputs": []
    },
    {
      "cell_type": "code",
      "metadata": {
        "id": "nc1XMxVX2Xtj",
        "colab_type": "code",
        "colab": {}
      },
      "source": [
        "10 == 20"
      ],
      "execution_count": null,
      "outputs": []
    },
    {
      "cell_type": "code",
      "metadata": {
        "id": "6NDDEQzW2PTX",
        "colab_type": "code",
        "colab": {}
      },
      "source": [
        "10 != 20"
      ],
      "execution_count": null,
      "outputs": []
    },
    {
      "cell_type": "code",
      "metadata": {
        "id": "5YVkEeDFxnBm",
        "colab_type": "code",
        "colab": {}
      },
      "source": [
        "'a' == 'a'"
      ],
      "execution_count": null,
      "outputs": []
    },
    {
      "cell_type": "code",
      "metadata": {
        "id": "E4rBopvgxpBw",
        "colab_type": "code",
        "colab": {}
      },
      "source": [
        "'a' != 'a'"
      ],
      "execution_count": null,
      "outputs": []
    },
    {
      "cell_type": "code",
      "metadata": {
        "id": "DMZ7SOwxxo85",
        "colab_type": "code",
        "colab": {}
      },
      "source": [
        "'a' == 'b'"
      ],
      "execution_count": null,
      "outputs": []
    },
    {
      "cell_type": "code",
      "metadata": {
        "id": "sv2e3dYHx0Qy",
        "colab_type": "code",
        "colab": {}
      },
      "source": [
        "'a' in 'abc'"
      ],
      "execution_count": null,
      "outputs": []
    },
    {
      "cell_type": "code",
      "metadata": {
        "id": "qu3rCFRjx3-o",
        "colab_type": "code",
        "colab": {}
      },
      "source": [
        "'ab' in 'abc'"
      ],
      "execution_count": null,
      "outputs": []
    },
    {
      "cell_type": "markdown",
      "metadata": {
        "id": "DLDG3I6K4g6V",
        "colab_type": "text"
      },
      "source": [
        "### 논리 연산자"
      ]
    },
    {
      "cell_type": "code",
      "metadata": {
        "id": "-pFmoPpO_Nq4",
        "colab_type": "code",
        "colab": {}
      },
      "source": [
        "a = True\n",
        "not a"
      ],
      "execution_count": null,
      "outputs": []
    },
    {
      "cell_type": "code",
      "metadata": {
        "id": "8t3nzuHz_Ny0",
        "colab_type": "code",
        "colab": {}
      },
      "source": [
        "b = False\n",
        "not b"
      ],
      "execution_count": null,
      "outputs": []
    },
    {
      "cell_type": "code",
      "metadata": {
        "id": "NhLS0Zt79YGm",
        "colab_type": "code",
        "colab": {}
      },
      "source": [
        "a = True\n",
        "b = True\n",
        "print(a and b)\n",
        "print(a or b)"
      ],
      "execution_count": null,
      "outputs": []
    },
    {
      "cell_type": "code",
      "metadata": {
        "id": "AfnndhDd9YJw",
        "colab_type": "code",
        "colab": {}
      },
      "source": [
        "a = True\n",
        "b = False\n",
        "print(a and b)\n",
        "print(a or b)"
      ],
      "execution_count": null,
      "outputs": []
    },
    {
      "cell_type": "code",
      "metadata": {
        "id": "6PTLybSd9YNC",
        "colab_type": "code",
        "colab": {}
      },
      "source": [
        "a = False\n",
        "b = False\n",
        "print(a and b)\n",
        "print(a or b)"
      ],
      "execution_count": null,
      "outputs": []
    },
    {
      "cell_type": "markdown",
      "metadata": {
        "id": "fQB9wiY_-N3s",
        "colab_type": "text"
      },
      "source": [
        "# Appendix"
      ]
    },
    {
      "cell_type": "markdown",
      "metadata": {
        "id": "MpeQ04U1-VwM",
        "colab_type": "text"
      },
      "source": [
        "## 변수명 짓기"
      ]
    },
    {
      "cell_type": "markdown",
      "metadata": {
        "id": "BGchMbvs-a7r",
        "colab_type": "text"
      },
      "source": [
        "키워드 검사하는 방법"
      ]
    },
    {
      "cell_type": "code",
      "metadata": {
        "id": "A6SZOW0u-ZGQ",
        "colab_type": "code",
        "cellView": "both",
        "colab": {}
      },
      "source": [
        "import keyword"
      ],
      "execution_count": null,
      "outputs": []
    },
    {
      "cell_type": "code",
      "metadata": {
        "id": "kQ_xL-vK-ZLM",
        "colab_type": "code",
        "cellView": "both",
        "colab": {}
      },
      "source": [
        "keyword.iskeyword('if')"
      ],
      "execution_count": null,
      "outputs": []
    },
    {
      "cell_type": "code",
      "metadata": {
        "id": "B-4xy1zz-jl3",
        "colab_type": "code",
        "cellView": "both",
        "colab": {}
      },
      "source": [
        "keyword.iskeyword('If')"
      ],
      "execution_count": null,
      "outputs": []
    },
    {
      "cell_type": "code",
      "metadata": {
        "id": "dtupIN_4-je5",
        "colab_type": "code",
        "cellView": "both",
        "colab": {}
      },
      "source": [
        "keyword.iskeyword('from')"
      ],
      "execution_count": null,
      "outputs": []
    },
    {
      "cell_type": "code",
      "metadata": {
        "id": "PY1fPGHl-jh4",
        "colab_type": "code",
        "cellView": "both",
        "colab": {}
      },
      "source": [
        "keyword.iskeyword('a')"
      ],
      "execution_count": null,
      "outputs": []
    },
    {
      "cell_type": "markdown",
      "metadata": {
        "id": "ZSxQICd8-PSu",
        "colab_type": "text"
      },
      "source": [
        "## 자료형의 참과 거짓"
      ]
    },
    {
      "cell_type": "code",
      "metadata": {
        "id": "94cpQcyX4drs",
        "colab_type": "code",
        "cellView": "both",
        "colab": {}
      },
      "source": [
        "print(bool(None))"
      ],
      "execution_count": null,
      "outputs": []
    },
    {
      "cell_type": "code",
      "metadata": {
        "id": "LSWjBOOw5Grc",
        "colab_type": "code",
        "cellView": "both",
        "colab": {}
      },
      "source": [
        "print(bool(0)) \n",
        "print(bool(1))"
      ],
      "execution_count": null,
      "outputs": []
    },
    {
      "cell_type": "code",
      "metadata": {
        "id": "1eIb5Dn05Gus",
        "colab_type": "code",
        "cellView": "both",
        "colab": {}
      },
      "source": [
        "print(bool(0.0)) \n",
        "print(bool(1.0))"
      ],
      "execution_count": null,
      "outputs": []
    },
    {
      "cell_type": "code",
      "metadata": {
        "id": "hLghgU1Q5Gy6",
        "colab_type": "code",
        "cellView": "both",
        "colab": {}
      },
      "source": [
        "print(bool(''))\n",
        "print(bool('abc'))\n"
      ],
      "execution_count": null,
      "outputs": []
    },
    {
      "cell_type": "code",
      "metadata": {
        "id": "-Nylb9lR5G2y",
        "colab_type": "code",
        "cellView": "both",
        "colab": {}
      },
      "source": [
        "print(bool([]))\n",
        "print(bool(['a','b','c']))"
      ],
      "execution_count": null,
      "outputs": []
    },
    {
      "cell_type": "code",
      "metadata": {
        "id": "7hyuWXel5tid",
        "colab_type": "code",
        "cellView": "both",
        "colab": {}
      },
      "source": [
        "print(bool(()))\n",
        "print(bool(('a','b','c')))"
      ],
      "execution_count": null,
      "outputs": []
    },
    {
      "cell_type": "code",
      "metadata": {
        "id": "ZULZXyte515a",
        "colab_type": "code",
        "cellView": "both",
        "colab": {}
      },
      "source": [
        "print(bool({}))\n",
        "print(bool({'a':0,'b':1}))"
      ],
      "execution_count": null,
      "outputs": []
    },
    {
      "cell_type": "code",
      "metadata": {
        "id": "NT-GyimL5tqO",
        "colab_type": "code",
        "cellView": "both",
        "colab": {}
      },
      "source": [
        "print(bool(set()))\n",
        "print(bool({'a','b','c'}))"
      ],
      "execution_count": null,
      "outputs": []
    }
  ]
}