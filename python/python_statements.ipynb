{
  "nbformat": 4,
  "nbformat_minor": 0,
  "metadata": {
    "colab": {
      "name": "python_statements.ipynb",
      "provenance": [],
      "collapsed_sections": []
    },
    "kernelspec": {
      "name": "python3",
      "display_name": "Python 3"
    }
  },
  "cells": [
    {
      "cell_type": "markdown",
      "metadata": {
        "id": "XRy75iZtJG5M",
        "colab_type": "text"
      },
      "source": [
        "# 목차\n",
        "1. [if](#if)  \n",
        "[퀴즈-if](#퀴즈-if)  \n",
        "[퀴즈정답-if](#퀴즈정답-if)  \n",
        "2. [while](#while)  \n",
        "[퀴즈-while](#퀴즈-while)  \n",
        "[퀴즈정답-while](#퀴즈정답-while)  \n",
        "3. [for](#for)  \n",
        "[퀴즈-for](#퀴즈-for)  \n",
        "[퀴즈정답-for](#퀴즈정답-for)  "
      ]
    },
    {
      "cell_type": "markdown",
      "metadata": {
        "id": "p88oQxTeDy6H",
        "colab_type": "text"
      },
      "source": [
        "# Statements"
      ]
    },
    {
      "cell_type": "markdown",
      "metadata": {
        "id": "PWl6WXcjD10m",
        "colab_type": "text"
      },
      "source": [
        "## if "
      ]
    },
    {
      "cell_type": "markdown",
      "metadata": {
        "id": "4wwCtQPjSYWG",
        "colab_type": "text"
      },
      "source": [
        "### if"
      ]
    },
    {
      "cell_type": "code",
      "metadata": {
        "id": "4tHHS6tRD3Y2",
        "colab_type": "code",
        "colab": {}
      },
      "source": [
        "if True:\n",
        "    print('참입니다.')"
      ],
      "execution_count": null,
      "outputs": []
    },
    {
      "cell_type": "code",
      "metadata": {
        "id": "llAGsFh_D3V1",
        "colab_type": "code",
        "colab": {}
      },
      "source": [
        "if False:\n",
        "    print('거짓입니다.')"
      ],
      "execution_count": null,
      "outputs": []
    },
    {
      "cell_type": "code",
      "metadata": {
        "id": "emTfziiiJmEA",
        "colab_type": "code",
        "colab": {}
      },
      "source": [
        "x = 100\n",
        "y = 200 "
      ],
      "execution_count": null,
      "outputs": []
    },
    {
      "cell_type": "code",
      "metadata": {
        "id": "wSh6PpYOJl8c",
        "colab_type": "code",
        "colab": {}
      },
      "source": [
        "if x == y:\n",
        "    print('x와 y는 같습니다.')"
      ],
      "execution_count": null,
      "outputs": []
    },
    {
      "cell_type": "code",
      "metadata": {
        "id": "td_rA5_-JmI9",
        "colab_type": "code",
        "colab": {}
      },
      "source": [
        "if x < y:\n",
        "    print('x가 y보다 작습니다.')"
      ],
      "execution_count": null,
      "outputs": []
    },
    {
      "cell_type": "code",
      "metadata": {
        "id": "uiMhobNnJl_p",
        "colab_type": "code",
        "colab": {}
      },
      "source": [
        "if x > y:\n",
        "    print('x가 y보다 큽니다.')"
      ],
      "execution_count": null,
      "outputs": []
    },
    {
      "cell_type": "code",
      "metadata": {
        "id": "44Am_BebPBMR",
        "colab_type": "code",
        "colab": {}
      },
      "source": [
        "fruits = ['Banana', 'Apple', 'Orange']\n",
        "if 'Watermelon' not in fruits:\n",
        "    print('수박이 없습니다.')"
      ],
      "execution_count": null,
      "outputs": []
    },
    {
      "cell_type": "code",
      "metadata": {
        "id": "EVMVdAMWCa_D",
        "colab_type": "code",
        "colab": {}
      },
      "source": [
        "s = {'a', 'b', 'c', 'd'}\n",
        "if 'k' not in s:\n",
        "    s.add('k')\n",
        "s"
      ],
      "execution_count": null,
      "outputs": []
    },
    {
      "cell_type": "code",
      "metadata": {
        "id": "gAHDO-kdbPBW",
        "colab_type": "code",
        "colab": {}
      },
      "source": [
        "x = 100\n",
        "if x > 10:    #error\n"
      ],
      "execution_count": null,
      "outputs": []
    },
    {
      "cell_type": "code",
      "metadata": {
        "id": "afPBRWa2CPr7",
        "colab_type": "code",
        "colab": {}
      },
      "source": [
        "x = 100\n",
        "if x > 10:    \n",
        "    pass"
      ],
      "execution_count": null,
      "outputs": []
    },
    {
      "cell_type": "markdown",
      "metadata": {
        "id": "mb02H8eFKhO0",
        "colab_type": "text"
      },
      "source": [
        "### if else"
      ]
    },
    {
      "cell_type": "code",
      "metadata": {
        "id": "9MW-ajnFJl5H",
        "colab_type": "code",
        "colab": {}
      },
      "source": [
        "x = 100\n",
        "y = 200 \n",
        "if x < y:\n",
        "    print('x가 y보다 작습니다.')\n",
        "else:\n",
        "    print('x가 y보다 크거나 같습니다.')"
      ],
      "execution_count": null,
      "outputs": []
    },
    {
      "cell_type": "code",
      "metadata": {
        "id": "cHmsHyWsJl1w",
        "colab_type": "code",
        "colab": {}
      },
      "source": [
        "if x == y:\n",
        "    print('x와 y는 같습니다.')\n",
        "else:\n",
        "    print('x와 y는 다릅니다.')"
      ],
      "execution_count": null,
      "outputs": []
    },
    {
      "cell_type": "code",
      "metadata": {
        "id": "JxEvg-n5SrnG",
        "colab_type": "code",
        "colab": {}
      },
      "source": [
        "if x != y:\n",
        "    print('x와 y는 다릅니다.')\n",
        "else:\n",
        "    print('x와 y는 같습니다.')"
      ],
      "execution_count": null,
      "outputs": []
    },
    {
      "cell_type": "code",
      "metadata": {
        "id": "5RC3JviKPd_z",
        "colab_type": "code",
        "colab": {}
      },
      "source": [
        "fruits = ['Banana', 'Apple', 'Orange']\n",
        "if 'Watermelon' in fruits:\n",
        "    print('수박이 있습니다.')\n",
        "else:\n",
        "    print('수박이 없습니다.')"
      ],
      "execution_count": null,
      "outputs": []
    },
    {
      "cell_type": "code",
      "metadata": {
        "id": "Twe3a0ZwPeFt",
        "colab_type": "code",
        "colab": {}
      },
      "source": [
        "fruits = ['Banana', 'Apple', 'Orange']\n",
        "if 'Banana' in fruits:\n",
        "    print('바나나가 있습니다.')\n",
        "else:\n",
        "    print('바나나가 없습니다.')"
      ],
      "execution_count": null,
      "outputs": []
    },
    {
      "cell_type": "code",
      "metadata": {
        "id": "Kq2_pC0wC3o1",
        "colab_type": "code",
        "colab": {}
      },
      "source": [
        "stocks = ['GOOGL', 'MSFT', 'AAPL', 'AMZN', 'TSLA']\n",
        "if 'EBAY' in stocks:\n",
        "    print('이미 존재합니다.')\n",
        "else:\n",
        "    stocks.append('EBAY')\n",
        "stocks"
      ],
      "execution_count": null,
      "outputs": []
    },
    {
      "cell_type": "code",
      "metadata": {
        "id": "Bkc3GWPLSxay",
        "colab_type": "code",
        "colab": {}
      },
      "source": [
        "age = 15\n",
        "score = 50\n",
        "\n",
        "if age < 13:\n",
        "    if score > 30: \n",
        "        print('통과!')\n",
        "    else:\n",
        "        print('실패!')\n",
        "else:\n",
        "    if score > 60:\n",
        "        print('통과!!')\n",
        "    else:\n",
        "        print('실패!!')"
      ],
      "execution_count": null,
      "outputs": []
    },
    {
      "cell_type": "markdown",
      "metadata": {
        "id": "R78sf5GFSyHi",
        "colab_type": "text"
      },
      "source": [
        "### if elif else"
      ]
    },
    {
      "cell_type": "code",
      "metadata": {
        "id": "wpMdCvVUSxiP",
        "colab_type": "code",
        "colab": {}
      },
      "source": [
        "x = 200\n",
        "y = 0\n",
        "if x == y:\n",
        "    print('x와 y는 같습니다.')\n",
        "elif x > y:\n",
        "    print('x는 y보다 큽니다.')\n",
        "else:\n",
        "    print('x는 y보다 작습니다.')"
      ],
      "execution_count": null,
      "outputs": []
    },
    {
      "cell_type": "code",
      "metadata": {
        "id": "OEKTGTHeSxeD",
        "colab_type": "code",
        "colab": {}
      },
      "source": [
        "score = 60\n",
        "\n",
        "if score > 90:\n",
        "    grade = 'A'\n",
        "elif score > 70: \n",
        "    grade = 'B'\n",
        "elif score > 50: \n",
        "    grade = 'C'\n",
        "else:\n",
        "    grade = 'D'\n",
        "\n",
        "grade"
      ],
      "execution_count": null,
      "outputs": []
    },
    {
      "cell_type": "code",
      "metadata": {
        "id": "h8t-NxIFSxXU",
        "colab_type": "code",
        "colab": {}
      },
      "source": [
        "a = 10\n",
        "if a > 0:\n",
        "    print('양수입니다')\n",
        "elif a < 0:\n",
        "    print('음수입니다')\n",
        "else:\n",
        "    print('0입니다')"
      ],
      "execution_count": null,
      "outputs": []
    },
    {
      "cell_type": "markdown",
      "metadata": {
        "colab_type": "text",
        "id": "aXJZuOvRGFsm"
      },
      "source": [
        "### 퀴즈-if"
      ]
    },
    {
      "cell_type": "markdown",
      "metadata": {
        "colab_type": "text",
        "id": "F5mpDlleGFsn"
      },
      "source": [
        "Q. 다음 코드가 오류가 난 이유는?   \n",
        "오류가 나지 않도록 수정하기\n"
      ]
    },
    {
      "cell_type": "code",
      "metadata": {
        "colab_type": "code",
        "id": "Z37KFmY-GFso",
        "colab": {}
      },
      "source": [
        "x = 100\n",
        "if x > 50:\n",
        "print('통과')"
      ],
      "execution_count": null,
      "outputs": []
    },
    {
      "cell_type": "markdown",
      "metadata": {
        "colab_type": "text",
        "id": "WI2A8kfiGFsu"
      },
      "source": [
        "Q. 다음 코드를 실행하기 전에 결과값을 예측해보기\n"
      ]
    },
    {
      "cell_type": "code",
      "metadata": {
        "colab_type": "code",
        "id": "zYHIU04BGFsu",
        "colab": {}
      },
      "source": [
        "x = 10\n",
        "y = -5\n",
        "if x > 0 and y > 0:\n",
        "    if x > y:\n",
        "        print(x)\n",
        "    else:\n",
        "        print(y)\n",
        "else:\n",
        "    if x != y:\n",
        "        print(x + y)\n",
        "    else:\n",
        "        print(x * y)"
      ],
      "execution_count": null,
      "outputs": []
    },
    {
      "cell_type": "markdown",
      "metadata": {
        "colab_type": "text",
        "id": "nigS2nVwGFsw"
      },
      "source": [
        "Q. 다음 중첩 조건문에 논리 연산자를 적용해 하나의 if 조건문으로 만들기\n"
      ]
    },
    {
      "cell_type": "code",
      "metadata": {
        "colab_type": "code",
        "id": "rFb9LVD-GFsx",
        "colab": {}
      },
      "source": [
        "x = 50\n",
        "if x > 10:\n",
        "    if x < 100:\n",
        "        print('조건에 맞는 숫자입니다.')"
      ],
      "execution_count": null,
      "outputs": []
    },
    {
      "cell_type": "markdown",
      "metadata": {
        "colab_type": "text",
        "id": "rShzTyK6GFs0"
      },
      "source": [
        "Q. money가 10000 이상이면 택시를 타고  \n",
        "1000 이상 10000 미만이면 버스를 타고  \n",
        "1000 미만인 경우 걸어가고자 함.  \n",
        "조건에 맞도록 다음 코드를 완성하기\n",
        "\n"
      ]
    },
    {
      "cell_type": "code",
      "metadata": {
        "colab_type": "code",
        "id": "WKzgaxpNGFs1",
        "colab": {}
      },
      "source": [
        "money = 500\n",
        "if \n",
        "\n",
        "elif\n",
        "\n",
        "else"
      ],
      "execution_count": null,
      "outputs": []
    },
    {
      "cell_type": "markdown",
      "metadata": {
        "id": "CrIZBYE9dgDy",
        "colab_type": "text"
      },
      "source": [
        "### 퀴즈정답-if"
      ]
    },
    {
      "cell_type": "markdown",
      "metadata": {
        "colab_type": "text",
        "id": "R7MLtT00BoLL"
      },
      "source": [
        "Q. 다음 코드가 오류가 난 이유는?   \n",
        "오류가 나지 않도록 수정하기\n"
      ]
    },
    {
      "cell_type": "code",
      "metadata": {
        "colab_type": "code",
        "id": "BvvSizqyBoLM",
        "colab": {}
      },
      "source": [
        "x = 100\n",
        "if x > 50:\n",
        "print('통과')"
      ],
      "execution_count": null,
      "outputs": []
    },
    {
      "cell_type": "markdown",
      "metadata": {
        "colab_type": "text",
        "id": "39WZxwILBoLN"
      },
      "source": [
        "A."
      ]
    },
    {
      "cell_type": "code",
      "metadata": {
        "colab_type": "code",
        "id": "BSpevVptBoLO",
        "colab": {}
      },
      "source": [
        "x = 100\n",
        "if x > 50:\n",
        "    print('통과')"
      ],
      "execution_count": null,
      "outputs": []
    },
    {
      "cell_type": "markdown",
      "metadata": {
        "colab_type": "text",
        "id": "w8VAYipzBoo7"
      },
      "source": [
        "Q. 다음 코드를 실행하기 전에 결과값을 예측해보기\n"
      ]
    },
    {
      "cell_type": "code",
      "metadata": {
        "colab_type": "code",
        "id": "1zS-X2feBoo8",
        "colab": {}
      },
      "source": [
        "x = 10\n",
        "y = -5\n",
        "if x > 0 and y > 0:\n",
        "    if x > y:\n",
        "        print(x)\n",
        "    else:\n",
        "        print(y)\n",
        "else:\n",
        "    if x != y:\n",
        "        print(x + y)\n",
        "    else:\n",
        "        print(x * y)"
      ],
      "execution_count": null,
      "outputs": []
    },
    {
      "cell_type": "markdown",
      "metadata": {
        "colab_type": "text",
        "id": "CqsiK3TIBoo9"
      },
      "source": [
        "A. 5"
      ]
    },
    {
      "cell_type": "markdown",
      "metadata": {
        "colab_type": "text",
        "id": "_zr5MTJjBp4b"
      },
      "source": [
        "Q. 다음 중첩 조건문에 논리 연산자를 적용해 하나의 if 조건문으로 만들기\n"
      ]
    },
    {
      "cell_type": "code",
      "metadata": {
        "colab_type": "code",
        "id": "opZdq-AgBp4c",
        "colab": {}
      },
      "source": [
        "x = 50\n",
        "if x > 10:\n",
        "    if x < 100:\n",
        "        print('조건에 맞는 숫자입니다.')"
      ],
      "execution_count": null,
      "outputs": []
    },
    {
      "cell_type": "markdown",
      "metadata": {
        "colab_type": "text",
        "id": "5ApNprcJBp4d"
      },
      "source": [
        "A."
      ]
    },
    {
      "cell_type": "code",
      "metadata": {
        "colab_type": "code",
        "id": "x8ALHK6TBp4e",
        "colab": {}
      },
      "source": [
        "x = 50\n",
        "if x > 10 and x < 100:\n",
        "    print('조건에 맞는 숫자입니다.')"
      ],
      "execution_count": null,
      "outputs": []
    },
    {
      "cell_type": "markdown",
      "metadata": {
        "colab_type": "text",
        "id": "VXCpfS4EBqjE"
      },
      "source": [
        "Q. money가 10000 이상이면 택시를 타고  \n",
        "1000 이상 10000 미만이면 버스를 타고  \n",
        "1000 미만인 경우 걸어가고자 함.  \n",
        "조건에 맞도록 다음 코드를 완성하기\n",
        "\n"
      ]
    },
    {
      "cell_type": "code",
      "metadata": {
        "colab_type": "code",
        "id": "uBYbTzYDBqjE",
        "colab": {}
      },
      "source": [
        "money = 500\n",
        "if \n",
        "\n",
        "elif\n",
        "\n",
        "else"
      ],
      "execution_count": null,
      "outputs": []
    },
    {
      "cell_type": "markdown",
      "metadata": {
        "colab_type": "text",
        "id": "YJifeOK-BqjG"
      },
      "source": [
        "A."
      ]
    },
    {
      "cell_type": "code",
      "metadata": {
        "colab_type": "code",
        "id": "asWojn0pBqjG",
        "colab": {}
      },
      "source": [
        "money = 500\n",
        "if money >= 10000:\n",
        "    print('택시를 탄다')\n",
        "elif money >= 1000:\n",
        "    print('버스를 탄다')\n",
        "else:\n",
        "    print('걸어간다')"
      ],
      "execution_count": null,
      "outputs": []
    },
    {
      "cell_type": "markdown",
      "metadata": {
        "id": "4psH9id6fvd0",
        "colab_type": "text"
      },
      "source": [
        "## while"
      ]
    },
    {
      "cell_type": "markdown",
      "metadata": {
        "id": "Z6tG0-onoHmT",
        "colab_type": "text"
      },
      "source": [
        "### while"
      ]
    },
    {
      "cell_type": "code",
      "metadata": {
        "id": "qhCkZzOlfyxD",
        "colab_type": "code",
        "colab": {}
      },
      "source": [
        "x = 0\n",
        "while x < 5:\n",
        "    print(x)\n",
        "    x += 1"
      ],
      "execution_count": null,
      "outputs": []
    },
    {
      "cell_type": "code",
      "metadata": {
        "id": "Tmp1qIVsD9xD",
        "colab_type": "code",
        "colab": {}
      },
      "source": [
        "x = 0\n",
        "while x < 5:\n",
        "    x += 1\n",
        "print(x)"
      ],
      "execution_count": null,
      "outputs": []
    },
    {
      "cell_type": "code",
      "metadata": {
        "id": "ZEfhPhZ_fys4",
        "colab_type": "code",
        "colab": {}
      },
      "source": [
        "numbers = [100, 200, 0, 20, 50]\n",
        "i = 0\n",
        "while i < len(numbers):\n",
        "    print(numbers[i])\n",
        "    i += 1"
      ],
      "execution_count": null,
      "outputs": []
    },
    {
      "cell_type": "code",
      "metadata": {
        "id": "k2GHWjD5fyoe",
        "colab_type": "code",
        "colab": {}
      },
      "source": [
        "# 짝수만 출력하기\n",
        "numbers = [16, 13, 52, 3, 1, 11, 47, 20, 0, 24, 53]\n",
        "i = 0\n",
        "while i < len(numbers):\n",
        "    if numbers[i] % 2 == 0:\n",
        "        print(numbers[i])\n",
        "    i += 1"
      ],
      "execution_count": null,
      "outputs": []
    },
    {
      "cell_type": "markdown",
      "metadata": {
        "id": "GaXrXN10fvY1",
        "colab_type": "text"
      },
      "source": [
        "### break"
      ]
    },
    {
      "cell_type": "code",
      "metadata": {
        "id": "tC7CkUH-fyjk",
        "colab_type": "code",
        "colab": {}
      },
      "source": [
        "while True:\n",
        "    x = input('단어를 입력하세요 ')\n",
        "    if x == 'end': \n",
        "        break\n",
        "    print('입력:', x)"
      ],
      "execution_count": null,
      "outputs": []
    },
    {
      "cell_type": "code",
      "metadata": {
        "id": "BvkQtL7_qPnv",
        "colab_type": "code",
        "colab": {}
      },
      "source": [
        "string = 'saldk;flksaldfnslafhkljqflnd;ahsdflvavdn;afjd'\n",
        "i = 0\n",
        "while i < len(string):\n",
        "    print(string[i])\n",
        "    if string[i] == ';':\n",
        "        break\n",
        "    i += 1"
      ],
      "execution_count": null,
      "outputs": []
    },
    {
      "cell_type": "markdown",
      "metadata": {
        "id": "eyvuaXoIfvUR",
        "colab_type": "text"
      },
      "source": [
        "### continue"
      ]
    },
    {
      "cell_type": "code",
      "metadata": {
        "id": "-wbtMe5soQaI",
        "colab_type": "code",
        "colab": {}
      },
      "source": [
        "while True:\n",
        "    x = input('정수입력하기(종료:q)')\n",
        "    if x == 'q':\n",
        "        break\n",
        "    num = int(x)\n",
        "    if num % 2 != 0:\n",
        "        continue\n",
        "    print(num, 'squared is', num*num)"
      ],
      "execution_count": null,
      "outputs": []
    },
    {
      "cell_type": "code",
      "metadata": {
        "id": "przEbLaWoQmj",
        "colab_type": "code",
        "colab": {}
      },
      "source": [
        "x = 1000\n",
        "while x > 0:\n",
        "    print(x)\n",
        "    if x < 50:\n",
        "        x -= 10\n",
        "        continue\n",
        "    x /= 2"
      ],
      "execution_count": null,
      "outputs": []
    },
    {
      "cell_type": "markdown",
      "metadata": {
        "colab_type": "text",
        "id": "CVg-hjjtzNGx"
      },
      "source": [
        "### 퀴즈-while"
      ]
    },
    {
      "cell_type": "markdown",
      "metadata": {
        "colab_type": "text",
        "id": "qVDWdyKRzNGy"
      },
      "source": [
        "Q. while 문을 사용해서 다음과 같이 별(*)을 출력해보기\n",
        "```\n",
        "*\n",
        "**\n",
        "***\n",
        "****\n",
        "*****\n",
        "******\n",
        "*******\n",
        "********\n",
        "*********\n",
        "**********\n",
        "```"
      ]
    },
    {
      "cell_type": "code",
      "metadata": {
        "colab_type": "code",
        "id": "YMMvAIj3zNGz",
        "colab": {}
      },
      "source": [
        ""
      ],
      "execution_count": null,
      "outputs": []
    },
    {
      "cell_type": "markdown",
      "metadata": {
        "colab_type": "text",
        "id": "_WrH7Bx-zNG6"
      },
      "source": [
        "Q. 5000보다 작은 2의 배수를 하나의 리스트로 출력해보기\n"
      ]
    },
    {
      "cell_type": "code",
      "metadata": {
        "colab_type": "code",
        "id": "fthsoWrlzNG6",
        "colab": {}
      },
      "source": [
        ""
      ],
      "execution_count": null,
      "outputs": []
    },
    {
      "cell_type": "markdown",
      "metadata": {
        "colab_type": "text",
        "id": "1q7uDvjQzNG-"
      },
      "source": [
        "Q.  키와 밸류로 이루어진 각 리스트를 순서대로 조합하여 하나의 딕셔너리 만들어보기  \n",
        "```{'name': '땡땡이', 'age': 10, 'address': '제주도', 'phone': '010-111-2222'}```\n"
      ]
    },
    {
      "cell_type": "code",
      "metadata": {
        "colab_type": "code",
        "id": "rWVrov9IzNG-",
        "colab": {}
      },
      "source": [
        "key_list = ['name', 'age', 'address', 'phone']\n",
        "val_list = ['땡땡이', 10, '제주도', '010-111-2222']"
      ],
      "execution_count": null,
      "outputs": []
    },
    {
      "cell_type": "markdown",
      "metadata": {
        "colab_type": "text",
        "id": "Cqvwnqg2zNHC"
      },
      "source": [
        "Q. 다음 코드를 완성해서 구구단 7단을 출력해보기  \n"
      ]
    },
    {
      "cell_type": "code",
      "metadata": {
        "colab_type": "code",
        "id": "1EOJ8UHFzNHC",
        "colab": {}
      },
      "source": [
        "i = 1\n",
        "while True:\n",
        "    print('7 *', i, '=',  7*i)"
      ],
      "execution_count": null,
      "outputs": []
    },
    {
      "cell_type": "markdown",
      "metadata": {
        "id": "sJHCNhNffvPP",
        "colab_type": "text"
      },
      "source": [
        "### 퀴즈정답-while"
      ]
    },
    {
      "cell_type": "markdown",
      "metadata": {
        "colab_type": "text",
        "id": "OgEN6SE_BrVM"
      },
      "source": [
        "Q. while 문을 사용해서 다음과 같이 별(*)을 출력해보기\n",
        "```\n",
        "*\n",
        "**\n",
        "***\n",
        "****\n",
        "*****\n",
        "******\n",
        "*******\n",
        "********\n",
        "*********\n",
        "**********\n",
        "```"
      ]
    },
    {
      "cell_type": "markdown",
      "metadata": {
        "colab_type": "text",
        "id": "LWSJw4kKBrVO"
      },
      "source": [
        "A."
      ]
    },
    {
      "cell_type": "code",
      "metadata": {
        "colab_type": "code",
        "id": "bT4P09_sBrVO",
        "colab": {}
      },
      "source": [
        "i = 1\n",
        "while i<=10:\n",
        "    print('*'*i)\n",
        "    i += 1"
      ],
      "execution_count": null,
      "outputs": []
    },
    {
      "cell_type": "markdown",
      "metadata": {
        "colab_type": "text",
        "id": "ME6WjcAGBr83"
      },
      "source": [
        "Q. 5000보다 작은 2의 배수를 하나의 리스트로 출력해보기\n"
      ]
    },
    {
      "cell_type": "markdown",
      "metadata": {
        "colab_type": "text",
        "id": "SdmOkSTbBr86"
      },
      "source": [
        "A."
      ]
    },
    {
      "cell_type": "code",
      "metadata": {
        "colab_type": "code",
        "id": "EY8b-jDiBr87",
        "colab": {}
      },
      "source": [
        "res = []\n",
        "i = 2\n",
        "while (i < 5000):\n",
        "    res.append(i)\n",
        "    i *= 2\n",
        "print(res)"
      ],
      "execution_count": null,
      "outputs": []
    },
    {
      "cell_type": "markdown",
      "metadata": {
        "colab_type": "text",
        "id": "_eGIIoiVBshJ"
      },
      "source": [
        "Q.  키와 밸류로 이루어진 각 리스트를 순서대로 조합하여 하나의 딕셔너리 만들어보기  \n",
        "```{'name': '땡땡이', 'age': 10, 'address': '제주도', 'phone': '010-111-2222'}```"
      ]
    },
    {
      "cell_type": "code",
      "metadata": {
        "colab_type": "code",
        "id": "6RNcMQTzBshJ",
        "colab": {}
      },
      "source": [
        "key_list = ['name', 'age', 'address', 'phone']\n",
        "val_list = ['땡땡이', 10, '제주도', '010-111-2222']"
      ],
      "execution_count": null,
      "outputs": []
    },
    {
      "cell_type": "markdown",
      "metadata": {
        "colab_type": "text",
        "id": "ddZlsDi3BshL"
      },
      "source": [
        "A."
      ]
    },
    {
      "cell_type": "code",
      "metadata": {
        "colab_type": "code",
        "id": "95gXo4grBshL",
        "colab": {}
      },
      "source": [
        "i = 0\n",
        "dic = {}\n",
        "while i < len(key_list):\n",
        "    dic[key_list[i]] = val_list[i]\n",
        "    i += 1\n",
        "print(dic)"
      ],
      "execution_count": null,
      "outputs": []
    },
    {
      "cell_type": "markdown",
      "metadata": {
        "colab_type": "text",
        "id": "Tc4UfmQuBtDL"
      },
      "source": [
        "Q. 다음 코드를 완성해서 구구단 7단을 출력해보기  \n"
      ]
    },
    {
      "cell_type": "code",
      "metadata": {
        "colab_type": "code",
        "id": "Ht6W3HpZBtDM",
        "colab": {}
      },
      "source": [
        "i = 1\n",
        "while True:\n",
        "    print('7 *', i, '=',  7*i)"
      ],
      "execution_count": null,
      "outputs": []
    },
    {
      "cell_type": "markdown",
      "metadata": {
        "colab_type": "text",
        "id": "MLhYaVw7BtDN"
      },
      "source": [
        "A."
      ]
    },
    {
      "cell_type": "code",
      "metadata": {
        "colab_type": "code",
        "id": "UPodI-UlBtDN",
        "colab": {}
      },
      "source": [
        "i = 1\n",
        "while True:\n",
        "    if i > 9:\n",
        "        break\n",
        "    print('7 *', i, '=',  7*i)\n",
        "    i += 1"
      ],
      "execution_count": null,
      "outputs": []
    },
    {
      "cell_type": "markdown",
      "metadata": {
        "id": "TZi7-DYZzD4x",
        "colab_type": "text"
      },
      "source": [
        "## for"
      ]
    },
    {
      "cell_type": "markdown",
      "metadata": {
        "id": "ZIX7dw3r5sg9",
        "colab_type": "text"
      },
      "source": [
        "### for"
      ]
    },
    {
      "cell_type": "code",
      "metadata": {
        "id": "-1CRtLBazgjw",
        "colab_type": "code",
        "colab": {}
      },
      "source": [
        "for i in [10, 20, 30, 40]:\n",
        "    print(i)"
      ],
      "execution_count": null,
      "outputs": []
    },
    {
      "cell_type": "code",
      "metadata": {
        "id": "d0tbBPSWzgtj",
        "colab_type": "code",
        "colab": {}
      },
      "source": [
        "for t in 'python':\n",
        "    print(t)"
      ],
      "execution_count": null,
      "outputs": []
    },
    {
      "cell_type": "code",
      "metadata": {
        "id": "T5LSpvZhzgpI",
        "colab_type": "code",
        "colab": {}
      },
      "source": [
        "for i in (-10, 0, 10):\n",
        "    print(i)"
      ],
      "execution_count": null,
      "outputs": []
    },
    {
      "cell_type": "code",
      "metadata": {
        "id": "NjgwsoNrzgf_",
        "colab_type": "code",
        "colab": {}
      },
      "source": [
        "for i in {1, 2, 3}:\n",
        "    print(i)"
      ],
      "execution_count": null,
      "outputs": []
    },
    {
      "cell_type": "code",
      "metadata": {
        "id": "_TdqO9JrFWqM",
        "colab_type": "code",
        "colab": {}
      },
      "source": [
        "for i in {1:'a', 2:'b', 3:'c'}:\n",
        "    print(i)"
      ],
      "execution_count": null,
      "outputs": []
    },
    {
      "cell_type": "code",
      "metadata": {
        "id": "k___ogAV2P3T",
        "colab_type": "code",
        "colab": {}
      },
      "source": [
        "scores = [100, 40, 50, 60, 20, 10]\n",
        "for s in scores:\n",
        "    if s > 80:\n",
        "        print(s, '점 합격')\n",
        "    else:\n",
        "        print(s, '점 불합격')"
      ],
      "execution_count": null,
      "outputs": []
    },
    {
      "cell_type": "markdown",
      "metadata": {
        "id": "bmGi_K6t5bSl",
        "colab_type": "text"
      },
      "source": [
        "### break"
      ]
    },
    {
      "cell_type": "code",
      "metadata": {
        "id": "OdqF0c6x6t6t",
        "colab_type": "code",
        "colab": {}
      },
      "source": [
        "list_a = ['a', 'b', 'c', 'd', 'end', 'e', 'f']\n",
        "for t in list_a:\n",
        "    if t == 'end':\n",
        "        break\n",
        "    print(t)"
      ],
      "execution_count": null,
      "outputs": []
    },
    {
      "cell_type": "code",
      "metadata": {
        "id": "2QR4ussdFs04",
        "colab_type": "code",
        "colab": {}
      },
      "source": [
        "for i in (10, 20, 30, 40, 50):\n",
        "    print(i)\n",
        "    if i > 30:\n",
        "        break\n",
        "    "
      ],
      "execution_count": null,
      "outputs": []
    },
    {
      "cell_type": "markdown",
      "metadata": {
        "id": "ZMe5SABb6rIp",
        "colab_type": "text"
      },
      "source": [
        "### continue"
      ]
    },
    {
      "cell_type": "code",
      "metadata": {
        "id": "9iSC1o2c3zQf",
        "colab_type": "code",
        "colab": {}
      },
      "source": [
        "scores = [10, 30, 120, 20, 60, 90, 110]\n",
        "for s in scores:\n",
        "    if s > 100:\n",
        "        continue\n",
        "    print(s,'점입니다. 100점을 위해서', 100-s,'점이 더 필요합니다.')\n"
      ],
      "execution_count": null,
      "outputs": []
    },
    {
      "cell_type": "code",
      "metadata": {
        "id": "KTcIZz-RF8Vq",
        "colab_type": "code",
        "colab": {}
      },
      "source": [
        "stocks = ['GOOGL', 'MSFT', 'AAPL', 'AMZN', 'TSLA']\n",
        "for s in stocks:\n",
        "    if s == 'AAPL':\n",
        "        continue\n",
        "    print(s)"
      ],
      "execution_count": null,
      "outputs": []
    },
    {
      "cell_type": "markdown",
      "metadata": {
        "id": "RKYHfQEr1nzf",
        "colab_type": "text"
      },
      "source": [
        "### 내장함수 range"
      ]
    },
    {
      "cell_type": "code",
      "metadata": {
        "id": "vrhHve9J1lxZ",
        "colab_type": "code",
        "colab": {}
      },
      "source": [
        "list(range(7))"
      ],
      "execution_count": null,
      "outputs": []
    },
    {
      "cell_type": "code",
      "metadata": {
        "id": "B3VKcVEBzgcN",
        "colab_type": "code",
        "colab": {}
      },
      "source": [
        "list(range(-3, 4))"
      ],
      "execution_count": null,
      "outputs": []
    },
    {
      "cell_type": "code",
      "metadata": {
        "id": "tYI7Nj1VzgYd",
        "colab_type": "code",
        "colab": {}
      },
      "source": [
        "list(range(100, 200, 20))"
      ],
      "execution_count": null,
      "outputs": []
    },
    {
      "cell_type": "code",
      "metadata": {
        "id": "wLq45cLNzgUJ",
        "colab_type": "code",
        "colab": {}
      },
      "source": [
        "for i in range(10):\n",
        "    print(i)"
      ],
      "execution_count": null,
      "outputs": []
    },
    {
      "cell_type": "code",
      "metadata": {
        "id": "fpaVvo8z7-M3",
        "colab_type": "code",
        "colab": {}
      },
      "source": [
        "for i in range(100, 105):\n",
        "    print(i)"
      ],
      "execution_count": null,
      "outputs": []
    },
    {
      "cell_type": "code",
      "metadata": {
        "id": "8DwzpqWP7x9W",
        "colab_type": "code",
        "colab": {}
      },
      "source": [
        "s = []\n",
        "for i in range(-1000, 1000, 100):\n",
        "    s.append(i)\n",
        "print(s)"
      ],
      "execution_count": null,
      "outputs": []
    },
    {
      "cell_type": "code",
      "metadata": {
        "id": "JjSg7OMX2P6F",
        "colab_type": "code",
        "colab": {}
      },
      "source": [
        "print('구구단')\n",
        "for i in range(2, 10):\n",
        "    for j in range(1, 10):\n",
        "        print('{:2}'.format(i*j), end=' ')\n",
        "    print('')"
      ],
      "execution_count": null,
      "outputs": []
    },
    {
      "cell_type": "markdown",
      "metadata": {
        "id": "p4XRY51HDHL5",
        "colab_type": "text"
      },
      "source": [
        "### 내장함수 zip"
      ]
    },
    {
      "cell_type": "code",
      "metadata": {
        "id": "U18ZOhLSDWbX",
        "colab_type": "code",
        "colab": {}
      },
      "source": [
        "names = ['YJ', 'SG', 'YM', 'JG', 'SJ', 'HD']\n",
        "scores = [10, 20, 50, 20, 30, 40 ]"
      ],
      "execution_count": null,
      "outputs": []
    },
    {
      "cell_type": "code",
      "metadata": {
        "id": "tsr4qj9cDWXU",
        "colab_type": "code",
        "colab": {}
      },
      "source": [
        "for n, s in zip(names, scores):\n",
        "    print(n, ':', s)"
      ],
      "execution_count": null,
      "outputs": []
    },
    {
      "cell_type": "code",
      "metadata": {
        "id": "blYEWvmLD_Pn",
        "colab_type": "code",
        "colab": {}
      },
      "source": [
        "ages = [30, 20, 40, 10, 20, 30]\n",
        "for n, s, a in zip(names, scores, ages):\n",
        "    print(n, '- ages:', a, ', scores:', s)"
      ],
      "execution_count": null,
      "outputs": []
    },
    {
      "cell_type": "markdown",
      "metadata": {
        "id": "FKCBfx8MD8Od",
        "colab_type": "text"
      },
      "source": [
        "길이가 다른 경우? -> 짧은 길이에 맞춤"
      ]
    },
    {
      "cell_type": "code",
      "metadata": {
        "id": "JrcUkuR-DWTb",
        "colab_type": "code",
        "colab": {}
      },
      "source": [
        "list_a = [0, 1, 2, 3, 4]\n",
        "list_b = [5, 6, 7]\n",
        "for a, b in zip(list_a, list_b):\n",
        "    print('a:',a, 'b:',b, 'a+b:', a+b)"
      ],
      "execution_count": null,
      "outputs": []
    },
    {
      "cell_type": "markdown",
      "metadata": {
        "colab_type": "text",
        "id": "QN-dMmU0Gb7F"
      },
      "source": [
        "### 퀴즈-for"
      ]
    },
    {
      "cell_type": "markdown",
      "metadata": {
        "colab_type": "text",
        "id": "1JPxMjawGb7F"
      },
      "source": [
        "Q. 주어진 리스트의 요소 중에서 홀수만 100을 더해 출력하는 코드를 작성해보기\n",
        "\n"
      ]
    },
    {
      "cell_type": "code",
      "metadata": {
        "colab_type": "code",
        "id": "juQALRO7Gb7G",
        "colab": {}
      },
      "source": [
        "numbers = [1, 2, 3, 4, 5, 6, 7, 8, 9]"
      ],
      "execution_count": null,
      "outputs": []
    },
    {
      "cell_type": "markdown",
      "metadata": {
        "colab_type": "text",
        "id": "9hTyEQrSGb7K"
      },
      "source": [
        "Q. for 문을 사용하여 다음 점수의 평균을 구해보기\n"
      ]
    },
    {
      "cell_type": "code",
      "metadata": {
        "colab_type": "code",
        "id": "-ibzN0wwGb7K",
        "colab": {}
      },
      "source": [
        "scores = [10, 30, 100, 20, 60, 90, 90, 60, 20, 10]"
      ],
      "execution_count": null,
      "outputs": []
    },
    {
      "cell_type": "markdown",
      "metadata": {
        "colab_type": "text",
        "id": "hRMYv1nIGb7N"
      },
      "source": [
        "Q. 주어진 두 리스트를 키-밸류 쌍으로 하는 하나의 딕셔너리로 만들기 (zip 사용하기)\n"
      ]
    },
    {
      "cell_type": "code",
      "metadata": {
        "colab_type": "code",
        "id": "XZYeO_zBGb7O",
        "colab": {}
      },
      "source": [
        "key_list = ['name', 'age', 'address', 'phone']\n",
        "val_list = ['땡땡이', 10, '제주도', '010-111-2222']"
      ],
      "execution_count": null,
      "outputs": []
    },
    {
      "cell_type": "markdown",
      "metadata": {
        "colab_type": "text",
        "id": "ezAJILggGb7R"
      },
      "source": [
        "Q. 주어진 딕셔너리의 키-밸류 쌍을 다음과 같이 한줄씩 출력해보기\n",
        "```\n",
        "name : 땡땡이  \n",
        "age : 10  \n",
        "address : 제주도  \n",
        "phone : 010-111-2222  \n",
        "```"
      ]
    },
    {
      "cell_type": "code",
      "metadata": {
        "colab_type": "code",
        "id": "rjMaKlahGb7R",
        "colab": {}
      },
      "source": [
        "dic = {'name': '땡땡이', 'age': 10, \n",
        "       'address': '제주도', 'phone': '010-111-2222'}"
      ],
      "execution_count": null,
      "outputs": []
    },
    {
      "cell_type": "markdown",
      "metadata": {
        "colab_type": "text",
        "id": "uyRHaAe_Gb7X"
      },
      "source": [
        "Q. 주어진 리스트 nums에서 두개의 요소를 더해 target 값을 만드는 요소의 인덱스를 한쌍만 구해보기  \n",
        "```\n",
        "Example:\n",
        "\n",
        "Given nums = [2, 7, 11, 15],   \n",
        "target = 9,  \n",
        "Because nums[0] + nums[1] = 2 + 7 = 9,  \n",
        "return [0, 1]\n",
        "```"
      ]
    },
    {
      "cell_type": "code",
      "metadata": {
        "colab_type": "code",
        "id": "eM7cpqWnGb7Y",
        "colab": {}
      },
      "source": [
        "nums = [2, 7, 11, 15, 8, 10, 9, 6]\n",
        "target = 10"
      ],
      "execution_count": null,
      "outputs": []
    },
    {
      "cell_type": "markdown",
      "metadata": {
        "id": "krmFUoOo8IW8",
        "colab_type": "text"
      },
      "source": [
        "### 퀴즈정답-for"
      ]
    },
    {
      "cell_type": "markdown",
      "metadata": {
        "colab_type": "text",
        "id": "owu57t2sBt8E"
      },
      "source": [
        "Q. 주어진 리스트의 요소 중에서 홀수만 100을 더해 출력하는 코드를 작성해보기\n",
        "\n"
      ]
    },
    {
      "cell_type": "code",
      "metadata": {
        "colab_type": "code",
        "id": "r80dbB7CBt8E",
        "colab": {}
      },
      "source": [
        "numbers = [1, 2, 3, 4, 5, 6, 7, 8, 9]"
      ],
      "execution_count": null,
      "outputs": []
    },
    {
      "cell_type": "markdown",
      "metadata": {
        "colab_type": "text",
        "id": "jONpKvGkBt8F"
      },
      "source": [
        "A."
      ]
    },
    {
      "cell_type": "code",
      "metadata": {
        "colab_type": "code",
        "id": "rZBAU9yIBt8H",
        "colab": {}
      },
      "source": [
        "for n in numbers:\n",
        "    if n % 2 == 1:\n",
        "        print(n+100)"
      ],
      "execution_count": null,
      "outputs": []
    },
    {
      "cell_type": "markdown",
      "metadata": {
        "colab_type": "text",
        "id": "rasPQvicBxi5"
      },
      "source": [
        "Q. for 문을 사용하여 다음 점수의 평균을 구해보기\n"
      ]
    },
    {
      "cell_type": "code",
      "metadata": {
        "colab_type": "code",
        "id": "vsLdkkmlBxi5",
        "colab": {}
      },
      "source": [
        "scores = [10, 30, 100, 20, 60, 90, 90, 60, 20, 10]"
      ],
      "execution_count": null,
      "outputs": []
    },
    {
      "cell_type": "markdown",
      "metadata": {
        "colab_type": "text",
        "id": "Co6acfc9Bxi7"
      },
      "source": [
        "A."
      ]
    },
    {
      "cell_type": "code",
      "metadata": {
        "colab_type": "code",
        "id": "sCj4G9UGBxi7",
        "colab": {}
      },
      "source": [
        "total = 0\n",
        "for s in scores:\n",
        "    total += s\n",
        "print(total/len(scores))"
      ],
      "execution_count": null,
      "outputs": []
    },
    {
      "cell_type": "markdown",
      "metadata": {
        "colab_type": "text",
        "id": "yvz59tlmByBC"
      },
      "source": [
        "Q. 주어진 두 리스트를 키-밸류 쌍으로 하는 하나의 딕셔너리로 만들기 (zip 사용하기)\n"
      ]
    },
    {
      "cell_type": "code",
      "metadata": {
        "colab_type": "code",
        "id": "XtRLtLMdByBD",
        "colab": {}
      },
      "source": [
        "key_list = ['name', 'age', 'address', 'phone']\n",
        "val_list = ['땡땡이', 10, '제주도', '010-111-2222']"
      ],
      "execution_count": null,
      "outputs": []
    },
    {
      "cell_type": "markdown",
      "metadata": {
        "colab_type": "text",
        "id": "vqyVJovVByBE"
      },
      "source": [
        "A."
      ]
    },
    {
      "cell_type": "code",
      "metadata": {
        "colab_type": "code",
        "id": "i4-1eFcSByBF",
        "colab": {}
      },
      "source": [
        "dic = {}\n",
        "for k, v in zip(key_list, val_list):\n",
        "    dic[k] = v\n",
        "dic"
      ],
      "execution_count": null,
      "outputs": []
    },
    {
      "cell_type": "markdown",
      "metadata": {
        "colab_type": "text",
        "id": "z8ADB_g4Btf_"
      },
      "source": [
        "Q. 주어진 딕셔너리의 키-밸류 쌍을 다음과 같이 한줄씩 출력해보기\n",
        "\n",
        "```\n",
        "name : 땡땡이  \n",
        "age : 10  \n",
        "address : 제주도  \n",
        "phone : 010-111-2222\n",
        "```\n"
      ]
    },
    {
      "cell_type": "code",
      "metadata": {
        "colab_type": "code",
        "id": "5N8vbagJBtf_",
        "colab": {}
      },
      "source": [
        "dic = {'name': '땡땡이', 'age': 10, \n",
        "       'address': '제주도', 'phone': '010-111-2222'}"
      ],
      "execution_count": null,
      "outputs": []
    },
    {
      "cell_type": "markdown",
      "metadata": {
        "colab_type": "text",
        "id": "NHV9DokrBtgA"
      },
      "source": [
        "A."
      ]
    },
    {
      "cell_type": "code",
      "metadata": {
        "id": "8u9DMRP23zF1",
        "colab_type": "code",
        "colab": {}
      },
      "source": [
        "for key, value in dic.items():\n",
        "    print(key, ':', value)"
      ],
      "execution_count": null,
      "outputs": []
    },
    {
      "cell_type": "code",
      "metadata": {
        "colab_type": "code",
        "id": "9vxiQm-TBtgB",
        "colab": {}
      },
      "source": [
        "for key in dic.keys():\n",
        "    print(key, ':', dic[key])"
      ],
      "execution_count": null,
      "outputs": []
    },
    {
      "cell_type": "markdown",
      "metadata": {
        "colab_type": "text",
        "id": "l92otwnlBuiv"
      },
      "source": [
        "Q. 주어진 리스트 nums에서 두개의 요소를 더해 target 값을 만드는 요소의 인덱스 한쌍만 구해보기  \n",
        "```\n",
        "Example:\n",
        "\n",
        "Given nums = [2, 7, 11, 15],   \n",
        "target = 9,  \n",
        "Because nums[0] + nums[1] = 2 + 7 = 9,  \n",
        "return [0, 1]\n",
        "```"
      ]
    },
    {
      "cell_type": "code",
      "metadata": {
        "id": "IwmJ4F9q-d95",
        "colab_type": "code",
        "colab": {}
      },
      "source": [
        "nums = [2, 7, 11, 15, 8, 10, 9, 6]\n",
        "target = 10"
      ],
      "execution_count": null,
      "outputs": []
    },
    {
      "cell_type": "markdown",
      "metadata": {
        "colab_type": "text",
        "id": "uqBEw3zGBuix"
      },
      "source": [
        "A."
      ]
    },
    {
      "cell_type": "code",
      "metadata": {
        "colab_type": "code",
        "id": "zqo6o4MPBvEs",
        "colab": {}
      },
      "source": [
        "flag = False\n",
        "for i in range(len(nums)-1):\n",
        "    for j in range(i+1, len(nums)):\n",
        "        if nums[i] + nums[j] == target:\n",
        "            print(i, j)\n",
        "            flag = True\n",
        "            break\n",
        "    if flag == True:\n",
        "        break"
      ],
      "execution_count": null,
      "outputs": []
    },
    {
      "cell_type": "code",
      "metadata": {
        "colab_type": "code",
        "id": "-Q0SXgByBuix",
        "colab": {}
      },
      "source": [
        "dic = {}\n",
        "for i in range(len(nums)):\n",
        "    if nums[i] in dic:\n",
        "        print(dic[nums[i]], i)\n",
        "        break\n",
        "    else:\n",
        "        dic[target-nums[i]] = i"
      ],
      "execution_count": null,
      "outputs": []
    },
    {
      "cell_type": "code",
      "metadata": {
        "id": "K7HRfvkiHz9o",
        "colab_type": "code",
        "colab": {}
      },
      "source": [
        ""
      ],
      "execution_count": null,
      "outputs": []
    },
    {
      "cell_type": "markdown",
      "metadata": {
        "id": "zF1ynWfPjT0X",
        "colab_type": "text"
      },
      "source": [
        "# Appendix"
      ]
    },
    {
      "cell_type": "markdown",
      "metadata": {
        "id": "V1Vw3RtPjbYE",
        "colab_type": "text"
      },
      "source": [
        "## 파일_읽기_쓰기"
      ]
    },
    {
      "cell_type": "markdown",
      "metadata": {
        "id": "DhKmjUEql9ue",
        "colab_type": "text"
      },
      "source": [
        "### open"
      ]
    },
    {
      "cell_type": "code",
      "metadata": {
        "id": "xUzJWopajULq",
        "colab_type": "code",
        "colab": {}
      },
      "source": [
        "f = open('test.txt', 'r')"
      ],
      "execution_count": null,
      "outputs": []
    },
    {
      "cell_type": "markdown",
      "metadata": {
        "id": "r72kNGcvmCHS",
        "colab_type": "text"
      },
      "source": [
        "### close"
      ]
    },
    {
      "cell_type": "code",
      "metadata": {
        "id": "iBW_aoYMjUXC",
        "colab_type": "code",
        "colab": {}
      },
      "source": [
        "f.close()"
      ],
      "execution_count": null,
      "outputs": []
    },
    {
      "cell_type": "markdown",
      "metadata": {
        "id": "8x18DMr0l_w6",
        "colab_type": "text"
      },
      "source": [
        "### with"
      ]
    },
    {
      "cell_type": "code",
      "metadata": {
        "id": "NtNRkBp_l8GG",
        "colab_type": "code",
        "colab": {}
      },
      "source": [
        "with open('test.txt', 'r') as f:\n",
        "    pass"
      ],
      "execution_count": null,
      "outputs": []
    },
    {
      "cell_type": "markdown",
      "metadata": {
        "id": "Up806Es1mNXZ",
        "colab_type": "text"
      },
      "source": [
        "### write"
      ]
    },
    {
      "cell_type": "code",
      "metadata": {
        "id": "O1bQeiLxjUdN",
        "colab_type": "code",
        "colab": {}
      },
      "source": [
        "with open('test2.txt', 'w') as f:\n",
        "    f.write('안녕하세요\\n')\n",
        "    f.write('지금은 파일 읽고 쓰기를 하고 있습니다..')"
      ],
      "execution_count": null,
      "outputs": []
    },
    {
      "cell_type": "markdown",
      "metadata": {
        "id": "9QKD6QGbpZ-o",
        "colab_type": "text"
      },
      "source": [
        "### read"
      ]
    },
    {
      "cell_type": "code",
      "metadata": {
        "id": "3rVRxA0an4j1",
        "colab_type": "code",
        "colab": {}
      },
      "source": [
        "with open('test.txt', 'r') as f:\n",
        "    text = f.read()\n",
        "    print(text)"
      ],
      "execution_count": null,
      "outputs": []
    },
    {
      "cell_type": "markdown",
      "metadata": {
        "id": "mQ6SRyhiqhK3",
        "colab_type": "text"
      },
      "source": [
        "### readline"
      ]
    },
    {
      "cell_type": "code",
      "metadata": {
        "id": "h0_9B59-pzy1",
        "colab_type": "code",
        "colab": {}
      },
      "source": [
        "with open('test.txt', 'r') as f:\n",
        "    text = f.readline()\n",
        "    print(text)"
      ],
      "execution_count": null,
      "outputs": []
    },
    {
      "cell_type": "code",
      "metadata": {
        "id": "yvbDc--lqq6r",
        "colab_type": "code",
        "colab": {}
      },
      "source": [
        "with open('test.txt', 'r') as f:\n",
        "    while True:\n",
        "        text = f.readline()\n",
        "        if not text: break\n",
        "        print(text)"
      ],
      "execution_count": null,
      "outputs": []
    },
    {
      "cell_type": "markdown",
      "metadata": {
        "id": "gOtFGl_4q7ud",
        "colab_type": "text"
      },
      "source": [
        "### readlines"
      ]
    },
    {
      "cell_type": "code",
      "metadata": {
        "id": "-YNgj0_uq9K8",
        "colab_type": "code",
        "colab": {}
      },
      "source": [
        "with open('test.txt', 'r') as f:\n",
        "    text = f.readlines()\n",
        "    print(text)"
      ],
      "execution_count": null,
      "outputs": []
    }
  ]
}