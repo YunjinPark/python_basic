{
 "cells": [
  {
   "cell_type": "code",
   "execution_count": 1,
   "metadata": {
    "colab": {},
    "colab_type": "code",
    "id": "Uuq9sXpE14EM"
   },
   "outputs": [],
   "source": [
    "import numpy as np"
   ]
  },
  {
   "cell_type": "markdown",
   "metadata": {
    "colab_type": "text",
    "id": "1sLKRoyH1-Yo"
   },
   "source": [
    "#1\n",
    "주어진 리스트 x를 1차원의 numpy array로 바꿔보기. 데이터 타입은 np.float64 으로 지정해줄 것."
   ]
  },
  {
   "cell_type": "code",
   "execution_count": 2,
   "metadata": {
    "colab": {},
    "colab_type": "code",
    "id": "0XuJxTyN19yK"
   },
   "outputs": [],
   "source": [
    "x = [10, 200, 100, -140, -60]"
   ]
  },
  {
   "cell_type": "code",
   "execution_count": 3,
   "metadata": {
    "colab": {
     "base_uri": "https://localhost:8080/",
     "height": 34
    },
    "colab_type": "code",
    "executionInfo": {
     "elapsed": 711,
     "status": "ok",
     "timestamp": 1581803892722,
     "user": {
      "displayName": "Pp P",
      "photoUrl": "",
      "userId": "08298133653752998002"
     },
     "user_tz": -540
    },
    "id": "t7I5DKH52eE6",
    "outputId": "c0fbe24d-a0a4-4bc0-857f-53fb3877bd1f"
   },
   "outputs": [
    {
     "data": {
      "text/plain": [
       "array([  10.,  200.,  100., -140.,  -60.])"
      ]
     },
     "execution_count": 3,
     "metadata": {},
     "output_type": "execute_result"
    }
   ],
   "source": [
    "# output: array([  10.,  200.,  100., -140.,  -60.])\n",
    "np.array(x, dtype = np.float64)"
   ]
  },
  {
   "cell_type": "markdown",
   "metadata": {
    "colab_type": "text",
    "id": "hRCFvJya3AWA"
   },
   "source": [
    "# 2\n",
    "가장자리만 0이고 안쪽은 전부 1인 (5,5) 매트릭스를 만들기."
   ]
  },
  {
   "cell_type": "code",
   "execution_count": 0,
   "metadata": {
    "colab": {
     "base_uri": "https://localhost:8080/",
     "height": 104
    },
    "colab_type": "code",
    "executionInfo": {
     "elapsed": 861,
     "status": "ok",
     "timestamp": 1581804392131,
     "user": {
      "displayName": "Pp P",
      "photoUrl": "",
      "userId": "08298133653752998002"
     },
     "user_tz": -540
    },
    "id": "7wBfL4JS2k9A",
    "outputId": "7050f95c-d997-4f39-e715-1f15f327c7fd"
   },
   "outputs": [
    {
     "data": {
      "text/plain": [
       "array([[0., 0., 0., 0., 0.],\n",
       "       [0., 1., 1., 1., 0.],\n",
       "       [0., 1., 1., 1., 0.],\n",
       "       [0., 1., 1., 1., 0.],\n",
       "       [0., 0., 0., 0., 0.]])"
      ]
     },
     "execution_count": 13,
     "metadata": {
      "tags": []
     },
     "output_type": "execute_result"
    }
   ],
   "source": [
    "'''\n",
    "output:\n",
    "array([[0., 0., 0., 0., 0.],\n",
    "       [0., 1., 1., 1., 0.],\n",
    "       [0., 1., 1., 1., 0.],\n",
    "       [0., 1., 1., 1., 0.],\n",
    "       [0., 0., 0., 0., 0.]])\n",
    "'''\n",
    "# 1. pad함수 없이.\n",
    "x = np.zeros((5, 5))\n",
    "x[1:-1, 1:-1] = 1\n",
    "print(x)\n",
    "# 2. np.pad함수 사용\n",
    "x = np.ones((3,3))\n",
    "x = np.pad(x, pad_width=1, constant_values=0)\n",
    "print(x)"
   ]
  },
  {
   "cell_type": "markdown",
   "metadata": {
    "colab_type": "text",
    "id": "B48GqCTG-o4E"
   },
   "source": [
    "# 3\n",
    "주어진 매트릭스(n, m)의 i번째 로우를 n-i번째 로우로 바꿔주는 코드를 작성"
   ]
  },
  {
   "cell_type": "code",
   "execution_count": 0,
   "metadata": {
    "colab": {},
    "colab_type": "code",
    "id": "KN_V3Y3_-qlr"
   },
   "outputs": [],
   "source": [
    "x = np.array([[ 0,  1,  2,  3,  4,  5,  6],\n",
    "            [ 7,  8,  9, 10, 11, 12, 13],\n",
    "            [14, 15, 16, 17, 18, 19, 20],\n",
    "            [21, 22, 23, 24, 25, 26, 27],\n",
    "            [28, 29, 30, 31, 32, 33, 34],\n",
    "            [35, 36, 37, 38, 39, 40, 41]])"
   ]
  },
  {
   "cell_type": "code",
   "execution_count": 0,
   "metadata": {
    "colab": {
     "base_uri": "https://localhost:8080/",
     "height": 121
    },
    "colab_type": "code",
    "executionInfo": {
     "elapsed": 660,
     "status": "ok",
     "timestamp": 1581806483389,
     "user": {
      "displayName": "Pp P",
      "photoUrl": "",
      "userId": "08298133653752998002"
     },
     "user_tz": -540
    },
    "id": "KbzgNSWvArWU",
    "outputId": "c559e16b-d1a3-4c4c-d015-94b5097a071d"
   },
   "outputs": [
    {
     "data": {
      "text/plain": [
       "array([[35, 36, 37, 38, 39, 40, 41],\n",
       "       [28, 29, 30, 31, 32, 33, 34],\n",
       "       [21, 22, 23, 24, 25, 26, 27],\n",
       "       [14, 15, 16, 17, 18, 19, 20],\n",
       "       [ 7,  8,  9, 10, 11, 12, 13],\n",
       "       [ 0,  1,  2,  3,  4,  5,  6]])"
      ]
     },
     "execution_count": 26,
     "metadata": {
      "tags": []
     },
     "output_type": "execute_result"
    }
   ],
   "source": [
    "'''\n",
    "output:\n",
    "array([[35, 36, 37, 38, 39, 40, 41],\n",
    "       [28, 29, 30, 31, 32, 33, 34],\n",
    "       [21, 22, 23, 24, 25, 26, 27],\n",
    "       [14, 15, 16, 17, 18, 19, 20],\n",
    "       [ 7,  8,  9, 10, 11, 12, 13],\n",
    "       [ 0,  1,  2,  3,  4,  5,  6]])\n",
    "'''\n",
    "n = len(x)\n",
    "x[n::-1   "
   ]
  },
  {
   "cell_type": "markdown",
   "metadata": {
    "colab_type": "text",
    "id": "TTtBahl--q1C"
   },
   "source": [
    "# 4\n",
    "주어진 배열에서 3의 배수이고, 50 보다 작거나 같은 원소만 추출."
   ]
  },
  {
   "cell_type": "code",
   "execution_count": 0,
   "metadata": {
    "colab": {},
    "colab_type": "code",
    "id": "lfpIMYWb-roA"
   },
   "outputs": [],
   "source": [
    "x = np.array([46, 30, 11, 65, 64, 14, 61, 54, 62,  3,  8, 27, 33, 84,  9, 54, 56,\n",
    "       54, 64, 26, 83, 16, 99, 24,  3, 29, 55, 90, 90, 42])"
   ]
  },
  {
   "cell_type": "code",
   "execution_count": 0,
   "metadata": {
    "colab": {
     "base_uri": "https://localhost:8080/",
     "height": 34
    },
    "colab_type": "code",
    "executionInfo": {
     "elapsed": 686,
     "status": "ok",
     "timestamp": 1581806862901,
     "user": {
      "displayName": "Pp P",
      "photoUrl": "",
      "userId": "08298133653752998002"
     },
     "user_tz": -540
    },
    "id": "dEKeTiJ9CF1C",
    "outputId": "74e364e7-fb35-42b7-f0a1-f1c29a1fc34f"
   },
   "outputs": [
    {
     "data": {
      "text/plain": [
       "array([30,  3, 27, 33,  9, 24,  3, 42])"
      ]
     },
     "execution_count": 32,
     "metadata": {
      "tags": []
     },
     "output_type": "execute_result"
    }
   ],
   "source": [
    "# output: array([30,  3, 27, 33,  9, 24,  3, 42])\n",
    "x[(x<=50)&(x%3==0)]"
   ]
  },
  {
   "cell_type": "markdown",
   "metadata": {
    "colab_type": "text",
    "id": "COEJQLZp-r5g"
   },
   "source": [
    "# 5\n",
    "주어진 배열의 차원, shape, 원소 개수를 구하기."
   ]
  },
  {
   "cell_type": "code",
   "execution_count": 0,
   "metadata": {
    "colab": {},
    "colab_type": "code",
    "id": "4I2DfQ1_-tIS"
   },
   "outputs": [],
   "source": [
    "x = np.array([[[[5, 1, 2, 5, 7, 4, 2, 0, 4, 1, 7],\n",
    "                [4, 3, 7, 6, 3, 1, 7, 8, 8, 0, 7]],\n",
    "                [[9, 6, 0, 7, 4, 3, 4, 2, 2, 6, 8],\n",
    "                [4, 2, 3, 5, 0, 5, 0, 9, 6, 5, 1]],\n",
    "                [[2, 3, 4, 2, 4, 3, 9, 5, 8, 4, 6],\n",
    "                [8, 0, 9, 8, 2, 7, 8, 2, 0, 0, 9]],\n",
    "                [[4, 7, 0, 9, 8, 2, 5, 4, 1, 0, 5],\n",
    "                [7, 0, 5, 3, 5, 9, 1, 2, 2, 5, 2]]],\n",
    "            [[[0, 0, 0, 1, 3, 7, 1, 2, 5, 1, 4],\n",
    "                [7, 3, 2, 8, 2, 2, 8, 6, 3, 8, 0]],\n",
    "                [[6, 7, 9, 2, 1, 5, 1, 2, 7, 1, 6],\n",
    "                [6, 1, 9, 7, 6, 3, 1, 3, 2, 8, 8]],\n",
    "                [[1, 8, 2, 1, 1, 2, 8, 2, 1, 5, 3],\n",
    "                [6, 7, 4, 2, 8, 4, 1, 2, 5, 2, 0]],\n",
    "                [[6, 1, 6, 9, 7, 8, 8, 6, 6, 0, 1],\n",
    "                [9, 2, 7, 3, 9, 6, 0, 4, 6, 3, 3]]]])"
   ]
  },
  {
   "cell_type": "code",
   "execution_count": 0,
   "metadata": {
    "colab": {
     "base_uri": "https://localhost:8080/",
     "height": 69
    },
    "colab_type": "code",
    "executionInfo": {
     "elapsed": 650,
     "status": "ok",
     "timestamp": 1581807358525,
     "user": {
      "displayName": "Pp P",
      "photoUrl": "",
      "userId": "08298133653752998002"
     },
     "user_tz": -540
    },
    "id": "2f_LOd0mD4Tk",
    "outputId": "15cd0965-dc09-4ce0-d40d-fd0516e85d5a"
   },
   "outputs": [
    {
     "name": "stdout",
     "output_type": "stream",
     "text": [
      "x의 dimension: 4\n",
      "x의 shape: (2, 4, 2, 11)\n",
      "x의 size: 176\n"
     ]
    }
   ],
   "source": [
    "'''\n",
    "output:\n",
    "x의 dimension: 4\n",
    "x의 shape: (2, 4, 2, 11)\n",
    "x의 size: 176\n",
    "'''\n",
    "print('x의 dimension:', x.ndim)\n",
    "print('x의 shape:', x.shape)\n",
    "print('x의 size:', x.size)"
   ]
  },
  {
   "cell_type": "markdown",
   "metadata": {
    "colab_type": "text",
    "id": "AGYb3SMy-tbz"
   },
   "source": [
    "# 6\n",
    "주어진 배열 x와 같은 shape을 가지고, 원소는 모두 4인 배열 구하기"
   ]
  },
  {
   "cell_type": "code",
   "execution_count": 0,
   "metadata": {
    "colab": {},
    "colab_type": "code",
    "id": "8lRMCbe2-uu3"
   },
   "outputs": [],
   "source": [
    "x = np.array([[[0.55769089, 0.23299233, 0.18249755, 0.9732918 , 0.02106981],\n",
    "                        [0.23723868, 0.88100977, 0.11237681, 0.54849432, 0.14166628]],\n",
    "                    [[0.40571156, 0.86052991, 0.08693893, 0.87787536, 0.22658562],\n",
    "                        [0.28312625, 0.86719966, 0.04834027, 0.3603239 , 0.11649041]],\n",
    "                    [[0.0101401 , 0.32296365, 0.41904702, 0.87439744, 0.90868535],\n",
    "                        [0.04083139, 0.41187572, 0.55659584, 0.08919614, 0.59739324]]])"
   ]
  },
  {
   "cell_type": "code",
   "execution_count": 0,
   "metadata": {
    "colab": {
     "base_uri": "https://localhost:8080/",
     "height": 156
    },
    "colab_type": "code",
    "executionInfo": {
     "elapsed": 662,
     "status": "ok",
     "timestamp": 1581807706629,
     "user": {
      "displayName": "Pp P",
      "photoUrl": "",
      "userId": "08298133653752998002"
     },
     "user_tz": -540
    },
    "id": "BdDfkFQvFZcf",
    "outputId": "7915e2cb-dcf9-43ab-d022-924c3b4cd6f2"
   },
   "outputs": [
    {
     "data": {
      "text/plain": [
       "array([[[4., 4., 4., 4., 4.],\n",
       "        [4., 4., 4., 4., 4.]],\n",
       "\n",
       "       [[4., 4., 4., 4., 4.],\n",
       "        [4., 4., 4., 4., 4.]],\n",
       "\n",
       "       [[4., 4., 4., 4., 4.],\n",
       "        [4., 4., 4., 4., 4.]]])"
      ]
     },
     "execution_count": 54,
     "metadata": {
      "tags": []
     },
     "output_type": "execute_result"
    }
   ],
   "source": [
    "'''\n",
    "output:\n",
    "array([[[4., 4., 4., 4., 4.],\n",
    "        [4., 4., 4., 4., 4.]],\n",
    "\n",
    "       [[4., 4., 4., 4., 4.],\n",
    "        [4., 4., 4., 4., 4.]],\n",
    "\n",
    "       [[4., 4., 4., 4., 4.],\n",
    "        [4., 4., 4., 4., 4.]]])\n",
    "'''\n",
    "np.full_like(x, 4)"
   ]
  },
  {
   "cell_type": "markdown",
   "metadata": {
    "colab_type": "text",
    "id": "XBeTQXhM-wUh"
   },
   "source": [
    "# 7\n",
    "-10에서 30 사이의 정수 중 랜덤하게 6개를 샘플링."
   ]
  },
  {
   "cell_type": "code",
   "execution_count": 0,
   "metadata": {
    "colab": {
     "base_uri": "https://localhost:8080/",
     "height": 34
    },
    "colab_type": "code",
    "executionInfo": {
     "elapsed": 780,
     "status": "ok",
     "timestamp": 1581808099290,
     "user": {
      "displayName": "Pp P",
      "photoUrl": "",
      "userId": "08298133653752998002"
     },
     "user_tz": -540
    },
    "id": "FOUxUILD-x5o",
    "outputId": "62433dbe-240e-495a-8ddb-dd14665a4956"
   },
   "outputs": [
    {
     "data": {
      "text/plain": [
       "array([-8, 18, 24, 28,  7,  9])"
      ]
     },
     "execution_count": 58,
     "metadata": {
      "tags": []
     },
     "output_type": "execute_result"
    }
   ],
   "source": [
    "np.random.seed(123)\n",
    "# output: array([-8, 18, 24, 28,  7,  9])\n",
    "np.random.randint(-10, 30, 6)"
   ]
  },
  {
   "cell_type": "markdown",
   "metadata": {
    "colab_type": "text",
    "id": "JLBNyJ_eGBZf"
   },
   "source": [
    "# 8\n",
    "주어진 배열을 랜덤하게 섞어보기"
   ]
  },
  {
   "cell_type": "code",
   "execution_count": 0,
   "metadata": {
    "colab": {},
    "colab_type": "code",
    "id": "5xdHXpb3GC7x"
   },
   "outputs": [],
   "source": [
    "x = np.arange(30)"
   ]
  },
  {
   "cell_type": "code",
   "execution_count": 0,
   "metadata": {
    "colab": {
     "base_uri": "https://localhost:8080/",
     "height": 52
    },
    "colab_type": "code",
    "executionInfo": {
     "elapsed": 660,
     "status": "ok",
     "timestamp": 1581808498938,
     "user": {
      "displayName": "Pp P",
      "photoUrl": "",
      "userId": "08298133653752998002"
     },
     "user_tz": -540
    },
    "id": "yIl6OaapIBSa",
    "outputId": "c396e1de-c04c-417a-8f14-605a980b004f"
   },
   "outputs": [
    {
     "name": "stdout",
     "output_type": "stream",
     "text": [
      "[ 5  0  2  6 18 14 28 25  8  9 12 11 17 21  4 15 16 26  7 20 19 13 22 10\n",
      " 24  1  3 27 23 29]\n"
     ]
    }
   ],
   "source": [
    "np.random.shuffle(x)\n",
    "print(x)"
   ]
  },
  {
   "cell_type": "markdown",
   "metadata": {
    "colab_type": "text",
    "id": "bc9uQn5wGDQN"
   },
   "source": [
    "# 9\n",
    "다음 배열의 (0, 4) 원소의 값은?"
   ]
  },
  {
   "cell_type": "code",
   "execution_count": 0,
   "metadata": {
    "colab": {},
    "colab_type": "code",
    "id": "XzUCRuTZGEfd"
   },
   "outputs": [],
   "source": [
    "arr = np.array([[0.24729279, 0.15149773, 0.23264993, 0.57789104, 0.4754031 ,\n",
    "                0.29082174, 0.65636695, 0.72398085, 0.12575465, 0.77784599],\n",
    "            [0.66500578, 0.04162141, 0.94433265, 0.34871354, 0.8935809 ,\n",
    "                0.75310631, 0.62090814, 0.45782245, 0.79072654, 0.26589272],\n",
    "            [0.4236849 , 0.24108758, 0.15393337, 0.47541068, 0.38291606,\n",
    "                0.85558059, 0.37261941, 0.69719457, 0.91373938, 0.36068192],\n",
    "            [0.83447814, 0.2758488 , 0.97392625, 0.02931075, 0.09624108,\n",
    "                0.82089376, 0.4507533 , 0.28030167, 0.55391228, 0.92006303],\n",
    "            [0.86338432, 0.50512356, 0.90668294, 0.868307  , 0.13476902,\n",
    "                0.16586259, 0.89588933, 0.45413397, 0.61715948, 0.17279922]])"
   ]
  },
  {
   "cell_type": "code",
   "execution_count": 0,
   "metadata": {
    "colab": {
     "base_uri": "https://localhost:8080/",
     "height": 34
    },
    "colab_type": "code",
    "executionInfo": {
     "elapsed": 781,
     "status": "ok",
     "timestamp": 1581809259224,
     "user": {
      "displayName": "Pp P",
      "photoUrl": "",
      "userId": "08298133653752998002"
     },
     "user_tz": -540
    },
    "id": "0fTo9oySLUq4",
    "outputId": "1349b8e6-1719-4101-f701-b88bc4dfc8b6"
   },
   "outputs": [
    {
     "data": {
      "text/plain": [
       "0.4754031"
      ]
     },
     "execution_count": 77,
     "metadata": {
      "tags": []
     },
     "output_type": "execute_result"
    }
   ],
   "source": [
    "# output: 0.4754031\n",
    "arr[0, 4]"
   ]
  },
  {
   "cell_type": "markdown",
   "metadata": {
    "colab_type": "text",
    "id": "yLvkOpAZGFGR"
   },
   "source": [
    "# 10\n",
    "다음 매트릭스(n, m)의 컬럼의 위치를 변경해보기  \n",
    "0 -> 5  \n",
    "1 -> 0  \n",
    "2 -> 3  \n",
    "3 -> 4  \n",
    "4 -> 2  \n",
    "5 -> 1  "
   ]
  },
  {
   "cell_type": "code",
   "execution_count": 0,
   "metadata": {
    "colab": {},
    "colab_type": "code",
    "id": "HGlrGxaKGGRk"
   },
   "outputs": [],
   "source": [
    "arr = np.array([[0, 1, 2, 3, 4, 5],\n",
    "                [6, 7, 8, 9, 10, 11]])"
   ]
  },
  {
   "cell_type": "code",
   "execution_count": 0,
   "metadata": {
    "colab": {
     "base_uri": "https://localhost:8080/",
     "height": 52
    },
    "colab_type": "code",
    "executionInfo": {
     "elapsed": 698,
     "status": "ok",
     "timestamp": 1581810645534,
     "user": {
      "displayName": "Pp P",
      "photoUrl": "",
      "userId": "08298133653752998002"
     },
     "user_tz": -540
    },
    "id": "aEKEwTjtQCjH",
    "outputId": "df2fcb5f-992b-4d81-fca8-ce6c411e1cc3"
   },
   "outputs": [
    {
     "data": {
      "text/plain": [
       "array([[ 1,  5,  4,  2,  3,  0],\n",
       "       [ 7, 11, 10,  8,  9,  6]])"
      ]
     },
     "execution_count": 84,
     "metadata": {
      "tags": []
     },
     "output_type": "execute_result"
    }
   ],
   "source": [
    "'''\n",
    "output:\n",
    "array([[ 1,  5,  4,  2,  3,  0],\n",
    "       [ 7, 11, 10,  8,  9,  6]])\n",
    "'''\n",
    "arr[:, [1, 5, 4, 2, 3,0]]"
   ]
  },
  {
   "cell_type": "markdown",
   "metadata": {
    "colab_type": "text",
    "id": "aXM-633VGGiE"
   },
   "source": [
    "# 11\n",
    "-1에서 1사이에서 균일한 간격의 점 15개로 구성된 배열을 만들기"
   ]
  },
  {
   "cell_type": "code",
   "execution_count": 0,
   "metadata": {
    "colab": {
     "base_uri": "https://localhost:8080/",
     "height": 69
    },
    "colab_type": "code",
    "executionInfo": {
     "elapsed": 714,
     "status": "ok",
     "timestamp": 1581811147519,
     "user": {
      "displayName": "Pp P",
      "photoUrl": "",
      "userId": "08298133653752998002"
     },
     "user_tz": -540
    },
    "id": "p1gZrCWMGHRH",
    "outputId": "2a5350e4-d540-4df7-828e-b238f46b07c0"
   },
   "outputs": [
    {
     "data": {
      "text/plain": [
       "array([-1.        , -0.85714286, -0.71428571, -0.57142857, -0.42857143,\n",
       "       -0.28571429, -0.14285714,  0.        ,  0.14285714,  0.28571429,\n",
       "        0.42857143,  0.57142857,  0.71428571,  0.85714286,  1.        ])"
      ]
     },
     "execution_count": 98,
     "metadata": {
      "tags": []
     },
     "output_type": "execute_result"
    }
   ],
   "source": [
    "'''\n",
    "output:\n",
    "array([-1.        , -0.85714286, -0.71428571, -0.57142857, -0.42857143,\n",
    "       -0.28571429, -0.14285714,  0.        ,  0.14285714,  0.28571429,\n",
    "        0.42857143,  0.57142857,  0.71428571,  0.85714286,  1.        ])\n",
    "'''\n",
    "np.linspace(-1, 1, 15)"
   ]
  },
  {
   "cell_type": "markdown",
   "metadata": {
    "colab_type": "text",
    "id": "y8zoA07jIvCF"
   },
   "source": [
    "# 12\n",
    "(4, 4) identity 매트릭스 만들기"
   ]
  },
  {
   "cell_type": "code",
   "execution_count": 0,
   "metadata": {
    "colab": {
     "base_uri": "https://localhost:8080/",
     "height": 86
    },
    "colab_type": "code",
    "executionInfo": {
     "elapsed": 780,
     "status": "ok",
     "timestamp": 1581811254424,
     "user": {
      "displayName": "Pp P",
      "photoUrl": "",
      "userId": "08298133653752998002"
     },
     "user_tz": -540
    },
    "id": "gus3-VfKIuJv",
    "outputId": "9aa5d976-5be7-4c45-9049-1dabeccc2611"
   },
   "outputs": [
    {
     "data": {
      "text/plain": [
       "array([[1., 0., 0., 0.],\n",
       "       [0., 1., 0., 0.],\n",
       "       [0., 0., 1., 0.],\n",
       "       [0., 0., 0., 1.]])"
      ]
     },
     "execution_count": 99,
     "metadata": {
      "tags": []
     },
     "output_type": "execute_result"
    }
   ],
   "source": [
    "np.identity(4)"
   ]
  },
  {
   "cell_type": "markdown",
   "metadata": {
    "colab_type": "text",
    "id": "RpoBmaZUIz6P"
   },
   "source": [
    "# 13\n",
    "주어진 배열의 원소 사이사이에 100을 3번 넣어주어 새로운 배열 반환"
   ]
  },
  {
   "cell_type": "code",
   "execution_count": 0,
   "metadata": {
    "colab": {},
    "colab_type": "code",
    "id": "ALwCVfo8TNhb"
   },
   "outputs": [],
   "source": [
    "arr = np.array([71, 73, 90, 91, 61, 43, 41, 86, 14])"
   ]
  },
  {
   "cell_type": "code",
   "execution_count": 0,
   "metadata": {
    "colab": {
     "base_uri": "https://localhost:8080/",
     "height": 69
    },
    "colab_type": "code",
    "executionInfo": {
     "elapsed": 881,
     "status": "ok",
     "timestamp": 1581845812893,
     "user": {
      "displayName": "Pp P",
      "photoUrl": "",
      "userId": "08298133653752998002"
     },
     "user_tz": -540
    },
    "id": "3poVCWTvI03q",
    "outputId": "8562c576-6680-4e44-e5e1-b45ecc84d2f2"
   },
   "outputs": [
    {
     "data": {
      "text/plain": [
       "array([ 71., 100., 100., 100.,  73., 100., 100., 100.,  90., 100., 100.,\n",
       "       100.,  91., 100., 100., 100.,  61., 100., 100., 100.,  43., 100.,\n",
       "       100., 100.,  41., 100., 100., 100.,  86., 100., 100., 100.,  14.])"
      ]
     },
     "execution_count": 11,
     "metadata": {
      "tags": []
     },
     "output_type": "execute_result"
    }
   ],
   "source": [
    "'''\n",
    "output:\n",
    "array([ 71., 100., 100., 100.,  73., 100., 100., 100.,  90., 100., 100.,\n",
    "       100.,  91., 100., 100., 100.,  61., 100., 100., 100.,  43., 100.,\n",
    "       100., 100.,  41., 100., 100., 100.,  86., 100., 100., 100.,  14.])\n",
    "'''\n",
    "arr2 = 100*np.ones(len(arr)+(len(arr)-1)*3)\n",
    "arr2[::4] = arr\n",
    "arr2"
   ]
  },
  {
   "cell_type": "markdown",
   "metadata": {
    "colab_type": "text",
    "id": "otM6rWlmI1Mc"
   },
   "source": [
    "# 14\n",
    "주어진 배열의 index가 0, 4, 5, 9, 12, 22 인 원소들의 값으로만 이루어진 새로운 배열 반환."
   ]
  },
  {
   "cell_type": "code",
   "execution_count": 0,
   "metadata": {
    "colab": {},
    "colab_type": "code",
    "id": "tq9qFfjiI13K"
   },
   "outputs": [],
   "source": [
    "arr = np.array([4.837, 9.343, 5.621, 5.248, 4.597, 7.275, 1.878, 7.989, 8.169,\n",
    "       5.78 , 5.35 , 9.075, 1.931, 1.825, 7.463, 3.791, 1.466, 4.441,\n",
    "       9.785, 7.863, 9.53 , 2.804, 6.322, 4.314, 6.169])"
   ]
  },
  {
   "cell_type": "code",
   "execution_count": 0,
   "metadata": {
    "colab": {
     "base_uri": "https://localhost:8080/",
     "height": 34
    },
    "colab_type": "code",
    "executionInfo": {
     "elapsed": 887,
     "status": "ok",
     "timestamp": 1581849254340,
     "user": {
      "displayName": "Pp P",
      "photoUrl": "",
      "userId": "08298133653752998002"
     },
     "user_tz": -540
    },
    "id": "u8RJPFIxjEW4",
    "outputId": "fd5c3dd8-c8d9-47b8-8a46-c029fefe2d4e"
   },
   "outputs": [
    {
     "data": {
      "text/plain": [
       "array([4.837, 4.597, 7.275, 5.78 , 1.931, 6.322])"
      ]
     },
     "execution_count": 17,
     "metadata": {
      "tags": []
     },
     "output_type": "execute_result"
    }
   ],
   "source": [
    "# output: array([4.837, 4.597, 7.275, 5.78 , 1.931, 6.322])\n",
    "arr[[ 0, 4, 5, 9, 12, 22]]"
   ]
  },
  {
   "cell_type": "code",
   "execution_count": 0,
   "metadata": {
    "colab": {},
    "colab_type": "code",
    "id": "fvUFgJsij603"
   },
   "outputs": [],
   "source": []
  }
 ],
 "metadata": {
  "colab": {
   "authorship_tag": "ABX9TyNz0o/thRVAwKsDFQ0abzKd",
   "collapsed_sections": [],
   "name": "Numpy-quiz-array-ans.ipynb",
   "provenance": []
  },
  "kernelspec": {
   "display_name": "Python 3",
   "language": "python",
   "name": "python3"
  },
  "language_info": {
   "codemirror_mode": {
    "name": "ipython",
    "version": 3
   },
   "file_extension": ".py",
   "mimetype": "text/x-python",
   "name": "python",
   "nbconvert_exporter": "python",
   "pygments_lexer": "ipython3",
   "version": "3.6.9"
  }
 },
 "nbformat": 4,
 "nbformat_minor": 1
}
