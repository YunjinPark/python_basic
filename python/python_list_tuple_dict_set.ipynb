{
  "nbformat": 4,
  "nbformat_minor": 0,
  "metadata": {
    "colab": {
      "name": "python_list_tuple_dict_set.ipynb",
      "provenance": [],
      "collapsed_sections": [],
      "toc_visible": true
    },
    "kernelspec": {
      "name": "python3",
      "display_name": "Python 3"
    }
  },
  "cells": [
    {
      "cell_type": "markdown",
      "metadata": {
        "id": "ihdKW6aG-L_z",
        "colab_type": "text"
      },
      "source": [
        "# 목차\n",
        "1. [리스트](#리스트)  \n",
        "[퀴즈](#퀴즈-리스트)  \n",
        "[퀴즈 정답](#퀴즈정답-리스트)  \n",
        "\n",
        "2. [튜플](#튜플)  \n",
        "[퀴즈](#퀴즈-튜플)  \n",
        "[퀴즈 정답](#퀴즈정답-튜플)  \n",
        "\n",
        "3. [딕셔너리](#딕셔너리)  \n",
        "[퀴즈](#퀴즈-딕셔너리)  \n",
        "[퀴즈 정답](#퀴즈정답-딕셔너리)  \n",
        "4. [셋](#셋)  \n",
        "[퀴즈](#퀴즈-셋)  \n",
        "[퀴즈 정답](#퀴즈정답-셋)  \n"
      ]
    },
    {
      "cell_type": "markdown",
      "metadata": {
        "id": "HdKOZpTPUEcB",
        "colab_type": "text"
      },
      "source": [
        "## 리스트"
      ]
    },
    {
      "cell_type": "markdown",
      "metadata": {
        "id": "g_ibx9M3WP_U",
        "colab_type": "text"
      },
      "source": [
        "### 리스트란?"
      ]
    },
    {
      "cell_type": "code",
      "metadata": {
        "id": "Geal_zKvWi6S",
        "colab_type": "code",
        "colab": {}
      },
      "source": [
        "[1, 2, 3 , 4, 5]"
      ],
      "execution_count": null,
      "outputs": []
    },
    {
      "cell_type": "code",
      "metadata": {
        "id": "DftSLMx6plXH",
        "colab_type": "code",
        "colab": {}
      },
      "source": [
        "type([1, 2, 3, 4, 5])"
      ],
      "execution_count": null,
      "outputs": []
    },
    {
      "cell_type": "code",
      "metadata": {
        "id": "WPYemfbXWUZi",
        "colab_type": "code",
        "colab": {}
      },
      "source": [
        "['제', 1, '장']"
      ],
      "execution_count": null,
      "outputs": []
    },
    {
      "cell_type": "code",
      "metadata": {
        "id": "oJaQOmWoWojO",
        "colab_type": "code",
        "colab": {}
      },
      "source": [
        "[print, 'print 함수']"
      ],
      "execution_count": null,
      "outputs": []
    },
    {
      "cell_type": "code",
      "metadata": {
        "id": "J_1iFUP6XkTg",
        "colab_type": "code",
        "colab": {}
      },
      "source": [
        "['1', ['2', '3']]"
      ],
      "execution_count": null,
      "outputs": []
    },
    {
      "cell_type": "markdown",
      "metadata": {
        "id": "PNAYZzitUWZm",
        "colab_type": "text"
      },
      "source": [
        "### 리스트 만들기"
      ]
    },
    {
      "cell_type": "code",
      "metadata": {
        "id": "bVO3NyrIXpv_",
        "colab_type": "code",
        "colab": {}
      },
      "source": [
        "empty_list = []\n",
        "empty_list "
      ],
      "execution_count": null,
      "outputs": []
    },
    {
      "cell_type": "code",
      "metadata": {
        "id": "dYIm3ZEtRq9A",
        "colab_type": "code",
        "colab": {}
      },
      "source": [
        "type(empty_list)"
      ],
      "execution_count": null,
      "outputs": []
    },
    {
      "cell_type": "code",
      "metadata": {
        "id": "sgzAHV6CXp9P",
        "colab_type": "code",
        "colab": {}
      },
      "source": [
        "weekdays = ['월', '화', '수', '목', '금']\n",
        "weekdays "
      ],
      "execution_count": null,
      "outputs": []
    },
    {
      "cell_type": "code",
      "metadata": {
        "id": "9m41WQmoR45i",
        "colab_type": "code",
        "colab": {}
      },
      "source": [
        "type(weekdays)"
      ],
      "execution_count": null,
      "outputs": []
    },
    {
      "cell_type": "code",
      "metadata": {
        "id": "Fqom0LlZa6DT",
        "colab_type": "code",
        "colab": {}
      },
      "source": [
        "list_a = [10, 20, 30, ['a', 'b'], 40]\n",
        "list_a"
      ],
      "execution_count": null,
      "outputs": []
    },
    {
      "cell_type": "code",
      "metadata": {
        "id": "OmeABgTVa6Uy",
        "colab_type": "code",
        "colab": {}
      },
      "source": [
        "type(list_a)"
      ],
      "execution_count": null,
      "outputs": []
    },
    {
      "cell_type": "markdown",
      "metadata": {
        "id": "Qlr2qt8JaGFW",
        "colab_type": "text"
      },
      "source": [
        "### 리스트로 형변환"
      ]
    },
    {
      "cell_type": "code",
      "metadata": {
        "id": "4MZ9fV2VXp2h",
        "colab_type": "code",
        "colab": {}
      },
      "source": [
        "empty_list = list()\n",
        "empty_list"
      ],
      "execution_count": null,
      "outputs": []
    },
    {
      "cell_type": "code",
      "metadata": {
        "id": "idfWk_jQXqBt",
        "colab_type": "code",
        "colab": {}
      },
      "source": [
        "a = '문자열'\n",
        "print('a:', a)\n",
        "print('type(a):', type(a))"
      ],
      "execution_count": null,
      "outputs": []
    },
    {
      "cell_type": "code",
      "metadata": {
        "id": "THIAXJ-2R-Oa",
        "colab_type": "code",
        "colab": {}
      },
      "source": [
        "b = list(a)\n",
        "print('b:', b)\n",
        "print('type(b):', type(b))"
      ],
      "execution_count": null,
      "outputs": []
    },
    {
      "cell_type": "markdown",
      "metadata": {
        "id": "Zytvlb0pY5CW",
        "colab_type": "text"
      },
      "source": [
        "### 리스트 인덱싱"
      ]
    },
    {
      "cell_type": "code",
      "metadata": {
        "id": "-IUieVrwXqJL",
        "colab_type": "code",
        "colab": {}
      },
      "source": [
        "city = ['서울', '인천', '부산', '대구', '대전', '광주', '울산', '세종']"
      ],
      "execution_count": null,
      "outputs": []
    },
    {
      "cell_type": "code",
      "metadata": {
        "id": "VgvUdhXFXp6z",
        "colab_type": "code",
        "colab": {}
      },
      "source": [
        "city[0]"
      ],
      "execution_count": null,
      "outputs": []
    },
    {
      "cell_type": "code",
      "metadata": {
        "id": "r5PUPR_50Wou",
        "colab_type": "code",
        "colab": {}
      },
      "source": [
        "city[2]"
      ],
      "execution_count": null,
      "outputs": []
    },
    {
      "cell_type": "code",
      "metadata": {
        "id": "NtmYPnoaXp0A",
        "colab_type": "code",
        "colab": {}
      },
      "source": [
        "city[-1]"
      ],
      "execution_count": null,
      "outputs": []
    },
    {
      "cell_type": "code",
      "metadata": {
        "id": "2V4QQ8O70apt",
        "colab_type": "code",
        "colab": {}
      },
      "source": [
        "city[-2]"
      ],
      "execution_count": null,
      "outputs": []
    },
    {
      "cell_type": "code",
      "metadata": {
        "id": "6zJY1kQAcOq1",
        "colab_type": "code",
        "colab": {}
      },
      "source": [
        "city = [['서울', '인천', '부산', '대구', '대전', '광주', '울산', '세종'],\n",
        "        ['경기도', '강원도', '충청도', '전라도', '경상도', '제주']]"
      ],
      "execution_count": null,
      "outputs": []
    },
    {
      "cell_type": "code",
      "metadata": {
        "id": "V-6QXyK6cO0T",
        "colab_type": "code",
        "colab": {}
      },
      "source": [
        "city[0]"
      ],
      "execution_count": null,
      "outputs": []
    },
    {
      "cell_type": "code",
      "metadata": {
        "id": "87lwvBM2cPAl",
        "colab_type": "code",
        "colab": {}
      },
      "source": [
        "city[0][0]"
      ],
      "execution_count": null,
      "outputs": []
    },
    {
      "cell_type": "code",
      "metadata": {
        "id": "SwmXEW7Y0iO3",
        "colab_type": "code",
        "colab": {}
      },
      "source": [
        "city[0][-1]"
      ],
      "execution_count": null,
      "outputs": []
    },
    {
      "cell_type": "code",
      "metadata": {
        "id": "7y3XrLSH_bE-",
        "colab_type": "code",
        "colab": {}
      },
      "source": [
        "city[1]"
      ],
      "execution_count": null,
      "outputs": []
    },
    {
      "cell_type": "code",
      "metadata": {
        "id": "JWoGIe6T0mte",
        "colab_type": "code",
        "colab": {}
      },
      "source": [
        "city[1][1]"
      ],
      "execution_count": null,
      "outputs": []
    },
    {
      "cell_type": "code",
      "metadata": {
        "id": "H8kDYpUxcPEG",
        "colab_type": "code",
        "colab": {}
      },
      "source": [
        "city[1][-1]"
      ],
      "execution_count": null,
      "outputs": []
    },
    {
      "cell_type": "markdown",
      "metadata": {
        "id": "BkHQzahZc64z",
        "colab_type": "text"
      },
      "source": [
        "### 리스트 슬라이싱"
      ]
    },
    {
      "cell_type": "code",
      "metadata": {
        "id": "eemwV0eccPOV",
        "colab_type": "code",
        "colab": {}
      },
      "source": [
        "food = ['한식', '양식', '중식', '일식']"
      ],
      "execution_count": null,
      "outputs": []
    },
    {
      "cell_type": "code",
      "metadata": {
        "id": "f5lVZ7RDcPUc",
        "colab_type": "code",
        "colab": {}
      },
      "source": [
        "food[0:2]"
      ],
      "execution_count": null,
      "outputs": []
    },
    {
      "cell_type": "code",
      "metadata": {
        "id": "Rsyqvn7YcPSK",
        "colab_type": "code",
        "colab": {}
      },
      "source": [
        "food[:3]"
      ],
      "execution_count": null,
      "outputs": []
    },
    {
      "cell_type": "code",
      "metadata": {
        "id": "8kERQu6x0uzn",
        "colab_type": "code",
        "colab": {}
      },
      "source": [
        "food[2:]"
      ],
      "execution_count": null,
      "outputs": []
    },
    {
      "cell_type": "code",
      "metadata": {
        "id": "IJtiNEDM003g",
        "colab_type": "code",
        "colab": {}
      },
      "source": [
        "food[0:4:2]"
      ],
      "execution_count": null,
      "outputs": []
    },
    {
      "cell_type": "code",
      "metadata": {
        "id": "m6uEJ3ctcPa6",
        "colab_type": "code",
        "colab": {}
      },
      "source": [
        "food[::2]"
      ],
      "execution_count": null,
      "outputs": []
    },
    {
      "cell_type": "code",
      "metadata": {
        "id": "OvINhdqKcPYW",
        "colab_type": "code",
        "colab": {}
      },
      "source": [
        "food[:]"
      ],
      "execution_count": null,
      "outputs": []
    },
    {
      "cell_type": "markdown",
      "metadata": {
        "id": "nM4u7JdYfq52",
        "colab_type": "text"
      },
      "source": [
        "### 리스트 요소 변경하기"
      ]
    },
    {
      "cell_type": "code",
      "metadata": {
        "id": "tamdLi2bcPIV",
        "colab_type": "code",
        "colab": {}
      },
      "source": [
        "food = ['한식', '양식', '중식', '일식']"
      ],
      "execution_count": null,
      "outputs": []
    },
    {
      "cell_type": "code",
      "metadata": {
        "id": "8i_5B9DncPLc",
        "colab_type": "code",
        "colab": {}
      },
      "source": [
        "food[-1] = '분식'\n",
        "food"
      ],
      "execution_count": null,
      "outputs": []
    },
    {
      "cell_type": "markdown",
      "metadata": {
        "id": "WDqTYJ6709Zt",
        "colab_type": "text"
      },
      "source": [
        "바꿀 값과 대체갈 값의 개수가 동일할 경우"
      ]
    },
    {
      "cell_type": "code",
      "metadata": {
        "id": "7KoBBODNcO-V",
        "colab_type": "code",
        "colab": {}
      },
      "source": [
        "food[0:2] = ['Korean', 'western']\n",
        "food"
      ],
      "execution_count": null,
      "outputs": []
    },
    {
      "cell_type": "markdown",
      "metadata": {
        "id": "RNdSsLJWi8p5",
        "colab_type": "text"
      },
      "source": [
        "바꿀 값이 대체할 값보다 적은 경우"
      ]
    },
    {
      "cell_type": "code",
      "metadata": {
        "id": "iw68Eb4DcO7A",
        "colab_type": "code",
        "colab": {}
      },
      "source": [
        "food[2:4] = ['Italian', 'French', 'Chinese']\n",
        "food"
      ],
      "execution_count": null,
      "outputs": []
    },
    {
      "cell_type": "markdown",
      "metadata": {
        "id": "3VFIT8KSjBpu",
        "colab_type": "text"
      },
      "source": [
        "바꿀 값이 대체할 값보다 많은 경우"
      ]
    },
    {
      "cell_type": "code",
      "metadata": {
        "id": "oGVAnaIDhb6z",
        "colab_type": "code",
        "colab": {}
      },
      "source": [
        "food[1:4] = ['mexican']\n",
        "food"
      ],
      "execution_count": null,
      "outputs": []
    },
    {
      "cell_type": "code",
      "metadata": {
        "id": "d27MshWM1v9i",
        "colab_type": "code",
        "colab": {}
      },
      "source": [
        "x = [0, 1, 2, 3, 4, 5]\n",
        "x[2:4] = [200, 300]\n",
        "x"
      ],
      "execution_count": null,
      "outputs": []
    },
    {
      "cell_type": "code",
      "metadata": {
        "id": "U5sLYbjw1MUv",
        "colab_type": "code",
        "colab": {}
      },
      "source": [
        "x = [0, 1, 2, 3, 4, 5]\n",
        "x[2:4] = [100, 200, 300, 400, 500, 600]\n",
        "x"
      ],
      "execution_count": null,
      "outputs": []
    },
    {
      "cell_type": "code",
      "metadata": {
        "id": "wpdDAYXx1MpT",
        "colab_type": "code",
        "colab": {}
      },
      "source": [
        "x = [0, 1, 2, 3, 4, 5]\n",
        "x[1:5] = [1]\n",
        "x"
      ],
      "execution_count": null,
      "outputs": []
    },
    {
      "cell_type": "markdown",
      "metadata": {
        "id": "XqoxQy3mcfbS",
        "colab_type": "text"
      },
      "source": [
        "### 리스트 길이"
      ]
    },
    {
      "cell_type": "code",
      "metadata": {
        "id": "6zUGhGMQcihh",
        "colab_type": "code",
        "colab": {}
      },
      "source": [
        "food = ['한식', '양식', '중식', '일식']\n",
        "len(food)"
      ],
      "execution_count": null,
      "outputs": []
    },
    {
      "cell_type": "code",
      "metadata": {
        "id": "Z1pWO0E6cocn",
        "colab_type": "code",
        "colab": {}
      },
      "source": [
        "empty_list = []\n",
        "len(empty_list)"
      ],
      "execution_count": null,
      "outputs": []
    },
    {
      "cell_type": "code",
      "metadata": {
        "id": "b5yHr4jh19-Z",
        "colab_type": "code",
        "colab": {}
      },
      "source": [
        "city = [['서울', '인천', '부산', '대구', '대전', '광주', '울산', '세종'],\n",
        "        ['경기도', '강원도', '충청도', '전라도', '경상도', '제주']]\n",
        "len(city)"
      ],
      "execution_count": null,
      "outputs": []
    },
    {
      "cell_type": "code",
      "metadata": {
        "id": "PbpTcxmH1-EE",
        "colab_type": "code",
        "colab": {}
      },
      "source": [
        "len(city[0])"
      ],
      "execution_count": null,
      "outputs": []
    },
    {
      "cell_type": "markdown",
      "metadata": {
        "id": "0z4vA695dQn9",
        "colab_type": "text"
      },
      "source": [
        "### 문자열로 반환하기"
      ]
    },
    {
      "cell_type": "code",
      "metadata": {
        "id": "Fiv7dr-DeLlK",
        "colab_type": "code",
        "colab": {}
      },
      "source": [
        "'*'.join(['a','b','c'])"
      ],
      "execution_count": null,
      "outputs": []
    },
    {
      "cell_type": "code",
      "metadata": {
        "id": "LJ4HE3X3coY3",
        "colab_type": "code",
        "colab": {}
      },
      "source": [
        "j = ['Joins', 'the', 'elements', 'of', 'an', 'iterable',\n",
        "    'to', 'the', 'end', 'of', 'the', 'string']\n",
        "' '.join(j) "
      ],
      "execution_count": null,
      "outputs": []
    },
    {
      "cell_type": "markdown",
      "metadata": {
        "id": "ROp7_5tyk1fH",
        "colab_type": "text"
      },
      "source": [
        "### 리스트 연산자"
      ]
    },
    {
      "cell_type": "markdown",
      "metadata": {
        "id": "AfZL2m2Ojxaj",
        "colab_type": "text"
      },
      "source": [
        "#### 리스트 연결 연산자 +"
      ]
    },
    {
      "cell_type": "code",
      "metadata": {
        "id": "3ZhAkcO12Uyp",
        "colab_type": "code",
        "colab": {}
      },
      "source": [
        "[0, 2, 4] + [1, 3, 5]"
      ],
      "execution_count": null,
      "outputs": []
    },
    {
      "cell_type": "code",
      "metadata": {
        "id": "kmEQzfdh2cCJ",
        "colab_type": "code",
        "colab": {}
      },
      "source": [
        "[0] + [1, 2, 3]"
      ],
      "execution_count": null,
      "outputs": []
    },
    {
      "cell_type": "code",
      "metadata": {
        "id": "FJeqeAHQcO36",
        "colab_type": "code",
        "colab": {}
      },
      "source": [
        "list_a = [1, 2, 3, 4, 5]\n",
        "list_b = [100, 200]"
      ],
      "execution_count": null,
      "outputs": []
    },
    {
      "cell_type": "code",
      "metadata": {
        "id": "R2xBY_ZHj0u-",
        "colab_type": "code",
        "colab": {}
      },
      "source": [
        "list_a + list_b"
      ],
      "execution_count": null,
      "outputs": []
    },
    {
      "cell_type": "code",
      "metadata": {
        "id": "gzuhkCANj01h",
        "colab_type": "code",
        "colab": {}
      },
      "source": [
        "list_a + list_b + list_a"
      ],
      "execution_count": null,
      "outputs": []
    },
    {
      "cell_type": "code",
      "metadata": {
        "id": "Nm09-AI-j0-c",
        "colab_type": "code",
        "colab": {}
      },
      "source": [
        "list_a += list_b\n",
        "list_a"
      ],
      "execution_count": null,
      "outputs": []
    },
    {
      "cell_type": "markdown",
      "metadata": {
        "id": "CgwMUCeJk5hK",
        "colab_type": "text"
      },
      "source": [
        "#### 리스트 반복 연산자 * "
      ]
    },
    {
      "cell_type": "code",
      "metadata": {
        "id": "m72xSYkA2jP9",
        "colab_type": "code",
        "colab": {}
      },
      "source": [
        "[0]*10"
      ],
      "execution_count": null,
      "outputs": []
    },
    {
      "cell_type": "code",
      "metadata": {
        "id": "MDYLVseXj1Hb",
        "colab_type": "code",
        "colab": {}
      },
      "source": [
        "x = [10, 20]\n",
        "x*3"
      ],
      "execution_count": null,
      "outputs": []
    },
    {
      "cell_type": "code",
      "metadata": {
        "id": "NyBt-SQccOxR",
        "colab_type": "code",
        "colab": {}
      },
      "source": [
        "x*5"
      ],
      "execution_count": null,
      "outputs": []
    },
    {
      "cell_type": "code",
      "metadata": {
        "id": "jvlxM3zb2qPt",
        "colab_type": "code",
        "colab": {}
      },
      "source": [
        "[0, [1, 2], 3]*2"
      ],
      "execution_count": null,
      "outputs": []
    },
    {
      "cell_type": "markdown",
      "metadata": {
        "id": "cxZeX4hnbBYV",
        "colab_type": "text"
      },
      "source": [
        "#### 리스트 in / not in 연산자"
      ]
    },
    {
      "cell_type": "code",
      "metadata": {
        "id": "73uEKJm0bI0b",
        "colab_type": "code",
        "colab": {}
      },
      "source": [
        "stocks = ['GOOGL', 'MSFT', 'AAPL', 'AMZN', 'TSLA']"
      ],
      "execution_count": null,
      "outputs": []
    },
    {
      "cell_type": "code",
      "metadata": {
        "id": "Bno38tm2bI7g",
        "colab_type": "code",
        "colab": {}
      },
      "source": [
        "'EBAY' in stocks "
      ],
      "execution_count": null,
      "outputs": []
    },
    {
      "cell_type": "code",
      "metadata": {
        "id": "x2dBWkmsbJIk",
        "colab_type": "code",
        "colab": {}
      },
      "source": [
        "'EBAY' not in stocks "
      ],
      "execution_count": null,
      "outputs": []
    },
    {
      "cell_type": "code",
      "metadata": {
        "id": "wlkTCLT_cH86",
        "colab_type": "code",
        "colab": {}
      },
      "source": [
        "'AAPL' in stocks"
      ],
      "execution_count": null,
      "outputs": []
    },
    {
      "cell_type": "code",
      "metadata": {
        "id": "5JpmhKyocIDR",
        "colab_type": "code",
        "colab": {}
      },
      "source": [
        "'AAPL' not in stocks"
      ],
      "execution_count": null,
      "outputs": []
    },
    {
      "cell_type": "markdown",
      "metadata": {
        "id": "AdOmgC3ll-x4",
        "colab_type": "text"
      },
      "source": [
        "### 리스트 메서드"
      ]
    },
    {
      "cell_type": "markdown",
      "metadata": {
        "id": "zX1jai3fmDyQ",
        "colab_type": "text"
      },
      "source": [
        "#### list.append()"
      ]
    },
    {
      "cell_type": "code",
      "metadata": {
        "id": "WdCkQG8kcOum",
        "colab_type": "code",
        "colab": {}
      },
      "source": [
        "x = [1, 2, 3]\n",
        "x.append(4)\n",
        "x "
      ],
      "execution_count": null,
      "outputs": []
    },
    {
      "cell_type": "code",
      "metadata": {
        "id": "dl2daaeD3HuT",
        "colab_type": "code",
        "colab": {}
      },
      "source": [
        "x.append(0)\n",
        "x "
      ],
      "execution_count": null,
      "outputs": []
    },
    {
      "cell_type": "code",
      "metadata": {
        "id": "02-uyFNEmVtH",
        "colab_type": "code",
        "colab": {}
      },
      "source": [
        "animals = ['사자', '호랑이', '개']\n",
        "animals.append('고양이')\n",
        "animals.append('토끼')\n",
        "animals.append('말')\n",
        "animals"
      ],
      "execution_count": null,
      "outputs": []
    },
    {
      "cell_type": "code",
      "metadata": {
        "id": "qBS0bgsBl9qI",
        "colab_type": "code",
        "colab": {}
      },
      "source": [
        "animals.append(['원숭이', '타조'])\n",
        "animals"
      ],
      "execution_count": null,
      "outputs": []
    },
    {
      "cell_type": "markdown",
      "metadata": {
        "id": "K7a89CeEnRPL",
        "colab_type": "text"
      },
      "source": [
        "#### list.extend()"
      ]
    },
    {
      "cell_type": "code",
      "metadata": {
        "id": "KgPmrwxVn1h-",
        "colab_type": "code",
        "colab": {}
      },
      "source": [
        "x = [1, 2, 3]\n",
        "x.extend([4, 5, 6])\n",
        "x "
      ],
      "execution_count": null,
      "outputs": []
    },
    {
      "cell_type": "code",
      "metadata": {
        "id": "tGVh36aAl9ws",
        "colab_type": "code",
        "colab": {}
      },
      "source": [
        "animals = ['사자', '호랑이', '개']\n",
        "animals.extend(['고양이', '토끼', '말'])\n",
        "animals "
      ],
      "execution_count": null,
      "outputs": []
    },
    {
      "cell_type": "markdown",
      "metadata": {
        "id": "z-jBmR5mqX6T",
        "colab_type": "text"
      },
      "source": [
        "extend와 + 차이점"
      ]
    },
    {
      "cell_type": "code",
      "metadata": {
        "id": "yzGDW4pOn1pd",
        "colab_type": "code",
        "colab": {}
      },
      "source": [
        "x1 = [10, 20]\n",
        "x2 = [30, 40, 50]\n",
        "print(x1 + x2)"
      ],
      "execution_count": null,
      "outputs": []
    },
    {
      "cell_type": "code",
      "metadata": {
        "id": "clWN4hL73blq",
        "colab_type": "code",
        "colab": {}
      },
      "source": [
        "print(x1)\n",
        "print(x2)"
      ],
      "execution_count": null,
      "outputs": []
    },
    {
      "cell_type": "code",
      "metadata": {
        "id": "oC6hFn0gn1mX",
        "colab_type": "code",
        "colab": {}
      },
      "source": [
        "x1 = [10, 20]\n",
        "x2 = [30, 40, 50]\n",
        "print(x1.extend(x2))"
      ],
      "execution_count": null,
      "outputs": []
    },
    {
      "cell_type": "code",
      "metadata": {
        "id": "BDn5Ygm03dKf",
        "colab_type": "code",
        "colab": {}
      },
      "source": [
        "print(x1)\n",
        "print(x2)"
      ],
      "execution_count": null,
      "outputs": []
    },
    {
      "cell_type": "markdown",
      "metadata": {
        "id": "GJrMGw-2qcaP",
        "colab_type": "text"
      },
      "source": [
        "#### list.insert()"
      ]
    },
    {
      "cell_type": "code",
      "metadata": {
        "id": "5a5pW4iql97m",
        "colab_type": "code",
        "colab": {}
      },
      "source": [
        "x = [10, 20, 30, 40, 50]\n",
        "x.insert(3, 1000)\n",
        "x"
      ],
      "execution_count": null,
      "outputs": []
    },
    {
      "cell_type": "code",
      "metadata": {
        "id": "1RHQUVvEl-Co",
        "colab_type": "code",
        "colab": {}
      },
      "source": [
        "x.insert(-2, 2000)\n",
        "x"
      ],
      "execution_count": null,
      "outputs": []
    },
    {
      "cell_type": "markdown",
      "metadata": {
        "id": "ba8VPJjev_YS",
        "colab_type": "text"
      },
      "source": [
        "#### list.pop()"
      ]
    },
    {
      "cell_type": "code",
      "metadata": {
        "id": "H3pmbqLKwFSO",
        "colab_type": "code",
        "colab": {}
      },
      "source": [
        "stocks = ['GOOGL', 'MSFT', 'AAPL', 'AMZN', 'TSLA']"
      ],
      "execution_count": null,
      "outputs": []
    },
    {
      "cell_type": "code",
      "metadata": {
        "id": "5UEgE3grwFXv",
        "colab_type": "code",
        "colab": {}
      },
      "source": [
        "stocks.pop(1)"
      ],
      "execution_count": null,
      "outputs": []
    },
    {
      "cell_type": "code",
      "metadata": {
        "id": "XLI-oyBzwFci",
        "colab_type": "code",
        "colab": {}
      },
      "source": [
        "stocks"
      ],
      "execution_count": null,
      "outputs": []
    },
    {
      "cell_type": "code",
      "metadata": {
        "id": "aBJcOLSsVjpK",
        "colab_type": "code",
        "colab": {}
      },
      "source": [
        "stocks.pop(-2)"
      ],
      "execution_count": null,
      "outputs": []
    },
    {
      "cell_type": "markdown",
      "metadata": {
        "colab_type": "text",
        "id": "npY3Rnpo4oq9"
      },
      "source": [
        "삭제하고자 하는 인덱스가 리스트 인덱스의 범위를 벗어난 경우는?  "
      ]
    },
    {
      "cell_type": "code",
      "metadata": {
        "id": "mEy0JMVRVgZZ",
        "colab_type": "code",
        "colab": {}
      },
      "source": [
        "stocks.pop(10)  # error "
      ],
      "execution_count": null,
      "outputs": []
    },
    {
      "cell_type": "markdown",
      "metadata": {
        "id": "dXdRmwJ3wF6I",
        "colab_type": "text"
      },
      "source": [
        "#### del list[i]"
      ]
    },
    {
      "cell_type": "code",
      "metadata": {
        "id": "2GVi3hfOVfhs",
        "colab_type": "code",
        "colab": {}
      },
      "source": [
        "stocks = ['GOOGL', 'MSFT', 'AAPL', 'AMZN', 'TSLA']\n",
        "del stocks[2] "
      ],
      "execution_count": null,
      "outputs": []
    },
    {
      "cell_type": "code",
      "metadata": {
        "id": "8XufBSIpWfJW",
        "colab_type": "code",
        "colab": {}
      },
      "source": [
        "stocks"
      ],
      "execution_count": null,
      "outputs": []
    },
    {
      "cell_type": "code",
      "metadata": {
        "id": "mqjtMJ75Wi_u",
        "colab_type": "code",
        "colab": {}
      },
      "source": [
        "del stocks[-2]"
      ],
      "execution_count": null,
      "outputs": []
    },
    {
      "cell_type": "code",
      "metadata": {
        "id": "2jYf9GLiWjFW",
        "colab_type": "code",
        "colab": {}
      },
      "source": [
        "stocks"
      ],
      "execution_count": null,
      "outputs": []
    },
    {
      "cell_type": "markdown",
      "metadata": {
        "colab_type": "text",
        "id": "YBIeS1B54ZAh"
      },
      "source": [
        "삭제하고자 하는 인덱스가 리스트 인덱스의 범위를 벗어난 경우는?  "
      ]
    },
    {
      "cell_type": "code",
      "metadata": {
        "id": "F3hk4pP44Zp4",
        "colab_type": "code",
        "colab": {}
      },
      "source": [
        "del stocks[10]"
      ],
      "execution_count": null,
      "outputs": []
    },
    {
      "cell_type": "markdown",
      "metadata": {
        "id": "Y_CgQSqir6oM",
        "colab_type": "text"
      },
      "source": [
        "#### list.remove()"
      ]
    },
    {
      "cell_type": "code",
      "metadata": {
        "id": "52WlMEC0r536",
        "colab_type": "code",
        "colab": {}
      },
      "source": [
        "list_a = ['a', 'b', 'c', 'd', 'a', 'b', 'c', 'd']\n",
        "list_a.remove('a')\n",
        "list_a"
      ],
      "execution_count": null,
      "outputs": []
    },
    {
      "cell_type": "markdown",
      "metadata": {
        "id": "guQ4YEMkv5WB",
        "colab_type": "text"
      },
      "source": [
        "삭제하고자 하는 요소가 리스트 안에 없는 경우는?"
      ]
    },
    {
      "cell_type": "code",
      "metadata": {
        "id": "PixzdrsAl-Gx",
        "colab_type": "code",
        "colab": {}
      },
      "source": [
        "list_a('e')    #error"
      ],
      "execution_count": null,
      "outputs": []
    },
    {
      "cell_type": "markdown",
      "metadata": {
        "id": "S0t5sZcEXSBm",
        "colab_type": "text"
      },
      "source": [
        "#### list.count()"
      ]
    },
    {
      "cell_type": "code",
      "metadata": {
        "id": "4RGJw_EBl-AK",
        "colab_type": "code",
        "colab": {}
      },
      "source": [
        "list_a = ['김', '이', '박', '나', '박', '한', '김', '이', '김', '최']\n",
        "list_a.count('박')"
      ],
      "execution_count": null,
      "outputs": []
    },
    {
      "cell_type": "code",
      "metadata": {
        "id": "Tc4KuVx7l94T",
        "colab_type": "code",
        "colab": {}
      },
      "source": [
        "list_a.count('배')"
      ],
      "execution_count": null,
      "outputs": []
    },
    {
      "cell_type": "markdown",
      "metadata": {
        "id": "vDxHTTR1YnNC",
        "colab_type": "text"
      },
      "source": [
        "#### list.sort()"
      ]
    },
    {
      "cell_type": "code",
      "metadata": {
        "id": "Q_B6wCgyZmCK",
        "colab_type": "code",
        "colab": {}
      },
      "source": [
        "a = [10, 20, 30, 10, 20, -10, 0, -10] \n",
        "a.sort()\n",
        "a"
      ],
      "execution_count": null,
      "outputs": []
    },
    {
      "cell_type": "code",
      "metadata": {
        "id": "oV3i8lkvXiHL",
        "colab_type": "code",
        "colab": {}
      },
      "source": [
        "a = [10, 20, 30, 10, 20, -10, 0, -10]\n",
        "sorted(a)"
      ],
      "execution_count": null,
      "outputs": []
    },
    {
      "cell_type": "code",
      "metadata": {
        "id": "fX3ko7qWalB0",
        "colab_type": "code",
        "colab": {}
      },
      "source": [
        "a"
      ],
      "execution_count": null,
      "outputs": []
    },
    {
      "cell_type": "code",
      "metadata": {
        "id": "ckAASIT3XiOK",
        "colab_type": "code",
        "colab": {}
      },
      "source": [
        "list_a = ['김', '이', '박', '나', '박', '한', '김', '이', '김', '최']\n",
        "list_a.sort()\n",
        "list_a"
      ],
      "execution_count": null,
      "outputs": []
    },
    {
      "cell_type": "code",
      "metadata": {
        "id": "kbRRHfU3amkM",
        "colab_type": "code",
        "colab": {}
      },
      "source": [
        "list_a = ['김', '이', '박', '나', '박', '한', '김', '이', '김', '최']\n",
        "list_a.sort(reverse=True)\n",
        "list_a"
      ],
      "execution_count": null,
      "outputs": []
    },
    {
      "cell_type": "markdown",
      "metadata": {
        "colab_type": "text",
        "id": "s1XCfkeE0B6V"
      },
      "source": [
        "### 퀴즈-리스트"
      ]
    },
    {
      "cell_type": "markdown",
      "metadata": {
        "colab_type": "text",
        "id": "1SWgGH6t0B6V"
      },
      "source": [
        "Q. 리스트의 특징은?\n"
      ]
    },
    {
      "cell_type": "markdown",
      "metadata": {
        "colab_type": "text",
        "id": "_Dq1Vn0A0B6W"
      },
      "source": [
        "A. "
      ]
    },
    {
      "cell_type": "markdown",
      "metadata": {
        "colab_type": "text",
        "id": "zAL0gvQ30B6W"
      },
      "source": [
        "Q. 리스트 만들기  \n",
        "변수 fruits에 좋아하는 과일 이름을 리스트 타입으로 담기\n",
        "\n"
      ]
    },
    {
      "cell_type": "code",
      "metadata": {
        "colab_type": "code",
        "id": "l9uPNyp80B6W",
        "colab": {}
      },
      "source": [
        ""
      ],
      "execution_count": null,
      "outputs": []
    },
    {
      "cell_type": "markdown",
      "metadata": {
        "colab_type": "text",
        "id": "hSeXfId40B6a"
      },
      "source": [
        "Q. 리스트 인덱싱  \n",
        "다음 리스트에서 인덱싱을 통해 'a'라는 요소만 얻기\n"
      ]
    },
    {
      "cell_type": "code",
      "metadata": {
        "colab_type": "code",
        "id": "xfMY5kcA0B6a",
        "colab": {}
      },
      "source": [
        "list_a = [[1, 2], [0, 10, 20, ['a', 'b']], [100, 200, 300]]"
      ],
      "execution_count": null,
      "outputs": []
    },
    {
      "cell_type": "markdown",
      "metadata": {
        "colab_type": "text",
        "id": "inDVfT6e0B6m"
      },
      "source": [
        "Q. 리스트 슬라이싱  \n",
        "다음 리스트에서 인덱싱과 슬라이싱을 통해 'p', 'y', 't', 'o', 'n'이라는 요소들만 얻기\n"
      ]
    },
    {
      "cell_type": "code",
      "metadata": {
        "colab_type": "code",
        "id": "XhSSfZGR0B6n",
        "colab": {}
      },
      "source": [
        "list_a = [10, [10, ['a', 'p', 'y', 't', 'o', 'n'], 20], 20]"
      ],
      "execution_count": null,
      "outputs": []
    },
    {
      "cell_type": "markdown",
      "metadata": {
        "colab_type": "text",
        "id": "gYlDMBHa0B6s"
      },
      "source": [
        "Q. 요소 변경하기  \n",
        "\n",
        "다음 리스트에서 '바람 서리 불변함은 우리 기상일세.' 요소 대신에 '하느님이 보우하사 우리나라 만세.' 요소 넣기\n",
        "\n"
      ]
    },
    {
      "cell_type": "code",
      "metadata": {
        "colab_type": "code",
        "id": "M7kAKVH30B6s",
        "colab": {}
      },
      "source": [
        "x = ['동해 물과 백두산이 마르고 닳도록',\n",
        "    '바람 서리 불변함은 우리 기상일세.',\n",
        "    '무궁화 삼천리 화려 강산',\n",
        "    '대한 사람, 대한으로 길이 보전하세.']"
      ],
      "execution_count": null,
      "outputs": []
    },
    {
      "cell_type": "markdown",
      "metadata": {
        "colab_type": "text",
        "id": "sEbn8Skp0B6v"
      },
      "source": [
        "Q. 리스트 길이  \n",
        "다음 리스트의 길이는?\n"
      ]
    },
    {
      "cell_type": "code",
      "metadata": {
        "colab_type": "code",
        "id": "nW9Qce6S0B6w",
        "colab": {}
      },
      "source": [
        "a = [48, 48, 27, 60, 18, 11, 58, 89, 89, 12, 56, 32, 28]"
      ],
      "execution_count": null,
      "outputs": []
    },
    {
      "cell_type": "markdown",
      "metadata": {
        "colab_type": "text",
        "id": "WSMlLOPj0B60"
      },
      "source": [
        "Q. 리스트 연결 연산자   \n",
        "다음 두 리스트를 합쳐서 새로운 리스트 list_c를 만들어보기  \n",
        "``` list_c = ['001', '002', '006', '102', '105', '103', '102'] ```\n"
      ]
    },
    {
      "cell_type": "code",
      "metadata": {
        "colab_type": "code",
        "id": "M0YV8ani0B60",
        "colab": {}
      },
      "source": [
        "list_a = ['001', '002', '006']\n",
        "list_b = ['102', '105', '103', '102']"
      ],
      "execution_count": null,
      "outputs": []
    },
    {
      "cell_type": "markdown",
      "metadata": {
        "colab_type": "text",
        "id": "OqjyIsz-0B64"
      },
      "source": [
        "Q. 다음 숫자들 중 주어진 리스트x에 포함되지 않은 숫자는?  \n",
        "10, 12, 32, 60, 22\n"
      ]
    },
    {
      "cell_type": "code",
      "metadata": {
        "colab_type": "code",
        "id": "ro7AD1SR0B64",
        "colab": {}
      },
      "source": [
        "x = [48, 48, 27, 60, 18, 11, 58, 89, 89, 12, 56, 32, 28]"
      ],
      "execution_count": null,
      "outputs": []
    },
    {
      "cell_type": "markdown",
      "metadata": {
        "colab_type": "text",
        "id": "c2YyJ6m90B67"
      },
      "source": [
        "Q. 다음 리스트 마지막에 좋아하는 음식 한가지를 추가해보기\n"
      ]
    },
    {
      "cell_type": "code",
      "metadata": {
        "colab_type": "code",
        "id": "2g9gt--q0B67",
        "colab": {}
      },
      "source": [
        "food = ['피자', '파스타', '샌드위치']"
      ],
      "execution_count": null,
      "outputs": []
    },
    {
      "cell_type": "markdown",
      "metadata": {
        "colab_type": "text",
        "id": "yV6w8uMv0B6_"
      },
      "source": [
        "Q. 다음 리스트 마지막에 동물 이름 세가지를 추가해보기\n"
      ]
    },
    {
      "cell_type": "code",
      "metadata": {
        "colab_type": "code",
        "id": "DM_6BGOM0B6_",
        "colab": {}
      },
      "source": [
        "animals = ['호랑이', '사자']"
      ],
      "execution_count": null,
      "outputs": []
    },
    {
      "cell_type": "markdown",
      "metadata": {
        "colab_type": "text",
        "id": "hIoi43fp0B7D"
      },
      "source": [
        "Q. 다음 리스트에서 호랑이와 사자 사이에 여우를 추가해보기\n"
      ]
    },
    {
      "cell_type": "code",
      "metadata": {
        "colab_type": "code",
        "id": "veOEq5RH0B7E",
        "colab": {}
      },
      "source": [
        "animals = ['호랑이', '사자']"
      ],
      "execution_count": null,
      "outputs": []
    },
    {
      "cell_type": "markdown",
      "metadata": {
        "colab_type": "text",
        "id": "R1kB8lx10B7G"
      },
      "source": [
        "Q. 다음 리스트에서 '당근'을 삭제하기\n"
      ]
    },
    {
      "cell_type": "code",
      "metadata": {
        "colab_type": "code",
        "id": "Znj2a3eV0B7G",
        "colab": {}
      },
      "source": [
        "fruits = ['포도', '사과', '배', '당근', '복숭아', '자두']"
      ],
      "execution_count": null,
      "outputs": []
    },
    {
      "cell_type": "markdown",
      "metadata": {
        "colab_type": "text",
        "id": "WUsj_njK0B7M"
      },
      "source": [
        "Q. 다름 리스트를 내림차순으로 정렬하기\n",
        "\n"
      ]
    },
    {
      "cell_type": "code",
      "metadata": {
        "colab_type": "code",
        "id": "NTMYpPIj0B7N",
        "colab": {}
      },
      "source": [
        "x = [48, 48, 27, 60, 18, 11, 58, 89, 89, 12, 56, 32, 28]"
      ],
      "execution_count": null,
      "outputs": []
    },
    {
      "cell_type": "markdown",
      "metadata": {
        "id": "9I8rZBufqECT",
        "colab_type": "text"
      },
      "source": [
        "### 퀴즈정답-리스트"
      ]
    },
    {
      "cell_type": "markdown",
      "metadata": {
        "colab_type": "text",
        "id": "iiPqJwEtTnve"
      },
      "source": [
        "Q. 리스트의 특징은?\n"
      ]
    },
    {
      "cell_type": "markdown",
      "metadata": {
        "colab_type": "text",
        "id": "xI2oxZ41TpWO"
      },
      "source": [
        "A.\n",
        "시퀀스이다  \n",
        "요소는 무엇이든 될 수 있다  \n",
        "변경 가능하다  "
      ]
    },
    {
      "cell_type": "markdown",
      "metadata": {
        "colab_type": "text",
        "id": "lm6D7LP6TnZu"
      },
      "source": [
        "Q. 리스트 만들기  \n",
        "변수 fruits에 좋아하는 과일 이름을 리스트 타입으로 담기\n",
        "\n"
      ]
    },
    {
      "cell_type": "code",
      "metadata": {
        "id": "DlZ1f-8QgMF0",
        "colab_type": "code",
        "colab": {}
      },
      "source": [
        ""
      ],
      "execution_count": null,
      "outputs": []
    },
    {
      "cell_type": "markdown",
      "metadata": {
        "colab_type": "text",
        "id": "gncDaJEyTpoX"
      },
      "source": [
        "A."
      ]
    },
    {
      "cell_type": "code",
      "metadata": {
        "id": "tmKLUrrKgJFx",
        "colab_type": "code",
        "colab": {}
      },
      "source": [
        "fruits = ['딸기', '바나나', '파인애플', '사과']"
      ],
      "execution_count": null,
      "outputs": []
    },
    {
      "cell_type": "markdown",
      "metadata": {
        "colab_type": "text",
        "id": "ZKWSnEb5Tn21"
      },
      "source": [
        "Q. 리스트 인덱싱  \n",
        "다음 리스트에서 인덱싱을 통해 'a'라는 요소만 얻기\n"
      ]
    },
    {
      "cell_type": "code",
      "metadata": {
        "id": "vnyO8_CcgNwH",
        "colab_type": "code",
        "colab": {}
      },
      "source": [
        "list_a = [[1, 2], [0, 10, 20, ['a', 'b']], [100, 200, 300]]"
      ],
      "execution_count": null,
      "outputs": []
    },
    {
      "cell_type": "markdown",
      "metadata": {
        "colab_type": "text",
        "id": "NBXB-71RTqF9"
      },
      "source": [
        "A."
      ]
    },
    {
      "cell_type": "code",
      "metadata": {
        "id": "GAjncr8wgORq",
        "colab_type": "code",
        "colab": {}
      },
      "source": [
        "list_a[1][3][0]"
      ],
      "execution_count": null,
      "outputs": []
    },
    {
      "cell_type": "markdown",
      "metadata": {
        "colab_type": "text",
        "id": "BI_lSp-rD2QC"
      },
      "source": [
        "Q. 리스트 슬라이싱  \n",
        "다음 리스트에서 인덱싱과 슬라이싱을 통해 'p', 'y', 't', 'o', 'n'이라는 요소들만 얻기\n"
      ]
    },
    {
      "cell_type": "code",
      "metadata": {
        "colab_type": "code",
        "id": "vROKXXZdD2QD",
        "colab": {}
      },
      "source": [
        "list_a = [10, [10, ['a', 'p', 'y', 't', 'o', 'n'], 20], 20]"
      ],
      "execution_count": null,
      "outputs": []
    },
    {
      "cell_type": "markdown",
      "metadata": {
        "colab_type": "text",
        "id": "P6RPcXfqD2QG"
      },
      "source": [
        "A."
      ]
    },
    {
      "cell_type": "code",
      "metadata": {
        "colab_type": "code",
        "id": "hXPXhbU8D2QG",
        "colab": {}
      },
      "source": [
        "list_a[1][1][1:]"
      ],
      "execution_count": null,
      "outputs": []
    },
    {
      "cell_type": "markdown",
      "metadata": {
        "colab_type": "text",
        "id": "SZh5VZk9D3aF"
      },
      "source": [
        "Q. 요소 변경하기  \n",
        "\n",
        "다음 리스트에서 '바람 서리 불변함은 우리 기상일세.' 요소 대신에 '하느님이 보우하사 우리나라 만세.' 요소 넣기\n",
        "\n"
      ]
    },
    {
      "cell_type": "code",
      "metadata": {
        "colab_type": "code",
        "id": "oz-O-2_SD3aF",
        "colab": {}
      },
      "source": [
        "x = ['동해 물과 백두산이 마르고 닳도록',\n",
        "    '바람 서리 불변함은 우리 기상일세.',\n",
        "    '무궁화 삼천리 화려 강산',\n",
        "    '대한 사람, 대한으로 길이 보전하세.']"
      ],
      "execution_count": null,
      "outputs": []
    },
    {
      "cell_type": "markdown",
      "metadata": {
        "colab_type": "text",
        "id": "zkLj71eZD3aH"
      },
      "source": [
        "A."
      ]
    },
    {
      "cell_type": "code",
      "metadata": {
        "colab_type": "code",
        "id": "Io6ffm_iD3aH",
        "colab": {}
      },
      "source": [
        "x[1] = '하느님이 보우하사 우리나라 만세'\n",
        "x"
      ],
      "execution_count": null,
      "outputs": []
    },
    {
      "cell_type": "markdown",
      "metadata": {
        "colab_type": "text",
        "id": "cXZMpWopD4KC"
      },
      "source": [
        "Q. 리스트 길이  \n",
        "다음 리스트의 길이는?\n"
      ]
    },
    {
      "cell_type": "code",
      "metadata": {
        "colab_type": "code",
        "id": "dH85HSGID4KC",
        "colab": {}
      },
      "source": [
        "a = [48, 48, 27, 60, 18, 11, 58, 89, 89, 12, 56, 32, 28]"
      ],
      "execution_count": null,
      "outputs": []
    },
    {
      "cell_type": "markdown",
      "metadata": {
        "colab_type": "text",
        "id": "TiNKgVgKD4KE"
      },
      "source": [
        "A."
      ]
    },
    {
      "cell_type": "code",
      "metadata": {
        "colab_type": "code",
        "id": "Tl30C3PPD4KE",
        "colab": {}
      },
      "source": [
        "len(a)"
      ],
      "execution_count": null,
      "outputs": []
    },
    {
      "cell_type": "markdown",
      "metadata": {
        "colab_type": "text",
        "id": "aYlSPTwlToGY"
      },
      "source": [
        "Q. 리스트 연결 연산자   \n",
        "다음 두 리스트를 합쳐서 새로운 리스트 list_c를 만들어보기  \n",
        "``` list_c = ['001', '002', '006', '102', '105', '103', '102'] ```\n"
      ]
    },
    {
      "cell_type": "code",
      "metadata": {
        "id": "pNaXOpz2gOwn",
        "colab_type": "code",
        "colab": {}
      },
      "source": [
        "list_a = ['001', '002', '006']\n",
        "list_b = ['102', '105', '103', '102']"
      ],
      "execution_count": null,
      "outputs": []
    },
    {
      "cell_type": "markdown",
      "metadata": {
        "colab_type": "text",
        "id": "TE0-EI3jTqWl"
      },
      "source": [
        "A."
      ]
    },
    {
      "cell_type": "code",
      "metadata": {
        "id": "Py5CfYyhgPgP",
        "colab_type": "code",
        "colab": {}
      },
      "source": [
        "list_c = list_a + list_b\n",
        "list_c"
      ],
      "execution_count": null,
      "outputs": []
    },
    {
      "cell_type": "markdown",
      "metadata": {
        "colab_type": "text",
        "id": "VuXTQSeBToUc"
      },
      "source": [
        "Q. 다음 숫자들 중 주어진 리스트x에 포함되지 않은 숫자는?  \n",
        "10, 12, 32, 60, 22\n"
      ]
    },
    {
      "cell_type": "code",
      "metadata": {
        "id": "XArcc1fqgP62",
        "colab_type": "code",
        "colab": {}
      },
      "source": [
        "x = [48, 48, 27, 60, 18, 11, 58, 89, 89, 12, 56, 32, 28]"
      ],
      "execution_count": null,
      "outputs": []
    },
    {
      "cell_type": "markdown",
      "metadata": {
        "colab_type": "text",
        "id": "mxdKETadTqpv"
      },
      "source": [
        "A. 10, 22는 리스트 x에 없음"
      ]
    },
    {
      "cell_type": "code",
      "metadata": {
        "id": "9JrCEbXZgQhV",
        "colab_type": "code",
        "colab": {}
      },
      "source": [
        "print(10 in x)\n",
        "print(12 in x)\n",
        "print(32 in x)\n",
        "print(60 in x)\n",
        "print(22 in x)"
      ],
      "execution_count": null,
      "outputs": []
    },
    {
      "cell_type": "markdown",
      "metadata": {
        "colab_type": "text",
        "id": "S5NtjtJhBWoo"
      },
      "source": [
        "Q. 다음 리스트 마지막에 좋아하는 음식 한가지를 추가해보기\n"
      ]
    },
    {
      "cell_type": "code",
      "metadata": {
        "colab_type": "code",
        "id": "QL_f3Y1fBWoq",
        "colab": {}
      },
      "source": [
        "food = ['피자', '파스타', '샌드위치']"
      ],
      "execution_count": null,
      "outputs": []
    },
    {
      "cell_type": "markdown",
      "metadata": {
        "colab_type": "text",
        "id": "HRvtuk1LBWos"
      },
      "source": [
        "A."
      ]
    },
    {
      "cell_type": "code",
      "metadata": {
        "colab_type": "code",
        "id": "5zcNK8NXBWos",
        "colab": {}
      },
      "source": [
        "food.append('초밥')\n",
        "food"
      ],
      "execution_count": null,
      "outputs": []
    },
    {
      "cell_type": "markdown",
      "metadata": {
        "colab_type": "text",
        "id": "WLLly1OEBYFL"
      },
      "source": [
        "Q. 다음 리스트 마지막에 동물 이름 세가지를 추가해보기\n"
      ]
    },
    {
      "cell_type": "code",
      "metadata": {
        "colab_type": "code",
        "id": "11PpZM0aBYFM",
        "colab": {}
      },
      "source": [
        "animals = ['호랑이', '사자']"
      ],
      "execution_count": null,
      "outputs": []
    },
    {
      "cell_type": "markdown",
      "metadata": {
        "colab_type": "text",
        "id": "rDj0iBrtBYFP"
      },
      "source": [
        "A."
      ]
    },
    {
      "cell_type": "code",
      "metadata": {
        "colab_type": "code",
        "id": "UiKWbjTPBYFP",
        "colab": {}
      },
      "source": [
        "animals.extend(['양', '소', '토끼'])\n",
        "animals"
      ],
      "execution_count": null,
      "outputs": []
    },
    {
      "cell_type": "markdown",
      "metadata": {
        "colab_type": "text",
        "id": "Yzuo2pNSBYwi"
      },
      "source": [
        "Q. 다음 리스트에서 호랑이와 사자 사이에 여우를 추가해보기\n"
      ]
    },
    {
      "cell_type": "code",
      "metadata": {
        "colab_type": "code",
        "id": "2BXfuEIeBYwi",
        "colab": {}
      },
      "source": [
        "animals = ['호랑이', '사자']"
      ],
      "execution_count": null,
      "outputs": []
    },
    {
      "cell_type": "markdown",
      "metadata": {
        "colab_type": "text",
        "id": "4ZLCaKzzBYwl"
      },
      "source": [
        "A."
      ]
    },
    {
      "cell_type": "code",
      "metadata": {
        "colab_type": "code",
        "id": "aHZC--DEBYwm",
        "colab": {}
      },
      "source": [
        "animals.insert(1, '여우')\n",
        "animals"
      ],
      "execution_count": null,
      "outputs": []
    },
    {
      "cell_type": "markdown",
      "metadata": {
        "colab_type": "text",
        "id": "abd9CBcABZVf"
      },
      "source": [
        "Q. 다음 리스트에서 '당근'을 삭제하기\n"
      ]
    },
    {
      "cell_type": "code",
      "metadata": {
        "colab_type": "code",
        "id": "D2AJctflBZVf",
        "colab": {}
      },
      "source": [
        "fruits = ['포도', '사과', '배', '당근', '복숭아', '자두']"
      ],
      "execution_count": null,
      "outputs": []
    },
    {
      "cell_type": "markdown",
      "metadata": {
        "colab_type": "text",
        "id": "ivaVIndVBZVh"
      },
      "source": [
        "A."
      ]
    },
    {
      "cell_type": "code",
      "metadata": {
        "colab_type": "code",
        "id": "D2W5Jj-oBZVh",
        "colab": {}
      },
      "source": [
        "#1\n",
        "fruits = ['포도', '사과', '배', '당근', '복숭아', '자두']\n",
        "fruits.pop(3)\n",
        "fruits"
      ],
      "execution_count": null,
      "outputs": []
    },
    {
      "cell_type": "code",
      "metadata": {
        "id": "CoeBFvlOM08e",
        "colab_type": "code",
        "colab": {}
      },
      "source": [
        "#2\n",
        "fruits = ['포도', '사과', '배', '당근', '복숭아', '자두']\n",
        "fruits.remove('당근')\n",
        "fruits"
      ],
      "execution_count": null,
      "outputs": []
    },
    {
      "cell_type": "code",
      "metadata": {
        "id": "s9WWZc7MNE_T",
        "colab_type": "code",
        "colab": {}
      },
      "source": [
        "#3\n",
        "fruits = ['포도', '사과', '배', '당근', '복숭아', '자두']\n",
        "del fruits[3]\n",
        "fruits"
      ],
      "execution_count": null,
      "outputs": []
    },
    {
      "cell_type": "markdown",
      "metadata": {
        "colab_type": "text",
        "id": "RPulkSNGBZxe"
      },
      "source": [
        "Q. 다름 리스트를 내림차순으로 정렬하기\n",
        "\n"
      ]
    },
    {
      "cell_type": "code",
      "metadata": {
        "colab_type": "code",
        "id": "gYrQ3dXSBZxf",
        "colab": {}
      },
      "source": [
        "x = [48, 48, 27, 60, 18, 11, 58, 89, 89, 12, 56, 32, 28]"
      ],
      "execution_count": null,
      "outputs": []
    },
    {
      "cell_type": "markdown",
      "metadata": {
        "colab_type": "text",
        "id": "l0_R1nsMBZxg"
      },
      "source": [
        "A."
      ]
    },
    {
      "cell_type": "code",
      "metadata": {
        "colab_type": "code",
        "id": "R6EUf5sVBZxh",
        "colab": {}
      },
      "source": [
        "#1\n",
        "x.sort(reverse=True)\n",
        "x"
      ],
      "execution_count": null,
      "outputs": []
    },
    {
      "cell_type": "code",
      "metadata": {
        "id": "MgM3a1TvNhx_",
        "colab_type": "code",
        "colab": {}
      },
      "source": [
        "#2\n",
        "x = sorted(x, reverse=True)\n",
        "x"
      ],
      "execution_count": null,
      "outputs": []
    },
    {
      "cell_type": "markdown",
      "metadata": {
        "id": "FOo81tFxNyaz",
        "colab_type": "text"
      },
      "source": [
        "## 튜플 "
      ]
    },
    {
      "cell_type": "markdown",
      "metadata": {
        "id": "RfJK7wCFrSdP",
        "colab_type": "text"
      },
      "source": [
        "### 튜플 만들기"
      ]
    },
    {
      "cell_type": "code",
      "metadata": {
        "id": "jABueSoWRLVm",
        "colab_type": "code",
        "colab": {}
      },
      "source": [
        "empty_tuple = ()\n",
        "empty_tuple"
      ],
      "execution_count": null,
      "outputs": []
    },
    {
      "cell_type": "code",
      "metadata": {
        "id": "_hXBd-QuN2tV",
        "colab_type": "code",
        "colab": {}
      },
      "source": [
        "empty_tuple = tuple()\n",
        "empty_tuple"
      ],
      "execution_count": null,
      "outputs": []
    },
    {
      "cell_type": "code",
      "metadata": {
        "id": "ICgl6ilXN1xI",
        "colab_type": "code",
        "colab": {}
      },
      "source": [
        "type(empty_tuple)"
      ],
      "execution_count": null,
      "outputs": []
    },
    {
      "cell_type": "code",
      "metadata": {
        "id": "2PVDhUpNWhvX",
        "colab_type": "code",
        "colab": {}
      },
      "source": [
        "t1 = 'a',\n",
        "t2 = ('a',)\n",
        "print(t1, t2)\n",
        "print(type(t1), type(t2)) "
      ],
      "execution_count": null,
      "outputs": []
    },
    {
      "cell_type": "code",
      "metadata": {
        "id": "kyK4BxSEXB2T",
        "colab_type": "code",
        "colab": {}
      },
      "source": [
        "t1 = 'a', 'b', 'c'\n",
        "t2 = ('a', 'b', 'c')\n",
        "print(t1, t2)\n",
        "print(type(t1), type(t2))"
      ],
      "execution_count": null,
      "outputs": []
    },
    {
      "cell_type": "code",
      "metadata": {
        "id": "XcdvPyMwN2ok",
        "colab_type": "code",
        "colab": {}
      },
      "source": [
        "weekdays = ('월', '화', '수', '목', '금')\n",
        "weekdays "
      ],
      "execution_count": null,
      "outputs": []
    },
    {
      "cell_type": "code",
      "metadata": {
        "id": "dIyIrqQVN2jv",
        "colab_type": "code",
        "colab": {}
      },
      "source": [
        "type(weekdays)"
      ],
      "execution_count": null,
      "outputs": []
    },
    {
      "cell_type": "code",
      "metadata": {
        "id": "PjNsgM-ON2e3",
        "colab_type": "code",
        "colab": {}
      },
      "source": [
        "prime_25 = (2, 3, 5, 7, 11, 13, 17, 19, 23, 29, 31, 37, 41, \n",
        "         43, 47, 53, 59, 61, 67, 71, 73, 79, 83, 89, 97)\n",
        "type(prime_25)"
      ],
      "execution_count": null,
      "outputs": []
    },
    {
      "cell_type": "markdown",
      "metadata": {
        "id": "ju1m3E8QraDf",
        "colab_type": "text"
      },
      "source": [
        "### 튜플로 형변환"
      ]
    },
    {
      "cell_type": "code",
      "metadata": {
        "id": "g_s1YpLVUk5w",
        "colab_type": "code",
        "colab": {}
      },
      "source": [
        "a = tuple('문자열')\n",
        "a"
      ],
      "execution_count": null,
      "outputs": []
    },
    {
      "cell_type": "code",
      "metadata": {
        "id": "8Vpaiv3rUkyd",
        "colab_type": "code",
        "colab": {}
      },
      "source": [
        "type(a)"
      ],
      "execution_count": null,
      "outputs": []
    },
    {
      "cell_type": "code",
      "metadata": {
        "id": "lXMzfH63UV_N",
        "colab_type": "code",
        "colab": {}
      },
      "source": [
        "prime_5 = tuple([2, 3, 5, 7, 11])\n",
        "prime_5"
      ],
      "execution_count": null,
      "outputs": []
    },
    {
      "cell_type": "code",
      "metadata": {
        "id": "fXBTBbjRUWNr",
        "colab_type": "code",
        "colab": {}
      },
      "source": [
        "type(prime_5)"
      ],
      "execution_count": null,
      "outputs": []
    },
    {
      "cell_type": "markdown",
      "metadata": {
        "id": "alG701Chr5s1",
        "colab_type": "text"
      },
      "source": [
        "### 튜플 인덱싱"
      ]
    },
    {
      "cell_type": "code",
      "metadata": {
        "id": "iiN3kcfzWCZM",
        "colab_type": "code",
        "colab": {}
      },
      "source": [
        "prime_5 = (2, 3, 5, 7, 11)"
      ],
      "execution_count": null,
      "outputs": []
    },
    {
      "cell_type": "code",
      "metadata": {
        "id": "Sv3q_wrzWCUJ",
        "colab_type": "code",
        "colab": {}
      },
      "source": [
        "prime_5[0]"
      ],
      "execution_count": null,
      "outputs": []
    },
    {
      "cell_type": "code",
      "metadata": {
        "id": "eSxgU9BXWCO3",
        "colab_type": "code",
        "colab": {}
      },
      "source": [
        "prime_5[-2]"
      ],
      "execution_count": null,
      "outputs": []
    },
    {
      "cell_type": "code",
      "metadata": {
        "id": "RgHD-y_nWCJV",
        "colab_type": "code",
        "colab": {}
      },
      "source": [
        "tp = ((100, 200), 300, (400, (500, 600)))\n",
        "tp[2]"
      ],
      "execution_count": null,
      "outputs": []
    },
    {
      "cell_type": "code",
      "metadata": {
        "id": "S4PXGbtoWCD2",
        "colab_type": "code",
        "colab": {}
      },
      "source": [
        "tp[2][1]"
      ],
      "execution_count": null,
      "outputs": []
    },
    {
      "cell_type": "code",
      "metadata": {
        "id": "CPsJVGqyuFQE",
        "colab_type": "code",
        "colab": {}
      },
      "source": [
        "tp[2][1][0]"
      ],
      "execution_count": null,
      "outputs": []
    },
    {
      "cell_type": "markdown",
      "metadata": {
        "id": "G7NgZgGruRuO",
        "colab_type": "text"
      },
      "source": [
        "### 튜플 슬라이싱"
      ]
    },
    {
      "cell_type": "code",
      "metadata": {
        "id": "l705GOGUuFKc",
        "colab_type": "code",
        "colab": {}
      },
      "source": [
        "t = ('a', 'b', 'c', 'd', 'e')\n",
        "t[1:3]"
      ],
      "execution_count": null,
      "outputs": []
    },
    {
      "cell_type": "code",
      "metadata": {
        "id": "_0RlVWYfuVQm",
        "colab_type": "code",
        "colab": {}
      },
      "source": [
        "t[:3]"
      ],
      "execution_count": null,
      "outputs": []
    },
    {
      "cell_type": "code",
      "metadata": {
        "id": "vAVUgwvouVLD",
        "colab_type": "code",
        "colab": {}
      },
      "source": [
        "t[3:]"
      ],
      "execution_count": null,
      "outputs": []
    },
    {
      "cell_type": "code",
      "metadata": {
        "id": "OcDuIPEJuVFP",
        "colab_type": "code",
        "colab": {}
      },
      "source": [
        "t[0:4:2]"
      ],
      "execution_count": null,
      "outputs": []
    },
    {
      "cell_type": "markdown",
      "metadata": {
        "id": "SO19IbbzvV3I",
        "colab_type": "text"
      },
      "source": [
        "### 튜플의 요소를 삭제하거나 변경하려고 할 때\n"
      ]
    },
    {
      "cell_type": "code",
      "metadata": {
        "id": "QwRwYHzZuU_q",
        "colab_type": "code",
        "colab": {}
      },
      "source": [
        "t = ('a', 'b', 'c', 'd', 'e')"
      ],
      "execution_count": null,
      "outputs": []
    },
    {
      "cell_type": "code",
      "metadata": {
        "id": "auufH8CPuFFE",
        "colab_type": "code",
        "colab": {}
      },
      "source": [
        "del t[0]  # error"
      ],
      "execution_count": null,
      "outputs": []
    },
    {
      "cell_type": "code",
      "metadata": {
        "id": "_tcGRIhpuE_8",
        "colab_type": "code",
        "colab": {}
      },
      "source": [
        "t[0] = 'x'     # error"
      ],
      "execution_count": null,
      "outputs": []
    },
    {
      "cell_type": "markdown",
      "metadata": {
        "id": "xwSXUxfKwMpa",
        "colab_type": "text"
      },
      "source": [
        "### 튜플 연산자"
      ]
    },
    {
      "cell_type": "markdown",
      "metadata": {
        "id": "C_erX0vnwTXN",
        "colab_type": "text"
      },
      "source": [
        "#### +"
      ]
    },
    {
      "cell_type": "code",
      "metadata": {
        "id": "TzsWEEeMuE6q",
        "colab_type": "code",
        "colab": {}
      },
      "source": [
        "t1 = ('a', 'b', 'c', 'd', 'e')\n",
        "t2 = ('f', 'g')"
      ],
      "execution_count": null,
      "outputs": []
    },
    {
      "cell_type": "code",
      "metadata": {
        "id": "6Nzv6o4UwyfD",
        "colab_type": "code",
        "colab": {}
      },
      "source": [
        "t1 + t2\n",
        "t1"
      ],
      "execution_count": null,
      "outputs": []
    },
    {
      "cell_type": "code",
      "metadata": {
        "id": "1c3ogy0f61-u",
        "colab_type": "code",
        "colab": {}
      },
      "source": [
        "('1', '2') + ('a', 'b')"
      ],
      "execution_count": null,
      "outputs": []
    },
    {
      "cell_type": "markdown",
      "metadata": {
        "id": "VjJR3gCtxnkC",
        "colab_type": "text"
      },
      "source": [
        "#### * "
      ]
    },
    {
      "cell_type": "code",
      "metadata": {
        "id": "SJwrIrEgwyZe",
        "colab_type": "code",
        "colab": {}
      },
      "source": [
        "t2*3"
      ],
      "execution_count": null,
      "outputs": []
    },
    {
      "cell_type": "code",
      "metadata": {
        "id": "5oA2H83nzXrO",
        "colab_type": "code",
        "colab": {}
      },
      "source": [
        "(1,)*3"
      ],
      "execution_count": null,
      "outputs": []
    },
    {
      "cell_type": "markdown",
      "metadata": {
        "id": "s7iqyhaJxwOh",
        "colab_type": "text"
      },
      "source": [
        "#### in/ not in"
      ]
    },
    {
      "cell_type": "code",
      "metadata": {
        "id": "ZVg1WQmqyOlF",
        "colab_type": "code",
        "colab": {}
      },
      "source": [
        "t = ('a', 'b', 'c', 'd', 'e')"
      ],
      "execution_count": null,
      "outputs": []
    },
    {
      "cell_type": "code",
      "metadata": {
        "id": "tVehQVkBwyUK",
        "colab_type": "code",
        "colab": {}
      },
      "source": [
        "'a' in t"
      ],
      "execution_count": null,
      "outputs": []
    },
    {
      "cell_type": "code",
      "metadata": {
        "id": "b-A9hPc8x32z",
        "colab_type": "code",
        "colab": {}
      },
      "source": [
        "'b' not in t"
      ],
      "execution_count": null,
      "outputs": []
    },
    {
      "cell_type": "code",
      "metadata": {
        "id": "htEzpOe8wyOx",
        "colab_type": "code",
        "colab": {}
      },
      "source": [
        "'k' in t"
      ],
      "execution_count": null,
      "outputs": []
    },
    {
      "cell_type": "code",
      "metadata": {
        "id": "te4Znhp-wyJU",
        "colab_type": "code",
        "colab": {}
      },
      "source": [
        "'k' not in t"
      ],
      "execution_count": null,
      "outputs": []
    },
    {
      "cell_type": "code",
      "metadata": {
        "id": "RrCG58EU7K74",
        "colab_type": "code",
        "colab": {}
      },
      "source": [
        "('a',) in t"
      ],
      "execution_count": null,
      "outputs": []
    },
    {
      "cell_type": "markdown",
      "metadata": {
        "id": "G5VKxlcsylns",
        "colab_type": "text"
      },
      "source": [
        "### 튜플 길이"
      ]
    },
    {
      "cell_type": "code",
      "metadata": {
        "id": "ifWJMwTiwyDX",
        "colab_type": "code",
        "colab": {}
      },
      "source": [
        "t = ('a', 'b', 'c', 'd', 'e')\n",
        "len(t) "
      ],
      "execution_count": null,
      "outputs": []
    },
    {
      "cell_type": "code",
      "metadata": {
        "id": "EiBefDHy05TK",
        "colab_type": "code",
        "colab": {}
      },
      "source": [
        "t = ((1, 2, 3, 4), (5, 6, 7))\n",
        "len(t)"
      ],
      "execution_count": null,
      "outputs": []
    },
    {
      "cell_type": "code",
      "metadata": {
        "id": "wBgRKIx07RsH",
        "colab_type": "code",
        "colab": {}
      },
      "source": [
        "len(('토요일', '일요일'))"
      ],
      "execution_count": null,
      "outputs": []
    },
    {
      "cell_type": "markdown",
      "metadata": {
        "colab_type": "text",
        "id": "NtgtLEnl8rOP"
      },
      "source": [
        "### 퀴즈-튜플"
      ]
    },
    {
      "cell_type": "markdown",
      "metadata": {
        "colab_type": "text",
        "id": "r5xgOE8i8rOQ"
      },
      "source": [
        "Q. 튜플의 특징은?\n"
      ]
    },
    {
      "cell_type": "markdown",
      "metadata": {
        "colab_type": "text",
        "id": "gt70kRnk8rOQ"
      },
      "source": [
        ""
      ]
    },
    {
      "cell_type": "markdown",
      "metadata": {
        "colab_type": "text",
        "id": "tSN1T_6k8rOR"
      },
      "source": [
        "Q. 다음 데이터를 튜플과 리스트 중 어디에 저장하는 것이 좋은지 판단하고 이유 생각해보기  \n",
        "1. 처음 20번째까지의 소수\n",
        "2. 프로그래밍 언어의 종류\n",
        "3. 사람의 나이, 몸무게, 키\n",
        "4. 사람의 생일과 출생지\n"
      ]
    },
    {
      "cell_type": "markdown",
      "metadata": {
        "colab_type": "text",
        "id": "uWo8oLR_8rOR"
      },
      "source": [
        ""
      ]
    },
    {
      "cell_type": "markdown",
      "metadata": {
        "colab_type": "text",
        "id": "t-L-vtbA8rOS"
      },
      "source": [
        "Q. 본인의 이름과 생일이 담긴 튜플 만들기\n"
      ]
    },
    {
      "cell_type": "code",
      "metadata": {
        "colab_type": "code",
        "id": "ewNW-wea8rOS",
        "colab": {}
      },
      "source": [
        ""
      ],
      "execution_count": null,
      "outputs": []
    },
    {
      "cell_type": "markdown",
      "metadata": {
        "colab_type": "text",
        "id": "HL3359k38rOW"
      },
      "source": [
        "Q. 튜플의 요소를 변경할 수 있다. True/False\n"
      ]
    },
    {
      "cell_type": "markdown",
      "metadata": {
        "colab_type": "text",
        "id": "mcDU9tE_8rOW"
      },
      "source": [
        ""
      ]
    },
    {
      "cell_type": "markdown",
      "metadata": {
        "colab_type": "text",
        "id": "poHry4tK8rOX"
      },
      "source": [
        "Q. 다음 튜플의 길이는?\n"
      ]
    },
    {
      "cell_type": "code",
      "metadata": {
        "colab_type": "code",
        "id": "qVnXwk4l8rOY",
        "colab": {}
      },
      "source": [
        "city = ('서울', '인천', '부산', '대구', '대전', '광주', '울산', '세종')"
      ],
      "execution_count": null,
      "outputs": []
    },
    {
      "cell_type": "markdown",
      "metadata": {
        "id": "0TLHRIZp6sFn",
        "colab_type": "text"
      },
      "source": [
        "### 퀴즈정답-튜플"
      ]
    },
    {
      "cell_type": "markdown",
      "metadata": {
        "colab_type": "text",
        "id": "xWfQtJlDBaWv"
      },
      "source": [
        "Q. 튜플의 특징은?\n"
      ]
    },
    {
      "cell_type": "markdown",
      "metadata": {
        "id": "wX9mrULIQNcq",
        "colab_type": "text"
      },
      "source": [
        ""
      ]
    },
    {
      "cell_type": "markdown",
      "metadata": {
        "colab_type": "text",
        "id": "kKZ1h4m6BaWx"
      },
      "source": [
        "A.\n",
        "시퀀스이다  \n",
        "요소는 무엇이든 될 수 있다  \n",
        "변경 불가능하다"
      ]
    },
    {
      "cell_type": "markdown",
      "metadata": {
        "colab_type": "text",
        "id": "kz1m1RUMBa1o"
      },
      "source": [
        "Q. 다음 데이터를 튜플과 리스트 중 어디에 저장하는 것이 좋은지 판단하고 이유 생각해보기  \n",
        "1. 처음 20번째까지의 소수\n",
        "2. 프로그래밍 언어의 종류\n",
        "3. 사람의 나이, 몸무게, 키\n",
        "4. 사람의 생일과 출생지\n"
      ]
    },
    {
      "cell_type": "markdown",
      "metadata": {
        "id": "bvPVwOlKQS3q",
        "colab_type": "text"
      },
      "source": [
        ""
      ]
    },
    {
      "cell_type": "markdown",
      "metadata": {
        "colab_type": "text",
        "id": "LS8LaBM-Ba1q"
      },
      "source": [
        "A.  \n",
        "1. 처음 20번째까지의 소수 : 튜플, 변하지 않는 정적데이터이므로\n",
        "2. 프로그래밍 언어의 종류 : 리스트, 데이터가 증가할 수 있으므로\n",
        "3. 사람의 나이, 몸무게, 키 : 리스트, 값을 갱신해야하므로\n",
        "4. 사람의 생일과 출생지 : 튜플, 정적인 데이터이므로"
      ]
    },
    {
      "cell_type": "markdown",
      "metadata": {
        "colab_type": "text",
        "id": "DmEPl-GYBb3b"
      },
      "source": [
        "Q. 본인의 이름과 생일이 담긴 튜플 만들기\n"
      ]
    },
    {
      "cell_type": "code",
      "metadata": {
        "colab_type": "code",
        "id": "SjBF9hAhBb3b",
        "colab": {}
      },
      "source": [
        ""
      ],
      "execution_count": null,
      "outputs": []
    },
    {
      "cell_type": "markdown",
      "metadata": {
        "colab_type": "text",
        "id": "lI5HYz7HBb3d"
      },
      "source": [
        "A."
      ]
    },
    {
      "cell_type": "code",
      "metadata": {
        "colab_type": "code",
        "id": "ESbWA4iXBbjc",
        "colab": {}
      },
      "source": [
        "('땡땡이', '2020-01-01')"
      ],
      "execution_count": null,
      "outputs": []
    },
    {
      "cell_type": "markdown",
      "metadata": {
        "colab_type": "text",
        "id": "iNo_TkfmBg-2"
      },
      "source": [
        "Q. 튜플의 요소를 변경할 수 있다. True/False\n"
      ]
    },
    {
      "cell_type": "markdown",
      "metadata": {
        "id": "yCgQ-yl876LZ",
        "colab_type": "text"
      },
      "source": [
        ""
      ]
    },
    {
      "cell_type": "markdown",
      "metadata": {
        "colab_type": "text",
        "id": "3UfGS4E0Bg-4"
      },
      "source": [
        "A. False"
      ]
    },
    {
      "cell_type": "markdown",
      "metadata": {
        "colab_type": "text",
        "id": "xscXmyQ9BiKV"
      },
      "source": [
        "Q. 다음 튜플의 길이는?\n"
      ]
    },
    {
      "cell_type": "code",
      "metadata": {
        "colab_type": "code",
        "id": "YG-BmZ5iBiKW",
        "colab": {}
      },
      "source": [
        "city = ('서울', '인천', '부산', '대구', '대전', '광주', '울산', '세종')"
      ],
      "execution_count": null,
      "outputs": []
    },
    {
      "cell_type": "markdown",
      "metadata": {
        "colab_type": "text",
        "id": "qwWEXv3lBiKX"
      },
      "source": [
        "A."
      ]
    },
    {
      "cell_type": "code",
      "metadata": {
        "colab_type": "code",
        "id": "SlPAewOFBiKY",
        "colab": {}
      },
      "source": [
        "len(city)"
      ],
      "execution_count": null,
      "outputs": []
    },
    {
      "cell_type": "markdown",
      "metadata": {
        "id": "KoAyjQXk8bwV",
        "colab_type": "text"
      },
      "source": [
        "## 딕셔너리"
      ]
    },
    {
      "cell_type": "markdown",
      "metadata": {
        "id": "XjsTJuQOErGM",
        "colab_type": "text"
      },
      "source": [
        "### 딕셔너리 만들기"
      ]
    },
    {
      "cell_type": "code",
      "metadata": {
        "colab_type": "code",
        "id": "yiYsLuo6yqWL",
        "colab": {}
      },
      "source": [
        "dic = {'이름':'땡땡이', \n",
        "       '나이':40,\n",
        "       '주소':('제주도', '제주시'), \n",
        "       '번호':'010-123-4567'}"
      ],
      "execution_count": null,
      "outputs": []
    },
    {
      "cell_type": "code",
      "metadata": {
        "colab_type": "code",
        "id": "chxw_pKJyrRu",
        "colab": {}
      },
      "source": [
        "empty_dict = {}\n",
        "empty_dict"
      ],
      "execution_count": null,
      "outputs": []
    },
    {
      "cell_type": "code",
      "metadata": {
        "colab_type": "code",
        "id": "ai34pjHhysDr",
        "colab": {}
      },
      "source": [
        "dic1 = {'사과':[1, 2], '딸기':[3, 4], '배':[5, 6]}\n",
        "dic2 = {True:100, False:-100}\n",
        "dic3 = {(0,0):100, (0, 1):200, (1, 0):100 ,(1, 1):0}"
      ],
      "execution_count": null,
      "outputs": []
    },
    {
      "cell_type": "markdown",
      "metadata": {
        "id": "cbgGqkHTEzie",
        "colab_type": "text"
      },
      "source": [
        "###항목 얻기"
      ]
    },
    {
      "cell_type": "code",
      "metadata": {
        "colab_type": "code",
        "id": "EqtsnrkuysD2",
        "colab": {}
      },
      "source": [
        "dic = {'사과':40000, '딸기':12000, '배':50000}"
      ],
      "execution_count": null,
      "outputs": []
    },
    {
      "cell_type": "code",
      "metadata": {
        "colab_type": "code",
        "id": "wmLdVKzayr6g",
        "colab": {}
      },
      "source": [
        "dic['사과']"
      ],
      "execution_count": null,
      "outputs": []
    },
    {
      "cell_type": "code",
      "metadata": {
        "colab_type": "code",
        "id": "8ar3y9pOyr6j",
        "colab": {}
      },
      "source": [
        "dic['딸기']"
      ],
      "execution_count": null,
      "outputs": []
    },
    {
      "cell_type": "code",
      "metadata": {
        "colab_type": "code",
        "id": "sm0vyXqayr6n",
        "colab": {}
      },
      "source": [
        "dic['배']"
      ],
      "execution_count": null,
      "outputs": []
    },
    {
      "cell_type": "code",
      "metadata": {
        "id": "rRsAgI6zQloF",
        "colab_type": "code",
        "colab": {}
      },
      "source": [
        "dic = {'사과':40000, '딸기':12000, '배':50000}"
      ],
      "execution_count": null,
      "outputs": []
    },
    {
      "cell_type": "code",
      "metadata": {
        "id": "j3dMh6kRQub4",
        "colab_type": "code",
        "colab": {}
      },
      "source": [
        "dic.get('사과') "
      ],
      "execution_count": null,
      "outputs": []
    },
    {
      "cell_type": "code",
      "metadata": {
        "id": "MPCQoaxnQuUA",
        "colab_type": "code",
        "colab": {}
      },
      "source": [
        "dic.get('배')"
      ],
      "execution_count": null,
      "outputs": []
    },
    {
      "cell_type": "code",
      "metadata": {
        "id": "3cf28UjoQfTi",
        "colab_type": "code",
        "colab": {}
      },
      "source": [
        "#키가 존재하지 않는 경우\n",
        "print(dic.get('포도'))"
      ],
      "execution_count": null,
      "outputs": []
    },
    {
      "cell_type": "code",
      "metadata": {
        "id": "eb30tb51QXkp",
        "colab_type": "code",
        "colab": {}
      },
      "source": [
        "#키가 존재하지 않는 경우 error\n",
        "dic['포도']"
      ],
      "execution_count": null,
      "outputs": []
    },
    {
      "cell_type": "code",
      "metadata": {
        "colab_type": "code",
        "id": "LJ7M63HGyr6p",
        "colab": {}
      },
      "source": [
        "soy_milk = {'원재료명': ['원액두유','식염'], \n",
        "            '유통기한':'2021-05-05', \n",
        "            '보관방법': '실온보관',\n",
        "            '포장재질':'폴리에틸렌'}"
      ],
      "execution_count": null,
      "outputs": []
    },
    {
      "cell_type": "code",
      "metadata": {
        "colab_type": "code",
        "id": "uv_Z_IoUyr04",
        "colab": {}
      },
      "source": [
        "soy_milk['원재료명']"
      ],
      "execution_count": null,
      "outputs": []
    },
    {
      "cell_type": "code",
      "metadata": {
        "colab_type": "code",
        "id": "Us2dYdScyr05",
        "colab": {}
      },
      "source": [
        "soy_milk['보관방법']"
      ],
      "execution_count": null,
      "outputs": []
    },
    {
      "cell_type": "markdown",
      "metadata": {
        "id": "bDn8y8fyGmem",
        "colab_type": "text"
      },
      "source": [
        "### 항목 변경/추가하기"
      ]
    },
    {
      "cell_type": "code",
      "metadata": {
        "id": "3lZzGuta8eY8",
        "colab_type": "code",
        "colab": {}
      },
      "source": [
        "soy_milk = {'원재료명': ['원액두유','식염'], \n",
        "            '유통기한':'2021-05-05', \n",
        "            '보관방법': '실온보관',\n",
        "            '포장재질':'폴리에틸렌'}"
      ],
      "execution_count": null,
      "outputs": []
    },
    {
      "cell_type": "code",
      "metadata": {
        "id": "ZIkUA1C_8k-c",
        "colab_type": "code",
        "colab": {}
      },
      "source": [
        "soy_milk['제조사']  #error"
      ],
      "execution_count": null,
      "outputs": []
    },
    {
      "cell_type": "code",
      "metadata": {
        "id": "qOep2-PI8n92",
        "colab_type": "code",
        "colab": {}
      },
      "source": [
        "soy_milk['제조사'] = '땡땡사'\n",
        "soy_milk"
      ],
      "execution_count": null,
      "outputs": []
    },
    {
      "cell_type": "code",
      "metadata": {
        "colab_type": "code",
        "id": "zDw6lUy_yr07",
        "colab": {}
      },
      "source": [
        "webtoon = {'유미의 세포들': '이동거', '아홉수 우리들': '수박양', '위대한 방옥숙': ('매미','희세')}"
      ],
      "execution_count": null,
      "outputs": []
    },
    {
      "cell_type": "code",
      "metadata": {
        "colab_type": "code",
        "id": "wWeJ_mrIyrqy",
        "colab": {}
      },
      "source": [
        "# 기존에 있는 키\n",
        "webtoon['유미의 세포들'] = '이동건'\n",
        "print(webtoon)"
      ],
      "execution_count": null,
      "outputs": []
    },
    {
      "cell_type": "code",
      "metadata": {
        "colab_type": "code",
        "id": "Cnj645beyr08",
        "colab": {}
      },
      "source": [
        "# 기존에 없던 키\n",
        "webtoon['고래별'] = '나윤희'\n",
        "print(webtoon)"
      ],
      "execution_count": null,
      "outputs": []
    },
    {
      "cell_type": "code",
      "metadata": {
        "colab_type": "code",
        "id": "2hpJydNXyrqw",
        "colab": {}
      },
      "source": [
        "# 기존에 없던 키\n",
        "webtoon['라일락 200%']='이나영'\n",
        "print(webtoon)"
      ],
      "execution_count": null,
      "outputs": []
    },
    {
      "cell_type": "markdown",
      "metadata": {
        "id": "ioV0db5ELS8C",
        "colab_type": "text"
      },
      "source": [
        "### 딕셔너리 결합하기"
      ]
    },
    {
      "cell_type": "code",
      "metadata": {
        "id": "tMQZuG8RLrWK",
        "colab_type": "code",
        "colab": {}
      },
      "source": [
        "webtoon"
      ],
      "execution_count": null,
      "outputs": []
    },
    {
      "cell_type": "code",
      "metadata": {
        "colab_type": "code",
        "id": "wfJG4vrZyrqz",
        "colab": {}
      },
      "source": [
        "webtoon.update({'1인용 기분': '윤파랑', \n",
        "                'Ho!': '억수씨', \n",
        "                '노곤하개': '홍끼'})\n",
        "webtoon"
      ],
      "execution_count": null,
      "outputs": []
    },
    {
      "cell_type": "markdown",
      "metadata": {
        "id": "tabYkafEMxm0",
        "colab_type": "text"
      },
      "source": [
        "### 항목 삭제하기/ 전체 삭제하기 "
      ]
    },
    {
      "cell_type": "code",
      "metadata": {
        "id": "-h2rm7SwI7ll",
        "colab_type": "code",
        "colab": {}
      },
      "source": [
        "webtoon "
      ],
      "execution_count": null,
      "outputs": []
    },
    {
      "cell_type": "code",
      "metadata": {
        "colab_type": "code",
        "id": "JkoboraHyrRv",
        "colab": {}
      },
      "source": [
        "del webtoon['위대한 방옥숙']\n",
        "webtoon"
      ],
      "execution_count": null,
      "outputs": []
    },
    {
      "cell_type": "code",
      "metadata": {
        "colab_type": "code",
        "id": "h-aytVdEyrRw",
        "colab": {}
      },
      "source": [
        "webtoon.clear()\n",
        "webtoon"
      ],
      "execution_count": null,
      "outputs": []
    },
    {
      "cell_type": "markdown",
      "metadata": {
        "id": "OMeqrAg_OP76",
        "colab_type": "text"
      },
      "source": [
        "### in/ not in"
      ]
    },
    {
      "cell_type": "code",
      "metadata": {
        "id": "3tPKyDUS9I_4",
        "colab_type": "code",
        "colab": {}
      },
      "source": [
        "webtoon = {'유미의 세포들': '이동건', '아홉수 우리들': '수박양', '고래별': '나윤희'}\n",
        "webtoon"
      ],
      "execution_count": null,
      "outputs": []
    },
    {
      "cell_type": "code",
      "metadata": {
        "colab_type": "code",
        "id": "K9Ggkwt8yrDg",
        "colab": {}
      },
      "source": [
        "print('유미의 세포들' in webtoon)\n",
        "print('유미의 세포들' not in webtoon)"
      ],
      "execution_count": null,
      "outputs": []
    },
    {
      "cell_type": "code",
      "metadata": {
        "colab_type": "code",
        "id": "RlCVpa-wyrDi",
        "colab": {}
      },
      "source": [
        "print('1인용 기분' in webtoon)\n",
        "print('1인용 기분' not in webtoon)"
      ],
      "execution_count": null,
      "outputs": []
    },
    {
      "cell_type": "code",
      "metadata": {
        "colab_type": "code",
        "id": "a_pglZVSyrDh",
        "colab": {}
      },
      "source": [
        "print('이동건' in webtoon)\n",
        "print('이동건' not in webtoon)"
      ],
      "execution_count": null,
      "outputs": []
    },
    {
      "cell_type": "markdown",
      "metadata": {
        "id": "k0-sFXVXfJQX",
        "colab_type": "text"
      },
      "source": [
        "### len"
      ]
    },
    {
      "cell_type": "code",
      "metadata": {
        "id": "-TtHWXvxenMq",
        "colab_type": "code",
        "colab": {}
      },
      "source": [
        "len(webtoon)"
      ],
      "execution_count": null,
      "outputs": []
    },
    {
      "cell_type": "code",
      "metadata": {
        "id": "K-I1Jn-ffQ71",
        "colab_type": "code",
        "colab": {}
      },
      "source": [
        "len({1: [10, 20, 30], 2:100})"
      ],
      "execution_count": null,
      "outputs": []
    },
    {
      "cell_type": "markdown",
      "metadata": {
        "id": "C4YrOP8EStfq",
        "colab_type": "text"
      },
      "source": [
        "### 모든 키-밸류 얻기, 모든 키 얻기, 모든 밸류 얻기"
      ]
    },
    {
      "cell_type": "code",
      "metadata": {
        "colab_type": "code",
        "id": "lNm6a3nfyrRx",
        "colab": {}
      },
      "source": [
        "webtoon = {'유미의 세포들': '이동건', '아홉수 우리들': '수박양', '고래별': '나윤희'}"
      ],
      "execution_count": null,
      "outputs": []
    },
    {
      "cell_type": "code",
      "metadata": {
        "colab_type": "code",
        "id": "7eySGqS2yrDk",
        "colab": {}
      },
      "source": [
        "webtoon.items()"
      ],
      "execution_count": null,
      "outputs": []
    },
    {
      "cell_type": "code",
      "metadata": {
        "colab_type": "code",
        "id": "Sq4P5T7ayq6I",
        "colab": {}
      },
      "source": [
        "webtoon.keys()"
      ],
      "execution_count": null,
      "outputs": []
    },
    {
      "cell_type": "code",
      "metadata": {
        "colab_type": "code",
        "id": "-4ZxaFu3yq6K",
        "colab": {}
      },
      "source": [
        "webtoon.values()"
      ],
      "execution_count": null,
      "outputs": []
    },
    {
      "cell_type": "markdown",
      "metadata": {
        "colab_type": "text",
        "id": "RuLp0tQBZjZv"
      },
      "source": [
        "### 퀴즈-딕셔너리"
      ]
    },
    {
      "cell_type": "markdown",
      "metadata": {
        "colab_type": "text",
        "id": "ferCewxSZjZw"
      },
      "source": [
        "Q. 다음 표를 딕셔너리 형태의 변수 stocks로 만들기  \n",
        "키는 회사명으로, 밸류는 종목코드로.\n",
        "\n",
        "|회사명|종목코드|\n",
        "|-----|-----|\n",
        "|삼성전자|005930|\n",
        "|SK하이닉스|000660|\n",
        "|삼성바이오로직스|207940|\n",
        "|NAVER|035420|\n",
        "|셀트리온|068270|\n",
        "\n"
      ]
    },
    {
      "cell_type": "code",
      "metadata": {
        "colab_type": "code",
        "id": "Vorbl0W8ZjZw",
        "colab": {}
      },
      "source": [
        ""
      ],
      "execution_count": null,
      "outputs": []
    },
    {
      "cell_type": "markdown",
      "metadata": {
        "colab_type": "text",
        "id": "6uy7F3DKZjZ0"
      },
      "source": [
        "Q. 'NAVER'의 종목코드는?\n"
      ]
    },
    {
      "cell_type": "code",
      "metadata": {
        "colab_type": "code",
        "id": "hzUtYAG3ZjZ0",
        "colab": {}
      },
      "source": [
        ""
      ],
      "execution_count": null,
      "outputs": []
    },
    {
      "cell_type": "markdown",
      "metadata": {
        "colab_type": "text",
        "id": "7mu2lG2ZZjZ4"
      },
      "source": [
        "Q. stocks에 'LG화학' 051910을 추가해보기\n"
      ]
    },
    {
      "cell_type": "code",
      "metadata": {
        "colab_type": "code",
        "id": "xAgR6vyyZjZ4",
        "colab": {}
      },
      "source": [
        ""
      ],
      "execution_count": null,
      "outputs": []
    },
    {
      "cell_type": "markdown",
      "metadata": {
        "colab_type": "text",
        "id": "Vk97mYBpZjZ7"
      },
      "source": [
        "Q. stocks에 다음 딕셔너리 {'카카오':'035720', '삼성SDI':\n",
        "'006400'}도 추가해보기\n"
      ]
    },
    {
      "cell_type": "code",
      "metadata": {
        "colab_type": "code",
        "id": "f7ARui8eZjZ7",
        "colab": {}
      },
      "source": [
        ""
      ],
      "execution_count": null,
      "outputs": []
    },
    {
      "cell_type": "markdown",
      "metadata": {
        "colab_type": "text",
        "id": "u-3ghkG1ZjZ_"
      },
      "source": [
        "Q. stocks에서 '카카오' 삭제하기\n"
      ]
    },
    {
      "cell_type": "code",
      "metadata": {
        "colab_type": "code",
        "id": "19OKjC8OZjZ_",
        "colab": {}
      },
      "source": [
        ""
      ],
      "execution_count": null,
      "outputs": []
    },
    {
      "cell_type": "markdown",
      "metadata": {
        "colab_type": "text",
        "id": "_rggtvqLZjaD"
      },
      "source": [
        "Q. stocks 안에 '구글'이 있는지?\n"
      ]
    },
    {
      "cell_type": "code",
      "metadata": {
        "colab_type": "code",
        "id": "HdAgwQTDZjaD",
        "colab": {}
      },
      "source": [
        ""
      ],
      "execution_count": null,
      "outputs": []
    },
    {
      "cell_type": "markdown",
      "metadata": {
        "colab_type": "text",
        "id": "T4CwZ0XVZjaG"
      },
      "source": [
        "Q. stocks에 있는 모든 키를 받아와서 리스트로 만들기\n"
      ]
    },
    {
      "cell_type": "code",
      "metadata": {
        "colab_type": "code",
        "id": "otosxSJNZjaG",
        "colab": {}
      },
      "source": [
        ""
      ],
      "execution_count": null,
      "outputs": []
    },
    {
      "cell_type": "markdown",
      "metadata": {
        "id": "5zQcuuS-SqQ8",
        "colab_type": "text"
      },
      "source": [
        "### 퀴즈정답-딕셔너리"
      ]
    },
    {
      "cell_type": "markdown",
      "metadata": {
        "colab_type": "text",
        "id": "Ohbc4KfqSpD-"
      },
      "source": [
        "Q. 다음 표를 딕셔너리 형태의 변수 stocks로 만들기  \n",
        "키는 회사명으로, 밸류는 종목코드로.\n",
        "\n",
        "|회사명|종목코드|\n",
        "|-----|-----|\n",
        "|삼성전자|005930|\n",
        "|SK하이닉스|000660|\n",
        "|삼성바이오로직스|207940|\n",
        "|NAVER|035420|\n",
        "|셀트리온|068270|\n",
        "\n"
      ]
    },
    {
      "cell_type": "markdown",
      "metadata": {
        "colab_type": "text",
        "id": "rZQQHnz4SpEA"
      },
      "source": [
        "A."
      ]
    },
    {
      "cell_type": "code",
      "metadata": {
        "colab_type": "code",
        "id": "p3TnJVtsSpEB",
        "colab": {}
      },
      "source": [
        "stocks ={'삼성전자':'005930',\n",
        "         'SK하이닉스':'000660',\n",
        "         '삼성바이오로직스':'207940',\n",
        "         'NAVER':'035420',\n",
        "         '셀트리온':'068270'}"
      ],
      "execution_count": null,
      "outputs": []
    },
    {
      "cell_type": "markdown",
      "metadata": {
        "colab_type": "text",
        "id": "EO1qvFfZSpED"
      },
      "source": [
        "Q. 'NAVER'의 종목코드는?\n"
      ]
    },
    {
      "cell_type": "markdown",
      "metadata": {
        "colab_type": "text",
        "id": "51AUDRUKSpEF"
      },
      "source": [
        "A."
      ]
    },
    {
      "cell_type": "code",
      "metadata": {
        "colab_type": "code",
        "id": "hw_FJiu-SpEF",
        "colab": {}
      },
      "source": [
        "stocks['NAVER']"
      ],
      "execution_count": null,
      "outputs": []
    },
    {
      "cell_type": "markdown",
      "metadata": {
        "colab_type": "text",
        "id": "DtEb4MyxSpEH"
      },
      "source": [
        "Q. stocks에 'LG화학' 051910을 추가해보기\n"
      ]
    },
    {
      "cell_type": "markdown",
      "metadata": {
        "colab_type": "text",
        "id": "UjjLHw1hSpEJ"
      },
      "source": [
        "A."
      ]
    },
    {
      "cell_type": "code",
      "metadata": {
        "colab_type": "code",
        "id": "g0arM4ReSpEJ",
        "colab": {}
      },
      "source": [
        "stocks['LG화학'] ='051910'\n",
        "stocks"
      ],
      "execution_count": null,
      "outputs": []
    },
    {
      "cell_type": "markdown",
      "metadata": {
        "colab_type": "text",
        "id": "KqIbiAycSpEK"
      },
      "source": [
        "Q. stocks에 다음 딕셔너리 {'카카오':'035720', '삼성SDI':\n",
        "'006400'}도 추가해보기\n"
      ]
    },
    {
      "cell_type": "markdown",
      "metadata": {
        "colab_type": "text",
        "id": "TQ084jU1SpEM"
      },
      "source": [
        "A."
      ]
    },
    {
      "cell_type": "code",
      "metadata": {
        "colab_type": "code",
        "id": "STDVsUHpSpEM",
        "colab": {}
      },
      "source": [
        "stocks.update({'카카오':'035720', '삼성SDI':'006400'})\n",
        "stocks"
      ],
      "execution_count": null,
      "outputs": []
    },
    {
      "cell_type": "markdown",
      "metadata": {
        "colab_type": "text",
        "id": "4S0zRKJwW_r-"
      },
      "source": [
        "Q. stocks에서 '카카오' 삭제하기\n"
      ]
    },
    {
      "cell_type": "markdown",
      "metadata": {
        "colab_type": "text",
        "id": "TLEuolSbW_sC"
      },
      "source": [
        "A."
      ]
    },
    {
      "cell_type": "code",
      "metadata": {
        "colab_type": "code",
        "id": "lZaPK2ssW_sD",
        "colab": {}
      },
      "source": [
        "del stocks['카카오']\n",
        "stocks"
      ],
      "execution_count": null,
      "outputs": []
    },
    {
      "cell_type": "markdown",
      "metadata": {
        "colab_type": "text",
        "id": "IBLlBVMcW_sE"
      },
      "source": [
        "Q. stocks 안에 '구글'이 있는지?\n"
      ]
    },
    {
      "cell_type": "markdown",
      "metadata": {
        "colab_type": "text",
        "id": "0Cn-45cXW_sH"
      },
      "source": [
        "A."
      ]
    },
    {
      "cell_type": "code",
      "metadata": {
        "colab_type": "code",
        "id": "Fefyi0VMW_sH",
        "colab": {}
      },
      "source": [
        "'구글' in stocks"
      ],
      "execution_count": null,
      "outputs": []
    },
    {
      "cell_type": "markdown",
      "metadata": {
        "colab_type": "text",
        "id": "_bMhkiD2W_sI"
      },
      "source": [
        "Q. stocks에 있는 모든 키를 받아와서 리스트로 만들기\n"
      ]
    },
    {
      "cell_type": "markdown",
      "metadata": {
        "colab_type": "text",
        "id": "fx0Xd32rW_sK"
      },
      "source": [
        "A."
      ]
    },
    {
      "cell_type": "code",
      "metadata": {
        "colab_type": "code",
        "id": "45Y__jjJW_sK",
        "colab": {}
      },
      "source": [
        "list(stocks.keys())"
      ],
      "execution_count": null,
      "outputs": []
    },
    {
      "cell_type": "markdown",
      "metadata": {
        "id": "IIphB3RuXnzn",
        "colab_type": "text"
      },
      "source": [
        "## 셋"
      ]
    },
    {
      "cell_type": "markdown",
      "metadata": {
        "id": "ADBFAReXcFat",
        "colab_type": "text"
      },
      "source": [
        "### 셋 만들기"
      ]
    },
    {
      "cell_type": "code",
      "metadata": {
        "id": "CTiMGe03cEq2",
        "colab_type": "code",
        "colab": {}
      },
      "source": [
        "empty_set = set()\n",
        "empty_set"
      ],
      "execution_count": null,
      "outputs": []
    },
    {
      "cell_type": "code",
      "metadata": {
        "colab_type": "code",
        "id": "lCEGGFF7yq6L",
        "colab": {}
      },
      "source": [
        "type(empty_set)"
      ],
      "execution_count": null,
      "outputs": []
    },
    {
      "cell_type": "code",
      "metadata": {
        "colab_type": "code",
        "id": "AGXA6epSyq6M",
        "colab": {}
      },
      "source": [
        "set1 = {1, 2, 3, 1, 1, 2}\n",
        "set1"
      ],
      "execution_count": null,
      "outputs": []
    },
    {
      "cell_type": "code",
      "metadata": {
        "id": "x8uf216O-8Tp",
        "colab_type": "code",
        "colab": {}
      },
      "source": [
        "type(set1)"
      ],
      "execution_count": null,
      "outputs": []
    },
    {
      "cell_type": "code",
      "metadata": {
        "colab_type": "code",
        "id": "GgvZ9cEiyqvs",
        "colab": {}
      },
      "source": [
        "set2 = {'a', 1, 'b', 'c', 2}\n",
        "set2"
      ],
      "execution_count": null,
      "outputs": []
    },
    {
      "cell_type": "code",
      "metadata": {
        "id": "v390tTKy--P-",
        "colab_type": "code",
        "colab": {}
      },
      "source": [
        "type(set2)"
      ],
      "execution_count": null,
      "outputs": []
    },
    {
      "cell_type": "markdown",
      "metadata": {
        "id": "C8aceWUwdNO2",
        "colab_type": "text"
      },
      "source": [
        "### 셋으로 형변환"
      ]
    },
    {
      "cell_type": "code",
      "metadata": {
        "colab_type": "code",
        "id": "nmj_8pGNyqvt",
        "colab": {}
      },
      "source": [
        "set(['a', 'b', 'c'])"
      ],
      "execution_count": null,
      "outputs": []
    },
    {
      "cell_type": "code",
      "metadata": {
        "colab_type": "code",
        "id": "wu_NJAjQyqvv",
        "colab": {}
      },
      "source": [
        "set((1, 2, 3, 4))"
      ],
      "execution_count": null,
      "outputs": []
    },
    {
      "cell_type": "code",
      "metadata": {
        "colab_type": "code",
        "id": "vutLgI2fyqvw",
        "colab": {}
      },
      "source": [
        "set('pppppython')"
      ],
      "execution_count": null,
      "outputs": []
    },
    {
      "cell_type": "code",
      "metadata": {
        "colab_type": "code",
        "id": "904Gj7E1yqqo",
        "colab": {}
      },
      "source": [
        "set({'a':1, 'b':2})"
      ],
      "execution_count": null,
      "outputs": []
    },
    {
      "cell_type": "markdown",
      "metadata": {
        "id": "UxXiEPZVefyh",
        "colab_type": "text"
      },
      "source": [
        "### 교집합, 합집합, 차집합"
      ]
    },
    {
      "cell_type": "code",
      "metadata": {
        "colab_type": "code",
        "id": "-kKRPRTNyqqq",
        "colab": {}
      },
      "source": [
        "s1 = {1, 2, 3, 4, 5}\n",
        "s2 = {3, 4, 5, 6, 7}"
      ],
      "execution_count": null,
      "outputs": []
    },
    {
      "cell_type": "markdown",
      "metadata": {
        "id": "Exj6gkIlkFQ0",
        "colab_type": "text"
      },
      "source": [
        "교집합"
      ]
    },
    {
      "cell_type": "code",
      "metadata": {
        "colab_type": "code",
        "id": "3TJLeVtpyqqr",
        "colab": {}
      },
      "source": [
        "s1 & s2"
      ],
      "execution_count": null,
      "outputs": []
    },
    {
      "cell_type": "code",
      "metadata": {
        "colab_type": "code",
        "id": "NqsNMqwcyqqs",
        "colab": {}
      },
      "source": [
        "s1.intersection(s2)"
      ],
      "execution_count": null,
      "outputs": []
    },
    {
      "cell_type": "markdown",
      "metadata": {
        "id": "ffWOjwXikIvw",
        "colab_type": "text"
      },
      "source": [
        "합집합"
      ]
    },
    {
      "cell_type": "code",
      "metadata": {
        "id": "_O_KSU9JkEX2",
        "colab_type": "code",
        "colab": {}
      },
      "source": [
        "s1 | s2"
      ],
      "execution_count": null,
      "outputs": []
    },
    {
      "cell_type": "code",
      "metadata": {
        "id": "qowvywp7kEvB",
        "colab_type": "code",
        "colab": {}
      },
      "source": [
        "s1.union(s2)"
      ],
      "execution_count": null,
      "outputs": []
    },
    {
      "cell_type": "markdown",
      "metadata": {
        "id": "xtRbNoThkabv",
        "colab_type": "text"
      },
      "source": [
        "차집합"
      ]
    },
    {
      "cell_type": "code",
      "metadata": {
        "id": "SwBDORJVkEoJ",
        "colab_type": "code",
        "colab": {}
      },
      "source": [
        "s1 - s2"
      ],
      "execution_count": null,
      "outputs": []
    },
    {
      "cell_type": "code",
      "metadata": {
        "id": "P3utMaF5kEjq",
        "colab_type": "code",
        "colab": {}
      },
      "source": [
        "s1.difference(s2)"
      ],
      "execution_count": null,
      "outputs": []
    },
    {
      "cell_type": "code",
      "metadata": {
        "colab_type": "code",
        "id": "XpUaob5NyqWO",
        "colab": {}
      },
      "source": [
        "s2 - s1"
      ],
      "execution_count": null,
      "outputs": []
    },
    {
      "cell_type": "code",
      "metadata": {
        "id": "3Gcj1fB3ksaH",
        "colab_type": "code",
        "colab": {}
      },
      "source": [
        "s2.difference(s1)"
      ],
      "execution_count": null,
      "outputs": []
    },
    {
      "cell_type": "markdown",
      "metadata": {
        "id": "MCMdRRIsllKr",
        "colab_type": "text"
      },
      "source": [
        "### 값 추가하기 한개/여러개"
      ]
    },
    {
      "cell_type": "code",
      "metadata": {
        "id": "DqJ-gbUwlkbg",
        "colab_type": "code",
        "colab": {}
      },
      "source": [
        "s = {'001', '002'}"
      ],
      "execution_count": null,
      "outputs": []
    },
    {
      "cell_type": "code",
      "metadata": {
        "id": "27rkqq7xlkUQ",
        "colab_type": "code",
        "colab": {}
      },
      "source": [
        "s.add('003')\n",
        "s"
      ],
      "execution_count": null,
      "outputs": []
    },
    {
      "cell_type": "code",
      "metadata": {
        "id": "Q6Ii_tfWlkPM",
        "colab_type": "code",
        "colab": {}
      },
      "source": [
        "s.update(['004', '005', '006'])\n",
        "s"
      ],
      "execution_count": null,
      "outputs": []
    },
    {
      "cell_type": "markdown",
      "metadata": {
        "id": "FPDYCphRmIMW",
        "colab_type": "text"
      },
      "source": [
        "### 값 제거하기"
      ]
    },
    {
      "cell_type": "code",
      "metadata": {
        "id": "E0LEmHhDlkE7",
        "colab_type": "code",
        "colab": {}
      },
      "source": [
        "s.remove('006')"
      ],
      "execution_count": null,
      "outputs": []
    },
    {
      "cell_type": "code",
      "metadata": {
        "id": "m0D2DQp0lkKB",
        "colab_type": "code",
        "colab": {}
      },
      "source": [
        "s.remove('007')   #error"
      ],
      "execution_count": null,
      "outputs": []
    },
    {
      "cell_type": "markdown",
      "metadata": {
        "id": "MMI_qXREfd55",
        "colab_type": "text"
      },
      "source": [
        "### len"
      ]
    },
    {
      "cell_type": "code",
      "metadata": {
        "id": "rGvvQI88fdTl",
        "colab_type": "code",
        "colab": {}
      },
      "source": [
        "len(s)"
      ],
      "execution_count": null,
      "outputs": []
    },
    {
      "cell_type": "code",
      "metadata": {
        "id": "rH0RANi-fiaD",
        "colab_type": "code",
        "colab": {}
      },
      "source": [
        "len({1, 2, 3, 4, 5})"
      ],
      "execution_count": null,
      "outputs": []
    },
    {
      "cell_type": "markdown",
      "metadata": {
        "id": "Ti-6e6Uxfmzg",
        "colab_type": "text"
      },
      "source": [
        "### in/ not in"
      ]
    },
    {
      "cell_type": "code",
      "metadata": {
        "id": "W9U5526-fqHr",
        "colab_type": "code",
        "colab": {}
      },
      "source": [
        "print(1 in {1, 2, 3})\n",
        "print(1 not in {1, 2, 3})"
      ],
      "execution_count": null,
      "outputs": []
    },
    {
      "cell_type": "code",
      "metadata": {
        "id": "IrIiIkUSf3NY",
        "colab_type": "code",
        "colab": {}
      },
      "source": [
        "print(10 in {1, 2, 3})\n",
        "print(10 not in {1, 2, 3})"
      ],
      "execution_count": null,
      "outputs": []
    },
    {
      "cell_type": "markdown",
      "metadata": {
        "colab_type": "text",
        "id": "Hc4BLktTxfLD"
      },
      "source": [
        "### 퀴즈-셋"
      ]
    },
    {
      "cell_type": "markdown",
      "metadata": {
        "colab_type": "text",
        "id": "LVlCP3t1xfLE"
      },
      "source": [
        "Q. 셋의 요소는 중복 가능하다. 맞으면 True, 틀리면 False\n",
        "\n",
        "\n"
      ]
    },
    {
      "cell_type": "markdown",
      "metadata": {
        "colab_type": "text",
        "id": "WwFjfoeaxfLF"
      },
      "source": [
        "Q. A, B 공장이 만들 수 있는 제품은 다음과 같다. 두 공장에서 모두 생산할 수 있는 제품은?"
      ]
    },
    {
      "cell_type": "code",
      "metadata": {
        "colab_type": "code",
        "id": "uqDmcKdxxfLF",
        "colab": {}
      },
      "source": [
        "A = {'만두', '완자', '돈가스', '피자', '닭강정'}\n",
        "B = {'피자', '파스타소스', '핫도그'}"
      ],
      "execution_count": null,
      "outputs": []
    },
    {
      "cell_type": "code",
      "metadata": {
        "id": "mowhf62hxmFO",
        "colab_type": "code",
        "colab": {}
      },
      "source": [
        ""
      ],
      "execution_count": null,
      "outputs": []
    },
    {
      "cell_type": "markdown",
      "metadata": {
        "colab_type": "text",
        "id": "x3SyGzqqxfLI"
      },
      "source": [
        "Q. A공장에서는 못만들지만 B공장에서는 만들 수 있는 제품은?\n"
      ]
    },
    {
      "cell_type": "code",
      "metadata": {
        "colab_type": "code",
        "id": "VGs6H3EDxfLJ",
        "colab": {}
      },
      "source": [
        ""
      ],
      "execution_count": null,
      "outputs": []
    },
    {
      "cell_type": "markdown",
      "metadata": {
        "colab_type": "text",
        "id": "i5fzFumSxfLO"
      },
      "source": [
        "Q. A, B 공장에서 생산할 수 있는 제품의 모든 종류를 나열하기\n"
      ]
    },
    {
      "cell_type": "code",
      "metadata": {
        "colab_type": "code",
        "id": "D10BYC1VxfLO",
        "colab": {}
      },
      "source": [
        ""
      ],
      "execution_count": null,
      "outputs": []
    },
    {
      "cell_type": "markdown",
      "metadata": {
        "colab_type": "text",
        "id": "pzZ1YuO6xfLR"
      },
      "source": [
        "Q. A공장에 새로운 라인이 만들어져서 '치킨너겟'을 만들 수 있게 됨.  \n",
        "집합 A에 '치킨너겟'을 추가하기.\n"
      ]
    },
    {
      "cell_type": "code",
      "metadata": {
        "colab_type": "code",
        "id": "N2kY7FFAxfLR",
        "colab": {}
      },
      "source": [
        ""
      ],
      "execution_count": null,
      "outputs": []
    },
    {
      "cell_type": "markdown",
      "metadata": {
        "colab_type": "text",
        "id": "hx0CvDoNxfLV"
      },
      "source": [
        "Q. B공장에 새로운 라인이 만들어져서 '순대', '케밥', '볶음밥'이 추가되었음.  \n",
        "집합 B에 추가할 것.\n"
      ]
    },
    {
      "cell_type": "code",
      "metadata": {
        "colab_type": "code",
        "id": "yhZw0utQxfLV",
        "colab": {}
      },
      "source": [
        ""
      ],
      "execution_count": null,
      "outputs": []
    },
    {
      "cell_type": "markdown",
      "metadata": {
        "colab_type": "text",
        "id": "VeXzUVSFxfLZ"
      },
      "source": [
        "Q. B공장에 만들었던 '순대'라인이 빠지게 되었음. 집합 B에서 제거할 것. \n"
      ]
    },
    {
      "cell_type": "code",
      "metadata": {
        "colab_type": "code",
        "id": "oaVmqz6zxfLZ",
        "colab": {}
      },
      "source": [
        ""
      ],
      "execution_count": null,
      "outputs": []
    },
    {
      "cell_type": "markdown",
      "metadata": {
        "id": "P5UqWYNVyxo2",
        "colab_type": "text"
      },
      "source": [
        "### 퀴즈정답-셋"
      ]
    },
    {
      "cell_type": "markdown",
      "metadata": {
        "colab_type": "text",
        "id": "U0vC6GYlBjE1"
      },
      "source": [
        "Q. 셋의 요소는 중복 가능하다. 맞으면 True, 틀리면 False\n",
        "\n",
        "\n"
      ]
    },
    {
      "cell_type": "markdown",
      "metadata": {
        "colab_type": "text",
        "id": "t6rMWr58BjE4"
      },
      "source": [
        "A. False"
      ]
    },
    {
      "cell_type": "markdown",
      "metadata": {
        "colab_type": "text",
        "id": "UERNAj4TBkgo"
      },
      "source": [
        "Q. A, B 공장이 만들 수 있는 제품은 다음과 같다. 두 공장에서 모두 생산할 수 있는 제품은?"
      ]
    },
    {
      "cell_type": "code",
      "metadata": {
        "colab_type": "code",
        "id": "K3ZGAFacBkgo",
        "colab": {}
      },
      "source": [
        "A = {'만두', '완자', '돈가스', '피자', '닭강정'}\n",
        "B = {'피자', '파스타소스', '핫도그'}"
      ],
      "execution_count": null,
      "outputs": []
    },
    {
      "cell_type": "markdown",
      "metadata": {
        "colab_type": "text",
        "id": "l3jNnmc2Bkgr"
      },
      "source": [
        "A."
      ]
    },
    {
      "cell_type": "code",
      "metadata": {
        "colab_type": "code",
        "id": "Snkg7mO_Bkgr",
        "colab": {}
      },
      "source": [
        "print(A&B)\n",
        "print(A.intersection(B))"
      ],
      "execution_count": null,
      "outputs": []
    },
    {
      "cell_type": "markdown",
      "metadata": {
        "colab_type": "text",
        "id": "wrXxtpS_BlDs"
      },
      "source": [
        "Q. A공장에서는 못만들지만 B공장에서는 만들 수 있는 제품은?\n"
      ]
    },
    {
      "cell_type": "markdown",
      "metadata": {
        "colab_type": "text",
        "id": "t4Bc7H7zBlDu"
      },
      "source": [
        "A."
      ]
    },
    {
      "cell_type": "code",
      "metadata": {
        "colab_type": "code",
        "id": "yR9hg5dnBlDu",
        "colab": {}
      },
      "source": [
        "print(B-A)\n",
        "print(B.difference(A))"
      ],
      "execution_count": null,
      "outputs": []
    },
    {
      "cell_type": "markdown",
      "metadata": {
        "colab_type": "text",
        "id": "lwT9G-rIBl0b"
      },
      "source": [
        "Q. A, B 공장에서 생산할 수 있는 모든 제품의 종류를 나열하기\n"
      ]
    },
    {
      "cell_type": "markdown",
      "metadata": {
        "colab_type": "text",
        "id": "wfdqpiZsBl0d"
      },
      "source": [
        "A."
      ]
    },
    {
      "cell_type": "code",
      "metadata": {
        "colab_type": "code",
        "id": "UtYF9QaGBl0d",
        "colab": {}
      },
      "source": [
        "print(A|B)\n",
        "print(A.union(B))"
      ],
      "execution_count": null,
      "outputs": []
    },
    {
      "cell_type": "markdown",
      "metadata": {
        "colab_type": "text",
        "id": "FOYpDh8ZBmLa"
      },
      "source": [
        "Q. A공장에 새로운 라인이 만들어져서 '치킨너겟'을 만들 수 있게 됨.  \n",
        "집합 A에 '치킨너겟'을 추가하기.\n"
      ]
    },
    {
      "cell_type": "markdown",
      "metadata": {
        "colab_type": "text",
        "id": "m8ivCcksBmLe"
      },
      "source": [
        "A."
      ]
    },
    {
      "cell_type": "code",
      "metadata": {
        "colab_type": "code",
        "id": "S6lBoxQ3BmLe",
        "colab": {}
      },
      "source": [
        "A.add('치킨너겟')\n",
        "A"
      ],
      "execution_count": null,
      "outputs": []
    },
    {
      "cell_type": "markdown",
      "metadata": {
        "colab_type": "text",
        "id": "1-XfME5-Bm5v"
      },
      "source": [
        "Q. B공장에 새로운 라인이 만들어져서 '순대', '케밥', '볶음밥'이 추가되었음.  \n",
        "집합 B에 추가할 것.\n"
      ]
    },
    {
      "cell_type": "markdown",
      "metadata": {
        "colab_type": "text",
        "id": "xGjD2pV0Bm5x"
      },
      "source": [
        "A."
      ]
    },
    {
      "cell_type": "code",
      "metadata": {
        "colab_type": "code",
        "id": "dKBmdszRBm5y",
        "colab": {}
      },
      "source": [
        "B.update({ '순대', '케밥', '볶음밥'})\n",
        "B"
      ],
      "execution_count": null,
      "outputs": []
    },
    {
      "cell_type": "markdown",
      "metadata": {
        "colab_type": "text",
        "id": "TUIqWupaBncI"
      },
      "source": [
        "Q. B공장에 만들었던 '순대'라인이 빠지게 되었음. 집합 B에서 제거할 것. \n"
      ]
    },
    {
      "cell_type": "markdown",
      "metadata": {
        "colab_type": "text",
        "id": "bDtPnD5KBncL"
      },
      "source": [
        "A."
      ]
    },
    {
      "cell_type": "code",
      "metadata": {
        "colab_type": "code",
        "id": "fLoE8i8tBncL",
        "colab": {}
      },
      "source": [
        "B.remove('순대')\n",
        "B"
      ],
      "execution_count": null,
      "outputs": []
    }
  ]
}