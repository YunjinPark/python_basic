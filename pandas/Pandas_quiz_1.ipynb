{
  "nbformat": 4,
  "nbformat_minor": 0,
  "metadata": {
    "colab": {
      "name": "Pandas-quiz-1.ipynb",
      "provenance": [],
      "collapsed_sections": []
    },
    "kernelspec": {
      "name": "python3",
      "display_name": "Python 3"
    }
  },
  "cells": [
    {
      "cell_type": "code",
      "metadata": {
        "id": "-ydmxkt6Ujsk",
        "colab_type": "code",
        "colab": {}
      },
      "source": [
        "import numpy as np\n",
        "import pandas as pd"
      ],
      "execution_count": 0,
      "outputs": []
    },
    {
      "cell_type": "code",
      "metadata": {
        "id": "_L2wpz7UvjCu",
        "colab_type": "code",
        "colab": {}
      },
      "source": [
        "data_dir = # 데이터가 있는 주소 "
      ],
      "execution_count": 0,
      "outputs": []
    },
    {
      "cell_type": "markdown",
      "metadata": {
        "id": "YHuJqgNxr1by",
        "colab_type": "text"
      },
      "source": [
        "# 1. \n",
        "주어진 리스트를 newspaper 라는 변수명의 Series 객체로 만들기 "
      ]
    },
    {
      "cell_type": "code",
      "metadata": {
        "id": "GfyNeDpSyhly",
        "colab_type": "code",
        "colab": {}
      },
      "source": [
        "s =['경향신문신문', '국민일보신문', '동아일보신문', '문화일보신문', '서울신문신문', \n",
        "    '세계일보신문', '조선일보신문', '중앙일보신문', '한겨레신문', '한국일보신문']"
      ],
      "execution_count": 0,
      "outputs": []
    },
    {
      "cell_type": "code",
      "metadata": {
        "id": "SuvBcj_EzCEZ",
        "colab_type": "code",
        "colab": {}
      },
      "source": [
        "'''\n",
        "output:\n",
        "0    경향신문신문\n",
        "1    국민일보신문\n",
        "2    동아일보신문\n",
        "3    문화일보신문\n",
        "4    서울신문신문\n",
        "5    세계일보신문\n",
        "6    조선일보신문\n",
        "7    중앙일보신문\n",
        "8     한겨레신문\n",
        "9    한국일보신문\n",
        "dtype: object\n",
        "'''\n"
      ],
      "execution_count": 0,
      "outputs": []
    },
    {
      "cell_type": "markdown",
      "metadata": {
        "id": "eMyzUFt9r-R9",
        "colab_type": "text"
      },
      "source": [
        "# 2.\n",
        "주어진 리스트를 기반으로 sales라는 변수명의 Series 객체를 만들어 볼 것. \n",
        "index를 위에서 정의한 newspaper로 한다. "
      ]
    },
    {
      "cell_type": "code",
      "metadata": {
        "id": "PSvsgxhdsBiM",
        "colab_type": "code",
        "outputId": "c44f1545-5bd3-4c94-aaa5-96bb324f2cdc",
        "colab": {
          "base_uri": "https://localhost:8080/",
          "height": 52
        }
      },
      "source": [
        "np.random.seed(1004)\n",
        "n = np.random.randint(100, 999, 10)*100\n",
        "n"
      ],
      "execution_count": 0,
      "outputs": [
        {
          "output_type": "execute_result",
          "data": {
            "text/plain": [
              "array([10200, 62300, 13100, 42500, 33900, 29900, 11400, 96300, 79200,\n",
              "       59700])"
            ]
          },
          "metadata": {
            "tags": []
          },
          "execution_count": 14
        }
      ]
    },
    {
      "cell_type": "code",
      "metadata": {
        "id": "YjguliWz0vZ6",
        "colab_type": "code",
        "outputId": "9fa5930f-60ae-4ca1-aed2-96647809c96a",
        "colab": {
          "base_uri": "https://localhost:8080/",
          "height": 208
        }
      },
      "source": [
        "\n",
        "'''\n",
        "output:\n",
        "경향신문신문    10200\n",
        "국민일보신문    62300\n",
        "동아일보신문    13100\n",
        "문화일보신문    42500\n",
        "서울신문신문    33900\n",
        "세계일보신문    29900\n",
        "조선일보신문    11400\n",
        "중앙일보신문    96300\n",
        "한겨레신문     79200\n",
        "한국일보신문    59700\n",
        "dtype: int64\n",
        "'''\n"
      ],
      "execution_count": 0,
      "outputs": [
        {
          "output_type": "execute_result",
          "data": {
            "text/plain": [
              "경향신문신문    10200\n",
              "국민일보신문    62300\n",
              "동아일보신문    13100\n",
              "문화일보신문    42500\n",
              "서울신문신문    33900\n",
              "세계일보신문    29900\n",
              "조선일보신문    11400\n",
              "중앙일보신문    96300\n",
              "한겨레신문     79200\n",
              "한국일보신문    59700\n",
              "dtype: int64"
            ]
          },
          "metadata": {
            "tags": []
          },
          "execution_count": 15
        }
      ]
    },
    {
      "cell_type": "markdown",
      "metadata": {
        "id": "_kj5AxYMsB4S",
        "colab_type": "text"
      },
      "source": [
        "# 3.\n",
        "파일명이 quiz-1-stock.csv인 데이터를 읽어와 stock 이라는 변수로 저장하기"
      ]
    },
    {
      "cell_type": "code",
      "metadata": {
        "id": "6x56aZwSsDiB",
        "colab_type": "code",
        "outputId": "22227743-fb4a-444b-914a-d498104d7a28",
        "colab": {
          "base_uri": "https://localhost:8080/",
          "height": 614
        }
      },
      "source": [
        "'''\n",
        "output:\n",
        " \t날짜 \t체결가 \t전일비 \t등락률 \t거래량(천주) \t거래대금(백만)\n",
        "0 \t2020.02.07 \t2211.95 \t하락 15.99 \t-1% \t800342 \t8813174\n",
        "1 \t2020.02.06 \t2227.94 \t상승 62.31 \t3% \t695216 \t8334737\n",
        "2 \t2020.02.05 \t2165.63 \t상승 7.73 \t0% \t574395 \t7736275\n",
        "3 \t2020.02.04 \t2157.90 \t상승 39.02 \t2% \t624641 \t7791178\n",
        "...\n",
        "과 같은 데이터 프레임\n",
        "'''\n"
      ],
      "execution_count": 0,
      "outputs": [
        {
          "output_type": "execute_result",
          "data": {
            "text/html": [
              "<div>\n",
              "<style scoped>\n",
              "    .dataframe tbody tr th:only-of-type {\n",
              "        vertical-align: middle;\n",
              "    }\n",
              "\n",
              "    .dataframe tbody tr th {\n",
              "        vertical-align: top;\n",
              "    }\n",
              "\n",
              "    .dataframe thead th {\n",
              "        text-align: right;\n",
              "    }\n",
              "</style>\n",
              "<table border=\"1\" class=\"dataframe\">\n",
              "  <thead>\n",
              "    <tr style=\"text-align: right;\">\n",
              "      <th></th>\n",
              "      <th>날짜</th>\n",
              "      <th>체결가</th>\n",
              "      <th>전일비</th>\n",
              "      <th>등락률</th>\n",
              "      <th>거래량(천주)</th>\n",
              "      <th>거래대금(백만)</th>\n",
              "    </tr>\n",
              "  </thead>\n",
              "  <tbody>\n",
              "    <tr>\n",
              "      <th>0</th>\n",
              "      <td>2020.02.07</td>\n",
              "      <td>2211.95</td>\n",
              "      <td>하락 15.99</td>\n",
              "      <td>-1%</td>\n",
              "      <td>800342</td>\n",
              "      <td>8813174</td>\n",
              "    </tr>\n",
              "    <tr>\n",
              "      <th>1</th>\n",
              "      <td>2020.02.06</td>\n",
              "      <td>2227.94</td>\n",
              "      <td>상승 62.31</td>\n",
              "      <td>3%</td>\n",
              "      <td>695216</td>\n",
              "      <td>8334737</td>\n",
              "    </tr>\n",
              "    <tr>\n",
              "      <th>2</th>\n",
              "      <td>2020.02.05</td>\n",
              "      <td>2165.63</td>\n",
              "      <td>상승 7.73</td>\n",
              "      <td>0%</td>\n",
              "      <td>574395</td>\n",
              "      <td>7736275</td>\n",
              "    </tr>\n",
              "    <tr>\n",
              "      <th>3</th>\n",
              "      <td>2020.02.04</td>\n",
              "      <td>2157.90</td>\n",
              "      <td>상승 39.02</td>\n",
              "      <td>2%</td>\n",
              "      <td>624641</td>\n",
              "      <td>7791178</td>\n",
              "    </tr>\n",
              "    <tr>\n",
              "      <th>4</th>\n",
              "      <td>2020.02.03</td>\n",
              "      <td>2118.88</td>\n",
              "      <td>하락 0.13</td>\n",
              "      <td>0%</td>\n",
              "      <td>836699</td>\n",
              "      <td>8068704</td>\n",
              "    </tr>\n",
              "    <tr>\n",
              "      <th>5</th>\n",
              "      <td>2020.01.31</td>\n",
              "      <td>2119.01</td>\n",
              "      <td>하락 28.99</td>\n",
              "      <td>-1%</td>\n",
              "      <td>710507</td>\n",
              "      <td>7226687</td>\n",
              "    </tr>\n",
              "    <tr>\n",
              "      <th>6</th>\n",
              "      <td>2020.01.30</td>\n",
              "      <td>2148.00</td>\n",
              "      <td>하락 37.28</td>\n",
              "      <td>-2%</td>\n",
              "      <td>602838</td>\n",
              "      <td>7105203</td>\n",
              "    </tr>\n",
              "    <tr>\n",
              "      <th>7</th>\n",
              "      <td>2020.01.29</td>\n",
              "      <td>2185.28</td>\n",
              "      <td>상승 8.56</td>\n",
              "      <td>0%</td>\n",
              "      <td>692300</td>\n",
              "      <td>6589949</td>\n",
              "    </tr>\n",
              "    <tr>\n",
              "      <th>8</th>\n",
              "      <td>2020.01.28</td>\n",
              "      <td>2176.72</td>\n",
              "      <td>하락 69.41</td>\n",
              "      <td>-3%</td>\n",
              "      <td>808878</td>\n",
              "      <td>8818232</td>\n",
              "    </tr>\n",
              "    <tr>\n",
              "      <th>9</th>\n",
              "      <td>2020.01.23</td>\n",
              "      <td>2246.13</td>\n",
              "      <td>하락 21.12</td>\n",
              "      <td>-1%</td>\n",
              "      <td>509608</td>\n",
              "      <td>6790103</td>\n",
              "    </tr>\n",
              "    <tr>\n",
              "      <th>10</th>\n",
              "      <td>2020.01.22</td>\n",
              "      <td>2267.25</td>\n",
              "      <td>상승 27.56</td>\n",
              "      <td>1%</td>\n",
              "      <td>608509</td>\n",
              "      <td>6365617</td>\n",
              "    </tr>\n",
              "    <tr>\n",
              "      <th>11</th>\n",
              "      <td>2020.01.21</td>\n",
              "      <td>2239.69</td>\n",
              "      <td>하락 22.95</td>\n",
              "      <td>-1%</td>\n",
              "      <td>770319</td>\n",
              "      <td>5569550</td>\n",
              "    </tr>\n",
              "    <tr>\n",
              "      <th>12</th>\n",
              "      <td>2020.01.20</td>\n",
              "      <td>2262.64</td>\n",
              "      <td>상승 12.07</td>\n",
              "      <td>1%</td>\n",
              "      <td>545491</td>\n",
              "      <td>5950403</td>\n",
              "    </tr>\n",
              "    <tr>\n",
              "      <th>13</th>\n",
              "      <td>2020.01.17</td>\n",
              "      <td>2250.57</td>\n",
              "      <td>상승 2.52</td>\n",
              "      <td>0%</td>\n",
              "      <td>580816</td>\n",
              "      <td>5444383</td>\n",
              "    </tr>\n",
              "    <tr>\n",
              "      <th>14</th>\n",
              "      <td>2020.01.16</td>\n",
              "      <td>2248.05</td>\n",
              "      <td>상승 17.07</td>\n",
              "      <td>1%</td>\n",
              "      <td>808331</td>\n",
              "      <td>6204474</td>\n",
              "    </tr>\n",
              "    <tr>\n",
              "      <th>15</th>\n",
              "      <td>2020.01.15</td>\n",
              "      <td>2230.98</td>\n",
              "      <td>하락 7.90</td>\n",
              "      <td>0%</td>\n",
              "      <td>746156</td>\n",
              "      <td>5946351</td>\n",
              "    </tr>\n",
              "    <tr>\n",
              "      <th>16</th>\n",
              "      <td>2020.01.14</td>\n",
              "      <td>2238.88</td>\n",
              "      <td>상승 9.62</td>\n",
              "      <td>0%</td>\n",
              "      <td>835899</td>\n",
              "      <td>7294227</td>\n",
              "    </tr>\n",
              "    <tr>\n",
              "      <th>17</th>\n",
              "      <td>2020.01.13</td>\n",
              "      <td>2229.26</td>\n",
              "      <td>상승 22.87</td>\n",
              "      <td>1%</td>\n",
              "      <td>488288</td>\n",
              "      <td>6214780</td>\n",
              "    </tr>\n",
              "  </tbody>\n",
              "</table>\n",
              "</div>"
            ],
            "text/plain": [
              "             날짜      체결가        전일비  등락률  거래량(천주)  거래대금(백만)\n",
              "0   2020.02.07   2211.95  하락 15.99   -1%   800342   8813174\n",
              "1   2020.02.06   2227.94  상승 62.31    3%   695216   8334737\n",
              "2   2020.02.05   2165.63   상승 7.73    0%   574395   7736275\n",
              "3   2020.02.04   2157.90  상승 39.02    2%   624641   7791178\n",
              "4   2020.02.03   2118.88   하락 0.13    0%   836699   8068704\n",
              "5   2020.01.31   2119.01  하락 28.99   -1%   710507   7226687\n",
              "6   2020.01.30   2148.00  하락 37.28   -2%   602838   7105203\n",
              "7   2020.01.29   2185.28   상승 8.56    0%   692300   6589949\n",
              "8   2020.01.28   2176.72  하락 69.41   -3%   808878   8818232\n",
              "9   2020.01.23   2246.13  하락 21.12   -1%   509608   6790103\n",
              "10  2020.01.22   2267.25  상승 27.56    1%   608509   6365617\n",
              "11  2020.01.21   2239.69  하락 22.95   -1%   770319   5569550\n",
              "12  2020.01.20   2262.64  상승 12.07    1%   545491   5950403\n",
              "13  2020.01.17   2250.57   상승 2.52    0%   580816   5444383\n",
              "14  2020.01.16   2248.05  상승 17.07    1%   808331   6204474\n",
              "15  2020.01.15   2230.98   하락 7.90    0%   746156   5946351\n",
              "16  2020.01.14   2238.88   상승 9.62    0%   835899   7294227\n",
              "17  2020.01.13   2229.26  상승 22.87    1%   488288   6214780"
            ]
          },
          "metadata": {
            "tags": []
          },
          "execution_count": 16
        }
      ]
    },
    {
      "cell_type": "markdown",
      "metadata": {
        "id": "WLCaj-SrsD2O",
        "colab_type": "text"
      },
      "source": [
        "# 4.\n",
        "변수 sales를 통해 '한겨레신문', '조선일보신문'의 판매량을 함께 반환할 것. "
      ]
    },
    {
      "cell_type": "code",
      "metadata": {
        "id": "UIhQGnFVsLr2",
        "colab_type": "code",
        "outputId": "067abda1-5be0-49d0-fbd6-a8e13e15e045",
        "colab": {
          "base_uri": "https://localhost:8080/",
          "height": 69
        }
      },
      "source": [
        "'''\n",
        "output:\n",
        "한겨레신문     79200\n",
        "조선일보신문    11400\n",
        "dtype: int64\n",
        "'''\n"
      ],
      "execution_count": 0,
      "outputs": [
        {
          "output_type": "execute_result",
          "data": {
            "text/plain": [
              "한겨레신문     79200\n",
              "조선일보신문    11400\n",
              "dtype: int64"
            ]
          },
          "metadata": {
            "tags": []
          },
          "execution_count": 17
        }
      ]
    },
    {
      "cell_type": "markdown",
      "metadata": {
        "id": "Xj8MfJ3NsJe-",
        "colab_type": "text"
      },
      "source": [
        "# 5. \n",
        "변수 sales를 통해 값이 50000 이상인 신문사만 추출하기"
      ]
    },
    {
      "cell_type": "code",
      "metadata": {
        "id": "hd1AnxyhsN13",
        "colab_type": "code",
        "outputId": "e7122ac3-a02b-43b0-cff6-c42e27a0530f",
        "colab": {
          "base_uri": "https://localhost:8080/",
          "height": 104
        }
      },
      "source": [
        "'''\n",
        "국민일보신문    62300\n",
        "중앙일보신문    96300\n",
        "한겨레신문     79200\n",
        "한국일보신문    59700\n",
        "dtype: int64\n",
        "'''\n"
      ],
      "execution_count": 0,
      "outputs": [
        {
          "output_type": "execute_result",
          "data": {
            "text/plain": [
              "국민일보신문    62300\n",
              "중앙일보신문    96300\n",
              "한겨레신문     79200\n",
              "한국일보신문    59700\n",
              "dtype: int64"
            ]
          },
          "metadata": {
            "tags": []
          },
          "execution_count": 18
        }
      ]
    },
    {
      "cell_type": "markdown",
      "metadata": {
        "id": "xO12KZ_ysFdh",
        "colab_type": "text"
      },
      "source": [
        "# 6.\n",
        "stock의 '날짜', '등략률' 두 컬럼만 갖는 데이터 프레임을 추출하기"
      ]
    },
    {
      "cell_type": "code",
      "metadata": {
        "id": "uiNqGX147vuA",
        "colab_type": "code",
        "outputId": "84c3dbdf-62c2-44ff-b684-30c4b4e077aa",
        "colab": {
          "base_uri": "https://localhost:8080/",
          "height": 614
        }
      },
      "source": [
        "'''\n",
        "output:\n",
        " \t날짜 \t등락률\n",
        "0 \t2020.02.07 \t-1%\n",
        "1 \t2020.02.06 \t3%\n",
        "2 \t2020.02.05 \t0%\n",
        "3 \t2020.02.04 \t2%\n",
        "4 \t2020.02.03 \t0%\n",
        "...\n",
        "과 같은 데이터 프레임\n",
        "\n",
        "'''\n"
      ],
      "execution_count": 0,
      "outputs": [
        {
          "output_type": "execute_result",
          "data": {
            "text/html": [
              "<div>\n",
              "<style scoped>\n",
              "    .dataframe tbody tr th:only-of-type {\n",
              "        vertical-align: middle;\n",
              "    }\n",
              "\n",
              "    .dataframe tbody tr th {\n",
              "        vertical-align: top;\n",
              "    }\n",
              "\n",
              "    .dataframe thead th {\n",
              "        text-align: right;\n",
              "    }\n",
              "</style>\n",
              "<table border=\"1\" class=\"dataframe\">\n",
              "  <thead>\n",
              "    <tr style=\"text-align: right;\">\n",
              "      <th></th>\n",
              "      <th>날짜</th>\n",
              "      <th>등락률</th>\n",
              "    </tr>\n",
              "  </thead>\n",
              "  <tbody>\n",
              "    <tr>\n",
              "      <th>0</th>\n",
              "      <td>2020.02.07</td>\n",
              "      <td>-1%</td>\n",
              "    </tr>\n",
              "    <tr>\n",
              "      <th>1</th>\n",
              "      <td>2020.02.06</td>\n",
              "      <td>3%</td>\n",
              "    </tr>\n",
              "    <tr>\n",
              "      <th>2</th>\n",
              "      <td>2020.02.05</td>\n",
              "      <td>0%</td>\n",
              "    </tr>\n",
              "    <tr>\n",
              "      <th>3</th>\n",
              "      <td>2020.02.04</td>\n",
              "      <td>2%</td>\n",
              "    </tr>\n",
              "    <tr>\n",
              "      <th>4</th>\n",
              "      <td>2020.02.03</td>\n",
              "      <td>0%</td>\n",
              "    </tr>\n",
              "    <tr>\n",
              "      <th>5</th>\n",
              "      <td>2020.01.31</td>\n",
              "      <td>-1%</td>\n",
              "    </tr>\n",
              "    <tr>\n",
              "      <th>6</th>\n",
              "      <td>2020.01.30</td>\n",
              "      <td>-2%</td>\n",
              "    </tr>\n",
              "    <tr>\n",
              "      <th>7</th>\n",
              "      <td>2020.01.29</td>\n",
              "      <td>0%</td>\n",
              "    </tr>\n",
              "    <tr>\n",
              "      <th>8</th>\n",
              "      <td>2020.01.28</td>\n",
              "      <td>-3%</td>\n",
              "    </tr>\n",
              "    <tr>\n",
              "      <th>9</th>\n",
              "      <td>2020.01.23</td>\n",
              "      <td>-1%</td>\n",
              "    </tr>\n",
              "    <tr>\n",
              "      <th>10</th>\n",
              "      <td>2020.01.22</td>\n",
              "      <td>1%</td>\n",
              "    </tr>\n",
              "    <tr>\n",
              "      <th>11</th>\n",
              "      <td>2020.01.21</td>\n",
              "      <td>-1%</td>\n",
              "    </tr>\n",
              "    <tr>\n",
              "      <th>12</th>\n",
              "      <td>2020.01.20</td>\n",
              "      <td>1%</td>\n",
              "    </tr>\n",
              "    <tr>\n",
              "      <th>13</th>\n",
              "      <td>2020.01.17</td>\n",
              "      <td>0%</td>\n",
              "    </tr>\n",
              "    <tr>\n",
              "      <th>14</th>\n",
              "      <td>2020.01.16</td>\n",
              "      <td>1%</td>\n",
              "    </tr>\n",
              "    <tr>\n",
              "      <th>15</th>\n",
              "      <td>2020.01.15</td>\n",
              "      <td>0%</td>\n",
              "    </tr>\n",
              "    <tr>\n",
              "      <th>16</th>\n",
              "      <td>2020.01.14</td>\n",
              "      <td>0%</td>\n",
              "    </tr>\n",
              "    <tr>\n",
              "      <th>17</th>\n",
              "      <td>2020.01.13</td>\n",
              "      <td>1%</td>\n",
              "    </tr>\n",
              "  </tbody>\n",
              "</table>\n",
              "</div>"
            ],
            "text/plain": [
              "             날짜  등락률\n",
              "0   2020.02.07   -1%\n",
              "1   2020.02.06    3%\n",
              "2   2020.02.05    0%\n",
              "3   2020.02.04    2%\n",
              "4   2020.02.03    0%\n",
              "5   2020.01.31   -1%\n",
              "6   2020.01.30   -2%\n",
              "7   2020.01.29    0%\n",
              "8   2020.01.28   -3%\n",
              "9   2020.01.23   -1%\n",
              "10  2020.01.22    1%\n",
              "11  2020.01.21   -1%\n",
              "12  2020.01.20    1%\n",
              "13  2020.01.17    0%\n",
              "14  2020.01.16    1%\n",
              "15  2020.01.15    0%\n",
              "16  2020.01.14    0%\n",
              "17  2020.01.13    1%"
            ]
          },
          "metadata": {
            "tags": []
          },
          "execution_count": 19
        }
      ]
    },
    {
      "cell_type": "markdown",
      "metadata": {
        "id": "DN44AzUYsRzF",
        "colab_type": "text"
      },
      "source": [
        "# 7.\n",
        "stock 데이터를 통해 row index가 0부터 5까지이고, column명이 '날짜', '거래량(천주)', '체결가' 인 데이터를 추출해보자  \n",
        "3가지 방법으로 해보기  \n",
        "* iloc, loc 말고 \n",
        "* iloc\n",
        "* loc "
      ]
    },
    {
      "cell_type": "code",
      "metadata": {
        "id": "hcriSnmJ8ixd",
        "colab_type": "code",
        "outputId": "e90f8e46-559e-4c07-dfea-65362522c3d5",
        "colab": {
          "base_uri": "https://localhost:8080/",
          "height": 206
        }
      },
      "source": [
        "'''\n",
        "output:\n",
        " \t날짜 \t거래량(천주) \t체결가\n",
        "0 \t2020.02.07 \t800342 \t2211.95\n",
        "1 \t2020.02.06 \t695216 \t2227.94\n",
        "2 \t2020.02.05 \t574395 \t2165.63\n",
        "3 \t2020.02.04 \t624641 \t2157.90\n",
        "4 \t2020.02.03 \t836699 \t2118.88\n",
        "'''\n",
        "#1 \n"
      ],
      "execution_count": 0,
      "outputs": [
        {
          "output_type": "execute_result",
          "data": {
            "text/html": [
              "<div>\n",
              "<style scoped>\n",
              "    .dataframe tbody tr th:only-of-type {\n",
              "        vertical-align: middle;\n",
              "    }\n",
              "\n",
              "    .dataframe tbody tr th {\n",
              "        vertical-align: top;\n",
              "    }\n",
              "\n",
              "    .dataframe thead th {\n",
              "        text-align: right;\n",
              "    }\n",
              "</style>\n",
              "<table border=\"1\" class=\"dataframe\">\n",
              "  <thead>\n",
              "    <tr style=\"text-align: right;\">\n",
              "      <th></th>\n",
              "      <th>날짜</th>\n",
              "      <th>거래량(천주)</th>\n",
              "      <th>체결가</th>\n",
              "    </tr>\n",
              "  </thead>\n",
              "  <tbody>\n",
              "    <tr>\n",
              "      <th>0</th>\n",
              "      <td>2020.02.07</td>\n",
              "      <td>800342</td>\n",
              "      <td>2211.95</td>\n",
              "    </tr>\n",
              "    <tr>\n",
              "      <th>1</th>\n",
              "      <td>2020.02.06</td>\n",
              "      <td>695216</td>\n",
              "      <td>2227.94</td>\n",
              "    </tr>\n",
              "    <tr>\n",
              "      <th>2</th>\n",
              "      <td>2020.02.05</td>\n",
              "      <td>574395</td>\n",
              "      <td>2165.63</td>\n",
              "    </tr>\n",
              "    <tr>\n",
              "      <th>3</th>\n",
              "      <td>2020.02.04</td>\n",
              "      <td>624641</td>\n",
              "      <td>2157.90</td>\n",
              "    </tr>\n",
              "    <tr>\n",
              "      <th>4</th>\n",
              "      <td>2020.02.03</td>\n",
              "      <td>836699</td>\n",
              "      <td>2118.88</td>\n",
              "    </tr>\n",
              "  </tbody>\n",
              "</table>\n",
              "</div>"
            ],
            "text/plain": [
              "            날짜  거래량(천주)      체결가\n",
              "0  2020.02.07    800342  2211.95\n",
              "1  2020.02.06    695216  2227.94\n",
              "2  2020.02.05    574395  2165.63\n",
              "3  2020.02.04    624641  2157.90\n",
              "4  2020.02.03    836699  2118.88"
            ]
          },
          "metadata": {
            "tags": []
          },
          "execution_count": 72
        }
      ]
    },
    {
      "cell_type": "code",
      "metadata": {
        "id": "14anEgeu6TfC",
        "colab_type": "code",
        "outputId": "0ef41803-703d-447d-ab69-6bbc1c036c8c",
        "colab": {
          "base_uri": "https://localhost:8080/",
          "height": 206
        }
      },
      "source": [
        "# iloc 사용 - tip: 날짜, 거래량(천주), 체결가의 integer index를 먼저 확인해보자 \n"
      ],
      "execution_count": 0,
      "outputs": [
        {
          "output_type": "execute_result",
          "data": {
            "text/html": [
              "<div>\n",
              "<style scoped>\n",
              "    .dataframe tbody tr th:only-of-type {\n",
              "        vertical-align: middle;\n",
              "    }\n",
              "\n",
              "    .dataframe tbody tr th {\n",
              "        vertical-align: top;\n",
              "    }\n",
              "\n",
              "    .dataframe thead th {\n",
              "        text-align: right;\n",
              "    }\n",
              "</style>\n",
              "<table border=\"1\" class=\"dataframe\">\n",
              "  <thead>\n",
              "    <tr style=\"text-align: right;\">\n",
              "      <th></th>\n",
              "      <th>날짜</th>\n",
              "      <th>거래량(천주)</th>\n",
              "      <th>체결가</th>\n",
              "    </tr>\n",
              "  </thead>\n",
              "  <tbody>\n",
              "    <tr>\n",
              "      <th>0</th>\n",
              "      <td>2020.02.07</td>\n",
              "      <td>800342</td>\n",
              "      <td>2211.95</td>\n",
              "    </tr>\n",
              "    <tr>\n",
              "      <th>1</th>\n",
              "      <td>2020.02.06</td>\n",
              "      <td>695216</td>\n",
              "      <td>2227.94</td>\n",
              "    </tr>\n",
              "    <tr>\n",
              "      <th>2</th>\n",
              "      <td>2020.02.05</td>\n",
              "      <td>574395</td>\n",
              "      <td>2165.63</td>\n",
              "    </tr>\n",
              "    <tr>\n",
              "      <th>3</th>\n",
              "      <td>2020.02.04</td>\n",
              "      <td>624641</td>\n",
              "      <td>2157.90</td>\n",
              "    </tr>\n",
              "    <tr>\n",
              "      <th>4</th>\n",
              "      <td>2020.02.03</td>\n",
              "      <td>836699</td>\n",
              "      <td>2118.88</td>\n",
              "    </tr>\n",
              "  </tbody>\n",
              "</table>\n",
              "</div>"
            ],
            "text/plain": [
              "            날짜  거래량(천주)      체결가\n",
              "0  2020.02.07    800342  2211.95\n",
              "1  2020.02.06    695216  2227.94\n",
              "2  2020.02.05    574395  2165.63\n",
              "3  2020.02.04    624641  2157.90\n",
              "4  2020.02.03    836699  2118.88"
            ]
          },
          "metadata": {
            "tags": []
          },
          "execution_count": 87
        }
      ]
    },
    {
      "cell_type": "code",
      "metadata": {
        "id": "SRoHbGwC7P1T",
        "colab_type": "code",
        "outputId": "31d8ff40-88ff-48b1-c092-77bbb04c5e8a",
        "colab": {
          "base_uri": "https://localhost:8080/",
          "height": 206
        }
      },
      "source": [
        "# loc 사용 \n"
      ],
      "execution_count": 0,
      "outputs": [
        {
          "output_type": "execute_result",
          "data": {
            "text/html": [
              "<div>\n",
              "<style scoped>\n",
              "    .dataframe tbody tr th:only-of-type {\n",
              "        vertical-align: middle;\n",
              "    }\n",
              "\n",
              "    .dataframe tbody tr th {\n",
              "        vertical-align: top;\n",
              "    }\n",
              "\n",
              "    .dataframe thead th {\n",
              "        text-align: right;\n",
              "    }\n",
              "</style>\n",
              "<table border=\"1\" class=\"dataframe\">\n",
              "  <thead>\n",
              "    <tr style=\"text-align: right;\">\n",
              "      <th></th>\n",
              "      <th>날짜</th>\n",
              "      <th>거래량(천주)</th>\n",
              "      <th>체결가</th>\n",
              "    </tr>\n",
              "  </thead>\n",
              "  <tbody>\n",
              "    <tr>\n",
              "      <th>0</th>\n",
              "      <td>2020.02.07</td>\n",
              "      <td>800342</td>\n",
              "      <td>2211.95</td>\n",
              "    </tr>\n",
              "    <tr>\n",
              "      <th>1</th>\n",
              "      <td>2020.02.06</td>\n",
              "      <td>695216</td>\n",
              "      <td>2227.94</td>\n",
              "    </tr>\n",
              "    <tr>\n",
              "      <th>2</th>\n",
              "      <td>2020.02.05</td>\n",
              "      <td>574395</td>\n",
              "      <td>2165.63</td>\n",
              "    </tr>\n",
              "    <tr>\n",
              "      <th>3</th>\n",
              "      <td>2020.02.04</td>\n",
              "      <td>624641</td>\n",
              "      <td>2157.90</td>\n",
              "    </tr>\n",
              "    <tr>\n",
              "      <th>4</th>\n",
              "      <td>2020.02.03</td>\n",
              "      <td>836699</td>\n",
              "      <td>2118.88</td>\n",
              "    </tr>\n",
              "  </tbody>\n",
              "</table>\n",
              "</div>"
            ],
            "text/plain": [
              "            날짜  거래량(천주)      체결가\n",
              "0  2020.02.07    800342  2211.95\n",
              "1  2020.02.06    695216  2227.94\n",
              "2  2020.02.05    574395  2165.63\n",
              "3  2020.02.04    624641  2157.90\n",
              "4  2020.02.03    836699  2118.88"
            ]
          },
          "metadata": {
            "tags": []
          },
          "execution_count": 89
        }
      ]
    },
    {
      "cell_type": "markdown",
      "metadata": {
        "id": "24sL4B_KsVOt",
        "colab_type": "text"
      },
      "source": [
        "# 8.\n",
        "stock 데이터를 통해 거래대금(백만)이 8000000이 넘는 row만 추출해보기"
      ]
    },
    {
      "cell_type": "code",
      "metadata": {
        "id": "IQNprqUZsUl5",
        "colab_type": "code",
        "outputId": "943ae0d5-58ff-4fea-d524-39317bbb8ce3",
        "colab": {
          "base_uri": "https://localhost:8080/",
          "height": 175
        }
      },
      "source": [
        "'''\n",
        "output:\n",
        " \t날짜 \t체결가 \t전일비 \t등락률 \t거래량(천주) \t거래대금(백만)\n",
        "0 \t2020.02.07 \t2211.95 \t하락 15.99 \t-1% \t800342 \t8813174\n",
        "1 \t2020.02.06 \t2227.94 \t상승 62.31 \t3% \t695216 \t8334737\n",
        "4 \t2020.02.03 \t2118.88 \t하락 0.13 \t0% \t836699 \t8068704\n",
        "8 \t2020.01.28 \t2176.72 \t하락 69.41 \t-3% \t808878 \t8818232\n",
        "'''\n"
      ],
      "execution_count": 0,
      "outputs": [
        {
          "output_type": "execute_result",
          "data": {
            "text/html": [
              "<div>\n",
              "<style scoped>\n",
              "    .dataframe tbody tr th:only-of-type {\n",
              "        vertical-align: middle;\n",
              "    }\n",
              "\n",
              "    .dataframe tbody tr th {\n",
              "        vertical-align: top;\n",
              "    }\n",
              "\n",
              "    .dataframe thead th {\n",
              "        text-align: right;\n",
              "    }\n",
              "</style>\n",
              "<table border=\"1\" class=\"dataframe\">\n",
              "  <thead>\n",
              "    <tr style=\"text-align: right;\">\n",
              "      <th></th>\n",
              "      <th>날짜</th>\n",
              "      <th>체결가</th>\n",
              "      <th>전일비</th>\n",
              "      <th>등락률</th>\n",
              "      <th>거래량(천주)</th>\n",
              "      <th>거래대금(백만)</th>\n",
              "    </tr>\n",
              "  </thead>\n",
              "  <tbody>\n",
              "    <tr>\n",
              "      <th>0</th>\n",
              "      <td>2020.02.07</td>\n",
              "      <td>2211.95</td>\n",
              "      <td>하락 15.99</td>\n",
              "      <td>-1%</td>\n",
              "      <td>800342</td>\n",
              "      <td>8813174</td>\n",
              "    </tr>\n",
              "    <tr>\n",
              "      <th>1</th>\n",
              "      <td>2020.02.06</td>\n",
              "      <td>2227.94</td>\n",
              "      <td>상승 62.31</td>\n",
              "      <td>3%</td>\n",
              "      <td>695216</td>\n",
              "      <td>8334737</td>\n",
              "    </tr>\n",
              "    <tr>\n",
              "      <th>4</th>\n",
              "      <td>2020.02.03</td>\n",
              "      <td>2118.88</td>\n",
              "      <td>하락 0.13</td>\n",
              "      <td>0%</td>\n",
              "      <td>836699</td>\n",
              "      <td>8068704</td>\n",
              "    </tr>\n",
              "    <tr>\n",
              "      <th>8</th>\n",
              "      <td>2020.01.28</td>\n",
              "      <td>2176.72</td>\n",
              "      <td>하락 69.41</td>\n",
              "      <td>-3%</td>\n",
              "      <td>808878</td>\n",
              "      <td>8818232</td>\n",
              "    </tr>\n",
              "  </tbody>\n",
              "</table>\n",
              "</div>"
            ],
            "text/plain": [
              "            날짜      체결가        전일비  등락률  거래량(천주)  거래대금(백만)\n",
              "0  2020.02.07   2211.95  하락 15.99   -1%   800342   8813174\n",
              "1  2020.02.06   2227.94  상승 62.31    3%   695216   8334737\n",
              "4  2020.02.03   2118.88   하락 0.13    0%   836699   8068704\n",
              "8  2020.01.28   2176.72  하락 69.41   -3%   808878   8818232"
            ]
          },
          "metadata": {
            "tags": []
          },
          "execution_count": 94
        }
      ]
    },
    {
      "cell_type": "markdown",
      "metadata": {
        "id": "aBorVj_csT0z",
        "colab_type": "text"
      },
      "source": [
        "# 9.\n",
        "거래량이 2210 이하이고, 거래량(천주)도 700000 이하인 날짜만 추출 "
      ]
    },
    {
      "cell_type": "code",
      "metadata": {
        "id": "yRlN7VjOAsc3",
        "colab_type": "code",
        "outputId": "c8f39432-41a1-4ffa-9ceb-50843f41f4a4",
        "colab": {
          "base_uri": "https://localhost:8080/",
          "height": 104
        }
      },
      "source": [
        "'''\n",
        "2    2020.02.05 \n",
        "3    2020.02.04 \n",
        "6    2020.01.30 \n",
        "7    2020.01.29 \n",
        "Name: 날짜, dtype: object\n",
        "'''\n"
      ],
      "execution_count": 0,
      "outputs": [
        {
          "output_type": "execute_result",
          "data": {
            "text/plain": [
              "2    2020.02.05 \n",
              "3    2020.02.04 \n",
              "6    2020.01.30 \n",
              "7    2020.01.29 \n",
              "Name: 날짜, dtype: object"
            ]
          },
          "metadata": {
            "tags": []
          },
          "execution_count": 102
        }
      ]
    },
    {
      "cell_type": "markdown",
      "metadata": {
        "id": "SIeQ0C9ODyLh",
        "colab_type": "text"
      },
      "source": [
        "# 10\n",
        "sales 데이터의 '조선일보신문', '중앙일보신문' 을 삭제하기"
      ]
    },
    {
      "cell_type": "code",
      "metadata": {
        "id": "33Wiwi24A-sE",
        "colab_type": "code",
        "colab": {}
      },
      "source": [
        "'''\n",
        "output:\n",
        "경향신문신문    10200\n",
        "국민일보신문    62300\n",
        "동아일보신문    13100\n",
        "문화일보신문    42500\n",
        "서울신문신문    33900\n",
        "세계일보신문    29900\n",
        "한겨레신문     79200\n",
        "한국일보신문    59700\n",
        "dtype: int64\n",
        "'''\n"
      ],
      "execution_count": 0,
      "outputs": []
    },
    {
      "cell_type": "markdown",
      "metadata": {
        "id": "rVvKdFBQD6CM",
        "colab_type": "text"
      },
      "source": [
        "# 11\n",
        "stock 데이터의 '등락률' 컬럼을 삭제하기"
      ]
    },
    {
      "cell_type": "code",
      "metadata": {
        "id": "EbofHf3ZD6_1",
        "colab_type": "code",
        "colab": {}
      },
      "source": [
        "'''\n",
        " \t날짜 \t체결가 \t전일비 \t거래량(천주) \t거래대금(백만)\n",
        "0 \t2020.02.07 \t2211.95 \t하락 15.99 \t800342 \t8813174\n",
        "1 \t2020.02.06 \t2227.94 \t상승 62.31 \t695216 \t8334737\n",
        "2 \t2020.02.05 \t2165.63 \t상승 7.73 \t574395 \t7736275\n",
        "3 \t2020.02.04 \t2157.90 \t상승 39.02 \t624641 \t7791178\n",
        "4 \t2020.02.03 \t2118.88 \t하락 0.13 \t836699 \t8068704\n",
        "...\n",
        "과 같은 데이터 프레임\n",
        "\n",
        "'''"
      ],
      "execution_count": 0,
      "outputs": []
    },
    {
      "cell_type": "code",
      "metadata": {
        "id": "QGIHfVWCGKJY",
        "colab_type": "code",
        "colab": {}
      },
      "source": [
        ""
      ],
      "execution_count": 0,
      "outputs": []
    }
  ]
}