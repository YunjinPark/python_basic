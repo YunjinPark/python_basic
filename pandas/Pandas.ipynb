{
 "cells": [
  {
   "cell_type": "code",
   "execution_count": null,
   "metadata": {
    "colab": {},
    "colab_type": "code",
    "id": "cOaAdNfNiMR2"
   },
   "outputs": [],
   "source": [
    "import pandas as pd\n",
    "import numpy as np"
   ]
  },
  {
   "cell_type": "markdown",
   "metadata": {
    "colab_type": "text",
    "id": "BvxkQhQiCPX6"
   },
   "source": [
    "# Data structure"
   ]
  },
  {
   "cell_type": "markdown",
   "metadata": {
    "colab_type": "text",
    "id": "pjFkQBIjCYWw"
   },
   "source": [
    "## Series"
   ]
  },
  {
   "cell_type": "markdown",
   "metadata": {
    "colab_type": "text",
    "id": "anQOR0sdChbA"
   },
   "source": [
    "### series 생성"
   ]
  },
  {
   "cell_type": "code",
   "execution_count": null,
   "metadata": {
    "colab": {},
    "colab_type": "code",
    "id": "9ujGYfIa5FKs"
   },
   "outputs": [],
   "source": [
    "obj1 = pd.Series([0, 10, 20, 30, 40, 50, 60]) \n",
    "obj1"
   ]
  },
  {
   "cell_type": "code",
   "execution_count": null,
   "metadata": {
    "colab": {},
    "colab_type": "code",
    "id": "Ks6EsZUSlkep"
   },
   "outputs": [],
   "source": [
    "# dtype\n",
    "obj1 = pd.Series([0, 10, 20, 30, 40, 50, 60], dtype = np.float32)\n",
    "obj1"
   ]
  },
  {
   "cell_type": "code",
   "execution_count": null,
   "metadata": {
    "colab": {},
    "colab_type": "code",
    "id": "jQuCxoQ987X_"
   },
   "outputs": [],
   "source": [
    "# index\n",
    "obj2 = pd.Series(['a', 'b', 'c'], index = ['i1','i2','i3'])\n",
    "obj2"
   ]
  },
  {
   "cell_type": "code",
   "execution_count": null,
   "metadata": {
    "colab": {},
    "colab_type": "code",
    "id": "YUXYqmCZIDC-"
   },
   "outputs": [],
   "source": [
    "# dictionary\n",
    "dic = {'서울특별시'\t: '02',  '경기도'\t: '031', '인천광역시'\t: '032', '강원도'\t: '033',\n",
    "      '충청남도'\t: '041', '대전광역시'\t: '042', '충청북도'\t: '043', '세종특별자치시'\t: '044',\n",
    "      '부산광역시'\t: '051', '울산광역시'\t: '052', '대구광역시'\t: '053',  '경상북도'\t: '054 ',\n",
    "      '경상남도'\t: '055', '전라남도'\t: '061', '광주광역시'\t: '062', '전라북도'\t: '063',\n",
    "      '제주특별자치도' : '064'}"
   ]
  },
  {
   "cell_type": "code",
   "execution_count": null,
   "metadata": {
    "colab": {},
    "colab_type": "code",
    "id": "R0YMmo7NKZvB"
   },
   "outputs": [],
   "source": [
    "obj3 = pd.Series(dic)\n",
    "obj3"
   ]
  },
  {
   "cell_type": "code",
   "execution_count": null,
   "metadata": {
    "colab": {},
    "colab_type": "code",
    "id": "qh8NI3E5xz-m"
   },
   "outputs": [],
   "source": [
    "# numpy \n",
    "obj4 = pd.Series(np.arange(4), name='kk')\n",
    "obj4"
   ]
  },
  {
   "cell_type": "markdown",
   "metadata": {
    "colab_type": "text",
    "id": "v5Rv2weMHuAn"
   },
   "source": [
    "### index, values, dtype"
   ]
  },
  {
   "cell_type": "code",
   "execution_count": null,
   "metadata": {
    "colab": {},
    "colab_type": "code",
    "id": "dN5eKuJ-dO91"
   },
   "outputs": [],
   "source": [
    "obj1"
   ]
  },
  {
   "cell_type": "code",
   "execution_count": null,
   "metadata": {
    "colab": {},
    "colab_type": "code",
    "id": "XZWnqLN1-b5U"
   },
   "outputs": [],
   "source": [
    "obj1.index"
   ]
  },
  {
   "cell_type": "code",
   "execution_count": null,
   "metadata": {
    "colab": {},
    "colab_type": "code",
    "id": "sQRioqJbC438"
   },
   "outputs": [],
   "source": [
    "obj1.values"
   ]
  },
  {
   "cell_type": "code",
   "execution_count": null,
   "metadata": {
    "colab": {},
    "colab_type": "code",
    "id": "BoUWPtD9mrLF"
   },
   "outputs": [],
   "source": [
    "obj1.dtype"
   ]
  },
  {
   "cell_type": "code",
   "execution_count": null,
   "metadata": {
    "colab": {},
    "colab_type": "code",
    "id": "gYbic-rzdSyJ"
   },
   "outputs": [],
   "source": [
    "obj2"
   ]
  },
  {
   "cell_type": "code",
   "execution_count": null,
   "metadata": {
    "colab": {},
    "colab_type": "code",
    "id": "Iwzw7YoO-dU9"
   },
   "outputs": [],
   "source": [
    "obj2.index"
   ]
  },
  {
   "cell_type": "code",
   "execution_count": null,
   "metadata": {
    "colab": {},
    "colab_type": "code",
    "id": "bJRNR4MSC84f"
   },
   "outputs": [],
   "source": [
    "obj2.values"
   ]
  },
  {
   "cell_type": "code",
   "execution_count": null,
   "metadata": {
    "colab": {},
    "colab_type": "code",
    "id": "Q3WlrNpedWZ-"
   },
   "outputs": [],
   "source": [
    "obj3"
   ]
  },
  {
   "cell_type": "code",
   "execution_count": null,
   "metadata": {
    "colab": {},
    "colab_type": "code",
    "id": "d9IHFArUKydo"
   },
   "outputs": [],
   "source": [
    "obj3.index"
   ]
  },
  {
   "cell_type": "code",
   "execution_count": null,
   "metadata": {
    "colab": {},
    "colab_type": "code",
    "id": "0qR-TrdoK4C9"
   },
   "outputs": [],
   "source": [
    "obj3.values"
   ]
  },
  {
   "cell_type": "code",
   "execution_count": null,
   "metadata": {
    "colab": {},
    "colab_type": "code",
    "id": "wFfIbZKXmyM2"
   },
   "outputs": [],
   "source": [
    "obj3.dtype"
   ]
  },
  {
   "cell_type": "code",
   "execution_count": null,
   "metadata": {
    "colab": {},
    "colab_type": "code",
    "id": "OdWFfnYjdZ0P"
   },
   "outputs": [],
   "source": [
    "obj4"
   ]
  },
  {
   "cell_type": "code",
   "execution_count": null,
   "metadata": {
    "colab": {},
    "colab_type": "code",
    "id": "JI7jxArfmn28"
   },
   "outputs": [],
   "source": [
    "obj4.index"
   ]
  },
  {
   "cell_type": "code",
   "execution_count": null,
   "metadata": {
    "colab": {},
    "colab_type": "code",
    "id": "Qx7Ummo9n5Ik"
   },
   "outputs": [],
   "source": [
    "obj4.values"
   ]
  },
  {
   "cell_type": "code",
   "execution_count": null,
   "metadata": {
    "colab": {},
    "colab_type": "code",
    "id": "90dfDxsum_Qr"
   },
   "outputs": [],
   "source": [
    "obj4.dtype"
   ]
  },
  {
   "cell_type": "markdown",
   "metadata": {
    "colab_type": "text",
    "id": "9ap7xksRq3r8"
   },
   "source": [
    "## Data *Frame*"
   ]
  },
  {
   "cell_type": "markdown",
   "metadata": {
    "colab_type": "text",
    "id": "3a7kkTkOC20O"
   },
   "source": [
    "### Data Frame *생성*"
   ]
  },
  {
   "cell_type": "code",
   "execution_count": null,
   "metadata": {
    "colab": {},
    "colab_type": "code",
    "id": "2f77GDCotQkT"
   },
   "outputs": [],
   "source": [
    "#dictionary\n",
    "data = {'제목': ['극한직업', '어벤져스: 엔드게임', '알라딘', '기생충', '엑시트', '스파이더맨: 파 프롬 홈', '겨울왕국 2', '캡틴 마블', '조커', '봉오동 전투'],\n",
    "        '감독': ['이병헌', '안소니 루소,조 루소', '가이 리치', '봉준호', '이상근', '존 왓츠', '크리스 벅,제니퍼 리', '애너 보든,라이언 플렉', '토드 필립스', '원신연,이영용'],\n",
    "        '관객수': [16264944, 13934592, 12551956, 10084564, 9424431, 8020208, 7603956, 5801069, 5245841, 4777456]}\n",
    "frame1 = pd.DataFrame(data)\n",
    "frame1"
   ]
  },
  {
   "cell_type": "code",
   "execution_count": null,
   "metadata": {
    "colab": {},
    "colab_type": "code",
    "id": "lmiXcTSetQnb"
   },
   "outputs": [],
   "source": [
    "frame1.head(3)"
   ]
  },
  {
   "cell_type": "code",
   "execution_count": null,
   "metadata": {
    "colab": {},
    "colab_type": "code",
    "id": "PXFKG6B5DU5K"
   },
   "outputs": [],
   "source": [
    "# numpy\n",
    "frame2 = pd.DataFrame(np.arange(30).reshape(6,-1))\n",
    "frame2"
   ]
  },
  {
   "cell_type": "markdown",
   "metadata": {
    "colab_type": "text",
    "id": "VGKo7V4mpTjj"
   },
   "source": [
    "### index, columns, values"
   ]
  },
  {
   "cell_type": "code",
   "execution_count": null,
   "metadata": {
    "colab": {},
    "colab_type": "code",
    "id": "tTHNeDAvv2zU"
   },
   "outputs": [],
   "source": [
    "frame1.index"
   ]
  },
  {
   "cell_type": "code",
   "execution_count": null,
   "metadata": {
    "colab": {},
    "colab_type": "code",
    "id": "7hrp1YFmv2-I"
   },
   "outputs": [],
   "source": [
    "frame1.columns"
   ]
  },
  {
   "cell_type": "code",
   "execution_count": null,
   "metadata": {
    "colab": {},
    "colab_type": "code",
    "id": "pXm1lcvYv3Fz"
   },
   "outputs": [],
   "source": [
    "frame1.values"
   ]
  },
  {
   "cell_type": "code",
   "execution_count": null,
   "metadata": {
    "colab": {},
    "colab_type": "code",
    "id": "wzQLBa9GeImB"
   },
   "outputs": [],
   "source": [
    "frame2.index"
   ]
  },
  {
   "cell_type": "code",
   "execution_count": null,
   "metadata": {
    "colab": {},
    "colab_type": "code",
    "id": "udZS5y6NeLrj"
   },
   "outputs": [],
   "source": [
    "frame2.columns"
   ]
  },
  {
   "cell_type": "code",
   "execution_count": null,
   "metadata": {
    "colab": {},
    "colab_type": "code",
    "id": "r-ohI2qLeLz-"
   },
   "outputs": [],
   "source": [
    "frame2.values"
   ]
  },
  {
   "cell_type": "markdown",
   "metadata": {
    "colab_type": "text",
    "id": "xL1tQMLhGDzT"
   },
   "source": [
    "# 데이터 로딩, 저장"
   ]
  },
  {
   "cell_type": "markdown",
   "metadata": {
    "colab_type": "text",
    "id": "v22lV7WwBrHX"
   },
   "source": [
    "|pandas file 파싱 함수|설명|\n",
    "|---|---|\n",
    "|read_csv|파일, url, 파일과 유사한 객체로부터 구분된 데이터 읽어옴. 데이터 구분자는 쉼표(,)가 기본|\n",
    "|read_excel|엑셀(xls, xlsx)에서 표 형식의 데이터를 읽어옴.|\n",
    "|read_json|JSON 문자열에서 데이터를 읽어옴.|\n",
    "|read_pickle|파이썬 피클 포맷으로 저장된 객체를 읽어옴..|\n"
   ]
  },
  {
   "cell_type": "markdown",
   "metadata": {
    "colab_type": "text",
    "id": "qxVi625EVU4t"
   },
   "source": [
    "## csv"
   ]
  },
  {
   "cell_type": "code",
   "execution_count": null,
   "metadata": {
    "colab": {},
    "colab_type": "code",
    "id": "UAlD4s1fGSBw"
   },
   "outputs": [],
   "source": [
    "# 데이터 읽기 \n",
    "stock = pd.read_csv('stock_2020_01.csv', \n",
    "                    encoding = \"euc-kr\")"
   ]
  },
  {
   "cell_type": "code",
   "execution_count": null,
   "metadata": {
    "colab": {},
    "colab_type": "code",
    "id": "Ba-9de7iGSDs"
   },
   "outputs": [],
   "source": [
    "stock"
   ]
  },
  {
   "cell_type": "code",
   "execution_count": null,
   "metadata": {
    "colab": {},
    "colab_type": "code",
    "id": "21CYpRsui_8m"
   },
   "outputs": [],
   "source": [
    "# 데이터 쓰기 \n",
    "stock.to_csv('stock_2020_01_tmp.csv')"
   ]
  },
  {
   "cell_type": "markdown",
   "metadata": {
    "colab_type": "text",
    "id": "yePAbTxtV2-e"
   },
   "source": [
    "## json"
   ]
  },
  {
   "cell_type": "code",
   "execution_count": null,
   "metadata": {
    "colab": {},
    "colab_type": "code",
    "id": "wZs3-i9-V2GB"
   },
   "outputs": [],
   "source": [
    "movie_2019 = pd.read_json('movie_2019.json')"
   ]
  },
  {
   "cell_type": "code",
   "execution_count": null,
   "metadata": {
    "colab": {},
    "colab_type": "code",
    "id": "ia9LP9AscEKq"
   },
   "outputs": [],
   "source": [
    "movie_2019"
   ]
  },
  {
   "cell_type": "code",
   "execution_count": null,
   "metadata": {
    "colab": {},
    "colab_type": "code",
    "id": "Q7KhJKfqcR53"
   },
   "outputs": [],
   "source": [
    "movie_2019.to_json('movie_2019_tmp.json')"
   ]
  },
  {
   "cell_type": "markdown",
   "metadata": {
    "colab_type": "text",
    "id": "80r6-1rX8XQ2"
   },
   "source": [
    "# 핵심 기능"
   ]
  },
  {
   "cell_type": "markdown",
   "metadata": {
    "colab_type": "text",
    "id": "1ac0PR-r8Zo4"
   },
   "source": [
    "## indexing/slicing"
   ]
  },
  {
   "cell_type": "markdown",
   "metadata": {
    "colab_type": "text",
    "id": "srF9zP_9FPRa"
   },
   "source": [
    "### **Series indexing/slicing**\n",
    "* integer-location based: numpy indexing와 유사하게 동작함. \n",
    "* label-location based: 라벨로도 색인 가능!!"
   ]
  },
  {
   "cell_type": "code",
   "execution_count": null,
   "metadata": {
    "colab": {},
    "colab_type": "code",
    "id": "2wFDCoMm8qb_"
   },
   "outputs": [],
   "source": [
    "obj = pd.Series(np.arange(8), index=['a', 'b', 'c', 'd', 'e', 'f', 'g', 'h'])\n",
    "obj"
   ]
  },
  {
   "cell_type": "markdown",
   "metadata": {
    "colab_type": "text",
    "id": "czQdHLM9uBrd"
   },
   "source": [
    "#### **integer-location based**\n"
   ]
  },
  {
   "cell_type": "code",
   "execution_count": null,
   "metadata": {
    "colab": {},
    "colab_type": "code",
    "id": "w2fF8Khu8qiR"
   },
   "outputs": [],
   "source": [
    "obj[3]"
   ]
  },
  {
   "cell_type": "code",
   "execution_count": null,
   "metadata": {
    "colab": {},
    "colab_type": "code",
    "id": "ZnjT74zMvBni"
   },
   "outputs": [],
   "source": [
    "obj[-1]"
   ]
  },
  {
   "cell_type": "code",
   "execution_count": null,
   "metadata": {
    "colab": {},
    "colab_type": "code",
    "id": "-a8PIXZz8qq_"
   },
   "outputs": [],
   "source": [
    "obj[[1,3,5]]"
   ]
  },
  {
   "cell_type": "code",
   "execution_count": null,
   "metadata": {
    "colab": {},
    "colab_type": "code",
    "id": "JxNJC2EA8qkF"
   },
   "outputs": [],
   "source": [
    "obj[1:3]"
   ]
  },
  {
   "cell_type": "code",
   "execution_count": null,
   "metadata": {
    "colab": {},
    "colab_type": "code",
    "id": "GFO518L5GgPu"
   },
   "outputs": [],
   "source": [
    "# boolean \n",
    "obj[obj<3]"
   ]
  },
  {
   "cell_type": "markdown",
   "metadata": {
    "colab_type": "text",
    "id": "WtCwQl30uJE_"
   },
   "source": [
    "#### **label-location based**"
   ]
  },
  {
   "cell_type": "code",
   "execution_count": null,
   "metadata": {
    "colab": {},
    "colab_type": "code",
    "id": "SDi231Ja8qeq"
   },
   "outputs": [],
   "source": [
    "obj['c']"
   ]
  },
  {
   "cell_type": "code",
   "execution_count": null,
   "metadata": {
    "colab": {},
    "colab_type": "code",
    "id": "INBI3iCygT8N"
   },
   "outputs": [],
   "source": [
    "obj.c"
   ]
  },
  {
   "cell_type": "code",
   "execution_count": null,
   "metadata": {
    "colab": {},
    "colab_type": "code",
    "id": "gMpNJDAL8qpQ"
   },
   "outputs": [],
   "source": [
    "obj[['e','c']]"
   ]
  },
  {
   "cell_type": "markdown",
   "metadata": {
    "colab_type": "text",
    "id": "eVhrd9FsG5f5"
   },
   "source": [
    "**주의**: 라벨로 슬라이싱하면 시작점과 끝점을 포함!!!\n"
   ]
  },
  {
   "cell_type": "code",
   "execution_count": null,
   "metadata": {
    "colab": {},
    "colab_type": "code",
    "id": "22VDcdpaGv_Z"
   },
   "outputs": [],
   "source": [
    "obj['a':'c']"
   ]
  },
  {
   "cell_type": "code",
   "execution_count": null,
   "metadata": {
    "colab": {},
    "colab_type": "code",
    "id": "pYPWwIQlHE0u"
   },
   "outputs": [],
   "source": [
    "obj['d':'e']=100"
   ]
  },
  {
   "cell_type": "code",
   "execution_count": null,
   "metadata": {
    "colab": {},
    "colab_type": "code",
    "id": "F2ptEBSSHE3Z"
   },
   "outputs": [],
   "source": [
    "obj"
   ]
  },
  {
   "cell_type": "markdown",
   "metadata": {
    "colab_type": "text",
    "id": "GrYsDRG_Hrf7"
   },
   "source": [
    "#### iloc, loc \n",
    "* Series.iloc: integer-location based\n",
    "* Series.loc: label-location based"
   ]
  },
  {
   "cell_type": "code",
   "execution_count": null,
   "metadata": {
    "colab": {},
    "colab_type": "code",
    "id": "Rq0AWvsb3R1r"
   },
   "outputs": [],
   "source": [
    "obj = pd.Series(np.arange(8), index=['a', 'b', 'c', 'd', 'e', 'f', 'g', 'h'])\n",
    "obj"
   ]
  },
  {
   "cell_type": "code",
   "execution_count": null,
   "metadata": {
    "colab": {},
    "colab_type": "code",
    "id": "u2F6ycGG31J6"
   },
   "outputs": [],
   "source": [
    "obj.iloc[2]"
   ]
  },
  {
   "cell_type": "code",
   "execution_count": null,
   "metadata": {
    "colab": {},
    "colab_type": "code",
    "id": "P0T0cXe23R5i"
   },
   "outputs": [],
   "source": [
    "obj.iloc[[2]]"
   ]
  },
  {
   "cell_type": "code",
   "execution_count": null,
   "metadata": {
    "colab": {},
    "colab_type": "code",
    "id": "4SdR5d603R8w"
   },
   "outputs": [],
   "source": [
    "obj.iloc[1:4]"
   ]
  },
  {
   "cell_type": "code",
   "execution_count": null,
   "metadata": {
    "colab": {},
    "colab_type": "code",
    "id": "7HM-3nfd34uK"
   },
   "outputs": [],
   "source": [
    "obj.loc['a']"
   ]
  },
  {
   "cell_type": "code",
   "execution_count": null,
   "metadata": {
    "colab": {},
    "colab_type": "code",
    "id": "a2XM2FT53noy"
   },
   "outputs": [],
   "source": [
    "obj.loc[['a']]"
   ]
  },
  {
   "cell_type": "code",
   "execution_count": null,
   "metadata": {
    "colab": {},
    "colab_type": "code",
    "id": "A2URa_HZ3ao9"
   },
   "outputs": [],
   "source": [
    "obj.loc[['a', 'c']]"
   ]
  },
  {
   "cell_type": "code",
   "execution_count": null,
   "metadata": {
    "colab": {},
    "colab_type": "code",
    "id": "1vDPUT0Q3asy"
   },
   "outputs": [],
   "source": [
    "obj.loc['a':'c']    #라벨은 시작점과 끝점을 포함 "
   ]
  },
  {
   "cell_type": "code",
   "execution_count": null,
   "metadata": {
    "colab": {},
    "colab_type": "code",
    "id": "0WBdk7pWID4j"
   },
   "outputs": [],
   "source": [
    "obj3 = pd.Series(np.arange(0, 50, 10))\n",
    "obj3"
   ]
  },
  {
   "cell_type": "code",
   "execution_count": null,
   "metadata": {
    "colab": {},
    "colab_type": "code",
    "id": "9bFbEBZRID7h"
   },
   "outputs": [],
   "source": [
    "obj3[:2]  "
   ]
  },
  {
   "cell_type": "code",
   "execution_count": null,
   "metadata": {
    "colab": {},
    "colab_type": "code",
    "id": "Fy00ZWiOID9h"
   },
   "outputs": [],
   "source": [
    "obj3.loc[:2]  #라벨은 시작점과 끝점을 포함 "
   ]
  },
  {
   "cell_type": "code",
   "execution_count": null,
   "metadata": {
    "colab": {},
    "colab_type": "code",
    "id": "cR54NscNKFLf"
   },
   "outputs": [],
   "source": [
    "obj3.iloc[:2]"
   ]
  },
  {
   "cell_type": "markdown",
   "metadata": {
    "colab_type": "text",
    "id": "ojxi99TA48v3"
   },
   "source": [
    "### ◉ 연습 - Series indexing/slicing\n",
    "다음 코드를 이해해보자. "
   ]
  },
  {
   "cell_type": "code",
   "execution_count": null,
   "metadata": {
    "colab": {},
    "colab_type": "code",
    "id": "O9YNoWb74t1w"
   },
   "outputs": [],
   "source": [
    "series = pd.Series(np.arange(5), index=list('abcde'))\n",
    "print(series['a'])\n",
    "print(series[0])\n",
    "# \n",
    "print(series['a':'c'])\n",
    "print(series[0:3])\n",
    "# loc\n",
    "print('--------loc--------')\n",
    "print(series.loc['a'])\n",
    "print(series.loc[['a']]) \n",
    "print(series.loc[['a','b','c']])\n",
    "print(series.loc['a':'c'])\n",
    "# iloc\n",
    "print('--------iloc-------')\n",
    "print(series.iloc[0])\n",
    "print(series.iloc[[0]])\n",
    "print(series.iloc[[0, 1, 2]])\n",
    "print(series.iloc[0:3])"
   ]
  },
  {
   "cell_type": "markdown",
   "metadata": {
    "colab_type": "text",
    "id": "Guw7ro_kNHL2"
   },
   "source": [
    "### **DataFrame indexing/slicing**\n",
    "\n",
    "* DataFrame[컬럼명]\n",
    "* DataFrame.컬럼명\n"
   ]
  },
  {
   "cell_type": "code",
   "execution_count": null,
   "metadata": {
    "colab": {},
    "colab_type": "code",
    "id": "VTLMHaaDKFOn"
   },
   "outputs": [],
   "source": [
    "frame = pd.DataFrame(np.arange(24).reshape(4,-1), \n",
    "                         columns = ['c1', 'c2', 'c3', 'c4', 'c5', 'c6'],\n",
    "                         index = ['r1', 'r2', 'r3', 'r4'])\n",
    "frame"
   ]
  },
  {
   "cell_type": "code",
   "execution_count": null,
   "metadata": {
    "colab": {},
    "colab_type": "code",
    "id": "UvBNYHvdfJoi"
   },
   "outputs": [],
   "source": [
    "frame['c3']"
   ]
  },
  {
   "cell_type": "code",
   "execution_count": null,
   "metadata": {
    "colab": {},
    "colab_type": "code",
    "id": "_HNe_HI3Tyxq"
   },
   "outputs": [],
   "source": [
    "frame.c3"
   ]
  },
  {
   "cell_type": "code",
   "execution_count": null,
   "metadata": {
    "colab": {},
    "colab_type": "code",
    "id": "L7pBBj324aL9"
   },
   "outputs": [],
   "source": [
    "frame[['c1', 'c2']]"
   ]
  },
  {
   "cell_type": "markdown",
   "metadata": {
    "colab_type": "text",
    "id": "8V5JrXI_kfge"
   },
   "source": [
    "\n",
    "**DataFrame[인덱스:인덱스]**  \n",
    "slicing할 때는 rows!!\n"
   ]
  },
  {
   "cell_type": "code",
   "execution_count": null,
   "metadata": {
    "colab": {},
    "colab_type": "code",
    "id": "-pyFlvYrfVQu"
   },
   "outputs": [],
   "source": [
    "frame['r1':'r2'] "
   ]
  },
  {
   "cell_type": "code",
   "execution_count": null,
   "metadata": {
    "colab": {},
    "colab_type": "code",
    "id": "HFSdMK0b90Bz"
   },
   "outputs": [],
   "source": [
    "frame['c1':'c2']"
   ]
  },
  {
   "cell_type": "markdown",
   "metadata": {
    "colab_type": "text",
    "id": "0UwzSb43htgX"
   },
   "source": [
    "#### iloc, loc \n",
    "* DataFrame.iloc: integer-location based\n",
    "* DataFrame.loc: label-location based"
   ]
  },
  {
   "cell_type": "code",
   "execution_count": null,
   "metadata": {
    "colab": {},
    "colab_type": "code",
    "id": "AI2T0dFrKFT5"
   },
   "outputs": [],
   "source": [
    "frame.loc[['r1','r2'],['c2','c3','c4']]  "
   ]
  },
  {
   "cell_type": "code",
   "execution_count": null,
   "metadata": {
    "colab": {},
    "colab_type": "code",
    "id": "fMVmmGdWKFZZ"
   },
   "outputs": [],
   "source": [
    "frame.iloc[[0,1], 1:4]"
   ]
  },
  {
   "cell_type": "code",
   "execution_count": null,
   "metadata": {
    "colab": {},
    "colab_type": "code",
    "id": "kLeW8tx4iLxr"
   },
   "outputs": [],
   "source": [
    "stock.loc[::2, 'kospi']"
   ]
  },
  {
   "cell_type": "code",
   "execution_count": null,
   "metadata": {
    "colab": {},
    "colab_type": "code",
    "id": "CU880p3ziYsa"
   },
   "outputs": [],
   "source": [
    "stock.iloc[::2, 1]"
   ]
  },
  {
   "cell_type": "markdown",
   "metadata": {
    "colab_type": "text",
    "id": "sJxS6NZD-wCb"
   },
   "source": [
    "### ◉ 연습 - DataFrame indexing/slicing\n",
    "다음 코드를 이해해보자."
   ]
  },
  {
   "cell_type": "code",
   "execution_count": null,
   "metadata": {
    "colab": {},
    "colab_type": "code",
    "id": "-68MHSHE9ZR_"
   },
   "outputs": [],
   "source": [
    "frame = pd.DataFrame(np.arange(16).reshape(4,-1), \n",
    "                         columns = ['c1', 'c2', 'c3', 'c4'],\n",
    "                         index = ['r1', 'r2', 'r3', 'r4'])\n",
    "print(frame['c1'])\n",
    "print(frame['c1']['r1']) \n",
    "print(frame[['c1']])\n",
    "#print(frame[['c1']]['r1'])  #-> error!!\n",
    "print(frame[['c1']]['c1'])\n",
    "print(frame[['c1', 'c3']])\n",
    "#print(frame[['c1', 'c3']]['r1'])  #-> error!!\n",
    "print(frame[['c1', 'c3']]['c1'])\n",
    "\n",
    "#\n",
    "print('---------------------------')\n",
    "print(frame['r1':'r2'])\n",
    "print(frame['c1':'c2'])\n",
    "#loc\n",
    "print(frame.loc['r1', 'c1'])\n",
    "print(frame.loc[['r1'], 'c1'])\n",
    "print(frame.loc[:, 'c1':'c2'])\n",
    "print(frame.loc['r1', :])\n",
    "#iloc \n",
    "print(frame.iloc[0, 0])\n",
    "print(frame.iloc[[0], 0])\n",
    "print(frame.iloc[:, :1])\n"
   ]
  },
  {
   "cell_type": "markdown",
   "metadata": {
    "colab_type": "text",
    "id": "X4uq03IxUHBx"
   },
   "source": [
    "## 산술연산"
   ]
  },
  {
   "cell_type": "markdown",
   "metadata": {
    "colab_type": "text",
    "id": "nkanADvhqQKV"
   },
   "source": [
    "### Series\n",
    "* index를 기준으로 연산 \n",
    "* 짝이 맞지 않는 인덱스가 있는 경우 outer join과 유사하게 동작\n",
    "* 짝이 맞지 않는 인덱스가 있는 경우, 없는 값을 기본값을 지정해주고 싶은 경우 메서드의 옵션 fill_value사용 "
   ]
  },
  {
   "cell_type": "code",
   "execution_count": null,
   "metadata": {
    "colab": {},
    "colab_type": "code",
    "id": "AB5FgQiVUb5n"
   },
   "outputs": [],
   "source": [
    "s1 = pd.Series([1, 2, 3, 4], index = ['a', 'b', 'c', 'd'])"
   ]
  },
  {
   "cell_type": "code",
   "execution_count": null,
   "metadata": {
    "colab": {},
    "colab_type": "code",
    "id": "xYeWFrCBXUGj"
   },
   "outputs": [],
   "source": [
    "s2 = pd.Series([10, 20, 30, 40], index = ['a', 'b', 'c', 'd'])"
   ]
  },
  {
   "cell_type": "code",
   "execution_count": null,
   "metadata": {
    "colab": {},
    "colab_type": "code",
    "id": "IcLu14saXUEk"
   },
   "outputs": [],
   "source": [
    "s1+s2"
   ]
  },
  {
   "cell_type": "code",
   "execution_count": null,
   "metadata": {
    "colab": {},
    "colab_type": "code",
    "id": "9hPMaQOhXFHR"
   },
   "outputs": [],
   "source": [
    "s1 = pd.Series([1, 2, 3, 4], index = ['a', 'b', 'c', 'd'])"
   ]
  },
  {
   "cell_type": "code",
   "execution_count": null,
   "metadata": {
    "colab": {},
    "colab_type": "code",
    "id": "lw2W798VKCMc"
   },
   "outputs": [],
   "source": [
    "s3 = pd.Series([2, 2, 2, 2], index = ['b', 'c', 'd', 'e'])"
   ]
  },
  {
   "cell_type": "code",
   "execution_count": null,
   "metadata": {
    "colab": {},
    "colab_type": "code",
    "id": "QlE-733kKCOI"
   },
   "outputs": [],
   "source": [
    "# a, e\n",
    "s1+s3"
   ]
  },
  {
   "cell_type": "code",
   "execution_count": null,
   "metadata": {
    "colab": {},
    "colab_type": "code",
    "id": "M6-xn3zCrSEo"
   },
   "outputs": [],
   "source": [
    "s1.add(s3, fill_value=0)"
   ]
  },
  {
   "cell_type": "code",
   "execution_count": null,
   "metadata": {
    "colab": {},
    "colab_type": "code",
    "id": "pm10Vwmz_PPo"
   },
   "outputs": [],
   "source": [
    "s1 = pd.Series([1, 2, 3, 4])\n",
    "s2 = pd.Series([40, 30, 20, 10])"
   ]
  },
  {
   "cell_type": "code",
   "execution_count": null,
   "metadata": {
    "colab": {},
    "colab_type": "code",
    "id": "oYEDzP6F_PYF"
   },
   "outputs": [],
   "source": [
    "s1"
   ]
  },
  {
   "cell_type": "code",
   "execution_count": null,
   "metadata": {
    "colab": {},
    "colab_type": "code",
    "id": "gDm9KaH4_bmt"
   },
   "outputs": [],
   "source": [
    "s2"
   ]
  },
  {
   "cell_type": "code",
   "execution_count": null,
   "metadata": {
    "colab": {},
    "colab_type": "code",
    "id": "j_3_Mf_h_PkE"
   },
   "outputs": [],
   "source": [
    "s1+s2"
   ]
  },
  {
   "cell_type": "markdown",
   "metadata": {
    "colab_type": "text",
    "id": "UWHSVgJSrNv-"
   },
   "source": [
    "### DataFrame\n",
    "* index, column을 기준으로 연산 \n",
    "* 짝이 맞지 않는 인덱스가 있는 경우 outer join과 유사하게 동작\n",
    "* 짝이 맞지 않는 인덱스가 있는 경우, 없는 값을 기본값을 지정해주고 싶은 경우 메서드의 옵션 fill_value사용 "
   ]
  },
  {
   "cell_type": "markdown",
   "metadata": {
    "colab_type": "text",
    "id": "Gqw6R0FdjLbB"
   },
   "source": [
    "|메서드|설명|\n",
    "|---|---|\n",
    "|add, radd|덧셈(+)을 위한 메서드|\n",
    "|sub, rsub|뺄셈(-)을 위한 메서드|\n",
    "|mul, rmul|곱셈(*)을 위한 메서드|\n",
    "|div, rdiv|나눗셈(/)을 위한 메서드 |\n",
    "|pow, rpow|멱승(**)을 위한 메서드 |\n",
    "|floordiv, rfloordiv|소수점 내림(//)을 위한 메서드 |"
   ]
  },
  {
   "cell_type": "code",
   "execution_count": null,
   "metadata": {
    "colab": {},
    "colab_type": "code",
    "id": "KUU2J4cFpfV_"
   },
   "outputs": [],
   "source": [
    "d1 = pd.DataFrame(np.ones((3,2))*100, \n",
    "                  index=['id001', 'id002', 'id003'], columns =['c1', 'c2'])\n",
    "d1"
   ]
  },
  {
   "cell_type": "code",
   "execution_count": null,
   "metadata": {
    "colab": {},
    "colab_type": "code",
    "id": "M_9OycO9pkhG"
   },
   "outputs": [],
   "source": [
    "d2 = pd.DataFrame(np.arange(6).reshape(3, 2)*200,\n",
    "                  index=['id002', 'id003', 'id004'], columns =['c2', 'c3'])\n",
    "d2"
   ]
  },
  {
   "cell_type": "code",
   "execution_count": null,
   "metadata": {
    "colab": {},
    "colab_type": "code",
    "id": "gJ_0aVHApkko"
   },
   "outputs": [],
   "source": [
    "d1 + d2 "
   ]
  },
  {
   "cell_type": "code",
   "execution_count": null,
   "metadata": {
    "colab": {},
    "colab_type": "code",
    "id": "jJHg8F6Tpko6"
   },
   "outputs": [],
   "source": [
    "# (id001, c3), (id004, c1)\n",
    "d1.add(d2, fill_value=0)"
   ]
  },
  {
   "cell_type": "markdown",
   "metadata": {
    "colab_type": "text",
    "id": "4L82EO7KtBCD"
   },
   "source": [
    "### 기타"
   ]
  },
  {
   "cell_type": "code",
   "execution_count": null,
   "metadata": {
    "colab": {},
    "colab_type": "code",
    "id": "DVQBNjoNvExY"
   },
   "outputs": [],
   "source": [
    "d3 = pd.DataFrame(np.arange(0,60,10).reshape(2,3), columns = list('abc'))\n",
    "d3"
   ]
  },
  {
   "cell_type": "code",
   "execution_count": null,
   "metadata": {
    "colab": {},
    "colab_type": "code",
    "id": "Kb_roVeOKCUP"
   },
   "outputs": [],
   "source": [
    "# dataframe + scalar\n",
    "d3.div(10)"
   ]
  },
  {
   "cell_type": "code",
   "execution_count": null,
   "metadata": {
    "colab": {},
    "colab_type": "code",
    "id": "Iq-0WrpnKCXw"
   },
   "outputs": [],
   "source": [
    "d3.rdiv(10)"
   ]
  },
  {
   "cell_type": "markdown",
   "metadata": {
    "colab_type": "text",
    "id": "kjuz6Pt4v0Ay"
   },
   "source": [
    "DataFrame과 Series 간의 연산  \n",
    "Series의 색인을 DataFrame의 컬럼에 맞추고 아래 로우로 전파함."
   ]
  },
  {
   "cell_type": "code",
   "execution_count": null,
   "metadata": {
    "colab": {},
    "colab_type": "code",
    "id": "Ru4IW7OKvzUg"
   },
   "outputs": [],
   "source": [
    "frame = pd.DataFrame(np.ones((3,3)), dtype=int, columns = list('abc'))\n",
    "frame"
   ]
  },
  {
   "cell_type": "code",
   "execution_count": null,
   "metadata": {
    "colab": {},
    "colab_type": "code",
    "id": "3Tdv50fjvwAJ"
   },
   "outputs": [],
   "source": [
    "series = pd.Series([100, 200, 300], index = list('abc'))\n",
    "series"
   ]
  },
  {
   "cell_type": "code",
   "execution_count": null,
   "metadata": {
    "colab": {},
    "colab_type": "code",
    "id": "zitelnpLvwD5"
   },
   "outputs": [],
   "source": [
    "frame + series"
   ]
  },
  {
   "cell_type": "markdown",
   "metadata": {
    "colab_type": "text",
    "id": "nJlxe00E1Pw7"
   },
   "source": [
    "row에 대해 연산을 수행하고 싶다면 산술 연산 메서드를 사용  \n",
    "- axis = 'index'  \n",
    "- axis = 0 "
   ]
  },
  {
   "cell_type": "code",
   "execution_count": null,
   "metadata": {
    "colab": {},
    "colab_type": "code",
    "id": "0-NPinVSVddE"
   },
   "outputs": [],
   "source": [
    "frame"
   ]
  },
  {
   "cell_type": "code",
   "execution_count": null,
   "metadata": {
    "colab": {},
    "colab_type": "code",
    "id": "TwUmDZ9dHQZO"
   },
   "outputs": [],
   "source": [
    "series3 =pd.Series([100, 200, 300])\n",
    "series3"
   ]
  },
  {
   "cell_type": "code",
   "execution_count": null,
   "metadata": {
    "colab": {},
    "colab_type": "code",
    "id": "DbKFGbJYHQYq"
   },
   "outputs": [],
   "source": [
    "frame.add(series3, axis=0)  "
   ]
  },
  {
   "cell_type": "markdown",
   "metadata": {
    "colab_type": "text",
    "id": "gZqVFcPsD4e9"
   },
   "source": [
    "## 기술 통계 계산과 요약"
   ]
  },
  {
   "cell_type": "markdown",
   "metadata": {
    "colab_type": "text",
    "id": "jn_3JR0SJ-Yl"
   },
   "source": [
    "### 요약 통계\n"
   ]
  },
  {
   "cell_type": "markdown",
   "metadata": {
    "colab_type": "text",
    "id": "-UAZmsFCTJ3B"
   },
   "source": [
    "|메서드|설명|\n",
    "|---|---|\n",
    "|describe|series나 dataframe의 각 컬럼에 대한 요약 통계|\n",
    "|count| na 값을 제외한 값의 개수를 반환|\n",
    "|min, max| 최소값, 최대값|\n",
    "|argmin, argmax|최소값, 최대값을 가진 색인의 위치(정수)를 반환|\n",
    "|idxmin, idxmax|최소값, 최대값을 가진 색인의 값을 반환|\n",
    "|sum|합|\n",
    "|mean, median|평균, 중앙값|\n",
    "|var, std|분산, 표준편차|\n",
    "\n",
    "* pandas 객체의 기술 통계는 누락된 데이터를 배제하고 처리함.\n"
   ]
  },
  {
   "cell_type": "code",
   "execution_count": null,
   "metadata": {
    "colab": {},
    "colab_type": "code",
    "id": "GmeYWaEF7G4r"
   },
   "outputs": [],
   "source": [
    "frame = pd.DataFrame([[10, 4, 'a'], [10, 2.5, 'b'], [np.nan, 10, 'a']], \n",
    "                     index=['i1', 'i2', 'i3'],\n",
    "                      columns=['c1', 'c2', 'c3'])\n",
    "frame"
   ]
  },
  {
   "cell_type": "code",
   "execution_count": null,
   "metadata": {
    "colab": {},
    "colab_type": "code",
    "id": "DlFHVMpe7G9V"
   },
   "outputs": [],
   "source": [
    "frame.describe()"
   ]
  },
  {
   "cell_type": "code",
   "execution_count": null,
   "metadata": {
    "colab": {},
    "colab_type": "code",
    "id": "neoTnBFrg9Ep"
   },
   "outputs": [],
   "source": [
    "frame.describe(include='object')"
   ]
  },
  {
   "cell_type": "code",
   "execution_count": null,
   "metadata": {
    "colab": {},
    "colab_type": "code",
    "id": "KiiuX4aiGDPt"
   },
   "outputs": [],
   "source": [
    "frame.max()"
   ]
  },
  {
   "cell_type": "code",
   "execution_count": null,
   "metadata": {
    "colab": {},
    "colab_type": "code",
    "id": "YSd9_DaIGDSf"
   },
   "outputs": [],
   "source": [
    "frame.min(axis=1)"
   ]
  },
  {
   "cell_type": "code",
   "execution_count": null,
   "metadata": {
    "colab": {},
    "colab_type": "code",
    "id": "z_qyF7vEGDVD"
   },
   "outputs": [],
   "source": [
    "frame.sum()"
   ]
  },
  {
   "cell_type": "markdown",
   "metadata": {
    "colab_type": "text",
    "id": "4JzgnVaCp36k"
   },
   "source": [
    "### cov, corr"
   ]
  },
  {
   "cell_type": "code",
   "execution_count": null,
   "metadata": {
    "colab": {},
    "colab_type": "code",
    "id": "LqxvCdWdGDXf"
   },
   "outputs": [],
   "source": [
    "stock.head(3)"
   ]
  },
  {
   "cell_type": "code",
   "execution_count": null,
   "metadata": {
    "colab": {},
    "colab_type": "code",
    "id": "idOoa7cBGJ7H"
   },
   "outputs": [],
   "source": [
    "stock.cov()"
   ]
  },
  {
   "cell_type": "code",
   "execution_count": null,
   "metadata": {
    "colab": {},
    "colab_type": "code",
    "id": "CNkVWWmcGDUZ"
   },
   "outputs": [],
   "source": [
    "stock.corr()"
   ]
  },
  {
   "cell_type": "code",
   "execution_count": null,
   "metadata": {
    "colab": {},
    "colab_type": "code",
    "id": "YggcKGV4GDaV"
   },
   "outputs": [],
   "source": [
    "stock['kospi'].corr(stock['Bond_273130'])"
   ]
  },
  {
   "cell_type": "markdown",
   "metadata": {
    "colab_type": "text",
    "id": "2h0Peyk07yLf"
   },
   "source": [
    "### unique, value_counts"
   ]
  },
  {
   "cell_type": "markdown",
   "metadata": {
    "colab_type": "text",
    "id": "PUV0dsMh_QPw"
   },
   "source": [
    "|메서드|설명|\n",
    "|---|---|\n",
    "|unique|series에서 중복되는 값을 제외하고 유일값만 포함하는 배열을 반환.|\n",
    "|value_conuts|series에서 유일값에 대한 색인과 도수를 계산|"
   ]
  },
  {
   "cell_type": "code",
   "execution_count": null,
   "metadata": {
    "colab": {},
    "colab_type": "code",
    "id": "EcVlWbVY79VR"
   },
   "outputs": [],
   "source": [
    "obj = pd.Series([2, 1, 3, 3, 1, 5, np.nan, 1, 2])\n",
    "obj"
   ]
  },
  {
   "cell_type": "code",
   "execution_count": null,
   "metadata": {
    "colab": {},
    "colab_type": "code",
    "id": "o8rixTkK_0Az"
   },
   "outputs": [],
   "source": [
    "obj.unique()"
   ]
  },
  {
   "cell_type": "code",
   "execution_count": null,
   "metadata": {
    "colab": {},
    "colab_type": "code",
    "id": "fXnRul6z_3o3"
   },
   "outputs": [],
   "source": [
    "obj.value_counts()"
   ]
  },
  {
   "cell_type": "code",
   "execution_count": null,
   "metadata": {
    "colab": {},
    "colab_type": "code",
    "id": "hHyKQKpshlfD"
   },
   "outputs": [],
   "source": [
    "# normalize\n",
    "obj.value_counts(normalize=True)"
   ]
  },
  {
   "cell_type": "code",
   "execution_count": null,
   "metadata": {
    "colab": {},
    "colab_type": "code",
    "id": "7pEqmiF7_M5K"
   },
   "outputs": [],
   "source": [
    "obj = pd.Series(list('abcabcaaa')+[None])\n",
    "obj"
   ]
  },
  {
   "cell_type": "code",
   "execution_count": null,
   "metadata": {
    "colab": {},
    "colab_type": "code",
    "id": "Mb4H0kFbAhHe"
   },
   "outputs": [],
   "source": [
    "obj.unique()"
   ]
  },
  {
   "cell_type": "code",
   "execution_count": null,
   "metadata": {
    "colab": {},
    "colab_type": "code",
    "id": "15rn9SWW_lJ6"
   },
   "outputs": [],
   "source": [
    "obj.value_counts()"
   ]
  },
  {
   "cell_type": "code",
   "execution_count": null,
   "metadata": {
    "colab": {},
    "colab_type": "code",
    "id": "K4dnf-a5yyF-"
   },
   "outputs": [],
   "source": [
    "data = pd.DataFrame({'c1': ['a', 'a', 'b', 'a'], 'c2':['b', None, 'b','b'], 'c3':['a', 'b', 'a', 1]})\n",
    "data\n"
   ]
  },
  {
   "cell_type": "code",
   "execution_count": null,
   "metadata": {
    "colab": {},
    "colab_type": "code",
    "id": "Ke1JcmxQAvVj"
   },
   "outputs": [],
   "source": [
    "data.apply(pd.value_counts)  # unique(), value_counts() 는 series에만 적용 가능(dataframe 말고)"
   ]
  },
  {
   "cell_type": "markdown",
   "metadata": {
    "colab_type": "text",
    "id": "3M1xsMe32L0J"
   },
   "source": [
    "## 함수 적용과 매핑 apply, applymap, map"
   ]
  },
  {
   "cell_type": "markdown",
   "metadata": {
    "colab_type": "text",
    "id": "TiLDaOFH2N1m"
   },
   "source": [
    "\n",
    "### Series\n",
    "* **Series.map**: element 별로 함수 적용. \n",
    "*  **Series.apply**: element 별로 함수 적용. map 보다 더 복잡한 함수 사용 가능.\n"
   ]
  },
  {
   "cell_type": "code",
   "execution_count": null,
   "metadata": {
    "colab": {},
    "colab_type": "code",
    "id": "R1No9BqAKCoa"
   },
   "outputs": [],
   "source": [
    "series = pd.Series(np.arange(1, 4, 1)*100)\n",
    "series"
   ]
  },
  {
   "cell_type": "code",
   "execution_count": null,
   "metadata": {
    "colab": {},
    "colab_type": "code",
    "id": "9BNHQ7QP2hHb"
   },
   "outputs": [],
   "source": [
    "series.map('${}'.format)"
   ]
  },
  {
   "cell_type": "code",
   "execution_count": null,
   "metadata": {
    "colab": {},
    "colab_type": "code",
    "id": "S-l5u2M9GcyA"
   },
   "outputs": [],
   "source": [
    "series.map('{}달러'.format)"
   ]
  },
  {
   "cell_type": "code",
   "execution_count": null,
   "metadata": {
    "colab": {},
    "colab_type": "code",
    "id": "BPpywHTMKCmf"
   },
   "outputs": [],
   "source": [
    "# lambda\n",
    "f = lambda x: np.add(x, 3)\n",
    "series.map(f)"
   ]
  },
  {
   "cell_type": "code",
   "execution_count": null,
   "metadata": {
    "colab": {},
    "colab_type": "code",
    "id": "DDTNgxsCszOE"
   },
   "outputs": [],
   "source": [
    "series.map({100:'C', 200:'B', 300:'A'})"
   ]
  },
  {
   "cell_type": "code",
   "execution_count": null,
   "metadata": {
    "colab": {},
    "colab_type": "code",
    "id": "MRdZLfBCHLmF"
   },
   "outputs": [],
   "source": [
    "s = pd.Series([20, 21, 12], index=['London', 'New York', 'Helsinki'])\n",
    "s"
   ]
  },
  {
   "cell_type": "code",
   "execution_count": null,
   "metadata": {
    "colab": {},
    "colab_type": "code",
    "id": "GNMff2SRKCap"
   },
   "outputs": [],
   "source": [
    "def add_custom_values(x, **kwargs):\n",
    "    for month in kwargs:\n",
    "        x += kwargs[month]\n",
    "    return x"
   ]
  },
  {
   "cell_type": "code",
   "execution_count": null,
   "metadata": {
    "colab": {},
    "colab_type": "code",
    "id": "bKEeZBwXuJyU"
   },
   "outputs": [],
   "source": [
    "s.apply(add_custom_values, june=30) #, july=20, august=25"
   ]
  },
  {
   "cell_type": "code",
   "execution_count": null,
   "metadata": {
    "colab": {},
    "colab_type": "code",
    "id": "F26qoYAlJr3J"
   },
   "outputs": [],
   "source": [
    "s = pd.Series(['a001', 'b004', 'a002', 'c002', 'b003'])"
   ]
  },
  {
   "cell_type": "markdown",
   "metadata": {
    "colab_type": "text",
    "id": "WpeMdnHx2Dya"
   },
   "source": [
    "### DataFrame \n",
    "* **DataFrame.applymap**: element 별로 함수 적용.\n",
    "* **DataFrame.apply**: 축 별로 함수 적용."
   ]
  },
  {
   "cell_type": "code",
   "execution_count": null,
   "metadata": {
    "colab": {},
    "colab_type": "code",
    "id": "1X5ZEbP5K7UY"
   },
   "outputs": [],
   "source": [
    "frame = pd.DataFrame(np.arange(12).reshape(3, 4), dtype=int, columns = list('abcd'))\n",
    "frame"
   ]
  },
  {
   "cell_type": "code",
   "execution_count": null,
   "metadata": {
    "colab": {},
    "colab_type": "code",
    "id": "EcBv8VgNvwJ0"
   },
   "outputs": [],
   "source": [
    "f = lambda x: x.max()-x.min()\n",
    "frame.apply(f)"
   ]
  },
  {
   "cell_type": "code",
   "execution_count": null,
   "metadata": {
    "colab": {},
    "colab_type": "code",
    "id": "KfVltkitvv9t"
   },
   "outputs": [],
   "source": [
    "frame.apply(f, axis=1)"
   ]
  },
  {
   "cell_type": "code",
   "execution_count": null,
   "metadata": {
    "colab": {},
    "colab_type": "code",
    "id": "FKOhsaaFKCiK"
   },
   "outputs": [],
   "source": [
    "f = lambda x: x**2\n",
    "frame.applymap(f)"
   ]
  },
  {
   "cell_type": "markdown",
   "metadata": {
    "colab_type": "text",
    "id": "GEYNCMJsKAn7"
   },
   "source": [
    "## 정렬 "
   ]
  },
  {
   "cell_type": "markdown",
   "metadata": {
    "colab_type": "text",
    "id": "EH8N5CbM2eIH"
   },
   "source": [
    "### Series 정렬"
   ]
  },
  {
   "cell_type": "markdown",
   "metadata": {
    "colab_type": "text",
    "id": "CUaz90vf04aE"
   },
   "source": [
    "* Series.sort_index : index를 기준으로 정렬\n",
    "* Series.sort_values: values를 기준으로 정렬"
   ]
  },
  {
   "cell_type": "code",
   "execution_count": null,
   "metadata": {
    "colab": {},
    "colab_type": "code",
    "id": "6DNBohdNKBO_"
   },
   "outputs": [],
   "source": [
    "obj = pd.Series([1,2,3,-1,-2], index=list('adebc'))"
   ]
  },
  {
   "cell_type": "code",
   "execution_count": null,
   "metadata": {
    "colab": {},
    "colab_type": "code",
    "id": "mn-xxFETKBTf"
   },
   "outputs": [],
   "source": [
    "obj"
   ]
  },
  {
   "cell_type": "code",
   "execution_count": null,
   "metadata": {
    "colab": {},
    "colab_type": "code",
    "id": "LndcgCuxKBVp"
   },
   "outputs": [],
   "source": [
    "obj.sort_index()"
   ]
  },
  {
   "cell_type": "markdown",
   "metadata": {
    "colab_type": "text",
    "id": "JSFfVGez01Gs"
   },
   "source": [
    "내림차순 ascending=False"
   ]
  },
  {
   "cell_type": "code",
   "execution_count": null,
   "metadata": {
    "colab": {},
    "colab_type": "code",
    "id": "4q0Gj23PKBZf"
   },
   "outputs": [],
   "source": [
    "obj.sort_index(ascending=False)"
   ]
  },
  {
   "cell_type": "code",
   "execution_count": null,
   "metadata": {
    "colab": {},
    "colab_type": "code",
    "id": "WcZLyxKTKBcJ"
   },
   "outputs": [],
   "source": [
    "obj.sort_values()"
   ]
  },
  {
   "cell_type": "markdown",
   "metadata": {
    "colab_type": "text",
    "id": "Fb8mkB5M2PDq"
   },
   "source": [
    "* 정렬할 때 비어 있는 값은 기본적으로 가장 마지막에 위치  \n",
    "na_position = {‘first’, ‘last’} 옵션으로 조절"
   ]
  },
  {
   "cell_type": "code",
   "execution_count": null,
   "metadata": {
    "colab": {},
    "colab_type": "code",
    "id": "LXNKRZQK1_Hr"
   },
   "outputs": [],
   "source": [
    "obj = pd.Series([10, np.nan, 20, 0, np.nan])"
   ]
  },
  {
   "cell_type": "code",
   "execution_count": null,
   "metadata": {
    "colab": {},
    "colab_type": "code",
    "id": "lKmpltKN2I67"
   },
   "outputs": [],
   "source": [
    "obj.sort_values()"
   ]
  },
  {
   "cell_type": "code",
   "execution_count": null,
   "metadata": {
    "colab": {},
    "colab_type": "code",
    "id": "WnjBJqG2KBeM"
   },
   "outputs": [],
   "source": [
    "obj.sort_values(ascending=False)"
   ]
  },
  {
   "cell_type": "code",
   "execution_count": null,
   "metadata": {
    "colab": {},
    "colab_type": "code",
    "id": "hdjtKv0Cc1n9"
   },
   "outputs": [],
   "source": [
    "obj.sort_values(na_position='first')"
   ]
  },
  {
   "cell_type": "markdown",
   "metadata": {
    "colab_type": "text",
    "id": "34EoGB1N2rsj"
   },
   "source": [
    "### DataFrame 정렬"
   ]
  },
  {
   "cell_type": "markdown",
   "metadata": {
    "colab_type": "text",
    "id": "EJSozb8F2wPk"
   },
   "source": [
    "* DataFrame.sort_index: index를 기준으로 정렬\n",
    "* DataFrame.sort_values: values를 기준으로 정렬\n"
   ]
  },
  {
   "cell_type": "code",
   "execution_count": null,
   "metadata": {
    "colab": {},
    "colab_type": "code",
    "id": "b8zzD9p92rAl"
   },
   "outputs": [],
   "source": [
    "frame = pd.DataFrame(np.arange(9).reshape(3,3), index = list('acb'), columns = list('edf'))\n",
    "frame"
   ]
  },
  {
   "cell_type": "code",
   "execution_count": null,
   "metadata": {
    "colab": {},
    "colab_type": "code",
    "id": "Q6UpCfCXKBjk"
   },
   "outputs": [],
   "source": [
    "frame.sort_index()"
   ]
  },
  {
   "cell_type": "code",
   "execution_count": null,
   "metadata": {
    "colab": {},
    "colab_type": "code",
    "id": "NYUyiMddKBnz"
   },
   "outputs": [],
   "source": [
    "frame.sort_index(axis=1)"
   ]
  },
  {
   "cell_type": "code",
   "execution_count": null,
   "metadata": {
    "colab": {},
    "colab_type": "code",
    "id": "he6I1nH9KBqa"
   },
   "outputs": [],
   "source": [
    "frame = pd.DataFrame({'a': [5, 4, 10, 10, 8], 'b': [2, 0, 3, 1, 4] })\n",
    "frame"
   ]
  },
  {
   "cell_type": "code",
   "execution_count": null,
   "metadata": {
    "colab": {},
    "colab_type": "code",
    "id": "1AzZUbgAKBh3"
   },
   "outputs": [],
   "source": [
    "frame.sort_values(by='a', ascending = False)"
   ]
  },
  {
   "cell_type": "code",
   "execution_count": null,
   "metadata": {
    "colab": {},
    "colab_type": "code",
    "id": "SAMUqGLRKBNp"
   },
   "outputs": [],
   "source": [
    "frame.sort_values(by=['a', 'b'], ascending = [False, True])"
   ]
  },
  {
   "cell_type": "markdown",
   "metadata": {
    "colab_type": "text",
    "id": "KsRwOU7CGSgP"
   },
   "source": [
    "# 데이터 정제, 준비"
   ]
  },
  {
   "cell_type": "markdown",
   "metadata": {
    "colab_type": "text",
    "id": "0tx_bcV8KAjg"
   },
   "source": [
    "## 데이터 삭제 drop\n",
    "row, column 삭제하기"
   ]
  },
  {
   "cell_type": "markdown",
   "metadata": {
    "colab_type": "text",
    "id": "UYmaZ095SMrv"
   },
   "source": [
    ".drop() \n"
   ]
  },
  {
   "cell_type": "code",
   "execution_count": null,
   "metadata": {
    "colab": {},
    "colab_type": "code",
    "id": "To_rjxnOKFST"
   },
   "outputs": [],
   "source": [
    "frame = pd.DataFrame(np.arange(16).reshape(4,4), \n",
    "                         columns = ['c1', 'c2', 'c3', 'c4'],\n",
    "                         index = ['r1', 'r2', 'r3','r4'])\n",
    "frame"
   ]
  },
  {
   "cell_type": "code",
   "execution_count": null,
   "metadata": {
    "colab": {},
    "colab_type": "code",
    "id": "KtJqiGfnmz1E"
   },
   "outputs": [],
   "source": [
    "frame.drop('r1')"
   ]
  },
  {
   "cell_type": "code",
   "execution_count": null,
   "metadata": {
    "colab": {},
    "colab_type": "code",
    "id": "7meBGzouNvM4"
   },
   "outputs": [],
   "source": [
    "frame.drop('c2', axis = 1)"
   ]
  },
  {
   "cell_type": "code",
   "execution_count": null,
   "metadata": {
    "colab": {},
    "colab_type": "code",
    "id": "WsyjfE3QNvLn"
   },
   "outputs": [],
   "source": [
    "frame.drop(columns=['c3', 'c4'])"
   ]
  },
  {
   "cell_type": "code",
   "execution_count": null,
   "metadata": {
    "colab": {},
    "colab_type": "code",
    "id": "llc7RkTeNvFa"
   },
   "outputs": [],
   "source": [
    "# inplace\n",
    "frame.drop(['r2'], inplace=True)\n",
    "frame"
   ]
  },
  {
   "cell_type": "code",
   "execution_count": null,
   "metadata": {
    "colab": {},
    "colab_type": "code",
    "id": "SmAAJbWtqBQk"
   },
   "outputs": [],
   "source": [
    "# 할당 \n",
    "frame = frame.drop(['r3'])\n",
    "frame"
   ]
  },
  {
   "cell_type": "markdown",
   "metadata": {
    "colab_type": "text",
    "id": "fom0FKELx04A"
   },
   "source": [
    "## 데이터 병합 concat, merge\n"
   ]
  },
  {
   "cell_type": "markdown",
   "metadata": {
    "colab_type": "text",
    "id": "ZZIewlU82kZA"
   },
   "source": [
    "### concat"
   ]
  },
  {
   "cell_type": "code",
   "execution_count": null,
   "metadata": {
    "colab": {},
    "colab_type": "code",
    "id": "MN3f4mJE2j2T"
   },
   "outputs": [],
   "source": [
    "s1 = pd.Series([100, 200], index=['c', 'b'])\n",
    "s2 = pd.Series([300, 300, 300], index=['c', 'd', 'e'])\n",
    "s3 = pd.Series([500, 600], index=['f', 'g'])"
   ]
  },
  {
   "cell_type": "code",
   "execution_count": null,
   "metadata": {
    "colab": {},
    "colab_type": "code",
    "id": "DvTsHQaf8tU_"
   },
   "outputs": [],
   "source": [
    "pd.concat([s1, s2, s3])"
   ]
  },
  {
   "cell_type": "code",
   "execution_count": null,
   "metadata": {
    "colab": {},
    "colab_type": "code",
    "id": "GQfBri2q8sZd"
   },
   "outputs": [],
   "source": [
    "pd.concat([s1, s2], axis=1)"
   ]
  },
  {
   "cell_type": "code",
   "execution_count": null,
   "metadata": {
    "colab": {},
    "colab_type": "code",
    "id": "Y_z0tJ_E8scl"
   },
   "outputs": [],
   "source": [
    "data1 = pd.DataFrame({'id': ['01', '02', '03', '04', '05', '06'], 'col1': np.random.randint(0, 50, 6), 'col2':np.random.randint(1000, 2000, 6)})\n",
    "data2 = pd.DataFrame({'id': ['04', '05', '06', '07'], 'col1': np.random.randint(1000, 5000, 4)})"
   ]
  },
  {
   "cell_type": "code",
   "execution_count": null,
   "metadata": {
    "colab": {},
    "colab_type": "code",
    "id": "EX02dd_D8sfl"
   },
   "outputs": [],
   "source": [
    "pd.concat([data1, data2])"
   ]
  },
  {
   "cell_type": "code",
   "execution_count": null,
   "metadata": {
    "colab": {},
    "colab_type": "code",
    "id": "wByWVx0m8siZ"
   },
   "outputs": [],
   "source": [
    "pd.concat([data1, data2], axis=1)"
   ]
  },
  {
   "cell_type": "markdown",
   "metadata": {
    "colab_type": "text",
    "id": "HNP_vqIawYvT"
   },
   "source": [
    "### merge"
   ]
  },
  {
   "cell_type": "markdown",
   "metadata": {
    "colab_type": "text",
    "id": "LE2ApKLLw2jM"
   },
   "source": [
    "keys를 이용해 데이터의 row를 연결시켜 합침.\n",
    "(sql의 join과 유사)\n",
    "\n",
    "* 인자\n",
    "    - how: {‘left’, ‘right’, ‘outer’, ‘inner’}, default ‘inner’"
   ]
  },
  {
   "cell_type": "code",
   "execution_count": null,
   "metadata": {
    "colab": {},
    "colab_type": "code",
    "id": "LL_4NSIwQish"
   },
   "outputs": [],
   "source": [
    "data1 = pd.DataFrame({'id': ['01', '02', '03', '04', '05', '06'], 'col1': np.random.randint(0, 50, 6), 'col2':np.random.randint(1000, 2000, 6)})\n",
    "data1"
   ]
  },
  {
   "cell_type": "code",
   "execution_count": null,
   "metadata": {
    "colab": {},
    "colab_type": "code",
    "id": "cHxKEPjmQivT"
   },
   "outputs": [],
   "source": [
    "data2 = pd.DataFrame({'id': ['04', '05', '06', '07'], 'col1': np.random.randint(1000, 5000, 4)})\n",
    "data2"
   ]
  },
  {
   "cell_type": "code",
   "execution_count": null,
   "metadata": {
    "colab": {},
    "colab_type": "code",
    "id": "4XAqUqxnyQhE"
   },
   "outputs": [],
   "source": [
    "#inner join\n",
    "pd.merge(data1, data2, on='id')  "
   ]
  },
  {
   "cell_type": "code",
   "execution_count": null,
   "metadata": {
    "colab": {},
    "colab_type": "code",
    "id": "F-PQLOKiyQkN"
   },
   "outputs": [],
   "source": [
    "#left join\n",
    "pd.merge(data1, data2, on='id', how='left')  "
   ]
  },
  {
   "cell_type": "code",
   "execution_count": null,
   "metadata": {
    "colab": {},
    "colab_type": "code",
    "id": "3uYLKEW2yQni"
   },
   "outputs": [],
   "source": [
    "# outer join\n",
    "pd.merge(data1, data2, on='id', how='outer')"
   ]
  },
  {
   "cell_type": "code",
   "execution_count": null,
   "metadata": {
    "colab": {},
    "colab_type": "code",
    "id": "y3AXA7xoyQqi"
   },
   "outputs": [],
   "source": [
    "# key 다를 경우\n",
    "data1 = pd.DataFrame({'lkey': ['a', 'b', 'c', 'd'], 'value': [1, 2, 3, 5]})\n",
    "data2 = pd.DataFrame({'rkey': ['d', 'e', 'a', 'c'], 'value': [5, 6, 7, 8]})\n",
    "\n",
    "pd.merge(data1, data2, left_on='lkey', right_on='rkey')"
   ]
  },
  {
   "cell_type": "markdown",
   "metadata": {
    "colab_type": "text",
    "id": "dBzwKPtDGmPW"
   },
   "source": [
    "## missing data 처리"
   ]
  },
  {
   "cell_type": "markdown",
   "metadata": {
    "colab_type": "text",
    "id": "nopd141tCGkd"
   },
   "source": [
    "|인자|설명|\n",
    "|---|---|\n",
    "|isnull|누락되거나 NA(not available) 값을 알려주는 불리언 값들이 저장된 객체를 반환|\n",
    "|notnull|isnull과 반대되는 메서드|\n",
    "|fillna|누락된 데이터에 값을 채우는 메서드. (특정한 값이나 ffill, bfill 같은 보간 메서드 적용)|\n",
    "|dropna|누락된 데이터가 있는 축(로우, 컬럼)을 제외시키는 메서드|"
   ]
  },
  {
   "cell_type": "code",
   "execution_count": null,
   "metadata": {
    "colab": {},
    "colab_type": "code",
    "id": "c5IC03QG7G73"
   },
   "outputs": [],
   "source": [
    "obj = pd.Series(['apple', 'mango', np.nan, None, 'peach'])"
   ]
  },
  {
   "cell_type": "code",
   "execution_count": null,
   "metadata": {
    "colab": {},
    "colab_type": "code",
    "id": "USQGvrR0GarX"
   },
   "outputs": [],
   "source": [
    "obj.isnull()"
   ]
  },
  {
   "cell_type": "code",
   "execution_count": null,
   "metadata": {
    "colab": {},
    "colab_type": "code",
    "id": "ZtVrFk69GauL"
   },
   "outputs": [],
   "source": [
    "obj.notnull()"
   ]
  },
  {
   "cell_type": "code",
   "execution_count": null,
   "metadata": {
    "colab": {},
    "colab_type": "code",
    "id": "pyPMc1suGaxN"
   },
   "outputs": [],
   "source": [
    "obj.dropna()"
   ]
  },
  {
   "cell_type": "code",
   "execution_count": null,
   "metadata": {
    "colab": {},
    "colab_type": "code",
    "id": "aWcui88SGdxC"
   },
   "outputs": [],
   "source": [
    "obj.fillna('-')"
   ]
  },
  {
   "cell_type": "code",
   "execution_count": null,
   "metadata": {
    "colab": {},
    "colab_type": "code",
    "id": "-GNlowl0Gd1L"
   },
   "outputs": [],
   "source": [
    "frame = pd.DataFrame([[np.nan, np.nan, np.nan, np.nan], [10, 5, 40, 6],\n",
    "                      [5, 2, 30, 8], [20, np.nan, 20, 6], [15, 3, 10, np.nan]],\n",
    "                     columns=['x1', 'x2', 'x3', 'y'])\n",
    "frame"
   ]
  },
  {
   "cell_type": "code",
   "execution_count": null,
   "metadata": {
    "colab": {},
    "colab_type": "code",
    "id": "KXOWnFXNGd5T"
   },
   "outputs": [],
   "source": [
    "frame.dropna() "
   ]
  },
  {
   "cell_type": "code",
   "execution_count": null,
   "metadata": {
    "colab": {},
    "colab_type": "code",
    "id": "wv9MgpxcH297"
   },
   "outputs": [],
   "source": [
    "# how\n",
    "frame.dropna(how='all')"
   ]
  },
  {
   "cell_type": "code",
   "execution_count": null,
   "metadata": {
    "colab": {},
    "colab_type": "code",
    "id": "Hvs2fPlVH3Cf"
   },
   "outputs": [],
   "source": [
    "frame.dropna(subset=['y'])"
   ]
  },
  {
   "cell_type": "code",
   "execution_count": null,
   "metadata": {
    "colab": {},
    "colab_type": "code",
    "id": "Q2VZrdjOH3F9"
   },
   "outputs": [],
   "source": [
    "frame['e'] = np.nan\n",
    "frame"
   ]
  },
  {
   "cell_type": "code",
   "execution_count": null,
   "metadata": {
    "colab": {},
    "colab_type": "code",
    "id": "Ywz16LFvH3JG"
   },
   "outputs": [],
   "source": [
    "# axis \n",
    "frame.dropna(axis=1, how='all')"
   ]
  },
  {
   "cell_type": "code",
   "execution_count": null,
   "metadata": {
    "colab": {},
    "colab_type": "code",
    "id": "5SiCl3VcH3QZ"
   },
   "outputs": [],
   "source": [
    "frame.fillna(0)"
   ]
  },
  {
   "cell_type": "code",
   "execution_count": null,
   "metadata": {
    "colab": {},
    "colab_type": "code",
    "id": "DHkV4XDfH3XF"
   },
   "outputs": [],
   "source": [
    "frame.fillna({'x1': 10, 'y':0})"
   ]
  },
  {
   "cell_type": "code",
   "execution_count": null,
   "metadata": {
    "colab": {},
    "colab_type": "code",
    "id": "qNV4V4wiCjY_"
   },
   "outputs": [],
   "source": [
    "frame"
   ]
  },
  {
   "cell_type": "code",
   "execution_count": null,
   "metadata": {
    "colab": {},
    "colab_type": "code",
    "id": "ewqBBxQEJ8e8"
   },
   "outputs": [],
   "source": [
    "# (4, y)\n",
    "frame.fillna(method='bfill')"
   ]
  },
  {
   "cell_type": "code",
   "execution_count": null,
   "metadata": {
    "colab": {},
    "colab_type": "code",
    "id": "nXweV5AJK11x"
   },
   "outputs": [],
   "source": [
    "# row1\n",
    "frame.fillna(method='ffill')"
   ]
  },
  {
   "cell_type": "code",
   "execution_count": null,
   "metadata": {
    "colab": {},
    "colab_type": "code",
    "id": "q_lYhcuPK146"
   },
   "outputs": [],
   "source": [
    "frame"
   ]
  },
  {
   "cell_type": "markdown",
   "metadata": {
    "colab_type": "text",
    "id": "coK0aZ5tGvmG"
   },
   "source": [
    "## 데이터 변형\n"
   ]
  },
  {
   "cell_type": "markdown",
   "metadata": {
    "colab_type": "text",
    "id": "MbI8oSsEF2yM"
   },
   "source": [
    "### 중복제거\n"
   ]
  },
  {
   "cell_type": "markdown",
   "metadata": {
    "colab_type": "text",
    "id": "Wyv9WBI8F4No"
   },
   "source": [
    "    - .duplicated() : 각 로우가 중복인지(True) 아닌지(False) 알려주는 불리언 series 반환 \n",
    "    - .drop_duplicates(): duplicated 배열이 False인 dataframe 반환"
   ]
  },
  {
   "cell_type": "code",
   "execution_count": null,
   "metadata": {
    "colab": {},
    "colab_type": "code",
    "id": "whARTkIpGazP"
   },
   "outputs": [],
   "source": [
    "data = pd.DataFrame({'id':['0001', '0002', '0003', '0001'], 'name': ['a', 'b', 'c', 'a']})\n",
    "data"
   ]
  },
  {
   "cell_type": "code",
   "execution_count": null,
   "metadata": {
    "colab": {},
    "colab_type": "code",
    "id": "Ko34Xu3XG7M6"
   },
   "outputs": [],
   "source": [
    "data.duplicated()"
   ]
  },
  {
   "cell_type": "code",
   "execution_count": null,
   "metadata": {
    "colab": {},
    "colab_type": "code",
    "id": "-nSB58vJG7Pm"
   },
   "outputs": [],
   "source": [
    "data.drop_duplicates()"
   ]
  },
  {
   "cell_type": "code",
   "execution_count": null,
   "metadata": {
    "colab": {},
    "colab_type": "code",
    "id": "XArZJuY5G7Rb"
   },
   "outputs": [],
   "source": [
    "data['phone'] = range(4)\n",
    "data"
   ]
  },
  {
   "cell_type": "code",
   "execution_count": null,
   "metadata": {
    "colab": {},
    "colab_type": "code",
    "id": "F8SO05HZG7WU"
   },
   "outputs": [],
   "source": [
    "data.drop_duplicates(subset=['id'], keep='last')"
   ]
  },
  {
   "cell_type": "markdown",
   "metadata": {
    "colab_type": "text",
    "id": "ufOEjl5SF8k9"
   },
   "source": [
    "### 값 치환하기"
   ]
  },
  {
   "cell_type": "markdown",
   "metadata": {
    "colab_type": "text",
    "id": "-sNoL0EHH3UW"
   },
   "source": [
    ".replace"
   ]
  },
  {
   "cell_type": "code",
   "execution_count": null,
   "metadata": {
    "colab": {},
    "colab_type": "code",
    "id": "LzDKCCR4G7YF"
   },
   "outputs": [],
   "source": [
    "obj = pd.Series([10, -999, 4, 5, 7, 'n'])"
   ]
  },
  {
   "cell_type": "code",
   "execution_count": null,
   "metadata": {
    "colab": {},
    "colab_type": "code",
    "id": "W0tWqPm8H-ao"
   },
   "outputs": [],
   "source": [
    "obj.replace(-999, np.nan)"
   ]
  },
  {
   "cell_type": "code",
   "execution_count": null,
   "metadata": {
    "colab": {},
    "colab_type": "code",
    "id": "7zQmvcNOH-do"
   },
   "outputs": [],
   "source": [
    "obj.replace([-999, 'n'], np.nan)"
   ]
  },
  {
   "cell_type": "markdown",
   "metadata": {
    "colab_type": "text",
    "id": "tPAKFxu8KXka"
   },
   "source": [
    "### binning"
   ]
  },
  {
   "cell_type": "code",
   "execution_count": null,
   "metadata": {
    "colab": {},
    "colab_type": "code",
    "id": "EjIY7t2hH-g5"
   },
   "outputs": [],
   "source": [
    "ages = [20, 35, 67, 39, 59, 44, 56, 77, 28, 20, 22, 80, 32, 46, 52, 19, 33, 5, 15, 50, 29, 21, 33, 48, 85, 80, 31, 10]"
   ]
  },
  {
   "cell_type": "code",
   "execution_count": null,
   "metadata": {
    "colab": {},
    "colab_type": "code",
    "id": "2U-rPlFAKz2Q"
   },
   "outputs": [],
   "source": [
    "bins = [0, 20, 40, 60, 100]"
   ]
  },
  {
   "cell_type": "code",
   "execution_count": null,
   "metadata": {
    "colab": {},
    "colab_type": "code",
    "id": "5U3jtzKoKz5b"
   },
   "outputs": [],
   "source": [
    "cuts = pd.cut(ages, bins)\n",
    "cuts"
   ]
  },
  {
   "cell_type": "code",
   "execution_count": null,
   "metadata": {
    "colab": {},
    "colab_type": "code",
    "id": "ySVpWJtsKz_g"
   },
   "outputs": [],
   "source": [
    "cuts.categories"
   ]
  },
  {
   "cell_type": "code",
   "execution_count": null,
   "metadata": {
    "colab": {},
    "colab_type": "code",
    "id": "NV7sL-smKz8T"
   },
   "outputs": [],
   "source": [
    "cuts.codes"
   ]
  },
  {
   "cell_type": "code",
   "execution_count": null,
   "metadata": {
    "colab": {},
    "colab_type": "code",
    "id": "Nw8Oef_eK0CC"
   },
   "outputs": [],
   "source": [
    "cuts.value_counts()"
   ]
  },
  {
   "cell_type": "code",
   "execution_count": null,
   "metadata": {
    "colab": {},
    "colab_type": "code",
    "id": "lNiSDWRGQZsJ"
   },
   "outputs": [],
   "source": [
    "group_names = ['10대 이하','20-30대','40-50대','60대 이상']\n",
    "pd.cut(ages, bins, labels=group_names)"
   ]
  },
  {
   "cell_type": "code",
   "execution_count": null,
   "metadata": {
    "colab": {},
    "colab_type": "code",
    "id": "DsKEgzQwRH-b"
   },
   "outputs": [],
   "source": [
    "# 구간을 균등한 길이로 나눔\n",
    "pd.cut(ages, 4, precision=1).value_counts() "
   ]
  },
  {
   "cell_type": "code",
   "execution_count": null,
   "metadata": {
    "colab": {},
    "colab_type": "code",
    "id": "tETig4LKSDEL"
   },
   "outputs": [],
   "source": [
    "# 개수들이 균등한 비율이 되도록 나눔\n",
    "pd.qcut(ages, 4).value_counts()"
   ]
  },
  {
   "cell_type": "markdown",
   "metadata": {
    "colab_type": "text",
    "id": "ve4kH7mo_AHo"
   },
   "source": [
    "### get_dummies\n",
    "명목형 변수의 경우 one-hot encoding을 해주는 경우가 있음.  \n"
   ]
  },
  {
   "cell_type": "code",
   "execution_count": null,
   "metadata": {
    "colab": {},
    "colab_type": "code",
    "id": "o5Oy1cbFF3vx"
   },
   "outputs": [],
   "source": [
    "df = pd.DataFrame({'col1': [10, 20, 30],\n",
    "                   'col2': ['a', 'b', 'a']})\n",
    "df"
   ]
  },
  {
   "cell_type": "code",
   "execution_count": null,
   "metadata": {
    "colab": {},
    "colab_type": "code",
    "id": "4hPYKW8NGFhp"
   },
   "outputs": [],
   "source": [
    "pd.get_dummies(df)"
   ]
  },
  {
   "cell_type": "code",
   "execution_count": null,
   "metadata": {
    "colab": {},
    "colab_type": "code",
    "id": "Dlb7Exww_Cci"
   },
   "outputs": [],
   "source": [
    "df = pd.DataFrame({'col1': ['001', '002', '003', '004', '005', '006'], \n",
    "                   'col2': [10, 20, 30, 40, 50, 60],\n",
    "                   'col3': ['서울시', '경기도', '서울시', '제주도', '경기도', '서울시']})\n",
    "df"
   ]
  },
  {
   "cell_type": "code",
   "execution_count": null,
   "metadata": {
    "colab": {},
    "colab_type": "code",
    "id": "qpG10pDB_Cqp"
   },
   "outputs": [],
   "source": [
    "pd.get_dummies(df)"
   ]
  },
  {
   "cell_type": "code",
   "execution_count": null,
   "metadata": {
    "colab": {},
    "colab_type": "code",
    "id": "0GnJEIb7_CWG"
   },
   "outputs": [],
   "source": [
    "pd.get_dummies(df, columns=['col3'])"
   ]
  },
  {
   "cell_type": "code",
   "execution_count": null,
   "metadata": {
    "colab": {},
    "colab_type": "code",
    "id": "sXUpb3JuFV4s"
   },
   "outputs": [],
   "source": [
    "pd.get_dummies(df, columns=['col3'], prefix=['state'])"
   ]
  },
  {
   "cell_type": "code",
   "execution_count": null,
   "metadata": {
    "colab": {},
    "colab_type": "code",
    "id": "aUG2u3DmFjm7"
   },
   "outputs": [],
   "source": [
    "movie_2019.head(2)"
   ]
  },
  {
   "cell_type": "markdown",
   "metadata": {
    "colab_type": "text",
    "id": "Mqnr3H3IG8nG"
   },
   "source": [
    "## groupby"
   ]
  },
  {
   "cell_type": "markdown",
   "metadata": {
    "colab_type": "text",
    "id": "1ipMlfr6QD0N"
   },
   "source": [
    "### groupby"
   ]
  },
  {
   "cell_type": "code",
   "execution_count": null,
   "metadata": {
    "colab": {},
    "colab_type": "code",
    "id": "HhxhURVecIfF"
   },
   "outputs": [],
   "source": [
    "kbo = pd.read_csv('kbo.csv')\n",
    "kbo.head()"
   ]
  },
  {
   "cell_type": "code",
   "execution_count": null,
   "metadata": {
    "colab": {},
    "colab_type": "code",
    "id": "Xzu1yDj5deZq"
   },
   "outputs": [],
   "source": [
    "kbo['연도'].unique()"
   ]
  },
  {
   "cell_type": "code",
   "execution_count": null,
   "metadata": {
    "colab": {},
    "colab_type": "code",
    "id": "AhrLAVTHdec-"
   },
   "outputs": [],
   "source": [
    "kbo['팀'].unique()"
   ]
  },
  {
   "cell_type": "code",
   "execution_count": null,
   "metadata": {
    "colab": {},
    "colab_type": "code",
    "id": "hMwA6nafKXfA"
   },
   "outputs": [],
   "source": [
    "kbo.groupby('팀').count()"
   ]
  },
  {
   "cell_type": "code",
   "execution_count": null,
   "metadata": {
    "colab": {},
    "colab_type": "code",
    "id": "rFa2rlWDe3zo"
   },
   "outputs": [],
   "source": [
    "kbo.groupby('팀').mean()"
   ]
  },
  {
   "cell_type": "code",
   "execution_count": null,
   "metadata": {
    "colab": {},
    "colab_type": "code",
    "id": "g9eizuKfeVOj"
   },
   "outputs": [],
   "source": [
    "kbo.groupby('팀')['승률'].max()"
   ]
  },
  {
   "cell_type": "code",
   "execution_count": null,
   "metadata": {
    "colab": {},
    "colab_type": "code",
    "id": "TFKrqOP4eVSD"
   },
   "outputs": [],
   "source": [
    "kbo.groupby(['연도','팀'])['승률'].sum()"
   ]
  },
  {
   "cell_type": "markdown",
   "metadata": {
    "colab_type": "text",
    "id": "bhu2k5JMQJGt"
   },
   "source": [
    "### .groupby.get_group\n",
    "    - 특정한 key값을 가진 그룹의 정보만 추출"
   ]
  },
  {
   "cell_type": "code",
   "execution_count": null,
   "metadata": {
    "colab": {},
    "colab_type": "code",
    "id": "aFTdp2oGLJPy"
   },
   "outputs": [],
   "source": [
    "grouped= kbo.groupby('팀')\n",
    "type(grouped)"
   ]
  },
  {
   "cell_type": "code",
   "execution_count": null,
   "metadata": {
    "colab": {},
    "colab_type": "code",
    "id": "oo3sk2omQijH"
   },
   "outputs": [],
   "source": [
    "for n, g in grouped:\n",
    "    print(n)\n",
    "    print(g)\n",
    "    \n",
    "    print('-'*50)"
   ]
  },
  {
   "cell_type": "code",
   "execution_count": null,
   "metadata": {
    "colab": {},
    "colab_type": "code",
    "id": "pKgShy7uQimf"
   },
   "outputs": [],
   "source": [
    "grouped.get_group('한화')"
   ]
  },
  {
   "cell_type": "markdown",
   "metadata": {
    "colab_type": "text",
    "id": "RWwoderGSUFv"
   },
   "source": [
    "### groupby.agg\n",
    "- 그룹별로 특정한 집계 함수 적용"
   ]
  },
  {
   "cell_type": "code",
   "execution_count": null,
   "metadata": {
    "colab": {},
    "colab_type": "code",
    "id": "8m5z1Tt4Qipi"
   },
   "outputs": [],
   "source": [
    "grouped.agg([np.mean, np.std])"
   ]
  },
  {
   "cell_type": "code",
   "execution_count": null,
   "metadata": {
    "colab": {},
    "colab_type": "code",
    "id": "BPFeTVlZtOg_"
   },
   "outputs": [],
   "source": [
    "grouped.agg({'순위':np.mean, '승률':[np.mean, np.std]})"
   ]
  },
  {
   "cell_type": "markdown",
   "metadata": {
    "colab_type": "text",
    "id": "QLw6rUeotLit"
   },
   "source": [
    "### groupby.filter"
   ]
  },
  {
   "cell_type": "code",
   "execution_count": null,
   "metadata": {
    "colab": {},
    "colab_type": "code",
    "id": "vRdUVEqOtrWL"
   },
   "outputs": [],
   "source": [
    "kbo.groupby('팀').filter(lambda x: len(x)==2)"
   ]
  },
  {
   "cell_type": "code",
   "execution_count": null,
   "metadata": {
    "colab": {},
    "colab_type": "code",
    "id": "Xo4vorLhtK1Y"
   },
   "outputs": [],
   "source": [
    "kbo.groupby('팀').filter(lambda x: x['순위'].min()==1)"
   ]
  },
  {
   "cell_type": "code",
   "execution_count": null,
   "metadata": {
    "colab": {},
    "colab_type": "code",
    "id": "0xPrR1YWNUEO"
   },
   "outputs": [],
   "source": [
    "kbo.groupby('팀').filter(lambda x: x['순위'].min()==1)"
   ]
  }
 ],
 "metadata": {
  "colab": {
   "collapsed_sections": [],
   "name": "Pandas_원본_v2_00.ipynb",
   "provenance": [],
   "toc_visible": true
  },
  "kernelspec": {
   "display_name": "Python 3",
   "language": "python",
   "name": "python3"
  },
  "language_info": {
   "codemirror_mode": {
    "name": "ipython",
    "version": 3
   },
   "file_extension": ".py",
   "mimetype": "text/x-python",
   "name": "python",
   "nbconvert_exporter": "python",
   "pygments_lexer": "ipython3",
   "version": "3.7.6"
  }
 },
 "nbformat": 4,
 "nbformat_minor": 1
}
