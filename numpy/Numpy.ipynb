{
  "nbformat": 4,
  "nbformat_minor": 0,
  "metadata": {
    "colab": {
      "name": "Numpy.ipynb",
      "provenance": [],
      "collapsed_sections": [
        "ECe2MGEmC6vE",
        "LK6oE-XZDACy"
      ],
      "toc_visible": true
    },
    "kernelspec": {
      "name": "python3",
      "display_name": "Python 3"
    }
  },
  "cells": [
    {
      "cell_type": "markdown",
      "metadata": {
        "id": "GC1mQ5uanCes",
        "colab_type": "text"
      },
      "source": [
        "# 목차\n",
        "###1.[ndarray 특징](#ndarray특징)  \n",
        "###2.[ndarray_attributes](#ndarray_attributes)  \n",
        "[퀴즈-ndarray_attributes](#퀴즈-ndarray_attributes)  \n",
        "[퀴즈정답-ndarray_attributes](#퀴즈정답-ndarray_attributes)  \n",
        "###3.[ndarray생성](#ndarray생성)  \n",
        "[퀴즈-ndarray생성](#퀴즈-ndarray생성)  \n",
        "[퀴즈정답-ndarray생성](#퀴즈정답-ndarray생성)  \n",
        "###4.[handling_shape](#handling_shape)  \n",
        "[퀴즈-handling_shape](#퀴즈-handling_shape)  \n",
        "[퀴즈정답-handling_shape](#퀴즈정답-handling_shape)  \n",
        "###5.[indexing, slicing, boolean_indexing, fancy_indexing](#indexing,slicing,boolean_indexing,fancy_indexing)  \n",
        "[퀴즈-indexing,slicing,boolean_indexing,fancy_indexing](#퀴즈-indexing,slicing,boolean_indexing,fancy_indexing)  \n",
        "[퀴즈정답-indexing,slicing,boolean_indexing,fancy_indexing](#퀴즈정답-indexing,slicing,boolean_indexing,fancy_indexing)  \n",
        "###6.[산술연산](#산술연산)  \n",
        "[퀴즈-산술연산](#퀴즈-산술연산)  \n",
        "[퀴즈정답-산술연산](#퀴즈정답-산술연산)  \n",
        "###7.[유니버셜함수](#유니버셜함수)  \n",
        "[퀴즈-유니버셜함수](#퀴즈-유니버셜함수)  \n",
        "[퀴즈정답-유니버셜함수](#퀴즈정답-유니버셜함수)  \n",
        "###8.[기본_통계](#기본_통계)  \n",
        "[퀴즈-기본_통계](#퀴즈-기본_통계)  \n",
        "[퀴즈정답-기본_통계](#퀴즈정답-기본_통계)  \n",
        "###9.[any_all](#any_all)  \n",
        "[퀴즈-any_all](#퀴즈-any_all)  \n",
        "[퀴즈정답-any_all](#퀴즈정답-any_all)  \n",
        "###10.[where](#where)  \n",
        "[퀴즈-where](#퀴즈-where)  \n",
        "[퀴즈정답-where](#퀴즈정답-where)  \n",
        "###11.[sort](#sort)  \n",
        "[퀴즈-sort](#퀴즈-sort)  \n",
        "[퀴즈정답-sort](#퀴즈정답-sort)  \n",
        "###12.[선형대수](#)  \n",
        "[퀴즈-선형대수](#퀴즈-선형대수)  \n",
        "[퀴즈정답-선형대수](#퀴즈정답-선형대수)  \n"
      ]
    },
    {
      "cell_type": "markdown",
      "metadata": {
        "id": "-0toDLgCdqRp",
        "colab_type": "text"
      },
      "source": [
        "# Numpy\n"
      ]
    },
    {
      "cell_type": "code",
      "metadata": {
        "id": "yTl_hHOxdNmx",
        "colab_type": "code",
        "colab": {}
      },
      "source": [
        "import numpy as np"
      ],
      "execution_count": null,
      "outputs": []
    },
    {
      "cell_type": "markdown",
      "metadata": {
        "id": "0Atpxm3cdqUe",
        "colab_type": "text"
      },
      "source": [
        "## ndarray특징 "
      ]
    },
    {
      "cell_type": "markdown",
      "metadata": {
        "id": "EVBy099w75YM",
        "colab_type": "text"
      },
      "source": [
        "**ndarray**\n",
        "* N차원의 배열 객체. 대규모 데이터 집합을 담을 수 있는 자료구조.  \n",
        "* 같은 종류의 데이터를 담을 수 있는 포괄적인 다차원 배열. "
      ]
    },
    {
      "cell_type": "markdown",
      "metadata": {
        "id": "uLwj1iq_D1ZN",
        "colab_type": "text"
      },
      "source": [
        "#### numpy array와 python list 시간 비교 "
      ]
    },
    {
      "cell_type": "code",
      "metadata": {
        "id": "d5P1D5aP-pES",
        "colab_type": "code",
        "colab": {}
      },
      "source": [
        "n = 100000\n",
        "numpy_arr = np.arange(n)\n",
        "python_list = list(range(n))"
      ],
      "execution_count": null,
      "outputs": []
    },
    {
      "cell_type": "code",
      "metadata": {
        "id": "xYDtYoAzBkMh",
        "colab_type": "code",
        "colab": {}
      },
      "source": [
        "%%time \n",
        "python_list = [x**3 for x in python_list] "
      ],
      "execution_count": null,
      "outputs": []
    },
    {
      "cell_type": "code",
      "metadata": {
        "id": "iyHRK8ZO-_M8",
        "colab_type": "code",
        "colab": {}
      },
      "source": [
        "%%time \n",
        "numpy_arr = numpy_arr**3"
      ],
      "execution_count": null,
      "outputs": []
    },
    {
      "cell_type": "markdown",
      "metadata": {
        "id": "hPl5exZceHWL",
        "colab_type": "text"
      },
      "source": [
        "## ndarray_attributes "
      ]
    },
    {
      "cell_type": "markdown",
      "metadata": {
        "id": "fRICnWB4G67f",
        "colab_type": "text"
      },
      "source": [
        "### dtype, itemsize"
      ]
    },
    {
      "cell_type": "markdown",
      "metadata": {
        "id": "UhkM4HRRI3Ca",
        "colab_type": "text"
      },
      "source": [
        "**dtype**\n",
        "* 배열에 담긴 원소의 자료형\n",
        "* dtype으로 데이터 타입을 명시하지 않은 경우 자료형을 추론하여 저장.\n",
        "* int8, float16, complex32, bool, object, string_, unicode_ 등 다양한 데이터 타입이 있음. [데이터 타입 더보기](https://numpy.org/devdocs/reference/generated/numpy.ndarray.html?highlight=ndarray#numpy.ndarray)  \n",
        "* dtype이 있어 C나 포트란 같은 저수준 언어로 작성된 코드와 쉽게 연동이 가능. \n",
        "  \n",
        "\n",
        "**itemsize**\n",
        "배열에 담긴 각 원소의 크기(byte)\n"
      ]
    },
    {
      "cell_type": "code",
      "metadata": {
        "id": "mmKJz9Lril9l",
        "colab_type": "code",
        "colab": {}
      },
      "source": [
        "arr = np.array([10, 20, 30, 40, 50, 60, 70, 80, 90, 100])\n",
        "arr"
      ],
      "execution_count": null,
      "outputs": []
    },
    {
      "cell_type": "code",
      "metadata": {
        "id": "XIixerGTivAb",
        "colab_type": "code",
        "colab": {}
      },
      "source": [
        "arr.dtype"
      ],
      "execution_count": null,
      "outputs": []
    },
    {
      "cell_type": "code",
      "metadata": {
        "id": "K53coAFlpw6k",
        "colab_type": "code",
        "colab": {}
      },
      "source": [
        "arr.itemsize #byte"
      ],
      "execution_count": null,
      "outputs": []
    },
    {
      "cell_type": "code",
      "metadata": {
        "id": "ZaxTKLgCivEY",
        "colab_type": "code",
        "colab": {}
      },
      "source": [
        "arr = np.array([[0.5, -2], [0.8, 1.2]])\n",
        "arr "
      ],
      "execution_count": null,
      "outputs": []
    },
    {
      "cell_type": "code",
      "metadata": {
        "id": "MyPl0cWAps7Q",
        "colab_type": "code",
        "colab": {}
      },
      "source": [
        "arr.dtype"
      ],
      "execution_count": null,
      "outputs": []
    },
    {
      "cell_type": "code",
      "metadata": {
        "id": "K6ysJN9SqTPa",
        "colab_type": "code",
        "colab": {}
      },
      "source": [
        "arr.itemsize"
      ],
      "execution_count": null,
      "outputs": []
    },
    {
      "cell_type": "markdown",
      "metadata": {
        "id": "AjY-dRx18iV2",
        "colab_type": "text"
      },
      "source": [
        "### size, ndim, shape"
      ]
    },
    {
      "cell_type": "markdown",
      "metadata": {
        "id": "ACDtHATGfmUu",
        "colab_type": "text"
      },
      "source": [
        "* **size**: Number of elements in the array.  \n",
        "* **shape**: Tuple of array dimensions.\n",
        "* **ndim**: Number of array dimensions."
      ]
    },
    {
      "cell_type": "code",
      "metadata": {
        "id": "A1--IxQkLhlh",
        "colab_type": "code",
        "colab": {}
      },
      "source": [
        "arr = np.array([1, 2, 3, 4, 5, 6, 7, 8])\n",
        "arr"
      ],
      "execution_count": null,
      "outputs": []
    },
    {
      "cell_type": "code",
      "metadata": {
        "id": "j3VhsGkQLho5",
        "colab_type": "code",
        "colab": {}
      },
      "source": [
        "arr.size"
      ],
      "execution_count": null,
      "outputs": []
    },
    {
      "cell_type": "code",
      "metadata": {
        "id": "W4XY2y-GLhsb",
        "colab_type": "code",
        "colab": {}
      },
      "source": [
        "arr.shape"
      ],
      "execution_count": null,
      "outputs": []
    },
    {
      "cell_type": "code",
      "metadata": {
        "id": "nlsK5ISkLhzA",
        "colab_type": "code",
        "colab": {}
      },
      "source": [
        "arr.ndim"
      ],
      "execution_count": null,
      "outputs": []
    },
    {
      "cell_type": "code",
      "metadata": {
        "id": "ucBEujsUFBbv",
        "colab_type": "code",
        "colab": {}
      },
      "source": [
        "arr = np.array([[1, 2, 3, 4, 5, 6], [7, 8, 9, 10, 11, 12]])\n",
        "arr"
      ],
      "execution_count": null,
      "outputs": []
    },
    {
      "cell_type": "code",
      "metadata": {
        "id": "qOMxgqq5FBnq",
        "colab_type": "code",
        "colab": {}
      },
      "source": [
        "arr.size"
      ],
      "execution_count": null,
      "outputs": []
    },
    {
      "cell_type": "code",
      "metadata": {
        "id": "_o2i1xyAFBrK",
        "colab_type": "code",
        "colab": {}
      },
      "source": [
        "arr.shape"
      ],
      "execution_count": null,
      "outputs": []
    },
    {
      "cell_type": "code",
      "metadata": {
        "id": "s-Of8nBhFBvL",
        "colab_type": "code",
        "colab": {}
      },
      "source": [
        "arr.ndim"
      ],
      "execution_count": null,
      "outputs": []
    },
    {
      "cell_type": "code",
      "metadata": {
        "id": "9QfWcy1w-n7_",
        "colab_type": "code",
        "colab": {}
      },
      "source": [
        "arr = np.array([[[10.        , 10.52631579, 11.05263158, 11.57894737, 12.10526316],\n",
        "                 [12.63157895, 13.15789474, 13.68421053, 14.21052632, 14.73684211]],\n",
        "                [[15.26315789, 15.78947368, 16.31578947, 16.84210526, 17.36842105],\n",
        "                 [17.89473684, 18.42105263, 18.94736842, 19.47368421, 20.        ]]])\n",
        "arr"
      ],
      "execution_count": null,
      "outputs": []
    },
    {
      "cell_type": "code",
      "metadata": {
        "id": "ulU4qPWI_cz5",
        "colab_type": "code",
        "colab": {}
      },
      "source": [
        "arr.size"
      ],
      "execution_count": null,
      "outputs": []
    },
    {
      "cell_type": "code",
      "metadata": {
        "id": "xe8siOs9_fth",
        "colab_type": "code",
        "colab": {}
      },
      "source": [
        "arr.shape"
      ],
      "execution_count": null,
      "outputs": []
    },
    {
      "cell_type": "code",
      "metadata": {
        "id": "yXGCLX4f_f1Y",
        "colab_type": "code",
        "colab": {}
      },
      "source": [
        "arr.ndim"
      ],
      "execution_count": null,
      "outputs": []
    },
    {
      "cell_type": "code",
      "metadata": {
        "id": "M-JiR2F1rPDZ",
        "colab_type": "code",
        "colab": {}
      },
      "source": [
        "arr = np.array(([[[[ 0,  1,  2,  3,  4],\n",
        "                   [ 5,  6,  7,  8,  9],\n",
        "                   [10, 11, 12, 13, 14]],\n",
        "                  [[15, 16, 17, 18, 19],\n",
        "                   [20, 21, 22, 23, 24],\n",
        "                   [25, 26, 27, 28, 29]]],\n",
        "                 [[[30, 31, 32, 33, 34],\n",
        "                   [35, 36, 37, 38, 39],\n",
        "                   [40, 41, 42, 43, 44]],\n",
        "                 [[45, 46, 47, 48, 49],\n",
        "                  [50, 51, 52, 53, 54],\n",
        "                  [55, 56, 57, 58, 59]]]]))"
      ],
      "execution_count": null,
      "outputs": []
    },
    {
      "cell_type": "code",
      "metadata": {
        "id": "cPIqUiE6uoYk",
        "colab_type": "code",
        "colab": {}
      },
      "source": [
        "arr.size"
      ],
      "execution_count": null,
      "outputs": []
    },
    {
      "cell_type": "code",
      "metadata": {
        "id": "ZkPmedz3uog5",
        "colab_type": "code",
        "colab": {}
      },
      "source": [
        "arr.shape"
      ],
      "execution_count": null,
      "outputs": []
    },
    {
      "cell_type": "code",
      "metadata": {
        "id": "Z8bVC_ifcEM_",
        "colab_type": "code",
        "colab": {}
      },
      "source": [
        "arr.ndim"
      ],
      "execution_count": null,
      "outputs": []
    },
    {
      "cell_type": "markdown",
      "metadata": {
        "colab_type": "text",
        "id": "bk9clTR69mkt"
      },
      "source": [
        "### 퀴즈-ndarray_attributes"
      ]
    },
    {
      "cell_type": "markdown",
      "metadata": {
        "colab_type": "text",
        "id": "-ogayiVl9mkt"
      },
      "source": [
        "Q.\n",
        "다음 arr의 원소의 데이터 타입, 차원, shape, 원소의 총 개수를 확인해보기 "
      ]
    },
    {
      "cell_type": "code",
      "metadata": {
        "colab_type": "code",
        "id": "2nK31o7n9mku",
        "colab": {}
      },
      "source": [
        "arr = np.array([[[-5. , -4.5, -4. , -3.5, -3. ],\n",
        "                [-2.5, -2. , -1.5, -1. , -0.5]],\n",
        "               [[ 0. ,  0.5,  1. ,  1.5,  2. ],\n",
        "                [ 2.5,  3. ,  3.5,  4. ,  4.5]]])"
      ],
      "execution_count": null,
      "outputs": []
    },
    {
      "cell_type": "code",
      "metadata": {
        "colab_type": "code",
        "id": "gYWxc5p89mkv",
        "colab": {}
      },
      "source": [
        "print('원소의 데이터 타입:')\n",
        "print('차원:')\n",
        "print('shape:')\n",
        "print('원소의 총 개수:')"
      ],
      "execution_count": null,
      "outputs": []
    },
    {
      "cell_type": "markdown",
      "metadata": {
        "id": "pSYqGQ8z704I",
        "colab_type": "text"
      },
      "source": [
        "### 퀴즈정답-ndarray_attributes"
      ]
    },
    {
      "cell_type": "markdown",
      "metadata": {
        "id": "fk0sq7X57-BC",
        "colab_type": "text"
      },
      "source": [
        "Q.\n",
        "다음 arr의 원소의 데이터 타입, 차원, shape, 원소의 총 개수를 확인해보기 "
      ]
    },
    {
      "cell_type": "code",
      "metadata": {
        "id": "XZzEEBWx70Na",
        "colab_type": "code",
        "colab": {}
      },
      "source": [
        "arr = np.array([[[-5. , -4.5, -4. , -3.5, -3. ],\n",
        "                [-2.5, -2. , -1.5, -1. , -0.5]],\n",
        "               [[ 0. ,  0.5,  1. ,  1.5,  2. ],\n",
        "                [ 2.5,  3. ,  3.5,  4. ,  4.5]]])"
      ],
      "execution_count": null,
      "outputs": []
    },
    {
      "cell_type": "markdown",
      "metadata": {
        "id": "f9Rjt-Jw8Aq3",
        "colab_type": "text"
      },
      "source": [
        "A."
      ]
    },
    {
      "cell_type": "code",
      "metadata": {
        "id": "6d6N0lpY8B_R",
        "colab_type": "code",
        "colab": {}
      },
      "source": [
        "print('원소의 데이터 타입:', arr.dtype)\n",
        "print('차원:', arr.ndim)\n",
        "print('shape:', arr.shape)\n",
        "print('원소의 총 개수:', arr.size)"
      ],
      "execution_count": null,
      "outputs": []
    },
    {
      "cell_type": "markdown",
      "metadata": {
        "id": "Ta4UD1lqdqXx",
        "colab_type": "text"
      },
      "source": [
        "## ndarray생성\n"
      ]
    },
    {
      "cell_type": "markdown",
      "metadata": {
        "id": "ygfwRVPY6uOn",
        "colab_type": "text"
      },
      "source": [
        "### array 함수\n",
        "데이터(리스트나 튜플 등 )를 ndarray로"
      ]
    },
    {
      "cell_type": "code",
      "metadata": {
        "id": "oHtWc0b-6989",
        "colab_type": "code",
        "colab": {}
      },
      "source": [
        "arr = np.array([10, 20, 30])\n",
        "arr "
      ],
      "execution_count": null,
      "outputs": []
    },
    {
      "cell_type": "code",
      "metadata": {
        "id": "dsCUggMIIjRE",
        "colab_type": "code",
        "colab": {}
      },
      "source": [
        "arr = np.array([10, 20, 30], dtype=np.float16)\n",
        "arr "
      ],
      "execution_count": null,
      "outputs": []
    },
    {
      "cell_type": "code",
      "metadata": {
        "id": "VHLPJJLr_sr0",
        "colab_type": "code",
        "colab": {}
      },
      "source": [
        "arr = np.array(((1, 0), (0, 1)), dtype=np.float32)\n",
        "arr"
      ],
      "execution_count": null,
      "outputs": []
    },
    {
      "cell_type": "code",
      "metadata": {
        "id": "KaOnYS6oGx6i",
        "colab_type": "code",
        "colab": {}
      },
      "source": [
        "arr = np.array(range(20))\n",
        "arr"
      ],
      "execution_count": null,
      "outputs": []
    },
    {
      "cell_type": "code",
      "metadata": {
        "id": "7cjqyP5391oo",
        "colab_type": "code",
        "colab": {}
      },
      "source": [
        "arr = np.array([(10, 20), (40, 50)])\n",
        "arr "
      ],
      "execution_count": null,
      "outputs": []
    },
    {
      "cell_type": "code",
      "metadata": {
        "id": "uPuZUS1t-H0K",
        "colab_type": "code",
        "colab": {}
      },
      "source": [
        "arr = np.array(((1, 2), (3)))\n",
        "arr"
      ],
      "execution_count": null,
      "outputs": []
    },
    {
      "cell_type": "code",
      "metadata": {
        "id": "lk_agV2pckTF",
        "colab_type": "code",
        "colab": {}
      },
      "source": [
        "arr.size"
      ],
      "execution_count": null,
      "outputs": []
    },
    {
      "cell_type": "markdown",
      "metadata": {
        "id": "c5nW_qwuFxWm",
        "colab_type": "text"
      },
      "source": [
        "### 배열 생성 함수 "
      ]
    },
    {
      "cell_type": "markdown",
      "metadata": {
        "id": "wlksXpWD6cNd",
        "colab_type": "text"
      },
      "source": [
        "zeros"
      ]
    },
    {
      "cell_type": "code",
      "metadata": {
        "id": "jYafyyq_-HEY",
        "colab_type": "code",
        "colab": {}
      },
      "source": [
        "np.zeros((10))"
      ],
      "execution_count": null,
      "outputs": []
    },
    {
      "cell_type": "code",
      "metadata": {
        "id": "H-C_o1LVIETg",
        "colab_type": "code",
        "colab": {}
      },
      "source": [
        "np.zeros((2, 10), dtype=np.int8)"
      ],
      "execution_count": null,
      "outputs": []
    },
    {
      "cell_type": "markdown",
      "metadata": {
        "id": "wHk4pQAL6gQZ",
        "colab_type": "text"
      },
      "source": [
        "#### ones"
      ]
    },
    {
      "cell_type": "code",
      "metadata": {
        "id": "N7YpVwCK6qXs",
        "colab_type": "code",
        "colab": {}
      },
      "source": [
        "np.ones((5,5))"
      ],
      "execution_count": null,
      "outputs": []
    },
    {
      "cell_type": "markdown",
      "metadata": {
        "id": "j-zz4O1l6gTA",
        "colab_type": "text"
      },
      "source": [
        "#### full\n"
      ]
    },
    {
      "cell_type": "code",
      "metadata": {
        "id": "RjqyOxrEIOhc",
        "colab_type": "code",
        "colab": {}
      },
      "source": [
        "np.full((10), 5)"
      ],
      "execution_count": null,
      "outputs": []
    },
    {
      "cell_type": "code",
      "metadata": {
        "id": "5u01wtoGBDeO",
        "colab_type": "code",
        "colab": {}
      },
      "source": [
        "np.full((2, 5), -1.0)"
      ],
      "execution_count": null,
      "outputs": []
    },
    {
      "cell_type": "code",
      "metadata": {
        "id": "TI4JLcDT6q7F",
        "colab_type": "code",
        "colab": {}
      },
      "source": [
        "np.full((2, 3, 4), np.inf)"
      ],
      "execution_count": null,
      "outputs": []
    },
    {
      "cell_type": "markdown",
      "metadata": {
        "id": "dqE_6bqMDYIr",
        "colab_type": "text"
      },
      "source": [
        "#### identity"
      ]
    },
    {
      "cell_type": "code",
      "metadata": {
        "id": "CUVD7UV_DW1r",
        "colab_type": "code",
        "colab": {}
      },
      "source": [
        "np.identity(5, dtype=int)"
      ],
      "execution_count": null,
      "outputs": []
    },
    {
      "cell_type": "markdown",
      "metadata": {
        "id": "60nc63xJ6gvh",
        "colab_type": "text"
      },
      "source": [
        "#### eye"
      ]
    },
    {
      "cell_type": "code",
      "metadata": {
        "id": "WTdMk1GP6rYU",
        "colab_type": "code",
        "colab": {}
      },
      "source": [
        "np.eye(5, dtype=int)"
      ],
      "execution_count": null,
      "outputs": []
    },
    {
      "cell_type": "code",
      "metadata": {
        "id": "VMgfJbmKBr0W",
        "colab_type": "code",
        "colab": {}
      },
      "source": [
        "np.eye(5, 10, dtype=int, k=5)"
      ],
      "execution_count": null,
      "outputs": []
    },
    {
      "cell_type": "markdown",
      "metadata": {
        "id": "1pLDUNB362jr",
        "colab_type": "text"
      },
      "source": [
        "#### _like\n"
      ]
    },
    {
      "cell_type": "markdown",
      "metadata": {
        "id": "2mxg9Av6N8Gp",
        "colab_type": "text"
      },
      "source": [
        "zeros_like  \n",
        "ones_like  \n",
        "full_like  "
      ]
    },
    {
      "cell_type": "code",
      "metadata": {
        "id": "FMWDmUD_CMd8",
        "colab_type": "code",
        "colab": {}
      },
      "source": [
        "arr1 = np.array([[1, 2, 3, 1], [2, 4, 5, 6]])\n",
        "arr1"
      ],
      "execution_count": null,
      "outputs": []
    },
    {
      "cell_type": "code",
      "metadata": {
        "id": "STds5skuCNiW",
        "colab_type": "code",
        "colab": {}
      },
      "source": [
        "arr2 = np.ones_like(arr1)\n",
        "arr2"
      ],
      "execution_count": null,
      "outputs": []
    },
    {
      "cell_type": "markdown",
      "metadata": {
        "id": "riPrPwx_8iGa",
        "colab_type": "text"
      },
      "source": [
        "#### arange\n",
        "내장 range와 유사. ndarray 반환"
      ]
    },
    {
      "cell_type": "code",
      "metadata": {
        "id": "bwTCf5z8doNg",
        "colab_type": "code",
        "colab": {}
      },
      "source": [
        "np.arange(10)"
      ],
      "execution_count": null,
      "outputs": []
    },
    {
      "cell_type": "code",
      "metadata": {
        "id": "6Tr7db06K2WQ",
        "colab_type": "code",
        "colab": {}
      },
      "source": [
        "np.arange(-10, 10)"
      ],
      "execution_count": null,
      "outputs": []
    },
    {
      "cell_type": "code",
      "metadata": {
        "id": "cbju8AiOFAIV",
        "colab_type": "code",
        "colab": {}
      },
      "source": [
        "np.arange(3,50,2)"
      ],
      "execution_count": null,
      "outputs": []
    },
    {
      "cell_type": "code",
      "metadata": {
        "id": "_9WarI2adj_S",
        "colab_type": "code",
        "colab": {}
      },
      "source": [
        "np.arange(0, 1, 0.1)"
      ],
      "execution_count": null,
      "outputs": []
    },
    {
      "cell_type": "markdown",
      "metadata": {
        "id": "P56nYh7d8iOg",
        "colab_type": "text"
      },
      "source": [
        "#### linspace"
      ]
    },
    {
      "cell_type": "markdown",
      "metadata": {
        "id": "bN-neUapF3dp",
        "colab_type": "text"
      },
      "source": [
        "arange 와 유사하지만 step size 대신 샘플 개수를 입력받아 만듦"
      ]
    },
    {
      "cell_type": "code",
      "metadata": {
        "id": "Xy_uCCJ5FLeJ",
        "colab_type": "code",
        "colab": {}
      },
      "source": [
        "np.linspace(0, 1, 10)"
      ],
      "execution_count": null,
      "outputs": []
    },
    {
      "cell_type": "markdown",
      "metadata": {
        "id": "X9Cj3FXwOA3X",
        "colab_type": "text"
      },
      "source": [
        "### 난수 생성"
      ]
    },
    {
      "cell_type": "markdown",
      "metadata": {
        "id": "PUX_VI2iOFQ5",
        "colab_type": "text"
      },
      "source": [
        "numpy.random 모듈은 파이썬 내장 random 함수를 보강하여 다양한 종류의 확률 분포로부터 샘플링함. \n",
        "\n"
      ]
    },
    {
      "cell_type": "code",
      "metadata": {
        "id": "aaVNBXxMSQ68",
        "colab_type": "code",
        "colab": {}
      },
      "source": [
        "import matplotlib.pyplot as plt"
      ],
      "execution_count": null,
      "outputs": []
    },
    {
      "cell_type": "markdown",
      "metadata": {
        "id": "_64qiXi7wfcQ",
        "colab_type": "text"
      },
      "source": [
        "#### np.random.seed - seed 고정"
      ]
    },
    {
      "cell_type": "code",
      "metadata": {
        "id": "XPyqXNo1wkb_",
        "colab_type": "code",
        "colab": {}
      },
      "source": [
        "np.random.seed(1)\n",
        "np.random.rand(2)"
      ],
      "execution_count": null,
      "outputs": []
    },
    {
      "cell_type": "markdown",
      "metadata": {
        "id": "Kp-rkpahRZez",
        "colab_type": "text"
      },
      "source": [
        "#### np.random.rand\n",
        "[0.0, 1.0) 구간에서 uniform 분포를 따르면서  주어진 shape대로 샘플링함\n",
        "\n"
      ]
    },
    {
      "cell_type": "code",
      "metadata": {
        "id": "v2hMNXc2UaJI",
        "colab_type": "code",
        "colab": {}
      },
      "source": [
        "np.random.seed(1)\n",
        "np.random.rand(2, 10)"
      ],
      "execution_count": null,
      "outputs": []
    },
    {
      "cell_type": "code",
      "metadata": {
        "id": "8E_RKWJ-SF99",
        "colab_type": "code",
        "colab": {}
      },
      "source": [
        "data = np.random.rand(10000)\n",
        "plt.hist(data, bins=100)\n",
        "plt.show()"
      ],
      "execution_count": null,
      "outputs": []
    },
    {
      "cell_type": "markdown",
      "metadata": {
        "id": "GkpLJpNcV9A1",
        "colab_type": "text"
      },
      "source": [
        "#### np.random.randn"
      ]
    },
    {
      "cell_type": "markdown",
      "metadata": {
        "id": "V6JnfrRWWj5L",
        "colab_type": "text"
      },
      "source": [
        "표준정규분포(평균0, 분산1)에서 샘플링"
      ]
    },
    {
      "cell_type": "code",
      "metadata": {
        "id": "Z97VCgeZUDqR",
        "colab_type": "code",
        "colab": {}
      },
      "source": [
        "np.random.randn(2, 3, 2)"
      ],
      "execution_count": null,
      "outputs": []
    },
    {
      "cell_type": "code",
      "metadata": {
        "id": "5923OOJsMDU7",
        "colab_type": "code",
        "colab": {}
      },
      "source": [
        "data = np.random.randn(10000)\n",
        "plt.hist(data, bins=100)\n",
        "plt.show()"
      ],
      "execution_count": null,
      "outputs": []
    },
    {
      "cell_type": "code",
      "metadata": {
        "id": "nPk8ENQfOj2g",
        "colab_type": "code",
        "colab": {}
      },
      "source": [
        "data = 5*np.random.randn(10000)+10   # numpy.random.normal(loc=0.0, scale=1.0, size=None)\n",
        "plt.hist(data, bins=100)\n",
        "plt.show()"
      ],
      "execution_count": null,
      "outputs": []
    },
    {
      "cell_type": "markdown",
      "metadata": {
        "id": "YfP3WEihWAoi",
        "colab_type": "text"
      },
      "source": [
        "#### np.random.randint"
      ]
    },
    {
      "cell_type": "markdown",
      "metadata": {
        "id": "fLaSiszbXTnk",
        "colab_type": "text"
      },
      "source": [
        "주어진 범위 내에서 임의의 난수 생성"
      ]
    },
    {
      "cell_type": "code",
      "metadata": {
        "id": "7XE_wiAQXXtW",
        "colab_type": "code",
        "colab": {}
      },
      "source": [
        "data = np.random.randint(100, 200, 10000)\n",
        "plt.hist(data, bins=100)\n",
        "plt.show()"
      ],
      "execution_count": null,
      "outputs": []
    },
    {
      "cell_type": "markdown",
      "metadata": {
        "id": "arcTzlyTXeA3",
        "colab_type": "text"
      },
      "source": [
        "#### 기타\n",
        "* np.random.binomial\n",
        "* np.random.beta\n",
        "* np.random.gamma\n",
        "* np.random.chisqure\n",
        "* np.random.dirichlet  \n",
        "------\n",
        "* np.random.shuffle: 주어진 데이터를 랜덤하게 섞어줌"
      ]
    },
    {
      "cell_type": "markdown",
      "metadata": {
        "colab_type": "text",
        "id": "ZTQJdSygBnJo"
      },
      "source": [
        "### 퀴즈-ndarray생성"
      ]
    },
    {
      "cell_type": "markdown",
      "metadata": {
        "colab_type": "text",
        "id": "ku4cM5UPBnJp"
      },
      "source": [
        "Q.다음 주어진 파이썬 리스트를 numpy의 ndarray로 바꿔보기 "
      ]
    },
    {
      "cell_type": "code",
      "metadata": {
        "colab_type": "code",
        "id": "0d1JeQpiBnJp",
        "colab": {}
      },
      "source": [
        "python_list = [[[-5. , -4.5, -4. , -3.5, -3. ],\n",
        "                [-2.5, -2. , -1.5, -1. , -0.5]],\n",
        "               [[ 0. ,  0.5,  1. ,  1.5,  2. ],\n",
        "                [ 2.5,  3. ,  3.5,  4. ,  4.5]]]"
      ],
      "execution_count": null,
      "outputs": []
    },
    {
      "cell_type": "code",
      "metadata": {
        "colab_type": "code",
        "id": "i8sbL3-dBnJr",
        "colab": {}
      },
      "source": [
        "numpy_list ="
      ],
      "execution_count": null,
      "outputs": []
    },
    {
      "cell_type": "markdown",
      "metadata": {
        "colab_type": "text",
        "id": "GQM8DciJBnJw"
      },
      "source": [
        "Q. 원소를 모두 1로 갖는 4x4 ndarray를 만들어보기\n"
      ]
    },
    {
      "cell_type": "code",
      "metadata": {
        "colab_type": "code",
        "id": "3z8XIx4tBnJw",
        "colab": {}
      },
      "source": [
        "arr = "
      ],
      "execution_count": null,
      "outputs": []
    },
    {
      "cell_type": "markdown",
      "metadata": {
        "colab_type": "text",
        "id": "mRkXi02xBnJz"
      },
      "source": [
        "Q. 0부터 19까지 정수 값을 갖는 1차원 배열 만들어보기, 단 데이터 타입은 float으로 설정. \n",
        "\n",
        "``` array([ 0.,  1.,  2.,  3.,  4.,  5.,  6.,  7.,  8.,  9., 10., 11., 12., 13., 14., 15., 16., 17., 18., 19.])```"
      ]
    },
    {
      "cell_type": "code",
      "metadata": {
        "colab_type": "code",
        "id": "rtOq0pibBnJ0",
        "colab": {}
      },
      "source": [
        "arr = "
      ],
      "execution_count": null,
      "outputs": []
    },
    {
      "cell_type": "markdown",
      "metadata": {
        "colab_type": "text",
        "id": "uwBEOIt0BnJ3"
      },
      "source": [
        "Q. \n",
        "1. random seed를 0으로 설정  \n",
        "2. 3x3 크기의 ndarray 생성. 원소는 표준 정규 분포에서 랜덤으로 샘플링."
      ]
    },
    {
      "cell_type": "code",
      "metadata": {
        "colab_type": "code",
        "id": "MFuwiiqCBnJ3",
        "colab": {}
      },
      "source": [
        "arr = "
      ],
      "execution_count": null,
      "outputs": []
    },
    {
      "cell_type": "markdown",
      "metadata": {
        "id": "b1n---dM9MlM",
        "colab_type": "text"
      },
      "source": [
        "### 퀴즈정답-ndarray생성"
      ]
    },
    {
      "cell_type": "markdown",
      "metadata": {
        "colab_type": "text",
        "id": "xLmvGmth8Epj"
      },
      "source": [
        "Q.다음 주어진 파이썬 리스트를 numpy의 ndarray로 바꿔보기 "
      ]
    },
    {
      "cell_type": "code",
      "metadata": {
        "id": "VZsY8DyasfLc",
        "colab_type": "code",
        "colab": {}
      },
      "source": [
        "python_list = [[[-5. , -4.5, -4. , -3.5, -3. ],\n",
        "                [-2.5, -2. , -1.5, -1. , -0.5]],\n",
        "               [[ 0. ,  0.5,  1. ,  1.5,  2. ],\n",
        "                [ 2.5,  3. ,  3.5,  4. ,  4.5]]]"
      ],
      "execution_count": null,
      "outputs": []
    },
    {
      "cell_type": "markdown",
      "metadata": {
        "colab_type": "text",
        "id": "iiXmuvK38Epm"
      },
      "source": [
        "A."
      ]
    },
    {
      "cell_type": "code",
      "metadata": {
        "colab_type": "code",
        "id": "bHNxILF-8Epm",
        "colab": {}
      },
      "source": [
        "numpy_list = np.array(python_list)\n",
        "numpy_list"
      ],
      "execution_count": null,
      "outputs": []
    },
    {
      "cell_type": "markdown",
      "metadata": {
        "colab_type": "text",
        "id": "SR2pb5Nu8FRG"
      },
      "source": [
        "Q. 원소를 모두 1로 갖는 4x4 ndarray를 만들어보기\n"
      ]
    },
    {
      "cell_type": "markdown",
      "metadata": {
        "colab_type": "text",
        "id": "IRpXGZa08FRI"
      },
      "source": [
        "A."
      ]
    },
    {
      "cell_type": "code",
      "metadata": {
        "colab_type": "code",
        "id": "YQVouUc78FRJ",
        "colab": {}
      },
      "source": [
        "arr = np.ones((4, 4))\n",
        "arr "
      ],
      "execution_count": null,
      "outputs": []
    },
    {
      "cell_type": "markdown",
      "metadata": {
        "colab_type": "text",
        "id": "29vyNEdH8If8"
      },
      "source": [
        "Q. 0부터 19까지 정수 값을 갖는 1차원 배열 만들어보기, 단 데이터 타입은 float으로 설정. \n",
        "\n",
        "``` array([ 0.,  1.,  2.,  3.,  4.,  5.,  6.,  7.,  8.,  9., 10., 11., 12., 13., 14., 15., 16., 17., 18., 19.])```"
      ]
    },
    {
      "cell_type": "markdown",
      "metadata": {
        "colab_type": "text",
        "id": "BH9zRY7o8If-"
      },
      "source": [
        "A."
      ]
    },
    {
      "cell_type": "code",
      "metadata": {
        "colab_type": "code",
        "id": "NgzGoriw8If_",
        "colab": {}
      },
      "source": [
        "arr = np.arange(20, dtype=float)\n",
        "arr"
      ],
      "execution_count": null,
      "outputs": []
    },
    {
      "cell_type": "markdown",
      "metadata": {
        "id": "CrNfBRykA_LQ",
        "colab_type": "text"
      },
      "source": [
        "Q. \n",
        "1. random seed를 0으로 설정  \n",
        "2. 3x3 크기의 ndarray 생성. 원소는 표준 정규 분포에서 랜덤으로 샘플링."
      ]
    },
    {
      "cell_type": "markdown",
      "metadata": {
        "id": "m-1ABQJ7BB03",
        "colab_type": "text"
      },
      "source": [
        "A."
      ]
    },
    {
      "cell_type": "code",
      "metadata": {
        "id": "e4HWpe7nA95j",
        "colab_type": "code",
        "colab": {}
      },
      "source": [
        "np.random.seed(0)\n",
        "arr = np.random.randn(3, 3)\n",
        "arr"
      ],
      "execution_count": null,
      "outputs": []
    },
    {
      "cell_type": "markdown",
      "metadata": {
        "id": "CO8gpIVN_JZM",
        "colab_type": "text"
      },
      "source": [
        "## handling_shape"
      ]
    },
    {
      "cell_type": "markdown",
      "metadata": {
        "id": "9tzIwy0KLg6d",
        "colab_type": "text"
      },
      "source": [
        "### flatten\n",
        "n dim → 1 dim"
      ]
    },
    {
      "cell_type": "code",
      "metadata": {
        "id": "19O-7hfveAhJ",
        "colab_type": "code",
        "colab": {}
      },
      "source": [
        "arr = np.zeros((2, 5))\n",
        "arr"
      ],
      "execution_count": null,
      "outputs": []
    },
    {
      "cell_type": "code",
      "metadata": {
        "id": "vxZAIUCRfLE_",
        "colab_type": "code",
        "colab": {}
      },
      "source": [
        "arr.flatten()"
      ],
      "execution_count": null,
      "outputs": []
    },
    {
      "cell_type": "code",
      "metadata": {
        "id": "pDCteJBxbJxA",
        "colab_type": "code",
        "colab": {}
      },
      "source": [
        "arr = np.zeros((2, 3, 4))\n",
        "arr.shape"
      ],
      "execution_count": null,
      "outputs": []
    },
    {
      "cell_type": "code",
      "metadata": {
        "id": "kBUdbcctbJ1G",
        "colab_type": "code",
        "colab": {}
      },
      "source": [
        "arr.flatten()"
      ],
      "execution_count": null,
      "outputs": []
    },
    {
      "cell_type": "markdown",
      "metadata": {
        "id": "qpgiyo2Bf3kf",
        "colab_type": "text"
      },
      "source": [
        "### reshape"
      ]
    },
    {
      "cell_type": "code",
      "metadata": {
        "id": "vS9lejr1f27V",
        "colab_type": "code",
        "colab": {}
      },
      "source": [
        "arr = np.arange(20)\n",
        "arr "
      ],
      "execution_count": null,
      "outputs": []
    },
    {
      "cell_type": "code",
      "metadata": {
        "id": "SaSE3qobgPQ_",
        "colab_type": "code",
        "colab": {}
      },
      "source": [
        "arr.reshape(4, 5)"
      ],
      "execution_count": null,
      "outputs": []
    },
    {
      "cell_type": "code",
      "metadata": {
        "id": "n4U9ec0qqVDX",
        "colab_type": "code",
        "colab": {}
      },
      "source": [
        "arr.reshape(2, 10) "
      ],
      "execution_count": null,
      "outputs": []
    },
    {
      "cell_type": "code",
      "metadata": {
        "id": "J9F4-7E1gPUZ",
        "colab_type": "code",
        "colab": {}
      },
      "source": [
        "arr.reshape(2, 10, order='F')"
      ],
      "execution_count": null,
      "outputs": []
    },
    {
      "cell_type": "code",
      "metadata": {
        "id": "zJN-01F7czO0",
        "colab_type": "code",
        "colab": {}
      },
      "source": [
        "arr = np.arange(60)\n",
        "arr "
      ],
      "execution_count": null,
      "outputs": []
    },
    {
      "cell_type": "code",
      "metadata": {
        "id": "xzecan1TgmkK",
        "colab_type": "code",
        "colab": {}
      },
      "source": [
        "arr.reshape(-1, 10)"
      ],
      "execution_count": null,
      "outputs": []
    },
    {
      "cell_type": "code",
      "metadata": {
        "id": "ErvIKK57gTg2",
        "colab_type": "code",
        "colab": {}
      },
      "source": [
        "arr.reshape(6, -1)"
      ],
      "execution_count": null,
      "outputs": []
    },
    {
      "cell_type": "markdown",
      "metadata": {
        "id": "88OlV4t5L2kS",
        "colab_type": "text"
      },
      "source": [
        "### T"
      ]
    },
    {
      "cell_type": "code",
      "metadata": {
        "id": "9iUBrDGkL18a",
        "colab_type": "code",
        "colab": {}
      },
      "source": [
        "x = np.arange(6).reshape((-1,3))\n",
        "x "
      ],
      "execution_count": null,
      "outputs": []
    },
    {
      "cell_type": "code",
      "metadata": {
        "id": "GRbHXWU2Lh2Y",
        "colab_type": "code",
        "colab": {}
      },
      "source": [
        "x.T"
      ],
      "execution_count": null,
      "outputs": []
    },
    {
      "cell_type": "markdown",
      "metadata": {
        "id": "wQcUmg8piVMY",
        "colab_type": "text"
      },
      "source": [
        "### transpose"
      ]
    },
    {
      "cell_type": "code",
      "metadata": {
        "id": "_JD3nNharuF4",
        "colab_type": "code",
        "colab": {}
      },
      "source": [
        "arr = np.arange(20).reshape(4, 5)\n",
        "arr"
      ],
      "execution_count": null,
      "outputs": []
    },
    {
      "cell_type": "code",
      "metadata": {
        "id": "qlLlVIaSfvmG",
        "colab_type": "code",
        "colab": {}
      },
      "source": [
        "print(arr.transpose().shape)\n",
        "arr.transpose()"
      ],
      "execution_count": null,
      "outputs": []
    },
    {
      "cell_type": "code",
      "metadata": {
        "id": "JnsdBVUxrayJ",
        "colab_type": "code",
        "colab": {}
      },
      "source": [
        "arr = np.zeros((2, 3, 40))\n",
        "arr.transpose().shape"
      ],
      "execution_count": null,
      "outputs": []
    },
    {
      "cell_type": "code",
      "metadata": {
        "id": "_kHK-PIXieyJ",
        "colab_type": "code",
        "colab": {}
      },
      "source": [
        "arr = np.arange(30).reshape(3,2,5)\n",
        "arr"
      ],
      "execution_count": null,
      "outputs": []
    },
    {
      "cell_type": "code",
      "metadata": {
        "id": "3XRlNqw9fYNo",
        "colab_type": "code",
        "colab": {}
      },
      "source": [
        "print(arr.transpose().shape)\n",
        "arr.transpose() "
      ],
      "execution_count": null,
      "outputs": []
    },
    {
      "cell_type": "code",
      "metadata": {
        "id": "uLXatw6RknrC",
        "colab_type": "code",
        "colab": {}
      },
      "source": [
        "print(arr.shape)\n",
        "arr.transpose((1, 0, 2)).shape"
      ],
      "execution_count": null,
      "outputs": []
    },
    {
      "cell_type": "code",
      "metadata": {
        "id": "kQ5opd3YknuC",
        "colab_type": "code",
        "colab": {}
      },
      "source": [
        "arr = np.arange(120).reshape(2,3,4,5)\n",
        "print(arr.shape)\n",
        "arr.transpose((1, 0, 2, 3)).shape"
      ],
      "execution_count": null,
      "outputs": []
    },
    {
      "cell_type": "markdown",
      "metadata": {
        "colab_type": "text",
        "id": "cV0YUbb0wBnX"
      },
      "source": [
        "### 퀴즈-handling_shape"
      ]
    },
    {
      "cell_type": "markdown",
      "metadata": {
        "colab_type": "text",
        "id": "mCn3FWsYwBnY"
      },
      "source": [
        "Q. 주어진 배열을 1차원으로 만들기"
      ]
    },
    {
      "cell_type": "code",
      "metadata": {
        "colab_type": "code",
        "id": "FNS0nrIXwBnZ",
        "colab": {}
      },
      "source": [
        "arr = np.array([[[ 0,  1,  2,  3,  4], [ 5,  6,  7,  8,  9]], [[10, 11, 12, 13, 14], [15, 16, 17, 18, 19]]])\n",
        "arr"
      ],
      "execution_count": null,
      "outputs": []
    },
    {
      "cell_type": "markdown",
      "metadata": {
        "colab_type": "text",
        "id": "cICoSY5awBne"
      },
      "source": [
        "Q. 배열의 shape을 주어진 shape으로 바꿔보기  \n",
        "1. (2, 3, 4)  \n",
        "2. (4, 6)  \n"
      ]
    },
    {
      "cell_type": "code",
      "metadata": {
        "colab_type": "code",
        "id": "t43w_p5WwBne",
        "colab": {}
      },
      "source": [
        "arr = np.array([-9,  3,  6,  3, -4, -8,  8, -5, -8,  0,  7,  3,  8,  8,  4, -5, -7, 5, -2, -3, -3, -2,  5,  2])\n",
        "arr"
      ],
      "execution_count": null,
      "outputs": []
    },
    {
      "cell_type": "markdown",
      "metadata": {
        "colab_type": "text",
        "id": "PsAYCmTKwBnj"
      },
      "source": [
        "Q. 다음 배열을 전치시키기 (transpose)"
      ]
    },
    {
      "cell_type": "code",
      "metadata": {
        "colab_type": "code",
        "id": "aWukvK9hwBnk",
        "colab": {}
      },
      "source": [
        "arr = np.array([[-0.91500241,  0.4276329 ],\n",
        "                [ 0.385044  , -0.25167676],\n",
        "                [ 0.04500825, -0.17499328],\n",
        "                [-0.39521657,  1.65379085],\n",
        "                [ 1.11924161, -0.26408849]])\n",
        "arr"
      ],
      "execution_count": null,
      "outputs": []
    },
    {
      "cell_type": "markdown",
      "metadata": {
        "colab_type": "text",
        "id": "tQNdAP2KwBnq"
      },
      "source": [
        "Q. 주어진 배열의 shape을 바꾸려고 할 때, 바꿀 수 없는 형태를 고르고 이유를 생각해보기  \n",
        "1. (2, 2, -1)  \n",
        "2. (2, -1, 3)  \n",
        "3. (10, -1)  \n",
        "4. (5, 5, 5)  "
      ]
    },
    {
      "cell_type": "code",
      "metadata": {
        "colab_type": "code",
        "id": "xYjleRJYwBnq",
        "colab": {}
      },
      "source": [
        "arr = np.random.randint(-10, 10, 100)"
      ],
      "execution_count": null,
      "outputs": []
    },
    {
      "cell_type": "markdown",
      "metadata": {
        "id": "-qYrzTp9CPZx",
        "colab_type": "text"
      },
      "source": [
        "### 퀴즈정답-handling_shape"
      ]
    },
    {
      "cell_type": "markdown",
      "metadata": {
        "colab_type": "text",
        "id": "mP7RFdEGCi7r"
      },
      "source": [
        "Q. 주어진 배열을 1차원으로 만들기"
      ]
    },
    {
      "cell_type": "code",
      "metadata": {
        "colab_type": "code",
        "id": "3gXGBzx5Ci7r",
        "colab": {}
      },
      "source": [
        "arr = np.array([[[ 0,  1,  2,  3,  4], [ 5,  6,  7,  8,  9]], [[10, 11, 12, 13, 14], [15, 16, 17, 18, 19]]])\n",
        "arr"
      ],
      "execution_count": null,
      "outputs": []
    },
    {
      "cell_type": "markdown",
      "metadata": {
        "colab_type": "text",
        "id": "E4GOXBzlCi7t"
      },
      "source": [
        "A."
      ]
    },
    {
      "cell_type": "code",
      "metadata": {
        "colab_type": "code",
        "id": "IAZscKUbCi7t",
        "colab": {}
      },
      "source": [
        "print(arr.flatten())\n",
        "print(arr.reshape(-1))\n",
        "print(arr.reshape(arr.size))"
      ],
      "execution_count": null,
      "outputs": []
    },
    {
      "cell_type": "markdown",
      "metadata": {
        "colab_type": "text",
        "id": "2lGVPLuaCiH7"
      },
      "source": [
        "Q. 배열의 shape을 주어진 shape으로 바꿔보기  \n",
        "1. (2, 3, 4)  \n",
        "2. (4, 6)  \n"
      ]
    },
    {
      "cell_type": "code",
      "metadata": {
        "colab_type": "code",
        "id": "A-80RciQCiH7",
        "colab": {}
      },
      "source": [
        "arr = np.array([-9,  3,  6,  3, -4, -8,  8, -5, -8,  0,  7,  3,  8,  8,  4, -5, -7, 5, -2, -3, -3, -2,  5,  2])\n",
        "arr"
      ],
      "execution_count": null,
      "outputs": []
    },
    {
      "cell_type": "markdown",
      "metadata": {
        "colab_type": "text",
        "id": "V7Geaww4CiH-"
      },
      "source": [
        "A."
      ]
    },
    {
      "cell_type": "code",
      "metadata": {
        "colab_type": "code",
        "id": "sqj7GdRICiH_",
        "colab": {}
      },
      "source": [
        "print(arr.reshape(2, 3, 4))\n",
        "print(arr.reshape(2, 3, -1))\n",
        "print(arr.reshape(2, -1, 4))\n",
        "print(arr.reshape(-1, 3, 4))"
      ],
      "execution_count": null,
      "outputs": []
    },
    {
      "cell_type": "code",
      "metadata": {
        "id": "yvTJt89jtkKA",
        "colab_type": "code",
        "colab": {}
      },
      "source": [
        "print(arr.reshape(4, 6))\n",
        "print(arr.reshape(-1, 6))\n",
        "print(arr.reshape(4, -1))"
      ],
      "execution_count": null,
      "outputs": []
    },
    {
      "cell_type": "markdown",
      "metadata": {
        "colab_type": "text",
        "id": "ayfaAALcCgPI"
      },
      "source": [
        "Q. 다음 배열을 전치시키기 (transpose)"
      ]
    },
    {
      "cell_type": "code",
      "metadata": {
        "colab_type": "code",
        "id": "hAhAaRicCgPJ",
        "colab": {}
      },
      "source": [
        "arr = np.array([[-0.91500241,  0.4276329 ],\n",
        "                [ 0.385044  , -0.25167676],\n",
        "                [ 0.04500825, -0.17499328],\n",
        "                [-0.39521657,  1.65379085],\n",
        "                [ 1.11924161, -0.26408849]])\n",
        "arr"
      ],
      "execution_count": null,
      "outputs": []
    },
    {
      "cell_type": "markdown",
      "metadata": {
        "colab_type": "text",
        "id": "Pa8dj2tvCgPK"
      },
      "source": [
        "A."
      ]
    },
    {
      "cell_type": "code",
      "metadata": {
        "colab_type": "code",
        "id": "ioswfGBKCgPL",
        "colab": {}
      },
      "source": [
        "arr.T"
      ],
      "execution_count": null,
      "outputs": []
    },
    {
      "cell_type": "code",
      "metadata": {
        "id": "Ds6t9qtsufyQ",
        "colab_type": "code",
        "colab": {}
      },
      "source": [
        "arr.transpose()"
      ],
      "execution_count": null,
      "outputs": []
    },
    {
      "cell_type": "markdown",
      "metadata": {
        "id": "ZwTivcWvCYCp",
        "colab_type": "text"
      },
      "source": [
        "Q. 주어진 배열의 shape을 바꾸려고 할 때, 바꿀 수 없는 형태를 고르고 이유를 생각해보기  \n",
        "1. (2, 2, -1)  \n",
        "2. (2, -1, 3)  \n",
        "3. (10, -1)  \n",
        "4. (5, 5, 5)  "
      ]
    },
    {
      "cell_type": "code",
      "metadata": {
        "id": "Xo7bYLgbCYVK",
        "colab_type": "code",
        "colab": {}
      },
      "source": [
        "arr = np.random.randint(-10, 10, 100)"
      ],
      "execution_count": null,
      "outputs": []
    },
    {
      "cell_type": "markdown",
      "metadata": {
        "id": "x_V99VjFCYjE",
        "colab_type": "text"
      },
      "source": [
        "A.  \n",
        "2번 불가능. 3은 100의 약수가 아님.  \n",
        "4번 불가능. 현재 배열의 원소는 100개인데 (5, 5, 5)의 원소는 125개이므로 불가능함."
      ]
    },
    {
      "cell_type": "markdown",
      "metadata": {
        "id": "8-QjiaAqg3e1",
        "colab_type": "text"
      },
      "source": [
        "## indexing,slicing,boolean_indexing,fancy_indexing"
      ]
    },
    {
      "cell_type": "markdown",
      "metadata": {
        "id": "pqHFednXkLso",
        "colab_type": "text"
      },
      "source": [
        "### indexing, slicing"
      ]
    },
    {
      "cell_type": "code",
      "metadata": {
        "id": "RGTl4nFKhiNn",
        "colab_type": "code",
        "colab": {}
      },
      "source": [
        "arr1d = np.arange(8)\n",
        "arr1d"
      ],
      "execution_count": null,
      "outputs": []
    },
    {
      "cell_type": "code",
      "metadata": {
        "id": "vttPvjuUiCot",
        "colab_type": "code",
        "colab": {}
      },
      "source": [
        "arr1d[1]"
      ],
      "execution_count": null,
      "outputs": []
    },
    {
      "cell_type": "code",
      "metadata": {
        "id": "Xk3VT4Tei1ZY",
        "colab_type": "code",
        "colab": {}
      },
      "source": [
        "arr1d[-1]"
      ],
      "execution_count": null,
      "outputs": []
    },
    {
      "cell_type": "code",
      "metadata": {
        "id": "NkTbwuNBiDYs",
        "colab_type": "code",
        "colab": {}
      },
      "source": [
        "arr1d[:4]"
      ],
      "execution_count": null,
      "outputs": []
    },
    {
      "cell_type": "code",
      "metadata": {
        "id": "R8IJZYQmiDbh",
        "colab_type": "code",
        "colab": {}
      },
      "source": [
        "arr1d[3:6] = 100 # 브로드캐스팅"
      ],
      "execution_count": null,
      "outputs": []
    },
    {
      "cell_type": "code",
      "metadata": {
        "id": "zYhOaU77iDeJ",
        "colab_type": "code",
        "colab": {}
      },
      "source": [
        "arr1d "
      ],
      "execution_count": null,
      "outputs": []
    },
    {
      "cell_type": "code",
      "metadata": {
        "id": "qg2QBGeaiDhH",
        "colab_type": "code",
        "colab": {}
      },
      "source": [
        "arr2d = np.arange(20).reshape(4, -1)\n",
        "arr2d "
      ],
      "execution_count": null,
      "outputs": []
    },
    {
      "cell_type": "code",
      "metadata": {
        "id": "uCr5CuEAiCx1",
        "colab_type": "code",
        "colab": {}
      },
      "source": [
        "arr2d[0]"
      ],
      "execution_count": null,
      "outputs": []
    },
    {
      "cell_type": "code",
      "metadata": {
        "id": "I2Gq7yIkiCu3",
        "colab_type": "code",
        "colab": {}
      },
      "source": [
        "arr2d[1][2]"
      ],
      "execution_count": null,
      "outputs": []
    },
    {
      "cell_type": "code",
      "metadata": {
        "id": "SXHsLggdiCr5",
        "colab_type": "code",
        "colab": {}
      },
      "source": [
        "arr2d[1, 2]"
      ],
      "execution_count": null,
      "outputs": []
    },
    {
      "cell_type": "code",
      "metadata": {
        "id": "2skHxhSURItY",
        "colab_type": "code",
        "colab": {}
      },
      "source": [
        "arr2d[:3][:2]"
      ],
      "execution_count": null,
      "outputs": []
    },
    {
      "cell_type": "code",
      "metadata": {
        "id": "WByUwRikjXlX",
        "colab_type": "code",
        "colab": {}
      },
      "source": [
        "arr2d[:3, :2]"
      ],
      "execution_count": null,
      "outputs": []
    },
    {
      "cell_type": "code",
      "metadata": {
        "id": "zzosX55BiC08",
        "colab_type": "code",
        "colab": {}
      },
      "source": [
        "arr3d = np.arange(30).reshape(2, 3, -1)\n",
        "arr3d"
      ],
      "execution_count": null,
      "outputs": []
    },
    {
      "cell_type": "code",
      "metadata": {
        "id": "jrawGAmUiC3u",
        "colab_type": "code",
        "colab": {}
      },
      "source": [
        "arr3d[1, 0, 2]"
      ],
      "execution_count": null,
      "outputs": []
    },
    {
      "cell_type": "markdown",
      "metadata": {
        "id": "Io8NnHy3kRA7",
        "colab_type": "text"
      },
      "source": [
        "### boolean indexing"
      ]
    },
    {
      "cell_type": "code",
      "metadata": {
        "id": "VMwitKOCucmp",
        "colab_type": "code",
        "colab": {}
      },
      "source": [
        "arr = np.array([0, 1, 2, 3, 4], int)\n",
        "arr[[True, False, True, False, True]]"
      ],
      "execution_count": null,
      "outputs": []
    },
    {
      "cell_type": "code",
      "metadata": {
        "id": "3mZPsi_BkAAo",
        "colab_type": "code",
        "colab": {}
      },
      "source": [
        "arr = np.array([10, 20, 30, 40, 50, 60], int)\n",
        "arr"
      ],
      "execution_count": null,
      "outputs": []
    },
    {
      "cell_type": "code",
      "metadata": {
        "id": "F7I7UswqkAE2",
        "colab_type": "code",
        "colab": {}
      },
      "source": [
        "arr % 3 == 0"
      ],
      "execution_count": null,
      "outputs": []
    },
    {
      "cell_type": "code",
      "metadata": {
        "id": "42kXZ0nAkAIr",
        "colab_type": "code",
        "colab": {}
      },
      "source": [
        "arr[arr%3==0]"
      ],
      "execution_count": null,
      "outputs": []
    },
    {
      "cell_type": "markdown",
      "metadata": {
        "id": "oDicPiHwmIn-",
        "colab_type": "text"
      },
      "source": [
        "### fancy indexing"
      ]
    },
    {
      "cell_type": "markdown",
      "metadata": {
        "id": "pGIuLNYWmNr-",
        "colab_type": "text"
      },
      "source": [
        "fancy indexing: numpy에서 정수 배열을 인덱스로 사용하여 인덱싱 하는 것."
      ]
    },
    {
      "cell_type": "code",
      "metadata": {
        "id": "OeM0EIS4kAMK",
        "colab_type": "code",
        "colab": {}
      },
      "source": [
        "arr = np.arange(10)*10+5 \n",
        "arr"
      ],
      "execution_count": null,
      "outputs": []
    },
    {
      "cell_type": "code",
      "metadata": {
        "id": "G5m0L8Y_kAPc",
        "colab_type": "code",
        "colab": {}
      },
      "source": [
        "arr[[0, 2, 4, 6]]"
      ],
      "execution_count": null,
      "outputs": []
    },
    {
      "cell_type": "code",
      "metadata": {
        "id": "PPLEa3H8vCXS",
        "colab_type": "code",
        "colab": {}
      },
      "source": [
        "arr2d = np.arange(20).reshape(4, 5)\n",
        "arr2d"
      ],
      "execution_count": null,
      "outputs": []
    },
    {
      "cell_type": "code",
      "metadata": {
        "id": "K8xKtFWxV0H-",
        "colab_type": "code",
        "colab": {}
      },
      "source": [
        "arr2d[[0, 2]] "
      ],
      "execution_count": null,
      "outputs": []
    },
    {
      "cell_type": "code",
      "metadata": {
        "id": "a27UspuAVjhn",
        "colab_type": "code",
        "colab": {}
      },
      "source": [
        "arr2d[[0, 1], [4]] "
      ],
      "execution_count": null,
      "outputs": []
    },
    {
      "cell_type": "code",
      "metadata": {
        "id": "fGMQAdAxvNfb",
        "colab_type": "code",
        "colab": {}
      },
      "source": [
        "arr2d[[0, 1], [4, 3]]   # (0, 4) , (2, 3)"
      ],
      "execution_count": null,
      "outputs": []
    },
    {
      "cell_type": "code",
      "metadata": {
        "id": "c6YQcOFsVqlr",
        "colab_type": "code",
        "colab": {}
      },
      "source": [
        "arr2d[[0, 1, 2], [4, 3, 1]] "
      ],
      "execution_count": null,
      "outputs": []
    },
    {
      "cell_type": "markdown",
      "metadata": {
        "colab_type": "text",
        "id": "dXmHgURe3g5y"
      },
      "source": [
        "### 퀴즈-indexing,slicing,boolean_indexing,fancy_indexing\n"
      ]
    },
    {
      "cell_type": "markdown",
      "metadata": {
        "colab_type": "text",
        "id": "ciA3R-EF3g5z"
      },
      "source": [
        "Q. 주어진 배열에서 4의 배수인 값만 추출하기"
      ]
    },
    {
      "cell_type": "code",
      "metadata": {
        "colab_type": "code",
        "id": "FfyafDC43g50",
        "colab": {}
      },
      "source": [
        "arr = np.array([174, 169, 183, 104, 124, 131, 172, 134, 133, 105, 114, 121, 177,\n",
        "                142, 143, 151, 114, 163, 177, 147, 140, 155, 196, 192, 121, 134,\n",
        "                103, 152, 107, 166, 124, 185, 122, 115, 121, 127, 196, 151, 105])\n",
        "arr"
      ],
      "execution_count": null,
      "outputs": []
    },
    {
      "cell_type": "markdown",
      "metadata": {
        "colab_type": "text",
        "id": "hc1YXAno3g54"
      },
      "source": [
        "Q. 주어진 배열에서 150보다 작은 값만 추출하기"
      ]
    },
    {
      "cell_type": "code",
      "metadata": {
        "colab_type": "code",
        "id": "1qTfUC3r3g55",
        "colab": {}
      },
      "source": [
        "arr = np.array([174, 169, 183, 104, 124, 131, 172, 134, 133, 105, 114, 121, 177,\n",
        "                142, 143, 151, 114, 163, 177, 147, 140, 155, 196, 192, 121, 134,\n",
        "                103, 152, 107, 166, 124, 185, 122, 115, 121, 127, 196, 151, 105])\n",
        "arr"
      ],
      "execution_count": null,
      "outputs": []
    },
    {
      "cell_type": "markdown",
      "metadata": {
        "colab_type": "text",
        "id": "sjyxxuBL3g59"
      },
      "source": [
        "Q. 주어진 배열에서 4의 배수이면서 150보다 작은 값만 추출하기 "
      ]
    },
    {
      "cell_type": "code",
      "metadata": {
        "colab_type": "code",
        "id": "0qlUTyNL3g59",
        "colab": {}
      },
      "source": [
        "arr = np.array([174, 169, 183, 104, 124, 131, 172, 134, 133, 105, 114, 121, 177,\n",
        "                142, 143, 151, 114, 163, 177, 147, 140, 155, 196, 192, 121, 134,\n",
        "                103, 152, 107, 166, 124, 185, 122, 115, 121, 127, 196, 151, 105])\n",
        "arr"
      ],
      "execution_count": null,
      "outputs": []
    },
    {
      "cell_type": "markdown",
      "metadata": {
        "colab_type": "text",
        "id": "JTbphXYw3g6B"
      },
      "source": [
        "Q. \n",
        "다음 배열의 (2, 3) 원소의 값은?"
      ]
    },
    {
      "cell_type": "code",
      "metadata": {
        "colab_type": "code",
        "id": "wocn8Rf-3g6B",
        "colab": {}
      },
      "source": [
        "arr = np.arange(-20, 20).reshape(4, 10)\n",
        "arr"
      ],
      "execution_count": null,
      "outputs": []
    },
    {
      "cell_type": "markdown",
      "metadata": {
        "colab_type": "text",
        "id": "Iiz7U7cD3g6I"
      },
      "source": [
        "Q. 다음 배열을 행렬로 봤을 때 마지막 열을 추출하여라"
      ]
    },
    {
      "cell_type": "code",
      "metadata": {
        "colab_type": "code",
        "id": "UdSE9G-J3g6I",
        "colab": {}
      },
      "source": [
        "arr = np.arange(-20, 20).reshape(4, 10)\n",
        "arr"
      ],
      "execution_count": null,
      "outputs": []
    },
    {
      "cell_type": "markdown",
      "metadata": {
        "colab_type": "text",
        "id": "BnnLVxt13g6M"
      },
      "source": [
        "Q. 다음 배열을 행렬로 봤을 때 짝수번째 행만 추출하여라"
      ]
    },
    {
      "cell_type": "code",
      "metadata": {
        "colab_type": "code",
        "id": "ov4ntIlH3g6M",
        "colab": {}
      },
      "source": [
        "arr = np.arange(-20, 20).reshape(10, -1)\n",
        "arr"
      ],
      "execution_count": null,
      "outputs": []
    },
    {
      "cell_type": "markdown",
      "metadata": {
        "id": "eZ-2Z4e_Cq-X",
        "colab_type": "text"
      },
      "source": [
        "### 퀴즈정답-indexing,slicing,boolean_indexing,fancy_indexing\n"
      ]
    },
    {
      "cell_type": "markdown",
      "metadata": {
        "colab_type": "text",
        "id": "-LKQnDNkCudZ"
      },
      "source": [
        "Q. 주어진 배열에서 4의 배수인 값만 추출하기"
      ]
    },
    {
      "cell_type": "code",
      "metadata": {
        "colab_type": "code",
        "id": "naTWJXN3Cuda",
        "colab": {}
      },
      "source": [
        "arr = np.array([174, 169, 183, 104, 124, 131, 172, 134, 133, 105, 114, 121, 177,\n",
        "                142, 143, 151, 114, 163, 177, 147, 140, 155, 196, 192, 121, 134,\n",
        "                103, 152, 107, 166, 124, 185, 122, 115, 121, 127, 196, 151, 105])\n",
        "arr"
      ],
      "execution_count": null,
      "outputs": []
    },
    {
      "cell_type": "markdown",
      "metadata": {
        "colab_type": "text",
        "id": "mVVvti-yCudb"
      },
      "source": [
        "A. "
      ]
    },
    {
      "cell_type": "code",
      "metadata": {
        "colab_type": "code",
        "id": "BFj2b_ulCudb",
        "colab": {}
      },
      "source": [
        "arr[arr%4==0]"
      ],
      "execution_count": null,
      "outputs": []
    },
    {
      "cell_type": "markdown",
      "metadata": {
        "colab_type": "text",
        "id": "7c6W8rj9Cudd"
      },
      "source": [
        "Q. 주어진 배열에서 150보다 작은 값만 추출하기"
      ]
    },
    {
      "cell_type": "code",
      "metadata": {
        "colab_type": "code",
        "id": "-Ar7Npi9Cudd",
        "colab": {}
      },
      "source": [
        "arr = np.array([174, 169, 183, 104, 124, 131, 172, 134, 133, 105, 114, 121, 177,\n",
        "                142, 143, 151, 114, 163, 177, 147, 140, 155, 196, 192, 121, 134,\n",
        "                103, 152, 107, 166, 124, 185, 122, 115, 121, 127, 196, 151, 105])\n",
        "arr"
      ],
      "execution_count": null,
      "outputs": []
    },
    {
      "cell_type": "markdown",
      "metadata": {
        "colab_type": "text",
        "id": "kncWVW03Cudf"
      },
      "source": [
        "A."
      ]
    },
    {
      "cell_type": "code",
      "metadata": {
        "colab_type": "code",
        "id": "kLLPeP-VCudg",
        "colab": {}
      },
      "source": [
        "arr[arr<150]"
      ],
      "execution_count": null,
      "outputs": []
    },
    {
      "cell_type": "markdown",
      "metadata": {
        "colab_type": "text",
        "id": "5VDhGAqsxi0N"
      },
      "source": [
        "Q. 주어진 배열에서 4의 배수이면서 150보다 작은 값만 추출하기 "
      ]
    },
    {
      "cell_type": "code",
      "metadata": {
        "id": "0FtEyqLo1a9m",
        "colab_type": "code",
        "colab": {}
      },
      "source": [
        "arr = np.array([174, 169, 183, 104, 124, 131, 172, 134, 133, 105, 114, 121, 177,\n",
        "                142, 143, 151, 114, 163, 177, 147, 140, 155, 196, 192, 121, 134,\n",
        "                103, 152, 107, 166, 124, 185, 122, 115, 121, 127, 196, 151, 105])\n",
        "arr"
      ],
      "execution_count": null,
      "outputs": []
    },
    {
      "cell_type": "markdown",
      "metadata": {
        "colab_type": "text",
        "id": "mBNpIUOhxi0R"
      },
      "source": [
        "A."
      ]
    },
    {
      "cell_type": "code",
      "metadata": {
        "colab_type": "code",
        "id": "MeFw0DGQxi0S",
        "colab": {}
      },
      "source": [
        "arr[(arr%4==0)&(arr<150)]"
      ],
      "execution_count": null,
      "outputs": []
    },
    {
      "cell_type": "markdown",
      "metadata": {
        "colab_type": "text",
        "id": "hsUvzu-Nxi0T"
      },
      "source": [
        "Q. \n",
        "다음 배열의 (2, 3) 원소의 값은?"
      ]
    },
    {
      "cell_type": "code",
      "metadata": {
        "colab_type": "code",
        "id": "nICHNdG5xi0V",
        "colab": {}
      },
      "source": [
        "arr = np.arange(-20, 20).reshape(4, 10)\n",
        "arr"
      ],
      "execution_count": null,
      "outputs": []
    },
    {
      "cell_type": "markdown",
      "metadata": {
        "colab_type": "text",
        "id": "xQUFfhd6xi0X"
      },
      "source": [
        "A."
      ]
    },
    {
      "cell_type": "code",
      "metadata": {
        "colab_type": "code",
        "id": "WqX3h5aqxi0X",
        "colab": {}
      },
      "source": [
        "arr[2, 3]"
      ],
      "execution_count": null,
      "outputs": []
    },
    {
      "cell_type": "code",
      "metadata": {
        "id": "c20x1xlL2NSb",
        "colab_type": "code",
        "colab": {}
      },
      "source": [
        "arr[2][3]"
      ],
      "execution_count": null,
      "outputs": []
    },
    {
      "cell_type": "markdown",
      "metadata": {
        "colab_type": "text",
        "id": "IEG1HE_JCudh"
      },
      "source": [
        "Q. 다음 배열을 행렬로 봤을 때 마지막 열을 추출하여라"
      ]
    },
    {
      "cell_type": "code",
      "metadata": {
        "colab_type": "code",
        "id": "X4h94d7nCudi",
        "colab": {}
      },
      "source": [
        "arr = np.arange(-20, 20).reshape(4, 10)\n",
        "arr"
      ],
      "execution_count": null,
      "outputs": []
    },
    {
      "cell_type": "markdown",
      "metadata": {
        "colab_type": "text",
        "id": "Mosmg-MzCudk"
      },
      "source": [
        "A."
      ]
    },
    {
      "cell_type": "code",
      "metadata": {
        "colab_type": "code",
        "id": "sscFBwZvCudk",
        "colab": {}
      },
      "source": [
        "arr[:, -1]"
      ],
      "execution_count": null,
      "outputs": []
    },
    {
      "cell_type": "markdown",
      "metadata": {
        "colab_type": "text",
        "id": "rQf1_P22Cudm"
      },
      "source": [
        "Q. 다음 배열을 행렬로 봤을 때 짝수번째 행만 추출하여라"
      ]
    },
    {
      "cell_type": "code",
      "metadata": {
        "colab_type": "code",
        "id": "LRwqxzKNCudm",
        "colab": {}
      },
      "source": [
        "arr = np.arange(-20, 20).reshape(10, -1)\n",
        "arr"
      ],
      "execution_count": null,
      "outputs": []
    },
    {
      "cell_type": "markdown",
      "metadata": {
        "colab_type": "text",
        "id": "tmwsVfn7Cudp"
      },
      "source": [
        "A."
      ]
    },
    {
      "cell_type": "code",
      "metadata": {
        "colab_type": "code",
        "id": "oK6S8rfECudp",
        "colab": {}
      },
      "source": [
        "arr[1::2]"
      ],
      "execution_count": null,
      "outputs": []
    },
    {
      "cell_type": "code",
      "metadata": {
        "id": "XzLqdHaf3LWq",
        "colab_type": "code",
        "colab": {}
      },
      "source": [
        "arr[[1, 3, 5, 7, 9]]"
      ],
      "execution_count": null,
      "outputs": []
    },
    {
      "cell_type": "markdown",
      "metadata": {
        "id": "CsCfr1JiLhEc",
        "colab_type": "text"
      },
      "source": [
        "## 산술연산"
      ]
    },
    {
      "cell_type": "markdown",
      "metadata": {
        "id": "176X0qsWSMtd",
        "colab_type": "text"
      },
      "source": [
        "* numpy 배열의 중요한 특징은 for 문을 작성하지 않고 데이터를 일괄 처리할 수 있음(벡터화)"
      ]
    },
    {
      "cell_type": "code",
      "metadata": {
        "id": "EZiO-jDMSDKT",
        "colab_type": "code",
        "colab": {}
      },
      "source": [
        "arr = np.array([[1, 2, 3], [4, 5, 6]])\n",
        "arr"
      ],
      "execution_count": null,
      "outputs": []
    },
    {
      "cell_type": "code",
      "metadata": {
        "id": "KAi4lV8JSDNX",
        "colab_type": "code",
        "colab": {}
      },
      "source": [
        "arr + arr"
      ],
      "execution_count": null,
      "outputs": []
    },
    {
      "cell_type": "code",
      "metadata": {
        "id": "2SHYi68na4V5",
        "colab_type": "code",
        "colab": {}
      },
      "source": [
        "arr - arr "
      ],
      "execution_count": null,
      "outputs": []
    },
    {
      "cell_type": "code",
      "metadata": {
        "id": "KW8NPcAxandb",
        "colab_type": "code",
        "colab": {}
      },
      "source": [
        "arr * arr"
      ],
      "execution_count": null,
      "outputs": []
    },
    {
      "cell_type": "code",
      "metadata": {
        "id": "0_6wXTsbanhD",
        "colab_type": "code",
        "colab": {}
      },
      "source": [
        "arr / arr"
      ],
      "execution_count": null,
      "outputs": []
    },
    {
      "cell_type": "code",
      "metadata": {
        "id": "3DtIJeqDcLuk",
        "colab_type": "code",
        "colab": {}
      },
      "source": [
        "arr**arr"
      ],
      "execution_count": null,
      "outputs": []
    },
    {
      "cell_type": "code",
      "metadata": {
        "id": "igefEZB3anlk",
        "colab_type": "code",
        "colab": {}
      },
      "source": [
        "arr + 10"
      ],
      "execution_count": null,
      "outputs": []
    },
    {
      "cell_type": "code",
      "metadata": {
        "id": "N2hFz5aBan0w",
        "colab_type": "code",
        "colab": {}
      },
      "source": [
        "10 - arr"
      ],
      "execution_count": null,
      "outputs": []
    },
    {
      "cell_type": "code",
      "metadata": {
        "id": "AlLbupmQanwU",
        "colab_type": "code",
        "colab": {}
      },
      "source": [
        "arr*3"
      ],
      "execution_count": null,
      "outputs": []
    },
    {
      "cell_type": "code",
      "metadata": {
        "id": "2kBO5_6IcHnO",
        "colab_type": "code",
        "colab": {}
      },
      "source": [
        "arr/3"
      ],
      "execution_count": null,
      "outputs": []
    },
    {
      "cell_type": "code",
      "metadata": {
        "id": "1MgiCm1-cHw_",
        "colab_type": "code",
        "colab": {}
      },
      "source": [
        "arr//3"
      ],
      "execution_count": null,
      "outputs": []
    },
    {
      "cell_type": "code",
      "metadata": {
        "id": "uPZBmHEQcH03",
        "colab_type": "code",
        "colab": {}
      },
      "source": [
        "arr**3"
      ],
      "execution_count": null,
      "outputs": []
    },
    {
      "cell_type": "code",
      "metadata": {
        "id": "qXJTUcnhdOf0",
        "colab_type": "code",
        "colab": {}
      },
      "source": [
        "arr2 = np.array([100, 200, 300])\n",
        "arr2"
      ],
      "execution_count": null,
      "outputs": []
    },
    {
      "cell_type": "code",
      "metadata": {
        "id": "S3k-GsmjRY_F",
        "colab_type": "code",
        "colab": {}
      },
      "source": [
        "arr "
      ],
      "execution_count": null,
      "outputs": []
    },
    {
      "cell_type": "code",
      "metadata": {
        "id": "2J0sIdBvXJb4",
        "colab_type": "code",
        "colab": {}
      },
      "source": [
        "arr2"
      ],
      "execution_count": null,
      "outputs": []
    },
    {
      "cell_type": "code",
      "metadata": {
        "id": "f6nYrsJrgcjV",
        "colab_type": "code",
        "colab": {}
      },
      "source": [
        "arr + arr2 "
      ],
      "execution_count": null,
      "outputs": []
    },
    {
      "cell_type": "code",
      "metadata": {
        "id": "PnPEZc-1gmMO",
        "colab_type": "code",
        "colab": {}
      },
      "source": [
        "arr*arr2 "
      ],
      "execution_count": null,
      "outputs": []
    },
    {
      "cell_type": "code",
      "metadata": {
        "id": "SkQ1y9i-0RFV",
        "colab_type": "code",
        "colab": {}
      },
      "source": [
        "arr3 = np.array([[100],[200]])\n",
        "arr3 "
      ],
      "execution_count": null,
      "outputs": []
    },
    {
      "cell_type": "code",
      "metadata": {
        "id": "xml_PhJZXehi",
        "colab_type": "code",
        "colab": {}
      },
      "source": [
        "arr"
      ],
      "execution_count": null,
      "outputs": []
    },
    {
      "cell_type": "code",
      "metadata": {
        "id": "a2s7zdvOXer5",
        "colab_type": "code",
        "colab": {}
      },
      "source": [
        "arr3"
      ],
      "execution_count": null,
      "outputs": []
    },
    {
      "cell_type": "code",
      "metadata": {
        "id": "tZ9_ylF30Xj1",
        "colab_type": "code",
        "colab": {}
      },
      "source": [
        "arr + arr3 "
      ],
      "execution_count": null,
      "outputs": []
    },
    {
      "cell_type": "code",
      "metadata": {
        "id": "FGGUiwhUcH88",
        "colab_type": "code",
        "colab": {}
      },
      "source": [
        "arr > 3"
      ],
      "execution_count": null,
      "outputs": []
    },
    {
      "cell_type": "code",
      "metadata": {
        "id": "5EHyEMb5hYmz",
        "colab_type": "code",
        "colab": {}
      },
      "source": [
        "arr > arr2"
      ],
      "execution_count": null,
      "outputs": []
    },
    {
      "cell_type": "markdown",
      "metadata": {
        "colab_type": "text",
        "id": "CMRlojJi91uu"
      },
      "source": [
        "### 퀴즈-산술연산\n"
      ]
    },
    {
      "cell_type": "markdown",
      "metadata": {
        "colab_type": "text",
        "id": "JMouftuh91uv"
      },
      "source": [
        "Q.  다음 배열의 각 원소를 10으로 나누기"
      ]
    },
    {
      "cell_type": "code",
      "metadata": {
        "colab_type": "code",
        "id": "n27BSnEh91uv",
        "colab": {}
      },
      "source": [
        "arr = np.array([[740, 230, 730, 130, 390],\n",
        "                [340, 340, 340, 150, 160],\n",
        "                [370, 860, 170, 430, 440],\n",
        "                [480, 280, 370, 100, 110],\n",
        "                [580, 180, 110, 630, 160]])\n",
        "arr"
      ],
      "execution_count": null,
      "outputs": []
    },
    {
      "cell_type": "markdown",
      "metadata": {
        "colab_type": "text",
        "id": "DWBesEOl91u0"
      },
      "source": [
        "Q.  다음 배열 arr과 더하기 연산을 할 수 있는 배열을 모두 고르기  \n",
        "(실제로 해보기 전에 생각해서 가능 여부를 판단하고 실행시켜서 확인하기)\n",
        "1. ```np.array([[1], [2], [3]]) ```\n",
        "2. ``` np.array([1, 2, 3, 4, 5])```\n",
        "3. ```np.array([1, 2, 3]) ```\n",
        "4. ```np.array([1])```"
      ]
    },
    {
      "cell_type": "code",
      "metadata": {
        "colab_type": "code",
        "id": "XwUY8WjQ91u0",
        "colab": {}
      },
      "source": [
        "arr = np.array([[740, 230, 730, 130, 390],\n",
        "                [340, 340, 340, 150, 160],\n",
        "                [370, 860, 170, 430, 440]])"
      ],
      "execution_count": null,
      "outputs": []
    },
    {
      "cell_type": "markdown",
      "metadata": {
        "colab_type": "text",
        "id": "TMPRlYyB91u8"
      },
      "source": [
        "Q. 다음 배열을 행렬로 보았을 때 마지막 열에만 100을 뺀 행렬을 구하기"
      ]
    },
    {
      "cell_type": "code",
      "metadata": {
        "colab_type": "code",
        "id": "3je_Fiby91u9",
        "colab": {}
      },
      "source": [
        "arr = np.array([[174, 169, 183, 104],\n",
        "                [124, 131, 172, 134],\n",
        "                [133, 105, 114, 121],\n",
        "                [142, 143, 151, 114],\n",
        "                [163, 177, 147, 140],\n",
        "                [155, 196, 192, 121],\n",
        "                [103, 152, 107, 166],\n",
        "                [124, 185, 122, 115],\n",
        "                [121, 127, 196, 151]])\n",
        "arr"
      ],
      "execution_count": null,
      "outputs": []
    },
    {
      "cell_type": "markdown",
      "metadata": {
        "colab_type": "text",
        "id": "3-htopPd91vA"
      },
      "source": [
        "Q. arr1과 arr2를 이용해서 두가지 ndarray를 만들어보기\n",
        "1. output: \n",
        "```\n",
        "array([[11, 12, 13, 14],\n",
        "       [21, 22, 23, 24],\n",
        "       [31, 32, 33, 34],\n",
        "       [41, 42, 43, 44]])\n",
        "```\n",
        "2. output:\n",
        "```\n",
        "array([[11, 11, 11, 11],\n",
        "       [22, 22, 22, 22],\n",
        "       [33, 33, 33, 33],\n",
        "       [44, 44, 44, 44]])\n",
        "```"
      ]
    },
    {
      "cell_type": "code",
      "metadata": {
        "colab_type": "code",
        "id": "OirhoI8091vA",
        "colab": {}
      },
      "source": [
        "arr1 = np.array([1, 2, 3, 4])\n",
        "arr2 = np.array([[10, 10, 10, 10], [20, 20, 20, 20], [30, 30, 30, 30], [40, 40, 40, 40]])"
      ],
      "execution_count": null,
      "outputs": []
    },
    {
      "cell_type": "markdown",
      "metadata": {
        "colab_type": "text",
        "id": "2F3Ml1VGC3FA"
      },
      "source": [
        "### 퀴즈정답-산술연산\n"
      ]
    },
    {
      "cell_type": "markdown",
      "metadata": {
        "colab_type": "text",
        "id": "nr164biN6XCt"
      },
      "source": [
        "Q.  다음 배열의 각 원소를 10으로 나누기"
      ]
    },
    {
      "cell_type": "code",
      "metadata": {
        "colab_type": "code",
        "id": "z7s0bgpt6XCv",
        "colab": {}
      },
      "source": [
        "arr = np.array([[740, 230, 730, 130, 390],\n",
        "                [340, 340, 340, 150, 160],\n",
        "                [370, 860, 170, 430, 440],\n",
        "                [480, 280, 370, 100, 110],\n",
        "                [580, 180, 110, 630, 160]])\n",
        "arr"
      ],
      "execution_count": null,
      "outputs": []
    },
    {
      "cell_type": "markdown",
      "metadata": {
        "colab_type": "text",
        "id": "1ejs91nY6XCx"
      },
      "source": [
        "A."
      ]
    },
    {
      "cell_type": "code",
      "metadata": {
        "colab_type": "code",
        "id": "czFrad4-6XCx",
        "colab": {}
      },
      "source": [
        "arr/10"
      ],
      "execution_count": null,
      "outputs": []
    },
    {
      "cell_type": "markdown",
      "metadata": {
        "colab_type": "text",
        "id": "dtfcmi-BC3FF"
      },
      "source": [
        "Q.  다음 배열 arr과 더하기 연산을 할 수 있는 배열을 모두 고르기  \n",
        "(실제로 해보기 전에 생각해서 가능 여부를 판단하고 실행시켜서 확인하기)\n",
        "1. ```np.array([[1], [2], [3]]) ```\n",
        "2. ``` np.array([1, 2, 3, 4, 5])```\n",
        "3. ```np.array([1, 2, 3]) ```\n",
        "4. ```np.array([1])```"
      ]
    },
    {
      "cell_type": "code",
      "metadata": {
        "colab_type": "code",
        "id": "cljiXy0qC3FG",
        "colab": {}
      },
      "source": [
        "arr = np.array([[740, 230, 730, 130, 390],\n",
        "                [340, 340, 340, 150, 160],\n",
        "                [370, 860, 170, 430, 440]])"
      ],
      "execution_count": null,
      "outputs": []
    },
    {
      "cell_type": "markdown",
      "metadata": {
        "colab_type": "text",
        "id": "8KjNPcuEC3FH"
      },
      "source": [
        "A."
      ]
    },
    {
      "cell_type": "code",
      "metadata": {
        "colab_type": "code",
        "id": "ZRT95w3bC3FH",
        "colab": {}
      },
      "source": [
        "#1 \n",
        "arr + np.array([[1], [2], [3]])"
      ],
      "execution_count": null,
      "outputs": []
    },
    {
      "cell_type": "code",
      "metadata": {
        "id": "bwIyi9jl7fIa",
        "colab_type": "code",
        "colab": {}
      },
      "source": [
        "#2\n",
        "arr + np.array([1, 2, 3, 4, 5])"
      ],
      "execution_count": null,
      "outputs": []
    },
    {
      "cell_type": "code",
      "metadata": {
        "id": "URImRp3g7twb",
        "colab_type": "code",
        "colab": {}
      },
      "source": [
        "#3\n",
        "arr + np.array([1, 2, 3])"
      ],
      "execution_count": null,
      "outputs": []
    },
    {
      "cell_type": "code",
      "metadata": {
        "id": "FByl4UiD8iJc",
        "colab_type": "code",
        "colab": {}
      },
      "source": [
        "#4\n",
        "arr + np.array([1])"
      ],
      "execution_count": null,
      "outputs": []
    },
    {
      "cell_type": "markdown",
      "metadata": {
        "colab_type": "text",
        "id": "MkyjhjEFC3FB"
      },
      "source": [
        "Q. 다음 배열을 행렬로 보았을 때 마지막 열에만 100을 뺀 행렬을 구하기"
      ]
    },
    {
      "cell_type": "code",
      "metadata": {
        "colab_type": "code",
        "id": "CLN38SZ8C3FB",
        "colab": {}
      },
      "source": [
        "arr = np.array([[174, 169, 183, 104],\n",
        "                [124, 131, 172, 134],\n",
        "                [133, 105, 114, 121],\n",
        "                [142, 143, 151, 114],\n",
        "                [163, 177, 147, 140],\n",
        "                [155, 196, 192, 121],\n",
        "                [103, 152, 107, 166],\n",
        "                [124, 185, 122, 115],\n",
        "                [121, 127, 196, 151]])\n",
        "arr"
      ],
      "execution_count": null,
      "outputs": []
    },
    {
      "cell_type": "markdown",
      "metadata": {
        "colab_type": "text",
        "id": "FuUfdSaYC3FD"
      },
      "source": [
        "A."
      ]
    },
    {
      "cell_type": "code",
      "metadata": {
        "colab_type": "code",
        "id": "taPJwzhDC3FD",
        "colab": {}
      },
      "source": [
        "arr + [0, 0, 0, -100]"
      ],
      "execution_count": null,
      "outputs": []
    },
    {
      "cell_type": "markdown",
      "metadata": {
        "colab_type": "text",
        "id": "6AQHhBEnvP5z"
      },
      "source": [
        "Q. arr1과 arr2를 이용해서 두가지 ndarray를 만들어보기\n",
        "1. output: \n",
        "```\n",
        "array([[11, 12, 13, 14],\n",
        "       [21, 22, 23, 24],\n",
        "       [31, 32, 33, 34],\n",
        "       [41, 42, 43, 44]])\n",
        "```\n",
        "2. output:\n",
        "```\n",
        "array([[11, 11, 11, 11],\n",
        "       [22, 22, 22, 22],\n",
        "       [33, 33, 33, 33],\n",
        "       [44, 44, 44, 44]])\n",
        "```"
      ]
    },
    {
      "cell_type": "code",
      "metadata": {
        "colab_type": "code",
        "id": "OMroTfluvP55",
        "colab": {}
      },
      "source": [
        "arr1 = np.array([1, 2, 3, 4])\n",
        "arr2 = np.array([[10, 10, 10, 10], [20, 20, 20, 20], [30, 30, 30, 30], [40, 40, 40, 40]])"
      ],
      "execution_count": null,
      "outputs": []
    },
    {
      "cell_type": "markdown",
      "metadata": {
        "id": "Zg9pBq-P9XfV",
        "colab_type": "text"
      },
      "source": [
        "A."
      ]
    },
    {
      "cell_type": "code",
      "metadata": {
        "id": "KmAFcVPW9Xqm",
        "colab_type": "code",
        "colab": {}
      },
      "source": [
        "arr1 + arr2"
      ],
      "execution_count": null,
      "outputs": []
    },
    {
      "cell_type": "code",
      "metadata": {
        "id": "NQWQMXuD9fZI",
        "colab_type": "code",
        "colab": {}
      },
      "source": [
        "arr1.reshape(4, 1) + arr2"
      ],
      "execution_count": null,
      "outputs": []
    },
    {
      "cell_type": "markdown",
      "metadata": {
        "id": "F2EYZ5Cuhkkv",
        "colab_type": "text"
      },
      "source": [
        "## 유니버셜함수 "
      ]
    },
    {
      "cell_type": "markdown",
      "metadata": {
        "id": "By3Xg92Cn3d1",
        "colab_type": "text"
      },
      "source": [
        "**유니버셜 함수**  \n",
        "ndarray 안에 있는 데이터 원소별로 연산을 수행하는 함수  \n",
        "하나 이상의 스칼라 값을 받아서 하나 이상의 스칼라 값을 반환하는 간단한 함수를 **고속**으로 수행할 수 있는 벡터화 된 함수\n",
        "\n",
        "|Function|설명|\n",
        "|---|---| \n",
        "|abs, fabs|각 원소의 절대값. 복소수가 아닌 경우 fabs를 쓰면 빠른 연산이 가능|\n",
        "|sqrt|각 원소의 제곱근 계산(arr**0.5)|\n",
        "|square|각 원소의 제곱을 계산(arr**2)|\n",
        "|exp|각 원소에 지수e^x 계산|\n",
        "|log, log10, log2, log1p|자연로그, 밑10인 로그, 밑2인 로그, log(1+x)|\n",
        "|sign|각 원소의 부호(양수 1, 영 0, 음수 -1)|\n",
        "|ceil|각 원소의 값보다 같거나 큰 정수 중 가장 작은 값|\n",
        "|floor|각 원소의 값보다 같거나 작은 정수 중 가장 큰 값|\n",
        "|rint|각 원소의 소수자리를 반올림|\n",
        "|modf|각 원소의 몫과 나머지를 각각의 배열로 반환|\n",
        "|isnan|각 원소가 NaN인지 아닌지. 불리언 배열로 반환|\n",
        "|isfinite, isinf|각 원소가 유한한지, 무한한지. 불리언 배열로 반환|\n",
        "|cos, cosh, sin, sinh, tan, tanh|일반 삼각함수, 쌍곡삼각함수|\n",
        "|arccos, arccosh, arcsin, arcsinh, arctan, arctanh|역삼각함수|\n",
        "\n",
        "\n",
        "\n"
      ]
    },
    {
      "cell_type": "code",
      "metadata": {
        "id": "U8zaJW_P5jfe",
        "colab_type": "code",
        "colab": {}
      },
      "source": [
        "arr = np.arange(-3, 3).reshape(3, -1)\n",
        "arr"
      ],
      "execution_count": null,
      "outputs": []
    },
    {
      "cell_type": "code",
      "metadata": {
        "id": "qAtjg8rb5pLh",
        "colab_type": "code",
        "colab": {}
      },
      "source": [
        "np.exp(arr)"
      ],
      "execution_count": null,
      "outputs": []
    },
    {
      "cell_type": "code",
      "metadata": {
        "id": "fyYirsHh5pPF",
        "colab_type": "code",
        "colab": {}
      },
      "source": [
        "np.floor(arr)"
      ],
      "execution_count": null,
      "outputs": []
    },
    {
      "cell_type": "code",
      "metadata": {
        "id": "uU6zol3q0xcb",
        "colab_type": "code",
        "colab": {}
      },
      "source": [
        "np.isinf([np.inf, -np.inf, 1, np.nan])"
      ],
      "execution_count": null,
      "outputs": []
    },
    {
      "cell_type": "markdown",
      "metadata": {
        "id": "daOXNf7v5R-g",
        "colab_type": "text"
      },
      "source": [
        "|Function|설명|\n",
        "|---|---|\n",
        "|add|두 배열의 같은 위치의 원소끼리 합함|\n",
        "|subtract|첫번째 배열의 원소에서 두번째 배열의 원소를 뺌|\n",
        "|multiply|같은 위치의 원소끼리 곱함|\n",
        "|divide, floor_divide|첫번째 배열의 원소를 두번째 배열의 원소를 나눔. floor는 몫만 취함|\n",
        "|power|첫번째 배열의 원소를 두번째 배열의 원소만큼 제곱함|\n",
        "|maximum, fmax|각 배열의 두 원소 중 큰 값을 반환. fmax는 NaN 무시|\n",
        "|minimum, fmin|각 배열의 두 원소 중 작은 값을 반환. fmax는 NaN 무시|\n",
        "|mod|첫번째 배열의 원소를 두번째 배열의 원소로 나눈 나머지|\n",
        "|copysign|첫번째 배열의 원소의 기호를 두번째 배열의 원소의 기호로 바꿈|\n",
        "|greater, greater_equal, less, less_equal, less, less_equal,|각 두 원소 간의 비교 연산(<, <=, >, >=, ==, !=)를 불리언 배열로 반환|"
      ]
    },
    {
      "cell_type": "code",
      "metadata": {
        "id": "d8v1J1JShYqH",
        "colab_type": "code",
        "colab": {}
      },
      "source": [
        "arr1 = np.arange(8).reshape(2, -1)\n",
        "arr2 = np.arange(-40, 40, 10).reshape(2, -1)\n",
        "print(arr1)\n",
        "print(arr2)"
      ],
      "execution_count": null,
      "outputs": []
    },
    {
      "cell_type": "code",
      "metadata": {
        "id": "WF43I2CX5pSV",
        "colab_type": "code",
        "colab": {}
      },
      "source": [
        "np.maximum(arr1, arr2)"
      ],
      "execution_count": null,
      "outputs": []
    },
    {
      "cell_type": "code",
      "metadata": {
        "id": "6lyI0vID1TBG",
        "colab_type": "code",
        "colab": {}
      },
      "source": [
        "np.subtract(arr1, arr2)"
      ],
      "execution_count": null,
      "outputs": []
    },
    {
      "cell_type": "code",
      "metadata": {
        "id": "klsMpJE51ef9",
        "colab_type": "code",
        "colab": {}
      },
      "source": [
        "np.subtract(arr2, arr1)"
      ],
      "execution_count": null,
      "outputs": []
    },
    {
      "cell_type": "code",
      "metadata": {
        "id": "Yk9pt19f09lM",
        "colab_type": "code",
        "colab": {}
      },
      "source": [
        "np.multiply(arr1, arr2)"
      ],
      "execution_count": null,
      "outputs": []
    },
    {
      "cell_type": "markdown",
      "metadata": {
        "colab_type": "text",
        "id": "tttOz1G3GLy4"
      },
      "source": [
        "### 퀴즈-유니버셜함수\n"
      ]
    },
    {
      "cell_type": "markdown",
      "metadata": {
        "colab_type": "text",
        "id": "BtY2fvPdGLy6"
      },
      "source": [
        "Q. \n",
        "배열의 각 원소에 로그를 씌운 값을 계산하여라.  \n",
        "```(output: array([0.        , 0.69314718, 1.09861229, 1.38629436, 1.60943791, 1.79175947, 1.94591015, 2.07944154, 2.19722458])```"
      ]
    },
    {
      "cell_type": "code",
      "metadata": {
        "colab_type": "code",
        "id": "kmJAtFO7GLy7",
        "colab": {}
      },
      "source": [
        "arr = np.arange(1, 10)"
      ],
      "execution_count": null,
      "outputs": []
    },
    {
      "cell_type": "markdown",
      "metadata": {
        "colab_type": "text",
        "id": "FGylCbcyGLzA"
      },
      "source": [
        "Q. 두 배열의 같은 위치에 있는 원소끼리 비교하고 둘 중에 최대값을 취하는 배열을 만들기.  \n",
        "```output: array([-10,  -9,  -8,  -7,  -6,  -5,  -4,  -3,  -2,  -1,   0,  10,  20, 30,  40,  50,  60,  70,  80,  90])``` "
      ]
    },
    {
      "cell_type": "code",
      "metadata": {
        "colab_type": "code",
        "id": "y4UKfn6hGLzA",
        "colab": {}
      },
      "source": [
        "arr1 = np.arange(-100, 100, 10)\n",
        "arr2 = np.arange(-10, 10)"
      ],
      "execution_count": null,
      "outputs": []
    },
    {
      "cell_type": "markdown",
      "metadata": {
        "colab_type": "text",
        "id": "ECe2MGEmC6vE"
      },
      "source": [
        "### 퀴즈정답-유니버셜함수\n"
      ]
    },
    {
      "cell_type": "markdown",
      "metadata": {
        "colab_type": "text",
        "id": "cJALyPXdC6vF"
      },
      "source": [
        "Q. \n",
        "배열의 각 원소에 로그를 씌운 값을 계산하여라.  \n",
        "```(output: array([0.        , 0.69314718, 1.09861229, 1.38629436, 1.60943791, 1.79175947, 1.94591015, 2.07944154, 2.19722458])```"
      ]
    },
    {
      "cell_type": "code",
      "metadata": {
        "colab_type": "code",
        "id": "W7B00nv_C6vF",
        "colab": {}
      },
      "source": [
        "arr = np.arange(1, 10)"
      ],
      "execution_count": null,
      "outputs": []
    },
    {
      "cell_type": "markdown",
      "metadata": {
        "colab_type": "text",
        "id": "n3R9IavkC6vH"
      },
      "source": [
        "A."
      ]
    },
    {
      "cell_type": "code",
      "metadata": {
        "colab_type": "code",
        "id": "9FPwEgriC6vH",
        "colab": {}
      },
      "source": [
        "np.log(arr)"
      ],
      "execution_count": null,
      "outputs": []
    },
    {
      "cell_type": "markdown",
      "metadata": {
        "colab_type": "text",
        "id": "_4NGlyrbC6vI"
      },
      "source": [
        "Q. 두 배열의 같은 위치에 있는 원소끼리 비교하고 둘 중에 최대값을 취하는 배열을 만들기.  \n",
        "```output: array([-10,  -9,  -8,  -7,  -6,  -5,  -4,  -3,  -2,  -1,   0,  10,  20, 30,  40,  50,  60,  70,  80,  90])``` "
      ]
    },
    {
      "cell_type": "code",
      "metadata": {
        "colab_type": "code",
        "id": "ijw5e9xZC6vI",
        "colab": {}
      },
      "source": [
        "arr1 = np.arange(-100, 100, 10)\n",
        "arr2 = np.arange(-10, 10)"
      ],
      "execution_count": null,
      "outputs": []
    },
    {
      "cell_type": "markdown",
      "metadata": {
        "colab_type": "text",
        "id": "Xj3r0CHPC6vJ"
      },
      "source": [
        "A."
      ]
    },
    {
      "cell_type": "code",
      "metadata": {
        "colab_type": "code",
        "id": "4LHi9z9vC6vK",
        "colab": {}
      },
      "source": [
        "np.maximum(arr1, arr2)"
      ],
      "execution_count": null,
      "outputs": []
    },
    {
      "cell_type": "markdown",
      "metadata": {
        "id": "N66vCx0M6ZBd",
        "colab_type": "text"
      },
      "source": [
        "## 기본_통계"
      ]
    },
    {
      "cell_type": "markdown",
      "metadata": {
        "id": "G7rQkCP_u7kR",
        "colab_type": "text"
      },
      "source": [
        "* sum\n",
        "* mean\n",
        "* std, var\n",
        "* min, max\n",
        "* argmin, argmax\n",
        "* cumsum\n",
        "* cumprod  \n",
        "--------\n",
        "* var\n",
        "* cov\n",
        "* corrcoef"
      ]
    },
    {
      "cell_type": "code",
      "metadata": {
        "id": "FAKdWvDaqFOR",
        "colab_type": "code",
        "colab": {}
      },
      "source": [
        "arr = np.random.randn(200, 500)\n",
        "arr.shape"
      ],
      "execution_count": null,
      "outputs": []
    },
    {
      "cell_type": "code",
      "metadata": {
        "id": "Us_fo14HsGC7",
        "colab_type": "code",
        "colab": {}
      },
      "source": [
        "arr.sum()    # ndarray의 메서드 이용"
      ],
      "execution_count": null,
      "outputs": []
    },
    {
      "cell_type": "code",
      "metadata": {
        "id": "CbFBOwsLsGH_",
        "colab_type": "code",
        "colab": {}
      },
      "source": [
        "np.sum(arr)     # numpy의 최상위 함수를 이용 "
      ],
      "execution_count": null,
      "outputs": []
    },
    {
      "cell_type": "code",
      "metadata": {
        "id": "pNjw7qPEpspy",
        "colab_type": "code",
        "colab": {}
      },
      "source": [
        "arr.mean()   # ndarray의 메서드 이용"
      ],
      "execution_count": null,
      "outputs": []
    },
    {
      "cell_type": "code",
      "metadata": {
        "id": "erkCINPTsF-6",
        "colab_type": "code",
        "colab": {}
      },
      "source": [
        "np.mean(arr)  # numpy의 최상위 함수를 이용 "
      ],
      "execution_count": null,
      "outputs": []
    },
    {
      "cell_type": "code",
      "metadata": {
        "id": "Hksw3Kj42_17",
        "colab_type": "code",
        "colab": {}
      },
      "source": [
        "np.var(arr)"
      ],
      "execution_count": null,
      "outputs": []
    },
    {
      "cell_type": "code",
      "metadata": {
        "id": "U6NFH5XioMfw",
        "colab_type": "code",
        "colab": {}
      },
      "source": [
        "arr1 = [10, 8, 5, 3, 10]\n",
        "arr2 = [-1, -4, 2, 1, 5]\n",
        "np.cov(arr1, arr2)"
      ],
      "execution_count": null,
      "outputs": []
    },
    {
      "cell_type": "code",
      "metadata": {
        "id": "E_krhv-wzfh9",
        "colab_type": "code",
        "colab": {}
      },
      "source": [
        "np.corrcoef(arr1, arr2)"
      ],
      "execution_count": null,
      "outputs": []
    },
    {
      "cell_type": "markdown",
      "metadata": {
        "id": "K77c1-XEs4QD",
        "colab_type": "text"
      },
      "source": [
        "axis 인자로 축 지정 !"
      ]
    },
    {
      "cell_type": "code",
      "metadata": {
        "id": "AbFjS9uu559-",
        "colab_type": "code",
        "colab": {}
      },
      "source": [
        "arr.shape"
      ],
      "execution_count": null,
      "outputs": []
    },
    {
      "cell_type": "code",
      "metadata": {
        "id": "dKOqtBCssGQL",
        "colab_type": "code",
        "colab": {}
      },
      "source": [
        "arr.mean(axis=0).shape"
      ],
      "execution_count": null,
      "outputs": []
    },
    {
      "cell_type": "code",
      "metadata": {
        "id": "UswEdR0D3hhN",
        "colab_type": "code",
        "colab": {}
      },
      "source": [
        "arr.mean(axis=1).shape"
      ],
      "execution_count": null,
      "outputs": []
    },
    {
      "cell_type": "code",
      "metadata": {
        "id": "7h6joV_W3lEd",
        "colab_type": "code",
        "colab": {}
      },
      "source": [
        "arr.sum(axis=0).shape"
      ],
      "execution_count": null,
      "outputs": []
    },
    {
      "cell_type": "code",
      "metadata": {
        "id": "K029Ny8Atl1y",
        "colab_type": "code",
        "colab": {}
      },
      "source": [
        "arr.sum(axis=1).shape"
      ],
      "execution_count": null,
      "outputs": []
    },
    {
      "cell_type": "markdown",
      "metadata": {
        "colab_type": "text",
        "id": "6pf970U1Cmqm"
      },
      "source": [
        "### 퀴즈-기본_통계\n"
      ]
    },
    {
      "cell_type": "markdown",
      "metadata": {
        "colab_type": "text",
        "id": "trFjpHIxCmqo"
      },
      "source": [
        "Q. 다음 1차원 배열의 평균과 표준편차를 구하기"
      ]
    },
    {
      "cell_type": "code",
      "metadata": {
        "colab_type": "code",
        "id": "M3vCJ8wsCmqo",
        "colab": {}
      },
      "source": [
        "arr = np.arange(-100, 100, 10)"
      ],
      "execution_count": null,
      "outputs": []
    },
    {
      "cell_type": "markdown",
      "metadata": {
        "colab_type": "text",
        "id": "IGW4gS7BCmqv"
      },
      "source": [
        "Q. 다음 2차원 배열을 행렬로 보고, 행별로 평균 구하기"
      ]
    },
    {
      "cell_type": "code",
      "metadata": {
        "colab_type": "code",
        "id": "IIZuEUh_Cmqv",
        "colab": {}
      },
      "source": [
        "arr = np.array([[ 0,  1,  2,  3,  4],\n",
        "                [ 5,  6,  7,  8,  9],\n",
        "                [10, 11, 12, 13, 14],\n",
        "                [15, 16, 17, 18, 19]])"
      ],
      "execution_count": null,
      "outputs": []
    },
    {
      "cell_type": "markdown",
      "metadata": {
        "colab_type": "text",
        "id": "c4gS26fKCmq2"
      },
      "source": [
        "\n",
        "Q. 다음 2차원 배열을 행렬로 보고, 열별로 분산 구하기\n"
      ]
    },
    {
      "cell_type": "code",
      "metadata": {
        "colab_type": "code",
        "id": "acWWB_YxCmq2",
        "colab": {}
      },
      "source": [
        "arr = np.array([[ 0,  1,  2,  3,  4],\n",
        "                [ 5,  6,  7,  8,  9],\n",
        "                [10, 11, 12, 13, 14],\n",
        "                [15, 16, 17, 18, 19]])"
      ],
      "execution_count": null,
      "outputs": []
    },
    {
      "cell_type": "markdown",
      "metadata": {
        "colab_type": "text",
        "id": "C8iOubD5Cmq7"
      },
      "source": [
        "Q. 다음 배열의 원소의 전체 합을 구하기"
      ]
    },
    {
      "cell_type": "code",
      "metadata": {
        "colab_type": "code",
        "id": "sipXWJ0eCmq8",
        "colab": {}
      },
      "source": [
        "arr = np.array([[ 0,  1,  2,  3,  4],\n",
        "                [ 5,  6,  7,  8,  9],\n",
        "                [10, 11, 12, 13, 14],\n",
        "                [15, 16, 17, 18, 19]])"
      ],
      "execution_count": null,
      "outputs": []
    },
    {
      "cell_type": "markdown",
      "metadata": {
        "colab_type": "text",
        "id": "8I2sB3tYC9OB"
      },
      "source": [
        "### 퀴즈정답-기본_통계\n"
      ]
    },
    {
      "cell_type": "markdown",
      "metadata": {
        "colab_type": "text",
        "id": "3u0Ae7ZxC9OB"
      },
      "source": [
        "Q. 다음 1차원 배열의 평균과 표준편차를 구하기"
      ]
    },
    {
      "cell_type": "code",
      "metadata": {
        "colab_type": "code",
        "id": "GxrApzusC9OB",
        "colab": {}
      },
      "source": [
        "arr = np.arange(-100, 100, 10)"
      ],
      "execution_count": null,
      "outputs": []
    },
    {
      "cell_type": "markdown",
      "metadata": {
        "colab_type": "text",
        "id": "cGb8soQxC9OE"
      },
      "source": [
        "A."
      ]
    },
    {
      "cell_type": "code",
      "metadata": {
        "colab_type": "code",
        "id": "T-DZoGJCC9OE",
        "colab": {}
      },
      "source": [
        "arr.mean(), arr.std()"
      ],
      "execution_count": null,
      "outputs": []
    },
    {
      "cell_type": "code",
      "metadata": {
        "id": "OYS4CfOiA_4Q",
        "colab_type": "code",
        "colab": {}
      },
      "source": [
        "np.mean(arr), np.std(arr)"
      ],
      "execution_count": null,
      "outputs": []
    },
    {
      "cell_type": "markdown",
      "metadata": {
        "colab_type": "text",
        "id": "aBuU9xerC9OF"
      },
      "source": [
        "Q. 다음 2차원 배열을 행렬로 보고, 행별로 평균 구하기"
      ]
    },
    {
      "cell_type": "code",
      "metadata": {
        "id": "e5KPzPvABSnn",
        "colab_type": "code",
        "colab": {}
      },
      "source": [
        "arr = np.array([[ 0,  1,  2,  3,  4],\n",
        "                [ 5,  6,  7,  8,  9],\n",
        "                [10, 11, 12, 13, 14],\n",
        "                [15, 16, 17, 18, 19]])"
      ],
      "execution_count": null,
      "outputs": []
    },
    {
      "cell_type": "markdown",
      "metadata": {
        "colab_type": "text",
        "id": "q0EbjniuC9OH"
      },
      "source": [
        "A."
      ]
    },
    {
      "cell_type": "code",
      "metadata": {
        "colab_type": "code",
        "id": "RqO09JDzC9OG",
        "colab": {}
      },
      "source": [
        "arr.mean(axis=1)"
      ],
      "execution_count": null,
      "outputs": []
    },
    {
      "cell_type": "code",
      "metadata": {
        "id": "5pGJ_uUEBeFn",
        "colab_type": "code",
        "colab": {}
      },
      "source": [
        "np.mean(arr, axis=1)"
      ],
      "execution_count": null,
      "outputs": []
    },
    {
      "cell_type": "markdown",
      "metadata": {
        "colab_type": "text",
        "id": "myiLplrXC9OI"
      },
      "source": [
        "\n",
        "Q. 다음 2차원 배열을 행렬로 보고, 열별로 분산 구하기\n"
      ]
    },
    {
      "cell_type": "code",
      "metadata": {
        "colab_type": "code",
        "id": "lGqOVmAxC9OH",
        "colab": {}
      },
      "source": [
        "arr = np.array([[ 0,  1,  2,  3,  4],\n",
        "                [ 5,  6,  7,  8,  9],\n",
        "                [10, 11, 12, 13, 14],\n",
        "                [15, 16, 17, 18, 19]])"
      ],
      "execution_count": null,
      "outputs": []
    },
    {
      "cell_type": "markdown",
      "metadata": {
        "colab_type": "text",
        "id": "LtITT-5pC9OL"
      },
      "source": [
        "A."
      ]
    },
    {
      "cell_type": "code",
      "metadata": {
        "colab_type": "code",
        "id": "Nkrk6rXEC9OL",
        "colab": {}
      },
      "source": [
        "arr.var(axis=0)"
      ],
      "execution_count": null,
      "outputs": []
    },
    {
      "cell_type": "code",
      "metadata": {
        "id": "sXmbmxY9B6aX",
        "colab_type": "code",
        "colab": {}
      },
      "source": [
        "np.var(arr, axis=0)"
      ],
      "execution_count": null,
      "outputs": []
    },
    {
      "cell_type": "markdown",
      "metadata": {
        "colab_type": "text",
        "id": "r20nQchNC9OM"
      },
      "source": [
        "Q. 다음 배열의 원소의 전체 합을 구하기"
      ]
    },
    {
      "cell_type": "code",
      "metadata": {
        "colab_type": "code",
        "id": "VCC5M7EfC9ON",
        "colab": {}
      },
      "source": [
        "arr = np.array([[ 0,  1,  2,  3,  4],\n",
        "                [ 5,  6,  7,  8,  9],\n",
        "                [10, 11, 12, 13, 14],\n",
        "                [15, 16, 17, 18, 19]])"
      ],
      "execution_count": null,
      "outputs": []
    },
    {
      "cell_type": "markdown",
      "metadata": {
        "colab_type": "text",
        "id": "JZ34y3I0C9OO"
      },
      "source": [
        "A."
      ]
    },
    {
      "cell_type": "code",
      "metadata": {
        "colab_type": "code",
        "id": "AsCjk-ZOC9OP",
        "colab": {}
      },
      "source": [
        "np.sum(arr), arr.sum()"
      ],
      "execution_count": null,
      "outputs": []
    },
    {
      "cell_type": "markdown",
      "metadata": {
        "id": "igyCpX-9Lfwu",
        "colab_type": "text"
      },
      "source": [
        "## any_all"
      ]
    },
    {
      "cell_type": "code",
      "metadata": {
        "id": "7CRSnn9Ovta5",
        "colab_type": "code",
        "colab": {}
      },
      "source": [
        "arr = np.array([True, False, True])\n",
        "arr.any()"
      ],
      "execution_count": null,
      "outputs": []
    },
    {
      "cell_type": "code",
      "metadata": {
        "id": "YWWiV-gzWcLu",
        "colab_type": "code",
        "colab": {}
      },
      "source": [
        "arr = np.array([True, False, True])\n",
        "arr.all()"
      ],
      "execution_count": null,
      "outputs": []
    },
    {
      "cell_type": "code",
      "metadata": {
        "id": "7TpDK63QwJiP",
        "colab_type": "code",
        "colab": {}
      },
      "source": [
        "arr = np.array([0, 0, 3])\n",
        "arr.any()"
      ],
      "execution_count": null,
      "outputs": []
    },
    {
      "cell_type": "code",
      "metadata": {
        "id": "60TIkX7fWfs1",
        "colab_type": "code",
        "colab": {}
      },
      "source": [
        "arr = np.array([0, 0, 1])\n",
        "arr.all()"
      ],
      "execution_count": null,
      "outputs": []
    },
    {
      "cell_type": "code",
      "metadata": {
        "id": "kDYGdzvAW3rg",
        "colab_type": "code",
        "colab": {}
      },
      "source": [
        "arr = np.array([1, 1, 1])\n",
        "arr.all()"
      ],
      "execution_count": null,
      "outputs": []
    },
    {
      "cell_type": "code",
      "metadata": {
        "id": "mhdci-mDW37u",
        "colab_type": "code",
        "colab": {}
      },
      "source": [
        "arr = np.array([5, -1, np.inf])\n",
        "arr.all()"
      ],
      "execution_count": null,
      "outputs": []
    },
    {
      "cell_type": "markdown",
      "metadata": {
        "colab_type": "text",
        "id": "Z4cLXjpxEDnK"
      },
      "source": [
        "### 퀴즈-any_all\n"
      ]
    },
    {
      "cell_type": "markdown",
      "metadata": {
        "colab_type": "text",
        "id": "VV26RZ1YEDnM"
      },
      "source": [
        "Q. 주어진 배열을 행렬로 보고, 각 행마다 원소가 하나라도 참이면 True, 그렇지 않으면 False를 반환"
      ]
    },
    {
      "cell_type": "code",
      "metadata": {
        "colab_type": "code",
        "id": "lX5sEdIDEDnM",
        "colab": {}
      },
      "source": [
        "arr = np.array([[0, np.nan, 0, 0.0],\n",
        "                [0, False, 0.0, 0]])"
      ],
      "execution_count": null,
      "outputs": []
    },
    {
      "cell_type": "markdown",
      "metadata": {
        "colab_type": "text",
        "id": "WpJEjpM3EDnR"
      },
      "source": [
        "Q.주어진 배열의 원소 전부가 참이면 True를 반환하고, 그렇지 않으면 False를 반환"
      ]
    },
    {
      "cell_type": "code",
      "metadata": {
        "colab_type": "code",
        "id": "LApAsHX-EDnS",
        "colab": {}
      },
      "source": [
        "arr = np.array([1.0, np.nan, 2, True])"
      ],
      "execution_count": null,
      "outputs": []
    },
    {
      "cell_type": "markdown",
      "metadata": {
        "colab_type": "text",
        "id": "2p2joNBxC-93"
      },
      "source": [
        "### 퀴즈정답-any_all\n"
      ]
    },
    {
      "cell_type": "markdown",
      "metadata": {
        "colab_type": "text",
        "id": "lH9sSfW2C-94"
      },
      "source": [
        "Q. 주어진 배열을 행렬로 보고, 각 행마다 원소가 하나라도 참이면 True, 그렇지 않으면 False를 반환"
      ]
    },
    {
      "cell_type": "code",
      "metadata": {
        "colab_type": "code",
        "id": "C1UVlAukC-94",
        "colab": {}
      },
      "source": [
        "arr = np.array([[0, np.nan, 0, 0.0],\n",
        "                [0, False, 0.0, 0]])"
      ],
      "execution_count": null,
      "outputs": []
    },
    {
      "cell_type": "markdown",
      "metadata": {
        "colab_type": "text",
        "id": "ADHkoPMYC-95"
      },
      "source": [
        "A."
      ]
    },
    {
      "cell_type": "code",
      "metadata": {
        "colab_type": "code",
        "id": "ZAkuRyLvC-95",
        "colab": {}
      },
      "source": [
        "np.any(arr, axis=1)"
      ],
      "execution_count": null,
      "outputs": []
    },
    {
      "cell_type": "markdown",
      "metadata": {
        "colab_type": "text",
        "id": "SEz4BpoOC-98"
      },
      "source": [
        "Q.주어진 배열의 원소 전부가 참이면 True를 반환하고, 그렇지 않으면 False를 반환"
      ]
    },
    {
      "cell_type": "code",
      "metadata": {
        "colab_type": "code",
        "id": "oArC5REKC-98",
        "colab": {}
      },
      "source": [
        "arr = np.array([1.0, np.nan, 2, True])"
      ],
      "execution_count": null,
      "outputs": []
    },
    {
      "cell_type": "markdown",
      "metadata": {
        "colab_type": "text",
        "id": "TyQJbWZRC-99"
      },
      "source": [
        "A."
      ]
    },
    {
      "cell_type": "code",
      "metadata": {
        "colab_type": "code",
        "id": "rF3wZpG3C-9-",
        "colab": {}
      },
      "source": [
        "np.all(arr)"
      ],
      "execution_count": null,
      "outputs": []
    },
    {
      "cell_type": "markdown",
      "metadata": {
        "id": "uYXQHDNOLf_f",
        "colab_type": "text"
      },
      "source": [
        "## where"
      ]
    },
    {
      "cell_type": "markdown",
      "metadata": {
        "id": "bV9zpW8sxIsl",
        "colab_type": "text"
      },
      "source": [
        "np.where(조건, 참일때, 거짓일때)  \n",
        "\" x if 조건 else y \"의 벡터화된 버전"
      ]
    },
    {
      "cell_type": "code",
      "metadata": {
        "id": "cRo8--NMxAZJ",
        "colab_type": "code",
        "colab": {}
      },
      "source": [
        "xarr = np.array([100, 200, 300, 400])\n",
        "yarr = np.array([1, 2, 3, 4])\n",
        "cond = np.array([True, False, True, False])"
      ],
      "execution_count": null,
      "outputs": []
    },
    {
      "cell_type": "code",
      "metadata": {
        "id": "qChybOr7xAky",
        "colab_type": "code",
        "colab": {}
      },
      "source": [
        "# numpy 사용 => 큰 배열을 빠르게 처리 가능. 다차원일 때도 간결하게 표현 가능\n",
        "result = np.where(cond, xarr, yarr)\n",
        "result"
      ],
      "execution_count": null,
      "outputs": []
    },
    {
      "cell_type": "code",
      "metadata": {
        "id": "3hyzwSznF60R",
        "colab_type": "code",
        "colab": {}
      },
      "source": [
        "np.where(xarr>200, max(xarr), 0)"
      ],
      "execution_count": null,
      "outputs": []
    },
    {
      "cell_type": "code",
      "metadata": {
        "id": "2ZiaIp-RZryp",
        "colab_type": "code",
        "colab": {}
      },
      "source": [
        "np.where(xarr%3==0, 1, 0 )"
      ],
      "execution_count": null,
      "outputs": []
    },
    {
      "cell_type": "markdown",
      "metadata": {
        "colab_type": "text",
        "id": "MV2hNfUILQ_C"
      },
      "source": [
        "### 퀴즈-where\n"
      ]
    },
    {
      "cell_type": "markdown",
      "metadata": {
        "colab_type": "text",
        "id": "ZjZ-NqEtLQ_D"
      },
      "source": [
        "Q. 다음 배열의 원소가 음수인 경우 0으로 만들기"
      ]
    },
    {
      "cell_type": "code",
      "metadata": {
        "colab_type": "code",
        "id": "aTt6e-w6LQ_D",
        "colab": {}
      },
      "source": [
        "arr = np.array([[-10,   0,   2,   7,   8,  -8,   7, -10,   6,   0],\n",
        "                [ -2,   2,  -7,  -6,   3,   2,  -8,  -8,   9,   9],\n",
        "                [  4,   6,  -9,  -9,   8,   2,  -3,  -6,  -3,  -6],\n",
        "                [  4,   4,   5,  -6,  -7,   6,   1,  -8, -10,   3],\n",
        "                [ -5,   4,   8,  -8,  -1,  -7,   1,   6,  -1,   1]])"
      ],
      "execution_count": null,
      "outputs": []
    },
    {
      "cell_type": "markdown",
      "metadata": {
        "colab_type": "text",
        "id": "D1YS7IT5LQ_I"
      },
      "source": [
        "Q. 다음 배열의 원소가 5보다 큰 경우는 100, 그렇지 않은 경우는 0으로 만들기"
      ]
    },
    {
      "cell_type": "code",
      "metadata": {
        "colab_type": "code",
        "id": "ERVxzK0cLQ_J",
        "colab": {}
      },
      "source": [
        "arr = np.array([[-10,   0,   2,   7,   8,  -8,   7, -10,   6,   0],\n",
        "                [ -2,   2,  -7,  -6,   3,   2,  -8,  -8,   9,   9],\n",
        "                [  4,   6,  -9,  -9,   8,   2,  -3,  -6,  -3,  -6],\n",
        "                [  4,   4,   5,  -6,  -7,   6,   1,  -8, -10,   3],\n",
        "                [ -5,   4,   8,  -8,  -1,  -7,   1,   6,  -1,   1]])"
      ],
      "execution_count": null,
      "outputs": []
    },
    {
      "cell_type": "markdown",
      "metadata": {
        "colab_type": "text",
        "id": "LK6oE-XZDACy"
      },
      "source": [
        "### 퀴즈정답-where\n"
      ]
    },
    {
      "cell_type": "markdown",
      "metadata": {
        "colab_type": "text",
        "id": "2QELsLZvDACz"
      },
      "source": [
        "Q. 다음 배열의 원소가 음수인 경우 0으로 만들기"
      ]
    },
    {
      "cell_type": "code",
      "metadata": {
        "colab_type": "code",
        "id": "f7ap7WxrDACz",
        "colab": {}
      },
      "source": [
        "arr = np.array([[-10,   0,   2,   7,   8,  -8,   7, -10,   6,   0],\n",
        "                [ -2,   2,  -7,  -6,   3,   2,  -8,  -8,   9,   9],\n",
        "                [  4,   6,  -9,  -9,   8,   2,  -3,  -6,  -3,  -6],\n",
        "                [  4,   4,   5,  -6,  -7,   6,   1,  -8, -10,   3],\n",
        "                [ -5,   4,   8,  -8,  -1,  -7,   1,   6,  -1,   1]])"
      ],
      "execution_count": null,
      "outputs": []
    },
    {
      "cell_type": "markdown",
      "metadata": {
        "colab_type": "text",
        "id": "o47Lqd7kDAC1"
      },
      "source": [
        "A."
      ]
    },
    {
      "cell_type": "code",
      "metadata": {
        "colab_type": "code",
        "id": "yfdK98U4DAC1",
        "colab": {}
      },
      "source": [
        "np.where(arr<0, 0, arr)"
      ],
      "execution_count": null,
      "outputs": []
    },
    {
      "cell_type": "markdown",
      "metadata": {
        "colab_type": "text",
        "id": "lWzC0QbVDAC3"
      },
      "source": [
        "Q. 다음 배열의 원소가 5보다 큰 경우는 100, 그렇지 않은 경우는 0으로 만들기"
      ]
    },
    {
      "cell_type": "code",
      "metadata": {
        "colab_type": "code",
        "id": "lzwashLqDAC3",
        "colab": {}
      },
      "source": [
        "arr = np.array([[-10,   0,   2,   7,   8,  -8,   7, -10,   6,   0],\n",
        "                [ -2,   2,  -7,  -6,   3,   2,  -8,  -8,   9,   9],\n",
        "                [  4,   6,  -9,  -9,   8,   2,  -3,  -6,  -3,  -6],\n",
        "                [  4,   4,   5,  -6,  -7,   6,   1,  -8, -10,   3],\n",
        "                [ -5,   4,   8,  -8,  -1,  -7,   1,   6,  -1,   1]])"
      ],
      "execution_count": null,
      "outputs": []
    },
    {
      "cell_type": "markdown",
      "metadata": {
        "colab_type": "text",
        "id": "nMMNG6O7DAC5"
      },
      "source": [
        "A."
      ]
    },
    {
      "cell_type": "code",
      "metadata": {
        "colab_type": "code",
        "id": "Ah2_dKnjDAC5",
        "colab": {}
      },
      "source": [
        "np.where(arr>5, 100, 0)"
      ],
      "execution_count": null,
      "outputs": []
    },
    {
      "cell_type": "markdown",
      "metadata": {
        "id": "S3Go6XhrLgEh",
        "colab_type": "text"
      },
      "source": [
        "## sort"
      ]
    },
    {
      "cell_type": "markdown",
      "metadata": {
        "id": "ocwCt0_YLgH5",
        "colab_type": "text"
      },
      "source": [
        "sort 메서드 사용"
      ]
    },
    {
      "cell_type": "code",
      "metadata": {
        "id": "pxEABH_lxAn7",
        "colab_type": "code",
        "colab": {}
      },
      "source": [
        "arr = np.random.randint(1, 100, size=10)\n",
        "arr"
      ],
      "execution_count": null,
      "outputs": []
    },
    {
      "cell_type": "code",
      "metadata": {
        "id": "oIV-abCQ3sAf",
        "colab_type": "code",
        "colab": {}
      },
      "source": [
        "arr.sort()\n",
        "arr"
      ],
      "execution_count": null,
      "outputs": []
    },
    {
      "cell_type": "code",
      "metadata": {
        "id": "IVpAf5D14EBa",
        "colab_type": "code",
        "colab": {}
      },
      "source": [
        "#np.sort와 차이점: np.sort는 배열을 직접 변경하지 않고 정렬된 결과를 가진 복사본을 반환\n",
        "arr = np.random.randint(1, 100, size=10)\n",
        "np.sort(arr)"
      ],
      "execution_count": null,
      "outputs": []
    },
    {
      "cell_type": "code",
      "metadata": {
        "id": "3cfOZMSz4PGO",
        "colab_type": "code",
        "colab": {}
      },
      "source": [
        "arr"
      ],
      "execution_count": null,
      "outputs": []
    },
    {
      "cell_type": "code",
      "metadata": {
        "id": "_93lNRCSLgM9",
        "colab_type": "code",
        "colab": {}
      },
      "source": [
        "-np.sort(-arr)"
      ],
      "execution_count": null,
      "outputs": []
    },
    {
      "cell_type": "markdown",
      "metadata": {
        "colab_type": "text",
        "id": "l9Wk0kPMLEGQ"
      },
      "source": [
        "### 퀴즈-sort\n"
      ]
    },
    {
      "cell_type": "markdown",
      "metadata": {
        "colab_type": "text",
        "id": "uoJSMoNMLEGS"
      },
      "source": [
        "Q.  다음 배열을 오름차순으로 정렬하기"
      ]
    },
    {
      "cell_type": "code",
      "metadata": {
        "colab_type": "code",
        "id": "BnsqWLOTLEGS",
        "colab": {}
      },
      "source": [
        "arr = np.array([14, 59, 2,  2, 95, -68, 4, 83, 74, 43, -9, 72, 81, -74, 78, 38, 30, -97,  -2, 96])\n",
        "arr"
      ],
      "execution_count": null,
      "outputs": []
    },
    {
      "cell_type": "markdown",
      "metadata": {
        "colab_type": "text",
        "id": "DcgB0-F4LEGa"
      },
      "source": [
        "Q. 다음 배열을 행렬로 보고, 각 행별로 정렬하기(오름차순)"
      ]
    },
    {
      "cell_type": "code",
      "metadata": {
        "colab_type": "code",
        "id": "xbvLUdrkLEGb",
        "colab": {}
      },
      "source": [
        "arr = np.array([[  5,  -4,  -4,   6,  -6],\n",
        "                [ -4,   8,  -2,   8, -10],\n",
        "                [ -9,  -9,   0,  -4,   8],\n",
        "                [ -1,  -9,   4,   1,   3],\n",
        "                [ -7,  -1,  -4, -10,   2]])\n",
        "arr\n"
      ],
      "execution_count": null,
      "outputs": []
    },
    {
      "cell_type": "markdown",
      "metadata": {
        "colab_type": "text",
        "id": "v8_WTOUzDB-a"
      },
      "source": [
        "### 퀴즈정답-sort\n"
      ]
    },
    {
      "cell_type": "markdown",
      "metadata": {
        "colab_type": "text",
        "id": "DnrPyNZiDB-b"
      },
      "source": [
        "Q.  다음 배열을 오름차순으로 정렬하기"
      ]
    },
    {
      "cell_type": "code",
      "metadata": {
        "colab_type": "code",
        "id": "m-gbHUMvDB-b",
        "colab": {}
      },
      "source": [
        "arr = np.array([14, 59, 2,  2, 95, -68, 4, 83, 74, 43, -9, 72, 81, -74, 78, 38, 30, -97,  -2, 96])\n",
        "arr"
      ],
      "execution_count": null,
      "outputs": []
    },
    {
      "cell_type": "markdown",
      "metadata": {
        "colab_type": "text",
        "id": "v9SVG6JdDB-d"
      },
      "source": [
        "A."
      ]
    },
    {
      "cell_type": "code",
      "metadata": {
        "id": "AnUI1heIGxbl",
        "colab_type": "code",
        "colab": {}
      },
      "source": [
        "np.sort(arr)"
      ],
      "execution_count": null,
      "outputs": []
    },
    {
      "cell_type": "code",
      "metadata": {
        "colab_type": "code",
        "id": "_m5sI6-CDB-d",
        "colab": {}
      },
      "source": [
        "arr.sort()\n",
        "arr"
      ],
      "execution_count": null,
      "outputs": []
    },
    {
      "cell_type": "markdown",
      "metadata": {
        "colab_type": "text",
        "id": "jWobS2OdDB-f"
      },
      "source": [
        "Q. 다음 배열을 행렬로 보고, 각 행별로 정렬하기(오름차순)"
      ]
    },
    {
      "cell_type": "code",
      "metadata": {
        "colab_type": "code",
        "id": "Ql760ZU0DB-f",
        "colab": {}
      },
      "source": [
        "arr = np.array([[  5,  -4,  -4,   6,  -6],\n",
        "                [ -4,   8,  -2,   8, -10],\n",
        "                [ -9,  -9,   0,  -4,   8],\n",
        "                [ -1,  -9,   4,   1,   3],\n",
        "                [ -7,  -1,  -4, -10,   2]])\n",
        "arr\n"
      ],
      "execution_count": null,
      "outputs": []
    },
    {
      "cell_type": "markdown",
      "metadata": {
        "colab_type": "text",
        "id": "TqEQaqvyDB-h"
      },
      "source": [
        "A."
      ]
    },
    {
      "cell_type": "code",
      "metadata": {
        "id": "Ubi4Ph3oHQIi",
        "colab_type": "code",
        "colab": {}
      },
      "source": [
        "np.sort(arr, axis=1)"
      ],
      "execution_count": null,
      "outputs": []
    },
    {
      "cell_type": "code",
      "metadata": {
        "colab_type": "code",
        "id": "ej7eDpRfDB-h",
        "colab": {}
      },
      "source": [
        "arr.sort(axis=1)\n",
        "arr"
      ],
      "execution_count": null,
      "outputs": []
    },
    {
      "cell_type": "markdown",
      "metadata": {
        "id": "ACFfcbrrACVP",
        "colab_type": "text"
      },
      "source": [
        "## 선형대수"
      ]
    },
    {
      "cell_type": "markdown",
      "metadata": {
        "id": "o3XohkiVDOAE",
        "colab_type": "text"
      },
      "source": [
        "### np.dot(x, y): x와 y의 dot product  "
      ]
    },
    {
      "cell_type": "code",
      "metadata": {
        "id": "Adt2scGLCAMg",
        "colab_type": "code",
        "colab": {}
      },
      "source": [
        "x = np.random.randint(-5, 5, size=10)\n",
        "y = np.random.randint(-10, 10, size=10)\n",
        "x.shape, y.shape"
      ],
      "execution_count": null,
      "outputs": []
    },
    {
      "cell_type": "code",
      "metadata": {
        "id": "Ko0CTWzYCVHa",
        "colab_type": "code",
        "colab": {}
      },
      "source": [
        "x.dot(y)"
      ],
      "execution_count": null,
      "outputs": []
    },
    {
      "cell_type": "code",
      "metadata": {
        "id": "NcRg39EGCa6q",
        "colab_type": "code",
        "colab": {}
      },
      "source": [
        "np.dot(x, y)"
      ],
      "execution_count": null,
      "outputs": []
    },
    {
      "cell_type": "code",
      "metadata": {
        "id": "PP4aGpO-AQez",
        "colab_type": "code",
        "colab": {}
      },
      "source": [
        "x = np.array([[1, 2, 3], [4, 5, 6]])\n",
        "y = np.array([[2, -3], [1, 6], [-1, 2]])\n",
        "x.shape, y.shape"
      ],
      "execution_count": null,
      "outputs": []
    },
    {
      "cell_type": "code",
      "metadata": {
        "id": "L4SQ6wy__kG2",
        "colab_type": "code",
        "colab": {}
      },
      "source": [
        "np.dot(x, y)  # x와 y가 둘 다 1차원인 경우만 권장. 아닌 경우는 권장하지 않음. "
      ],
      "execution_count": null,
      "outputs": []
    },
    {
      "cell_type": "markdown",
      "metadata": {
        "id": "xly7mNzFGVdo",
        "colab_type": "text"
      },
      "source": [
        "### np.matmul(x, y): matrix product \n",
        "    - 둘 다 2d일 때 일반적인 매트릭스 곱으로 생각하면 됨. (n,k),(k,m)->(n,m).\n",
        "    - 차원이 다를 때 broadcast 일어남.\n"
      ]
    },
    {
      "cell_type": "code",
      "metadata": {
        "id": "LTVy8Zxg1aga",
        "colab_type": "code",
        "colab": {}
      },
      "source": [
        "a = np.random.randint(-3, 3, 10).reshape(2, 5)\n",
        "b = np.random.randint(0, 5, 15).reshape(5, 3)\n",
        "a.shape, b.shape"
      ],
      "execution_count": null,
      "outputs": []
    },
    {
      "cell_type": "code",
      "metadata": {
        "id": "KXVooAV91yxb",
        "colab_type": "code",
        "colab": {}
      },
      "source": [
        "ab = np.matmul(a, b)\n",
        "print(ab.shape,'\\n')\n",
        "print(ab)"
      ],
      "execution_count": null,
      "outputs": []
    },
    {
      "cell_type": "code",
      "metadata": {
        "id": "NTGqa7GE12lp",
        "colab_type": "code",
        "colab": {}
      },
      "source": [
        "np.matmul(b, a)  # matrix곱할때는 shape이 맞도록"
      ],
      "execution_count": null,
      "outputs": []
    },
    {
      "cell_type": "code",
      "metadata": {
        "id": "nMZgVA48HO8L",
        "colab_type": "code",
        "colab": {}
      },
      "source": [
        "c = np.arange(24).reshape(2, 3, 4)\n",
        "d = np.arange(2*4*5).reshape(2, 4, 5)\n",
        "c.shape, d.shape"
      ],
      "execution_count": null,
      "outputs": []
    },
    {
      "cell_type": "code",
      "metadata": {
        "id": "TslADOwTHO_G",
        "colab_type": "code",
        "colab": {}
      },
      "source": [
        "c"
      ],
      "execution_count": null,
      "outputs": []
    },
    {
      "cell_type": "code",
      "metadata": {
        "id": "uVK9_vimHPCd",
        "colab_type": "code",
        "colab": {}
      },
      "source": [
        "d"
      ],
      "execution_count": null,
      "outputs": []
    },
    {
      "cell_type": "code",
      "metadata": {
        "id": "WZx_5MMK5irJ",
        "colab_type": "code",
        "colab": {}
      },
      "source": [
        "c.shape, d.shape"
      ],
      "execution_count": null,
      "outputs": []
    },
    {
      "cell_type": "code",
      "metadata": {
        "id": "XR5efeXVHPFz",
        "colab_type": "code",
        "colab": {}
      },
      "source": [
        "arr = np.matmul(c, d)\n",
        "arr"
      ],
      "execution_count": null,
      "outputs": []
    },
    {
      "cell_type": "code",
      "metadata": {
        "id": "dfn-OZEU5Ob0",
        "colab_type": "code",
        "colab": {}
      },
      "source": [
        "arr.shape"
      ],
      "execution_count": null,
      "outputs": []
    },
    {
      "cell_type": "markdown",
      "metadata": {
        "id": "hE5GQBO162lp",
        "colab_type": "text"
      },
      "source": [
        "### np.diag(x)\n",
        "    - x가 1d일 때:정사각 행렬의 대각/비대각 원소를 1차원 배열로 반환\n",
        "    - x가 2d일 때: 주어진 1차원 배열을 대각선 원소로 하고 나머지는 0인 행렬 반환"
      ]
    },
    {
      "cell_type": "code",
      "metadata": {
        "id": "H23d6Z7QOGRZ",
        "colab_type": "code",
        "colab": {}
      },
      "source": [
        "matrix = np.arange(25).reshape(5, 5)\n",
        "matrix"
      ],
      "execution_count": null,
      "outputs": []
    },
    {
      "cell_type": "code",
      "metadata": {
        "id": "3vp9La6POGYS",
        "colab_type": "code",
        "colab": {}
      },
      "source": [
        "np.diag(matrix)"
      ],
      "execution_count": null,
      "outputs": []
    },
    {
      "cell_type": "code",
      "metadata": {
        "id": "D36YhxMWOGbg",
        "colab_type": "code",
        "colab": {}
      },
      "source": [
        "np.diag([10, 30, 1150])"
      ],
      "execution_count": null,
      "outputs": []
    },
    {
      "cell_type": "code",
      "metadata": {
        "id": "9AlelwyiOGe-",
        "colab_type": "code",
        "colab": {}
      },
      "source": [
        "np.diag(np.diag(matrix))"
      ],
      "execution_count": null,
      "outputs": []
    },
    {
      "cell_type": "markdown",
      "metadata": {
        "id": "LHFpwbVO62rH",
        "colab_type": "text"
      },
      "source": [
        "### np.trace(x)\n",
        "    - 행렬의 대각 원소의 합을 계산"
      ]
    },
    {
      "cell_type": "code",
      "metadata": {
        "id": "K_a4AohxPfsI",
        "colab_type": "code",
        "colab": {}
      },
      "source": [
        "matrix = np.arange(9).reshape(3, 3)\n",
        "matrix"
      ],
      "execution_count": null,
      "outputs": []
    },
    {
      "cell_type": "code",
      "metadata": {
        "id": "r6Y3sv2hPfzB",
        "colab_type": "code",
        "colab": {}
      },
      "source": [
        "np.trace(matrix)"
      ],
      "execution_count": null,
      "outputs": []
    },
    {
      "cell_type": "markdown",
      "metadata": {
        "id": "HxR3ery662wr",
        "colab_type": "text"
      },
      "source": [
        "### np.linalg.det(x)\n",
        "    - 행렬의 determinant(행렬식) 계산"
      ]
    },
    {
      "cell_type": "code",
      "metadata": {
        "id": "1jpriQlwPf9E",
        "colab_type": "code",
        "colab": {}
      },
      "source": [
        "matrix = np.array([[10, 5], [2, 3]])\n",
        "matrix"
      ],
      "execution_count": null,
      "outputs": []
    },
    {
      "cell_type": "code",
      "metadata": {
        "id": "0yCoXxkYPf5f",
        "colab_type": "code",
        "colab": {}
      },
      "source": [
        "np.linalg.det(matrix)"
      ],
      "execution_count": null,
      "outputs": []
    },
    {
      "cell_type": "code",
      "metadata": {
        "id": "zQIU78YRRpqx",
        "colab_type": "code",
        "colab": {}
      },
      "source": [
        "matrix = np.array([[10, 10], [2,2]])\n",
        "np.linalg.det(matrix)"
      ],
      "execution_count": null,
      "outputs": []
    },
    {
      "cell_type": "markdown",
      "metadata": {
        "id": "a6sQyqQ8RLi7",
        "colab_type": "text"
      },
      "source": [
        "### np.linalg.eig(x)\n",
        "    - 매트릭스의 고유값, 고유 벡터를 반환\n",
        "    - returns : w-고유값, v-고유벡터\n",
        "    - 고유벡터 v[:, i] 에 대응하는 고유값은 w[i]."
      ]
    },
    {
      "cell_type": "code",
      "metadata": {
        "id": "mrCXjqlzR05f",
        "colab_type": "code",
        "colab": {}
      },
      "source": [
        "matrix = np.array([[1, 2], [4, 6]])"
      ],
      "execution_count": null,
      "outputs": []
    },
    {
      "cell_type": "code",
      "metadata": {
        "id": "KTeY_h_bR09A",
        "colab_type": "code",
        "colab": {}
      },
      "source": [
        "w, v = np.linalg.eig(matrix)"
      ],
      "execution_count": null,
      "outputs": []
    },
    {
      "cell_type": "code",
      "metadata": {
        "id": "djJjD8SGS3_b",
        "colab_type": "code",
        "colab": {}
      },
      "source": [
        "w # eigenvalues"
      ],
      "execution_count": null,
      "outputs": []
    },
    {
      "cell_type": "code",
      "metadata": {
        "id": "3ZMEIwEVR1BA",
        "colab_type": "code",
        "colab": {}
      },
      "source": [
        "v # normalized (unit “length”) eigenvectors"
      ],
      "execution_count": null,
      "outputs": []
    },
    {
      "cell_type": "code",
      "metadata": {
        "id": "2atD56jSS4Cw",
        "colab_type": "code",
        "colab": {}
      },
      "source": [
        "np.matmul(matrix, v[:, 0])"
      ],
      "execution_count": null,
      "outputs": []
    },
    {
      "cell_type": "code",
      "metadata": {
        "id": "gau4fMeES4F-",
        "colab_type": "code",
        "colab": {}
      },
      "source": [
        "w[0]*v[:, 0]"
      ],
      "execution_count": null,
      "outputs": []
    },
    {
      "cell_type": "markdown",
      "metadata": {
        "id": "C2qj2wWTR0OH",
        "colab_type": "text"
      },
      "source": [
        "### np.linalg.inv(x)\n",
        "    - matrix의 inverse"
      ]
    },
    {
      "cell_type": "code",
      "metadata": {
        "id": "toyOO4_PUh5R",
        "colab_type": "code",
        "colab": {}
      },
      "source": [
        "matrix = np.array([[10, 20], [30, 40]])\n",
        "matrix"
      ],
      "execution_count": null,
      "outputs": []
    },
    {
      "cell_type": "code",
      "metadata": {
        "id": "elu3PF3oUh9R",
        "colab_type": "code",
        "colab": {}
      },
      "source": [
        "inv_matrix = np.linalg.inv(matrix)\n",
        "inv_matrix"
      ],
      "execution_count": null,
      "outputs": []
    },
    {
      "cell_type": "code",
      "metadata": {
        "id": "ythmHdwjUiA5",
        "colab_type": "code",
        "colab": {}
      },
      "source": [
        "matrix@inv_matrix"
      ],
      "execution_count": null,
      "outputs": []
    },
    {
      "cell_type": "code",
      "metadata": {
        "id": "doJjYGNXVRhg",
        "colab_type": "code",
        "colab": {}
      },
      "source": [
        "# inverse가 존재하지 않는 경우\n",
        "matrix = np.array([[10, 20], [-1, -2]])\n",
        "np.linalg.inv(matrix) "
      ],
      "execution_count": null,
      "outputs": []
    },
    {
      "cell_type": "markdown",
      "metadata": {
        "id": "f4KJcrZUVCJK",
        "colab_type": "text"
      },
      "source": [
        "### np.linalg.solve(A, b)\n",
        "    - Ax = b 인 해 x를 반환"
      ]
    },
    {
      "cell_type": "code",
      "metadata": {
        "id": "KboIeh3mUiEC",
        "colab_type": "code",
        "colab": {}
      },
      "source": [
        "A = np.array([[3, 1, -2], \n",
        "              [0, -5, 7], \n",
        "              [4, 0, 1]])\n",
        "b = np.array([-5,  1, -1])\n",
        "x = np.linalg.solve(A, b)\n",
        "x"
      ],
      "execution_count": null,
      "outputs": []
    },
    {
      "cell_type": "code",
      "metadata": {
        "id": "WiRwuRdPysMj",
        "colab_type": "code",
        "colab": {}
      },
      "source": [
        "np.matmul(A, x), b"
      ],
      "execution_count": null,
      "outputs": []
    },
    {
      "cell_type": "code",
      "metadata": {
        "id": "gE4Hl2AM1TaA",
        "colab_type": "code",
        "colab": {}
      },
      "source": [
        "# 해가 존재하지 않는 경우 에러 발생\n",
        "A = np.array([[1, -2, 3], [2, 9, 6], [-1, 7, -3]])\n",
        "b = np.array([1,  2, 3])\n",
        "x = np.linalg.solve(A, b)\n",
        "x"
      ],
      "execution_count": null,
      "outputs": []
    },
    {
      "cell_type": "markdown",
      "metadata": {
        "colab_type": "text",
        "id": "cSQb--7jKdPR"
      },
      "source": [
        "### 퀴즈-선형대수\n"
      ]
    },
    {
      "cell_type": "markdown",
      "metadata": {
        "colab_type": "text",
        "id": "xDmspF3FKdPT"
      },
      "source": [
        "Q. 다음 코드를 실행해보기 전에 오류가 날지 안날지 생각해보기."
      ]
    },
    {
      "cell_type": "code",
      "metadata": {
        "colab_type": "code",
        "id": "pbq5knQyKdPT",
        "colab": {}
      },
      "source": [
        "arr1 = np.arange(-10, 10).reshape(2, 10)\n",
        "arr2 = np.arange(-20, 20, 2).reshape(2, 10)\n",
        "np.matmul(arr1, arr2)"
      ],
      "execution_count": null,
      "outputs": []
    },
    {
      "cell_type": "markdown",
      "metadata": {
        "colab_type": "text",
        "id": "HbydLo-nKdPW"
      },
      "source": [
        "Q. 다음 두 매트릭스를 곱해서 2 x 2 매트릭스 만들기"
      ]
    },
    {
      "cell_type": "code",
      "metadata": {
        "colab_type": "code",
        "id": "CdPzIYNOKdPW",
        "colab": {}
      },
      "source": [
        "arr1 = np.arange(-10, 10).reshape(2, 10)\n",
        "arr2 = np.arange(-20, 20, 2).reshape(2, 10)"
      ],
      "execution_count": null,
      "outputs": []
    },
    {
      "cell_type": "markdown",
      "metadata": {
        "colab_type": "text",
        "id": "XoWz2kdrKdPb"
      },
      "source": [
        "Q. 다음 매트릭스의 determinant 구해보기"
      ]
    },
    {
      "cell_type": "code",
      "metadata": {
        "colab_type": "code",
        "id": "7-dBtxNwKdPb",
        "colab": {}
      },
      "source": [
        "arr = np.array([[ 8.70,  8.88,  18.0,  4.45, -7.13,  4.41],\n",
        "                [ 3.22,  3.51,  5.01, -4.10,  9.86, -2.69],\n",
        "                [-4.09,  -8.9,  7.76,  1.87,  4.06, -1.19],\n",
        "                [ 4.47,   -7,  -16.9,  4.00,  5.89,  -4.5],\n",
        "                [ 9.11, -8.82,  5.57, -4.09,  -3.9, -1.08],\n",
        "                [ 3.87, -2.00,  3.70,  1.45, -28.5,  4.71]])"
      ],
      "execution_count": null,
      "outputs": []
    },
    {
      "cell_type": "markdown",
      "metadata": {
        "colab_type": "text",
        "id": "aHapGZBMKdPg"
      },
      "source": [
        "Q. 다음 코드를 실행해보고 오류가 나는 이유를 생각해보기"
      ]
    },
    {
      "cell_type": "code",
      "metadata": {
        "colab_type": "code",
        "id": "SqCDE1YEKdPg",
        "colab": {}
      },
      "source": [
        "matrix = np.array([[5, 2, 7, -1], [1, 4, 6, 2], [3, 7, 9, 0], [10, 4, 14, -2]])\n",
        "np.linalg.inv(matrix) "
      ],
      "execution_count": null,
      "outputs": []
    },
    {
      "cell_type": "markdown",
      "metadata": {
        "colab_type": "text",
        "id": "GZ2R61RyDFfH"
      },
      "source": [
        "### 퀴즈정답-선형대수\n"
      ]
    },
    {
      "cell_type": "markdown",
      "metadata": {
        "colab_type": "text",
        "id": "rodacei2DFfI"
      },
      "source": [
        "Q. 다음 코드를 실행해보기 전에 오류가 날지 안날지 생각해보기."
      ]
    },
    {
      "cell_type": "code",
      "metadata": {
        "colab_type": "code",
        "id": "4Blr_K98DFfI",
        "colab": {}
      },
      "source": [
        "arr1 = np.arange(-10, 10).reshape(2, 10)\n",
        "arr2 = np.arange(-20, 20, 2).reshape(2, 10)\n",
        "np.matmul(arr1, arr2)"
      ],
      "execution_count": null,
      "outputs": []
    },
    {
      "cell_type": "markdown",
      "metadata": {
        "colab_type": "text",
        "id": "Lnm8Jo84DFfJ"
      },
      "source": [
        "A. 차원이 맞지 않아서 에러가 생김"
      ]
    },
    {
      "cell_type": "markdown",
      "metadata": {
        "colab_type": "text",
        "id": "lvTZl4o6DFfM"
      },
      "source": [
        "Q. 다음 두 매트릭스를 곱해서 2 x 2 매트릭스 만들기"
      ]
    },
    {
      "cell_type": "code",
      "metadata": {
        "colab_type": "code",
        "id": "43NYYhy5DFfM",
        "colab": {}
      },
      "source": [
        "arr1 = np.arange(-10, 10).reshape(2, 10)\n",
        "arr2 = np.arange(-20, 20, 2).reshape(2, 10)"
      ],
      "execution_count": null,
      "outputs": []
    },
    {
      "cell_type": "markdown",
      "metadata": {
        "colab_type": "text",
        "id": "3bfcQYnGDFfO"
      },
      "source": [
        "A."
      ]
    },
    {
      "cell_type": "code",
      "metadata": {
        "colab_type": "code",
        "id": "neosE9SyDFfO",
        "colab": {}
      },
      "source": [
        "np.matmul(arr1, arr2.T)"
      ],
      "execution_count": null,
      "outputs": []
    },
    {
      "cell_type": "markdown",
      "metadata": {
        "colab_type": "text",
        "id": "T7Yn010hDFfQ"
      },
      "source": [
        "Q. 다음 매트릭스의 determinant 구해보기"
      ]
    },
    {
      "cell_type": "code",
      "metadata": {
        "colab_type": "code",
        "id": "SA4pB_iwDFfQ",
        "colab": {}
      },
      "source": [
        "arr = np.array([[ 8.70,  8.88,  18.0,  4.45, -7.13,  4.41],\n",
        "                [ 3.22,  3.51,  5.01, -4.10,  9.86, -2.69],\n",
        "                [-4.09,  -8.9,  7.76,  1.87,  4.06, -1.19],\n",
        "                [ 4.47,   -7,  -16.9,  4.00,  5.89,  -4.5],\n",
        "                [ 9.11, -8.82,  5.57, -4.09,  -3.9, -1.08],\n",
        "                [ 3.87, -2.00,  3.70,  1.45, -28.5,  4.71]])"
      ],
      "execution_count": null,
      "outputs": []
    },
    {
      "cell_type": "markdown",
      "metadata": {
        "colab_type": "text",
        "id": "ldMukg6pDFfR"
      },
      "source": [
        "A."
      ]
    },
    {
      "cell_type": "code",
      "metadata": {
        "colab_type": "code",
        "id": "z03F-bzrDFfS",
        "colab": {}
      },
      "source": [
        "np.linalg.det(arr)"
      ],
      "execution_count": null,
      "outputs": []
    },
    {
      "cell_type": "markdown",
      "metadata": {
        "colab_type": "text",
        "id": "AkLTO0NSDFfT"
      },
      "source": [
        "Q. 다음 코드를 실행해보고 오류가 나는 이유를 생각해보기"
      ]
    },
    {
      "cell_type": "code",
      "metadata": {
        "colab_type": "code",
        "id": "nl4G_7LWDFfT",
        "colab": {}
      },
      "source": [
        "matrix = np.array([[5, 2, 7, -1], [1, 4, 6, 2], [3, 7, 9, 0], [10, 4, 14, -2]])\n",
        "np.linalg.inv(matrix) "
      ],
      "execution_count": null,
      "outputs": []
    },
    {
      "cell_type": "markdown",
      "metadata": {
        "colab_type": "text",
        "id": "nQyc1ZiTDFfW"
      },
      "source": [
        "A.  inverse matrix가 존재하지 않는 Singular matrix이기 때문"
      ]
    }
  ]
}