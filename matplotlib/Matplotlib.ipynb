{
 "cells": [
  {
   "cell_type": "markdown",
   "metadata": {
    "colab_type": "text",
    "id": "ovVjxheQGEIg"
   },
   "source": [
    "https://matplotlib.org/index.html"
   ]
  },
  {
   "cell_type": "code",
   "execution_count": null,
   "metadata": {
    "colab": {},
    "colab_type": "code",
    "id": "DX6_XA7Oujlw"
   },
   "outputs": [],
   "source": [
    "import numpy as np\n",
    "import matplotlib.pyplot as plt"
   ]
  },
  {
   "cell_type": "markdown",
   "metadata": {
    "colab_type": "text",
    "id": "l8Xi4-dlHfuE"
   },
   "source": [
    "# Matplotlib 기본 개념\n",
    "\n",
    "---\n",
    "https://matplotlib.org/3.1.3/gallery/showcase/anatomy.html\n"
   ]
  },
  {
   "cell_type": "markdown",
   "metadata": {
    "colab_type": "text",
    "id": "PXmexQsMGjx_"
   },
   "source": [
    "## Figure\n",
    "- 전체적인 그림. 캔버스라고 생각하면 됨. \n",
    "- 그래프가 Figure 객체 내에 존재. \n",
    "- Figure 객체만으로는 빈 캔버스이므로 하나 이상의 subplots을 생성해줘야 함. \n",
    "- Figure 객체를 직접 생성해도 되고, pyplot은 자동으로 Figure와 Axes를 생성하기도 하므로 그 방법을 선택해도 된다. \n"
   ]
  },
  {
   "cell_type": "code",
   "execution_count": null,
   "metadata": {
    "colab": {},
    "colab_type": "code",
    "id": "-aNuJkS2Cf9A"
   },
   "outputs": [],
   "source": [
    "x = np.arange(-5, 5, 0.1)\n",
    "y1 = x**2 + 3\n",
    "y2 = x + 2"
   ]
  },
  {
   "cell_type": "markdown",
   "metadata": {
    "colab_type": "text",
    "id": "MvW9_8-_Gq5G"
   },
   "source": [
    "#### The pyplot API"
   ]
  },
  {
   "cell_type": "code",
   "execution_count": null,
   "metadata": {
    "colab": {},
    "colab_type": "code",
    "id": "wyqNA8AzGqTm"
   },
   "outputs": [],
   "source": [
    "plt.plot(x, y1)\n",
    "plt.show()"
   ]
  },
  {
   "cell_type": "markdown",
   "metadata": {
    "colab_type": "text",
    "id": "8oGDd9h1WtK7"
   },
   "source": [
    "### The object-oriented API\n",
    "* Figure 객체와 axes를 직접 생성 후 생성된 axes에 대한 plot 멤버를 직접 호출\n",
    "\n",
    "> fig = plt.figure()  \n",
    "axs = fig.subplots(1,2)\n",
    "\n",
    "* pyplot.subplots 으로 Figure와 axes를 생성. \n",
    "\n",
    "> fig, axs = plt.subplots(1,2)"
   ]
  },
  {
   "cell_type": "code",
   "execution_count": null,
   "metadata": {
    "colab": {},
    "colab_type": "code",
    "id": "WIEaqHGGRUOt"
   },
   "outputs": [],
   "source": [
    "fig = plt.figure()  # figure 객체 생성\n",
    "ax = fig.subplots()  # axes 객체 생성\n",
    "ax.plot(x, y1) \n",
    "plt.show()"
   ]
  },
  {
   "cell_type": "code",
   "execution_count": null,
   "metadata": {
    "colab": {},
    "colab_type": "code",
    "id": "hnwg8Dh-GjDT"
   },
   "outputs": [],
   "source": [
    "fig, ax = plt.subplots()\n",
    "ax.plot(x, y1) \n",
    "plt.show()"
   ]
  },
  {
   "cell_type": "markdown",
   "metadata": {
    "colab_type": "text",
    "id": "7kIon0OUQCbR"
   },
   "source": [
    "## Axes\n",
    "- 이미지의 영역\n",
    "- 하나의 figure에 여러개의 axes 객체가 있을 수 있음"
   ]
  },
  {
   "cell_type": "markdown",
   "metadata": {
    "colab_type": "text",
    "id": "WmcVrsbRTePI"
   },
   "source": [
    "### 하나의 figure에 여러 개의 그래프를 그릴 때"
   ]
  },
  {
   "cell_type": "markdown",
   "metadata": {
    "colab_type": "text",
    "id": "uVV3Grl9T5Bi"
   },
   "source": [
    "#### The pyplot API"
   ]
  },
  {
   "cell_type": "code",
   "execution_count": null,
   "metadata": {
    "colab": {},
    "colab_type": "code",
    "id": "gOsrCIqZTZMA"
   },
   "outputs": [],
   "source": [
    "plt.subplot(1, 2, 1)\n",
    "plt.plot(y1)\n",
    "\n",
    "plt.subplot(1, 2, 2)\n",
    "plt.plot(y2)\n",
    "\n",
    "plt.show()"
   ]
  },
  {
   "cell_type": "markdown",
   "metadata": {
    "colab_type": "text",
    "id": "6qfPkfr2Uk8g"
   },
   "source": [
    "#### The object-oriented API\n",
    "* Figure 객체와 axes를 직접 생성 후 생성된 axes에 대한 plot 멤버를 직접 호출\n",
    "\n",
    "> fig = plt.figure()  \n",
    "axs = fig.subplots(1,2)\n",
    "\n",
    "* pyplot.subplots 으로 Figure와 axes를 생성. \n",
    "\n",
    "> fig, axs = plt.subplots(1,2)\n"
   ]
  },
  {
   "cell_type": "code",
   "execution_count": null,
   "metadata": {
    "colab": {},
    "colab_type": "code",
    "id": "pjl3VXhMTZQ9"
   },
   "outputs": [],
   "source": [
    "fig = plt.figure()\n",
    "axs = fig.subplots(1,2) # fig.add_subplot(r,c,i) 으로 하나씩 지정해줘도 됨.\n",
    "axs[0].plot(y1)\n",
    "axs[1].plot(y2)\n",
    "plt.show()"
   ]
  },
  {
   "cell_type": "code",
   "execution_count": null,
   "metadata": {
    "colab": {},
    "colab_type": "code",
    "id": "CwerN8YgTZUZ"
   },
   "outputs": [],
   "source": [
    "fig, axs = plt.subplots(2,1)\n",
    "axs[0].plot(y1)\n",
    "axs[1].plot(y2)\n",
    "plt.show()"
   ]
  },
  {
   "cell_type": "markdown",
   "metadata": {
    "colab_type": "text",
    "id": "7C4i56x8ckyH"
   },
   "source": [
    "## axis"
   ]
  },
  {
   "cell_type": "markdown",
   "metadata": {
    "colab_type": "text",
    "id": "LGV8HXcTZ7-U"
   },
   "source": [
    "### xlim, ylim"
   ]
  },
  {
   "cell_type": "markdown",
   "metadata": {
    "colab_type": "text",
    "id": "TXHTSfkyaASc"
   },
   "source": [
    "#### The pyplot API"
   ]
  },
  {
   "cell_type": "code",
   "execution_count": null,
   "metadata": {
    "colab": {},
    "colab_type": "code",
    "id": "H79W07T-cggu"
   },
   "outputs": [],
   "source": [
    "x = np.arange(10)\n",
    "y = x+10\n",
    "\n",
    "plt.plot(x, y)\n",
    "\n",
    "plt.show()"
   ]
  },
  {
   "cell_type": "markdown",
   "metadata": {
    "colab_type": "text",
    "id": "wmCqJvpCi26s"
   },
   "source": [
    "축 지정: plt.axis([xmin,xmax,ymin,ymax])"
   ]
  },
  {
   "cell_type": "code",
   "execution_count": null,
   "metadata": {
    "colab": {},
    "colab_type": "code",
    "id": "KRgcLcz3cRzg"
   },
   "outputs": [],
   "source": [
    "plt.axis([0, 10, 0, 20]) \n",
    "\n",
    "plt.plot(x, y)\n",
    "\n",
    "plt.show()"
   ]
  },
  {
   "cell_type": "markdown",
   "metadata": {
    "colab_type": "text",
    "id": "Q7g94yY1jPKu"
   },
   "source": [
    "plt.xlim, plt.ylim 으로도 축 범위 지정 가능"
   ]
  },
  {
   "cell_type": "code",
   "execution_count": null,
   "metadata": {
    "colab": {},
    "colab_type": "code",
    "id": "7O5O-d7GjVwq"
   },
   "outputs": [],
   "source": [
    "plt.xlim([0, 10])\n",
    "plt.ylim([0, 20]) \n",
    "\n",
    "plt.plot(x, y)\n",
    "\n",
    "plt.show()"
   ]
  },
  {
   "cell_type": "markdown",
   "metadata": {
    "colab_type": "text",
    "id": "CCmqCtj0c-Ca"
   },
   "source": [
    "#### The object-oriented API"
   ]
  },
  {
   "cell_type": "code",
   "execution_count": null,
   "metadata": {
    "colab": {},
    "colab_type": "code",
    "id": "Qp7cbAUYdBIF"
   },
   "outputs": [],
   "source": [
    "x = np.arange(10)\n",
    "y = x+10\n",
    "\n",
    "fig, ax = plt.subplots()\n",
    "\n",
    "ax.plot(x, y)\n",
    "\n",
    "ax.set_xlim([-3, 13])\n",
    "ax.set_ylim([0, 25])\n",
    "\n",
    "plt.show()"
   ]
  },
  {
   "cell_type": "markdown",
   "metadata": {
    "colab_type": "text",
    "id": "GHXejnXCKKcy"
   },
   "source": [
    "### ticks\n",
    "\n"
   ]
  },
  {
   "cell_type": "markdown",
   "metadata": {
    "colab_type": "text",
    "id": "AiayqwPFdrsm"
   },
   "source": [
    "#### The pyplot API"
   ]
  },
  {
   "cell_type": "code",
   "execution_count": null,
   "metadata": {
    "colab": {},
    "colab_type": "code",
    "id": "kK1utqSjdvSz"
   },
   "outputs": [],
   "source": [
    "plt.xticks(np.arange(3), ['a', 'b', 'c']) \n",
    "plt.yticks(np.arange(10))\n",
    "\n",
    "plt.show()"
   ]
  },
  {
   "cell_type": "markdown",
   "metadata": {
    "colab_type": "text",
    "id": "5fiiNE0zdk5C"
   },
   "source": [
    "#### The object-oriented API\n",
    "set_xtics / set_xticklabels  \n",
    "set_ytics / set_yticklabels"
   ]
  },
  {
   "cell_type": "code",
   "execution_count": null,
   "metadata": {
    "colab": {},
    "colab_type": "code",
    "id": "DZzkfgPPR_2V"
   },
   "outputs": [],
   "source": [
    "fig, axs = plt.subplots(1, 3, figsize=(9, 3))\n",
    "\n",
    "axs[1].set_xticks([0,2,4,6])\n",
    "axs[1].set_yticks([0,5,10])\n",
    "\n",
    "axs[2].set_xticklabels(['A', 'B', 'C', 'D', 'E'])\n",
    "axs[2].set_yticks([0,1,2])\n",
    "axs[2].set_yticklabels(['a', 'b', 'c'])\n",
    "\n",
    "plt.show()"
   ]
  },
  {
   "cell_type": "markdown",
   "metadata": {
    "colab_type": "text",
    "id": "G7OT7knEbm-k"
   },
   "source": [
    "## legend"
   ]
  },
  {
   "cell_type": "markdown",
   "metadata": {
    "colab_type": "text",
    "id": "p_5ta1q-kobw"
   },
   "source": [
    "* 다양한 옵션을 줄 수 있음 [참고](https://matplotlib.org/api/_as_gen/matplotlib.pyplot.legend.html?highlight=legend#matplotlib.pyplot.legend)"
   ]
  },
  {
   "cell_type": "markdown",
   "metadata": {
    "colab_type": "text",
    "id": "asXAdf7_pOhd"
   },
   "source": [
    "#### The pyplot API\n",
    "plt.legend"
   ]
  },
  {
   "cell_type": "code",
   "execution_count": null,
   "metadata": {
    "colab": {},
    "colab_type": "code",
    "id": "PK9hTSNUkKda"
   },
   "outputs": [],
   "source": [
    "x = np.arange(-np.pi, np.pi, 0.02)\n",
    "\n",
    "y1 = np.sin(x)\n",
    "y2 = np.cos(x)\n",
    "\n",
    "plt.plot(x, y1, label = 'sin') \n",
    "plt.plot(x, y2, label = 'cos')\n",
    "\n",
    "plt.legend()\n",
    "\n",
    "plt.show()\n"
   ]
  },
  {
   "cell_type": "markdown",
   "metadata": {
    "colab_type": "text",
    "id": "Pil_NUdOpVM0"
   },
   "source": [
    "#### The object-oriented API"
   ]
  },
  {
   "cell_type": "code",
   "execution_count": null,
   "metadata": {
    "colab": {},
    "colab_type": "code",
    "id": "snf8Q9BapRt0"
   },
   "outputs": [],
   "source": [
    "fig, ax = plt.subplots()\n",
    "\n",
    "ax.plot(x, y1, label = 'sin') \n",
    "ax.plot(x, y2, label = 'cos')\n",
    "\n",
    "ax.legend()\n",
    "\n",
    "plt.show()"
   ]
  },
  {
   "cell_type": "markdown",
   "metadata": {
    "colab_type": "text",
    "id": "cc-hsO-79kGR"
   },
   "source": [
    "## text 종류\n",
    "\n",
    "\n",
    "* figure title\n",
    "* axes title\n",
    "* x-axis label\n",
    "* y-axis label\n",
    "* figure text  \n",
    "* axes text\n",
    "* annotate\n"
   ]
  },
  {
   "cell_type": "markdown",
   "metadata": {
    "colab_type": "text",
    "id": "hYkVWK9FZ93C"
   },
   "source": [
    "### title"
   ]
  },
  {
   "cell_type": "markdown",
   "metadata": {
    "colab_type": "text",
    "id": "qWYcmKlJtCov"
   },
   "source": [
    "#### The pyplot API"
   ]
  },
  {
   "cell_type": "code",
   "execution_count": null,
   "metadata": {
    "colab": {},
    "colab_type": "code",
    "id": "er6o8zuXd68T"
   },
   "outputs": [],
   "source": [
    "x = np.arange(-np.pi, np.pi, 0.02)\n",
    "y1 = np.sin(x)\n",
    "y2 = np.cos(x)\n",
    "\n",
    "plt.plot(x, y1)\n",
    "plt.plot(x, y2)\n",
    "\n",
    "plt.title('sin, cos 그래프') # title\n",
    "\n",
    "plt.show()"
   ]
  },
  {
   "cell_type": "markdown",
   "metadata": {
    "colab_type": "text",
    "id": "pB65luSgtJAo"
   },
   "source": [
    "#### The object-oriented API\n",
    "* figure : suptitle  \n",
    "* axes: set_title"
   ]
  },
  {
   "cell_type": "code",
   "execution_count": null,
   "metadata": {
    "colab": {},
    "colab_type": "code",
    "id": "92ImAEH2s9mF"
   },
   "outputs": [],
   "source": [
    "x = np.arange(-np.pi, np.pi, 0.02)\n",
    "y1 = np.sin(x)\n",
    "y2 = np.cos(x)\n",
    "\n",
    "\n",
    "fig,axs = plt.subplots(1,2)\n",
    "\n",
    "axs[0].plot(x, y1)\n",
    "axs[1].plot(x, y2)\n",
    "\n",
    "# axes의 타이틀\n",
    "axs[0].set_title('sin')\n",
    "axs[1].set_title('cos')\n",
    "\n",
    "# figure의 타이틀\n",
    "fig.suptitle('figure title', fontsize=15)\n",
    "\n",
    "plt.show()"
   ]
  },
  {
   "cell_type": "markdown",
   "metadata": {
    "colab_type": "text",
    "id": "AXCQVvN8bjMP"
   },
   "source": [
    "### x, y label"
   ]
  },
  {
   "cell_type": "markdown",
   "metadata": {
    "colab_type": "text",
    "id": "_rbtvI3c_oRg"
   },
   "source": [
    "#### The pyplot API\n"
   ]
  },
  {
   "cell_type": "code",
   "execution_count": null,
   "metadata": {
    "colab": {},
    "colab_type": "code",
    "id": "e8HqqQvse9ST"
   },
   "outputs": [],
   "source": [
    "x = np.arange(-np.pi, np.pi, 0.02)\n",
    "y1 = np.sin(x)\n",
    "y2 = np.cos(x)\n",
    "\n",
    "plt.plot(x, y1, label='sin')\n",
    "plt.plot(x, y2, label='cos')\n",
    "\n",
    "plt.xlabel('x label') # x label\n",
    "plt.ylabel('y label') # y label\n",
    "\n",
    "plt.show()"
   ]
  },
  {
   "cell_type": "markdown",
   "metadata": {
    "colab_type": "text",
    "id": "_5XUNtXp_B8x"
   },
   "source": [
    "#### The object-oriented API\n",
    "* figure : suptitle  \n",
    "* axes: set_title"
   ]
  },
  {
   "cell_type": "code",
   "execution_count": null,
   "metadata": {
    "colab": {},
    "colab_type": "code",
    "id": "AVz94tyD_B9P"
   },
   "outputs": [],
   "source": [
    "x = np.arange(-np.pi, np.pi, 0.02)\n",
    "y1 = np.sin(x)\n",
    "y2 = np.cos(x)\n",
    "\n",
    "fig, axs = plt.subplots(1,2, constrained_layout=True)\n",
    "\n",
    "axs[0].plot(x, y1)\n",
    "axs[1].plot(x, y2)\n",
    "\n",
    "# x, y label\n",
    "axs[0].set_xlabel('x1 label')\n",
    "axs[0].set_ylabel('y1 label')\n",
    "axs[1].set_xlabel('x2 label')\n",
    "axs[1].set_ylabel('y2 label')\n",
    "\n",
    "plt.show()"
   ]
  },
  {
   "cell_type": "markdown",
   "metadata": {
    "colab_type": "text",
    "id": "bW087-Cqb8zC"
   },
   "source": [
    "### text\n",
    "annotate와 같이 그래프에 주석을 달아줄 수 있음.  "
   ]
  },
  {
   "cell_type": "markdown",
   "metadata": {
    "colab_type": "text",
    "id": "N-SFpudVfmWl"
   },
   "source": [
    "#### The pyplot API\n",
    "plt.text"
   ]
  },
  {
   "cell_type": "code",
   "execution_count": null,
   "metadata": {
    "colab": {},
    "colab_type": "code",
    "id": "AmpW9cHkZ89p"
   },
   "outputs": [],
   "source": [
    "x = np.arange(8)\n",
    "y = x**2\n",
    "\n",
    "plt.plot(x, y, 'ro')\n",
    "\n",
    "for x_, y_ in zip(x, y):\n",
    "    plt.text(x_+0.1, y_, '{}, {}'.format(int(x_), int(y_)))"
   ]
  },
  {
   "cell_type": "markdown",
   "metadata": {
    "colab_type": "text",
    "id": "wBDjwlFZf4eb"
   },
   "source": [
    "#### The object-oriented API\n"
   ]
  },
  {
   "cell_type": "code",
   "execution_count": null,
   "metadata": {
    "colab": {},
    "colab_type": "code",
    "id": "4itkVn98gQHq"
   },
   "outputs": [],
   "source": [
    "fig, ax = plt.subplots()\n",
    "\n",
    "ax.plot(x, y, 'ro')\n",
    "\n",
    "for x_, y_ in zip(x, y):\n",
    "    ax.text(x_+0.1, y_, '%d, %d' % (int(x_), int(y_)))"
   ]
  },
  {
   "cell_type": "markdown",
   "metadata": {
    "colab_type": "text",
    "id": "h3Ja4svDb8sh"
   },
   "source": [
    "### annotate\n",
    "그래프에 주석을 달아줄 수 있음. 화살표 표시가 가능."
   ]
  },
  {
   "cell_type": "markdown",
   "metadata": {
    "colab_type": "text",
    "id": "RN4CIUsChw1f"
   },
   "source": [
    "#### The pyplot API\n",
    "plt.annotate"
   ]
  },
  {
   "cell_type": "code",
   "execution_count": null,
   "metadata": {
    "colab": {},
    "colab_type": "code",
    "id": "bGFULdubgt1M"
   },
   "outputs": [],
   "source": [
    "x = np.arange(-1.0, 5.0, 0.1)\n",
    "y = np.sin(x*np.pi)\n",
    "\n",
    "plt.plot(x, y)\n",
    "plt.annotate('(0, 0)',\n",
    "               xy=(0, 0), \n",
    "               xytext=(1, 0.5),  \n",
    "               arrowprops=dict(facecolor='black', \n",
    "                               shrink=0.05), \n",
    "               fontsize=15)\n",
    "plt.show()"
   ]
  },
  {
   "cell_type": "markdown",
   "metadata": {
    "colab_type": "text",
    "id": "2pkuSK2lgICI"
   },
   "source": [
    "#### The object-oriented API"
   ]
  },
  {
   "cell_type": "code",
   "execution_count": null,
   "metadata": {
    "colab": {},
    "colab_type": "code",
    "id": "MfkSbF1EZ85m"
   },
   "outputs": [],
   "source": [
    "x = np.arange(-1, 3, 0.01)\n",
    "y = -x**4+4*x**3-4*x**2\n",
    "\n",
    "fig, ax = plt.subplots()\n",
    "ax.plot(x, y, lw=2)\n",
    "ax.annotate('local mininmum', xy=(1, -1), xytext=(0, -3.5),\n",
    "            arrowprops=dict(facecolor='black'))\n",
    "ax.set_ylim(-10,2)\n",
    "plt.show()"
   ]
  },
  {
   "cell_type": "markdown",
   "metadata": {
    "colab_type": "text",
    "id": "N-n5-OM0cSs2"
   },
   "source": [
    "## color"
   ]
  },
  {
   "cell_type": "markdown",
   "metadata": {
    "colab_type": "text",
    "id": "uPjks1J8nK7C"
   },
   "source": [
    "다양한 컬러 가능 [참고](https://matplotlib.org/api/colors_api.html?highlight=color#module-matplotlib.colors)"
   ]
  },
  {
   "cell_type": "code",
   "execution_count": null,
   "metadata": {
    "colab": {},
    "colab_type": "code",
    "id": "I3oNyyvtmYFC"
   },
   "outputs": [],
   "source": [
    "x = np.arange(-np.pi, np.pi, 0.02)\n",
    "y1 = np.sin(x)\n",
    "y2 = np.cos(x)\n",
    "\n",
    "plt.plot(x, y1, label = 'sin', color= (0.1, 0.3, 0.5)) # RGB \n",
    "plt.plot(x, y2, label = 'cos', color='c') # one of {'b', 'g', 'r', 'c', 'm', 'y', 'k', 'w'}\n",
    "plt.legend()\n",
    "plt.show()"
   ]
  },
  {
   "cell_type": "markdown",
   "metadata": {
    "colab_type": "text",
    "id": "7pLYjiW2ZHt7"
   },
   "source": [
    "## facecolor"
   ]
  },
  {
   "cell_type": "code",
   "execution_count": null,
   "metadata": {
    "colab": {},
    "colab_type": "code",
    "id": "e8tzRAjcZKin"
   },
   "outputs": [],
   "source": [
    "x = np.arange(10)\n",
    "y1 = x\n",
    "y2 = x**2 - x\n",
    "\n",
    "fig, axs = plt.subplots(2, 1) \n",
    "fig.set_facecolor('#c79fef')\n",
    "\n",
    "axs[0].plot(x, y1)\n",
    "axs[1].plot(x, y2)\n",
    "\n",
    "axs[0].set_facecolor('pink')\n",
    "axs[1].set_facecolor('skyblue')\n",
    "\n",
    "plt.show()"
   ]
  },
  {
   "cell_type": "markdown",
   "metadata": {
    "colab_type": "text",
    "id": "0mFx74FmX2O4"
   },
   "source": [
    "# 그래프 종류"
   ]
  },
  {
   "cell_type": "markdown",
   "metadata": {
    "colab_type": "text",
    "id": "61jYLvttZGDN"
   },
   "source": [
    "다양한 그래프를 지원함 [(참고) ](https://matplotlib.org/tutorials/introductory/sample_plots.html)"
   ]
  },
  {
   "cell_type": "markdown",
   "metadata": {
    "colab_type": "text",
    "id": "NvThSDWeZnr7"
   },
   "source": [
    "## Line Plot: plot()"
   ]
  },
  {
   "cell_type": "code",
   "execution_count": null,
   "metadata": {
    "colab": {},
    "colab_type": "code",
    "id": "pVs6NOylntzk"
   },
   "outputs": [],
   "source": [
    "x = np.arange(-5, 5, 0.5)\n",
    "y1 = x\n",
    "y2 = x+2\n",
    "y3 = x+4\n",
    "y4 = x+6\n",
    "plt.plot(x, y1)        # plot x and y using default line style and color\n",
    "plt.plot(x, y2, marker='D')\n",
    "plt.plot(x, y3, color='r')\n",
    "plt.plot(x, y4, linestyle='dashed')\n",
    "plt.show()"
   ]
  },
  {
   "cell_type": "code",
   "execution_count": null,
   "metadata": {
    "colab": {},
    "colab_type": "code",
    "id": "mI_-3wU-QNHR"
   },
   "outputs": [],
   "source": [
    "fig, ax = plt.subplots()\n",
    "ax.plot(x, y1)\n",
    "ax.plot(x, y2, marker='x')\n",
    "ax.plot(x, y3, color='k')\n",
    "ax.plot(x, y4, linestyle='dotted')\n",
    "plt.show()"
   ]
  },
  {
   "cell_type": "markdown",
   "metadata": {
    "colab_type": "text",
    "id": "uq8vLXMbZrcl"
   },
   "source": [
    "## Bar Plot.: bar()"
   ]
  },
  {
   "cell_type": "code",
   "execution_count": null,
   "metadata": {
    "colab": {},
    "colab_type": "code",
    "id": "Bg9Ay1hZWlKq"
   },
   "outputs": [],
   "source": [
    "data = {'사과': 21, '바나나': 15, '배': 5, '키위': 20}\n",
    "names = list(data.keys())\n",
    "values = list(data.values())\n",
    "\n",
    "fig, ax = plt.subplots()\n",
    "ax.bar(names, values)"
   ]
  },
  {
   "cell_type": "code",
   "execution_count": null,
   "metadata": {
    "colab": {},
    "colab_type": "code",
    "id": "26h1wIjLI3z7"
   },
   "outputs": [],
   "source": [
    "labels = ['정직한후보', '작은아씨들', '클로젯', '조조래빗']\n",
    "user = [9.2, 9.4, 8.6, 9.16]\n",
    "critic = [5.4, 8, 5.5, 7.17]\n",
    "x = np.arange(len(labels))  # the label locations\n",
    "\n",
    "\n",
    "width = 0.3  # the width of the bars\n",
    "\n",
    "fig, ax = plt.subplots()\n",
    "rects1 = ax.bar(x - width/2, user, width, label='user')\n",
    "rects2 = ax.bar(x + width/2, critic, width, label='critic')\n",
    "\n",
    "ax.set_ylim(0, 13)\n",
    "ax.set_ylabel('Rating')\n",
    "ax.set_xticks(x)\n",
    "ax.set_xticklabels(labels)\n",
    "ax.legend()"
   ]
  },
  {
   "cell_type": "markdown",
   "metadata": {
    "colab_type": "text",
    "id": "Je_ZDHkGZrWI"
   },
   "source": [
    "## Histogram: hist()"
   ]
  },
  {
   "cell_type": "code",
   "execution_count": null,
   "metadata": {
    "colab": {},
    "colab_type": "code",
    "id": "NKAUUU11iO_B"
   },
   "outputs": [],
   "source": [
    "data = np.random.rand(10000)\n",
    "fig, ax = plt.subplots()\n",
    "ax.hist(data, bins = 100, facecolor='r')\n",
    "plt.show()"
   ]
  },
  {
   "cell_type": "markdown",
   "metadata": {
    "colab_type": "text",
    "id": "ZER6lHEEdjls"
   },
   "source": [
    "$\\mu=100,\\ \\sigma=15$"
   ]
  },
  {
   "cell_type": "code",
   "execution_count": null,
   "metadata": {
    "colab": {},
    "colab_type": "code",
    "id": "ZoIXQhsCpqSB"
   },
   "outputs": [],
   "source": [
    "mu, sigma = 100, 15\n",
    "x = mu + sigma * np.random.randn(1000)\n",
    "\n",
    "# the histogram of the data\n",
    "plt.hist(x, 50, density=True, facecolor='g')\n",
    "\n",
    "plt.xlabel('IQ')\n",
    "plt.ylabel('Probability')\n",
    "plt.title('Histogram of IQ')\n",
    "\n",
    "plt.text(60, .025, r'$\\mu=100,\\ \\sigma=15$')\n",
    "plt.xlim(40, 160)\n",
    "plt.ylim(0, 0.035)\n",
    "plt.grid(True)\n",
    "plt.show()"
   ]
  },
  {
   "cell_type": "markdown",
   "metadata": {
    "colab_type": "text",
    "id": "_2wCiZRdZ9zx"
   },
   "source": [
    "## Scatter plots :scatter()"
   ]
  },
  {
   "cell_type": "code",
   "execution_count": null,
   "metadata": {
    "colab": {},
    "colab_type": "code",
    "id": "mdS99VMmQUMf"
   },
   "outputs": [],
   "source": [
    "N = 50\n",
    "x = np.random.rand(N)\n",
    "y = np.random.rand(N)\n",
    "area =(20 * np.random.rand(N))**2  \n",
    "\n",
    "fig, ax = plt.subplots()\n",
    "ax.scatter(x, y, s=area, marker='o', c=area)\n",
    "\n",
    "plt.show()"
   ]
  },
  {
   "cell_type": "markdown",
   "metadata": {
    "colab_type": "text",
    "id": "cIW1mypmHJw9"
   },
   "source": [
    "## image"
   ]
  },
  {
   "cell_type": "code",
   "execution_count": null,
   "metadata": {
    "colab": {},
    "colab_type": "code",
    "id": "6q-pKUd9H48F"
   },
   "outputs": [],
   "source": [
    "import matplotlib.image as mpimg"
   ]
  },
  {
   "cell_type": "code",
   "execution_count": null,
   "metadata": {
    "colab": {},
    "colab_type": "code",
    "id": "PM3LegbuIRd6"
   },
   "outputs": [],
   "source": [
    "img = mpimg.imread('images/img1.jpg')\n",
    "print(type(img))"
   ]
  },
  {
   "cell_type": "code",
   "execution_count": null,
   "metadata": {
    "colab": {},
    "colab_type": "code",
    "id": "IF4D_6-dXFQN"
   },
   "outputs": [],
   "source": [
    "print(img.shape)"
   ]
  },
  {
   "cell_type": "code",
   "execution_count": null,
   "metadata": {
    "colab": {},
    "colab_type": "code",
    "id": "uYYrs_RrIRkE"
   },
   "outputs": [],
   "source": [
    "imgplot = plt.imshow(img)\n",
    "print(type(imgplot))"
   ]
  },
  {
   "cell_type": "markdown",
   "metadata": {
    "colab_type": "text",
    "id": "50bkeTrsZ-AL"
   },
   "source": [
    "# 기타"
   ]
  },
  {
   "cell_type": "markdown",
   "metadata": {
    "colab_type": "text",
    "id": "K79iennXKG2K"
   },
   "source": [
    "### savefig"
   ]
  },
  {
   "cell_type": "code",
   "execution_count": null,
   "metadata": {
    "colab": {},
    "colab_type": "code",
    "id": "dq4oXhKsKAaC"
   },
   "outputs": [],
   "source": [
    "fig, ax = plt.subplots()\n",
    "x = np.arange(10)\n",
    "y1 = x**2\n",
    "ax.plot(x, y1, label = 'sin') \n",
    "fig.savefig('images/image_matplot_tmp.jpg')\n"
   ]
  },
  {
   "cell_type": "markdown",
   "metadata": {
    "colab_type": "text",
    "id": "OuKixLXXQ5U4"
   },
   "source": [
    "# 참고"
   ]
  },
  {
   "cell_type": "markdown",
   "metadata": {
    "colab_type": "text",
    "id": "AMIPlD3NQ725"
   },
   "source": [
    "https://matplotlib.org/tutorials/introductory/sample_plots.html  \n",
    "\n",
    "https://wikidocs.net/14604"
   ]
  }
 ],
 "metadata": {
  "colab": {
   "collapsed_sections": [],
   "name": "Matplotlib.ipynb",
   "provenance": []
  },
  "kernelspec": {
   "display_name": "Python 3",
   "language": "python",
   "name": "python3"
  },
  "language_info": {
   "codemirror_mode": {
    "name": "ipython",
    "version": 3
   },
   "file_extension": ".py",
   "mimetype": "text/x-python",
   "name": "python",
   "nbconvert_exporter": "python",
   "pygments_lexer": "ipython3",
   "version": "3.7.6"
  }
 },
 "nbformat": 4,
 "nbformat_minor": 1
}
